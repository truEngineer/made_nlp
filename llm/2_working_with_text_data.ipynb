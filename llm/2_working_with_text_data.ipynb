{
  "cells": [
    {
      "cell_type": "markdown",
      "metadata": {
        "id": "q2TwNc-crgsA"
      },
      "source": [
        "## 2.2 Tokenizing text"
      ]
    },
    {
      "cell_type": "code",
      "source": [
        "!mkdir ./data"
      ],
      "metadata": {
        "id": "cgr9cuYysJ9D"
      },
      "execution_count": 2,
      "outputs": []
    },
    {
      "cell_type": "code",
      "execution_count": 3,
      "metadata": {
        "colab": {
          "base_uri": "https://localhost:8080/"
        },
        "id": "m_c_iGIfrgsB",
        "outputId": "6112a76a-9315-4005-ef82-935d4e8a5f6c"
      },
      "outputs": [
        {
          "output_type": "execute_result",
          "data": {
            "text/plain": [
              "('./data/the-verdict.txt', <http.client.HTTPMessage at 0x7a7d6274ded0>)"
            ]
          },
          "metadata": {},
          "execution_count": 3
        }
      ],
      "source": [
        "import urllib.request\n",
        "\n",
        "\n",
        "url = (\n",
        "    \"https://raw.githubusercontent.com/rasbt/\"\n",
        "    \"LLMs-from-scratch/main/ch02/01_main-chapter-code/\"\n",
        "    \"the-verdict.txt\"\n",
        ")\n",
        "\n",
        "file_path = \"./data/the-verdict.txt\"\n",
        "urllib.request.urlretrieve(url, file_path)"
      ]
    },
    {
      "cell_type": "code",
      "execution_count": 4,
      "metadata": {
        "colab": {
          "base_uri": "https://localhost:8080/"
        },
        "id": "CCLnXLRlrgsC",
        "outputId": "73e4051b-0a24-43c1-ec1c-0ff6f2441b02"
      },
      "outputs": [
        {
          "output_type": "stream",
          "name": "stdout",
          "text": [
            "Total number of characters: 20479\n",
            "I HAD always thought Jack Gisburn rather a cheap genius--though a good fellow enough--so it was no \n"
          ]
        }
      ],
      "source": [
        "with open(\"./data/the-verdict.txt\", \"r\", encoding=\"utf-8\") as file:\n",
        "    raw_text = file.read()\n",
        "\n",
        "print(f\"Total number of characters: {len(raw_text)}\")\n",
        "print(raw_text[:99])"
      ]
    },
    {
      "cell_type": "code",
      "execution_count": 5,
      "metadata": {
        "colab": {
          "base_uri": "https://localhost:8080/"
        },
        "id": "-K9ER4mFrgsD",
        "outputId": "13fead68-3e36-4536-d2c8-e071da89667a"
      },
      "outputs": [
        {
          "output_type": "stream",
          "name": "stdout",
          "text": [
            "['Hello', ',', '', ' ', 'world', '.', '', ' ', 'Is', ' ', 'this', '--', '', ' ', 'a', ' ', 'test', '?', '']\n"
          ]
        }
      ],
      "source": [
        "import re\n",
        "\n",
        "\n",
        "text = \"Hello, world. Is this-- a test?\"\n",
        "result = re.split(r\"([,.:;?_!\\\"()']|--|\\s)\", text)\n",
        "print(result)"
      ]
    },
    {
      "cell_type": "markdown",
      "source": [
        "Should you keep or remove whitespaces?\n",
        "\n",
        "Depends on the application and its requirements.\n",
        "\n",
        "Removing them reduces memory and computational requirements.\n",
        "\n",
        "But they might be important for some applications, like Python code, which is whitespace-sensitive.\n",
        "\n",
        "We remove it here, but will later switch to a method that keeps whitespaces."
      ],
      "metadata": {
        "id": "zHvpLNZmse7v"
      }
    },
    {
      "cell_type": "code",
      "execution_count": 6,
      "metadata": {
        "colab": {
          "base_uri": "https://localhost:8080/"
        },
        "id": "IExL2qnnrgsD",
        "outputId": "0abbae90-9035-4289-9058-c672393b5932"
      },
      "outputs": [
        {
          "output_type": "stream",
          "name": "stdout",
          "text": [
            "['Hello', ',', 'world', '.', 'Is', 'this', '--', 'a', 'test', '?']\n"
          ]
        }
      ],
      "source": [
        "result = [item for item in result if item.strip()]\n",
        "print(result)"
      ]
    },
    {
      "cell_type": "code",
      "execution_count": 7,
      "metadata": {
        "id": "xmm_jplbrgsD"
      },
      "outputs": [],
      "source": [
        "preprocessed = re.split(r\"([,.:;?_!\\\"()']|--|\\s)\", raw_text)\n",
        "preprocessed = [item for item in preprocessed if item.strip()]\n",
        "assert len(preprocessed) == 4690, \"Amount of tokens should be 4690\""
      ]
    },
    {
      "cell_type": "code",
      "execution_count": 8,
      "metadata": {
        "colab": {
          "base_uri": "https://localhost:8080/"
        },
        "id": "M9FvTSBprgsD",
        "outputId": "4b6863e5-3593-466b-b7e1-6550fda2a6d4"
      },
      "outputs": [
        {
          "output_type": "stream",
          "name": "stdout",
          "text": [
            "['I', 'HAD', 'always', 'thought', 'Jack', 'Gisburn', 'rather', 'a', 'cheap', 'genius', '--', 'though', 'a', 'good', 'fellow', 'enough', '--', 'so', 'it', 'was', 'no', 'great', 'surprise', 'to', 'me', 'to', 'hear', 'that', ',', 'in']\n"
          ]
        }
      ],
      "source": [
        "print(preprocessed[:30])"
      ]
    },
    {
      "cell_type": "markdown",
      "metadata": {
        "id": "JNJUQXzjrgsD"
      },
      "source": [
        "## 2.3 Converting tokens into token IDs"
      ]
    },
    {
      "cell_type": "code",
      "execution_count": 9,
      "metadata": {
        "colab": {
          "base_uri": "https://localhost:8080/"
        },
        "id": "HXfU_Aw_rgsE",
        "outputId": "4a84c05c-4b44-4cb7-842f-4b65157dc6ac"
      },
      "outputs": [
        {
          "output_type": "stream",
          "name": "stdout",
          "text": [
            "Vocabulary size: 1130\n"
          ]
        }
      ],
      "source": [
        "all_words = sorted(set(preprocessed))\n",
        "vocab_size = len(all_words)\n",
        "print(f\"Vocabulary size: {vocab_size}\")\n",
        "assert vocab_size == 1130, \"Vocabulary size should be 1130\""
      ]
    },
    {
      "cell_type": "code",
      "execution_count": 10,
      "metadata": {
        "id": "2ukSNZf4rgsE"
      },
      "outputs": [],
      "source": [
        "vocab = {token: i for i, token in enumerate(all_words)}"
      ]
    },
    {
      "cell_type": "code",
      "execution_count": 11,
      "metadata": {
        "id": "5Enc6YJYrgsE"
      },
      "outputs": [],
      "source": [
        "from typing import Dict, List\n",
        "\n",
        "\n",
        "class SimpleTokenizerV1:\n",
        "    def __init__(self, vocab: Dict[str, int]):\n",
        "        self.str_to_int = vocab\n",
        "        self.int_to_str = {i: token for token, i in vocab.items()}\n",
        "\n",
        "    def encode(self, text: str) -> List[int]:\n",
        "        preprocessed = re.split(r\"([,.:;?_!\\\"()']|--|\\s)\", text)\n",
        "        preprocessed = [item for item in preprocessed if item.strip()]\n",
        "        ids = [self.str_to_int[token] for token in preprocessed]\n",
        "        return ids\n",
        "\n",
        "    def decode(self, tokens: List[int]) -> str:\n",
        "        text = \" \".join([self.int_to_str[token] for token in tokens])\n",
        "        # Remove whitespaces before punctuation marks\n",
        "        text = re.sub(r\" ([,.:;?_!\\\"()'])\", r\"\\1\", text)\n",
        "        return text"
      ]
    },
    {
      "cell_type": "code",
      "execution_count": 23,
      "metadata": {
        "colab": {
          "base_uri": "https://localhost:8080/"
        },
        "id": "Y2O9cANCrgsE",
        "outputId": "84e2eadf-9f68-4fa7-a14c-e50db14798b1"
      },
      "outputs": [
        {
          "output_type": "stream",
          "name": "stdout",
          "text": [
            "[1, 56, 2, 850, 988, 602, 533, 746, 5, 1126, 596, 5, 1, 67, 7, 38, 851, 1108, 754, 793, 7]\n"
          ]
        }
      ],
      "source": [
        "tokenizer = SimpleTokenizerV1(vocab)\n",
        "text = \"\"\"\"It's the last he painted, you know,\" Mrs. Gisburn said with pardonable pride.\"\"\"\n",
        "ids = tokenizer.encode(text)\n",
        "print(ids)"
      ]
    },
    {
      "cell_type": "code",
      "execution_count": 24,
      "metadata": {
        "id": "CTbo6moFrgsE"
      },
      "outputs": [],
      "source": [
        "assert ids == [\n",
        "    1, 56, 2, 850, 988, 602, 533, 746, 5, 1126, 596, 5, 1, 67, 7, 38, 851, 1108, 754, 793, 7,\n",
        "], \"IDs should be as expected\""
      ]
    },
    {
      "cell_type": "code",
      "execution_count": 25,
      "metadata": {
        "colab": {
          "base_uri": "https://localhost:8080/"
        },
        "id": "lYuWlhBIrgsE",
        "outputId": "66d5ca03-12cf-4332-d28d-ac864e5a295c"
      },
      "outputs": [
        {
          "output_type": "stream",
          "name": "stdout",
          "text": [
            "\" It' s the last he painted, you know,\" Mrs. Gisburn said with pardonable pride.\n"
          ]
        }
      ],
      "source": [
        "print(tokenizer.decode(ids))"
      ]
    },
    {
      "cell_type": "markdown",
      "source": [
        "\"Hello\" is not in the vocabulary, so it will raise a `KeyError`.\n",
        "\n",
        "We can deal with the kind of error by adding special tokens to the vocabulary."
      ],
      "metadata": {
        "id": "F-LWl3Nttuho"
      }
    },
    {
      "cell_type": "code",
      "execution_count": 26,
      "metadata": {
        "colab": {
          "base_uri": "https://localhost:8080/"
        },
        "id": "_Gln6BYVrgsE",
        "outputId": "454665ea-55d2-4eef-daad-b38192bdb8a3"
      },
      "outputs": [
        {
          "output_type": "stream",
          "name": "stdout",
          "text": [
            "KeyError: 'Hello'\n"
          ]
        }
      ],
      "source": [
        "try:\n",
        "    text = \"Hello, do you like tea?\"\n",
        "    print(tokenizer.encode(text))\n",
        "except KeyError as e:\n",
        "    print(f\"KeyError: {e}\")"
      ]
    },
    {
      "cell_type": "markdown",
      "metadata": {
        "id": "fyyUIW1YrgsE"
      },
      "source": [
        "## 2.4 Adding special context tokens"
      ]
    },
    {
      "cell_type": "code",
      "execution_count": 27,
      "metadata": {
        "colab": {
          "base_uri": "https://localhost:8080/"
        },
        "id": "e8krnVq1rgsF",
        "outputId": "2289a3b4-4227-4210-9563-74da984e4aa8"
      },
      "outputs": [
        {
          "output_type": "stream",
          "name": "stdout",
          "text": [
            "1132\n"
          ]
        }
      ],
      "source": [
        "all_tokens = sorted(set(preprocessed))\n",
        "all_tokens.extend([\"<|unk|>\", \"<|endoftext|>\"])\n",
        "vocab = {token: i for i, token in enumerate(all_tokens)}\n",
        "\n",
        "print(len(vocab.items()))"
      ]
    },
    {
      "cell_type": "code",
      "execution_count": 28,
      "metadata": {
        "id": "INiQrCNArgsF"
      },
      "outputs": [],
      "source": [
        "class SimpleTokenizerV2:\n",
        "    def __init__(self, vocab: Dict[str, int]):\n",
        "        self.str_to_int = vocab\n",
        "        self.int_to_str = {i: token for token, i in vocab.items()}\n",
        "\n",
        "    def encode(self, text: str) -> List[int]:\n",
        "        preprocessed = re.split(r\"([,.:;?_!\\\"()']|--|\\s)\", text)\n",
        "        preprocessed = [item for item in preprocessed if item.strip()]\n",
        "        # Replace unknown tokens with \"<|unk|>\"\n",
        "        preprocessed = [\n",
        "            item if item in self.str_to_int else \"<|unk|>\" for item in preprocessed\n",
        "        ]\n",
        "        ids = [self.str_to_int[token] for token in preprocessed]\n",
        "        return ids\n",
        "\n",
        "    def decode(self, tokens: List[int]) -> str:\n",
        "        text = \" \".join([self.int_to_str[token] for token in tokens])\n",
        "        # Remove whitespaces before punctuation marks\n",
        "        text = re.sub(r\" ([,.:;?_!\\\"()'])\", r\"\\1\", text)\n",
        "        return text"
      ]
    },
    {
      "cell_type": "code",
      "execution_count": 29,
      "metadata": {
        "colab": {
          "base_uri": "https://localhost:8080/"
        },
        "id": "5X_YMqTRrgsF",
        "outputId": "a0bb6008-06c0-47bc-9595-ffdd501b9739"
      },
      "outputs": [
        {
          "output_type": "stream",
          "name": "stdout",
          "text": [
            "Hello, do you like tea? <|endoftext|> In the sunlit terraces of the palace.\n"
          ]
        }
      ],
      "source": [
        "text1 = \"Hello, do you like tea?\"\n",
        "text2 = \"In the sunlit terraces of the palace.\"\n",
        "text = \" <|endoftext|> \".join((text1, text2))\n",
        "print(text)"
      ]
    },
    {
      "cell_type": "code",
      "execution_count": 30,
      "metadata": {
        "colab": {
          "base_uri": "https://localhost:8080/"
        },
        "id": "JMpNPdYorgsF",
        "outputId": "8a11091f-d8be-4b31-ad77-c3f9bdc815a3"
      },
      "outputs": [
        {
          "output_type": "stream",
          "name": "stdout",
          "text": [
            "[1130, 5, 355, 1126, 628, 975, 10, 1131, 55, 988, 956, 984, 722, 988, 1130, 7]\n"
          ]
        }
      ],
      "source": [
        "tokenizer = SimpleTokenizerV2(vocab)\n",
        "ids = tokenizer.encode(text)\n",
        "print(ids)"
      ]
    },
    {
      "cell_type": "code",
      "execution_count": 31,
      "metadata": {
        "colab": {
          "base_uri": "https://localhost:8080/"
        },
        "id": "7TVhMfxRrgsF",
        "outputId": "85a37dbd-db10-4de3-b9a2-987976917065"
      },
      "outputs": [
        {
          "output_type": "stream",
          "name": "stdout",
          "text": [
            "<|unk|>, do you like tea? <|endoftext|> In the sunlit terraces of the <|unk|>.\n"
          ]
        }
      ],
      "source": [
        "print(tokenizer.decode(tokenizer.encode(text)))"
      ]
    },
    {
      "cell_type": "markdown",
      "metadata": {
        "id": "SBf-BHrprgsF"
      },
      "source": [
        "## 2.5 Byte pair encoding"
      ]
    },
    {
      "cell_type": "code",
      "source": [
        "!pip install tiktoken"
      ],
      "metadata": {
        "colab": {
          "base_uri": "https://localhost:8080/"
        },
        "id": "eenPfwEpuIRk",
        "outputId": "537626ef-bbea-47bd-c8b3-7e1281efd0d5"
      },
      "execution_count": 33,
      "outputs": [
        {
          "output_type": "stream",
          "name": "stdout",
          "text": [
            "Collecting tiktoken\n",
            "  Downloading tiktoken-0.8.0-cp311-cp311-manylinux_2_17_x86_64.manylinux2014_x86_64.whl.metadata (6.6 kB)\n",
            "Requirement already satisfied: regex>=2022.1.18 in /usr/local/lib/python3.11/dist-packages (from tiktoken) (2024.11.6)\n",
            "Requirement already satisfied: requests>=2.26.0 in /usr/local/lib/python3.11/dist-packages (from tiktoken) (2.32.3)\n",
            "Requirement already satisfied: charset-normalizer<4,>=2 in /usr/local/lib/python3.11/dist-packages (from requests>=2.26.0->tiktoken) (3.4.1)\n",
            "Requirement already satisfied: idna<4,>=2.5 in /usr/local/lib/python3.11/dist-packages (from requests>=2.26.0->tiktoken) (3.10)\n",
            "Requirement already satisfied: urllib3<3,>=1.21.1 in /usr/local/lib/python3.11/dist-packages (from requests>=2.26.0->tiktoken) (2.3.0)\n",
            "Requirement already satisfied: certifi>=2017.4.17 in /usr/local/lib/python3.11/dist-packages (from requests>=2.26.0->tiktoken) (2025.1.31)\n",
            "Downloading tiktoken-0.8.0-cp311-cp311-manylinux_2_17_x86_64.manylinux2014_x86_64.whl (1.2 MB)\n",
            "\u001b[?25l   \u001b[90m━━━━━━━━━━━━━━━━━━━━━━━━━━━━━━━━━━━━━━━━\u001b[0m \u001b[32m0.0/1.2 MB\u001b[0m \u001b[31m?\u001b[0m eta \u001b[36m-:--:--\u001b[0m\r\u001b[2K   \u001b[91m━━━━━━━━━━━━━━━━━━━━━━━━━━━━━━━━━━━━━━━\u001b[0m\u001b[91m╸\u001b[0m \u001b[32m1.2/1.2 MB\u001b[0m \u001b[31m49.5 MB/s\u001b[0m eta \u001b[36m0:00:01\u001b[0m\r\u001b[2K   \u001b[90m━━━━━━━━━━━━━━━━━━━━━━━━━━━━━━━━━━━━━━━━\u001b[0m \u001b[32m1.2/1.2 MB\u001b[0m \u001b[31m25.5 MB/s\u001b[0m eta \u001b[36m0:00:00\u001b[0m\n",
            "\u001b[?25hInstalling collected packages: tiktoken\n",
            "Successfully installed tiktoken-0.8.0\n"
          ]
        }
      ]
    },
    {
      "cell_type": "code",
      "execution_count": 34,
      "metadata": {
        "colab": {
          "base_uri": "https://localhost:8080/"
        },
        "id": "zQDwKa3-rgsF",
        "outputId": "7234bfe7-3c80-469d-b697-fdb792ac05b1"
      },
      "outputs": [
        {
          "output_type": "stream",
          "name": "stdout",
          "text": [
            "tiktoken version: 0.8.0\n"
          ]
        }
      ],
      "source": [
        "from importlib.metadata import version\n",
        "import tiktoken\n",
        "\n",
        "print(f\"tiktoken version: {version('tiktoken')}\")"
      ]
    },
    {
      "cell_type": "code",
      "execution_count": 35,
      "metadata": {
        "id": "BEsMJ5O1rgsF"
      },
      "outputs": [],
      "source": [
        "tokenizer = tiktoken.get_encoding(\"gpt2\")"
      ]
    },
    {
      "cell_type": "code",
      "execution_count": 36,
      "metadata": {
        "colab": {
          "base_uri": "https://localhost:8080/"
        },
        "id": "eQBf1zGvrgsF",
        "outputId": "65054b77-7cb7-4bbe-8465-43cbf253e624"
      },
      "outputs": [
        {
          "output_type": "stream",
          "name": "stdout",
          "text": [
            "[15496, 11, 466, 345, 588, 8887, 30, 220, 50256, 554, 262, 4252, 18250, 8812, 2114, 1659, 617, 34680, 27271]\n"
          ]
        }
      ],
      "source": [
        "text = (\n",
        "    \"Hello, do you like tea? <|endoftext|> In the sunlit terraces\" \"of someunknownPlace\"\n",
        ")\n",
        "integers = tokenizer.encode(text, allowed_special={\"<|endoftext|>\"})\n",
        "print(integers)"
      ]
    },
    {
      "cell_type": "code",
      "execution_count": 37,
      "metadata": {
        "colab": {
          "base_uri": "https://localhost:8080/"
        },
        "id": "XENICTHTrgsF",
        "outputId": "aab8823c-ff02-4f7f-97b5-6d497fce7893"
      },
      "outputs": [
        {
          "output_type": "stream",
          "name": "stdout",
          "text": [
            "Hello, do you like tea? <|endoftext|> In the sunlit terracesof someunknownPlace\n"
          ]
        }
      ],
      "source": [
        "strings = tokenizer.decode(integers)\n",
        "print(strings)"
      ]
    },
    {
      "cell_type": "markdown",
      "metadata": {
        "id": "OpXF7CW9rgsF"
      },
      "source": [
        "## 2.6 Data sampling with a sliding window\n"
      ]
    },
    {
      "cell_type": "code",
      "execution_count": 38,
      "metadata": {
        "colab": {
          "base_uri": "https://localhost:8080/"
        },
        "id": "feH6z1rurgsF",
        "outputId": "01bfd2da-3da1-49d5-8143-71932d449c46"
      },
      "outputs": [
        {
          "output_type": "stream",
          "name": "stdout",
          "text": [
            "5145\n"
          ]
        }
      ],
      "source": [
        "enc_text = tokenizer.encode(raw_text)\n",
        "print(len(enc_text))"
      ]
    },
    {
      "cell_type": "code",
      "execution_count": 41,
      "metadata": {
        "id": "7-4zuBEtrgsF"
      },
      "outputs": [],
      "source": [
        "enc_sample = enc_text[50:]"
      ]
    },
    {
      "cell_type": "code",
      "execution_count": 42,
      "metadata": {
        "colab": {
          "base_uri": "https://localhost:8080/"
        },
        "id": "PZwbNDRurgsF",
        "outputId": "9d192872-5da8-4ab0-c395-3b67dde0538e"
      },
      "outputs": [
        {
          "output_type": "stream",
          "name": "stdout",
          "text": [
            "x: [290, 4920, 2241, 287]\n",
            "y:      [4920, 2241, 287, 257]\n"
          ]
        }
      ],
      "source": [
        "context_size = 4\n",
        "x = enc_sample[:context_size]\n",
        "y = enc_sample[1 : context_size + 1]\n",
        "print(f\"x: {x}\")\n",
        "print(f\"y:      {y}\")"
      ]
    },
    {
      "cell_type": "code",
      "execution_count": 43,
      "metadata": {
        "colab": {
          "base_uri": "https://localhost:8080/"
        },
        "id": "3GjNKlzrrgsF",
        "outputId": "79f7286c-c00d-480e-ae7a-9e9a8d77871b"
      },
      "outputs": [
        {
          "output_type": "stream",
          "name": "stdout",
          "text": [
            "[290] --> 4920\n",
            "[290, 4920] --> 2241\n",
            "[290, 4920, 2241] --> 287\n",
            "[290, 4920, 2241, 287] --> 257\n"
          ]
        }
      ],
      "source": [
        "for i in range(1, context_size + 1):\n",
        "    context = enc_sample[:i]\n",
        "    target = enc_sample[i]\n",
        "    print(context, \"-->\", target)"
      ]
    },
    {
      "cell_type": "code",
      "execution_count": 44,
      "metadata": {
        "colab": {
          "base_uri": "https://localhost:8080/"
        },
        "id": "R0ZUd22XrgsF",
        "outputId": "89fafd91-301c-49eb-e962-a312553af812"
      },
      "outputs": [
        {
          "output_type": "stream",
          "name": "stdout",
          "text": [
            " and -->  established\n",
            " and established -->  himself\n",
            " and established himself -->  in\n",
            " and established himself in -->  a\n"
          ]
        }
      ],
      "source": [
        "for i in range(1, context_size + 1):\n",
        "    context = enc_sample[:i]\n",
        "    target = enc_sample[i]\n",
        "    print(tokenizer.decode(context), \"-->\", tokenizer.decode([target]))"
      ]
    },
    {
      "cell_type": "code",
      "execution_count": 45,
      "metadata": {
        "id": "SjK3JeZbrgsF"
      },
      "outputs": [],
      "source": [
        "import torch\n",
        "from torch.utils.data import DataLoader, Dataset\n",
        "\n",
        "\n",
        "class GPTDatasetV1(Dataset):\n",
        "    def __init__(\n",
        "        self, txt: str, tokenizer: tiktoken.Encoding, max_length: int, stride: int\n",
        "    ):\n",
        "        self.input_ids = []\n",
        "        self.target_ids = []\n",
        "\n",
        "        # Tokenize the text\n",
        "        token_ids = tokenizer.encode(txt)\n",
        "\n",
        "        # Chunk text into overlapping sequences of max_length using the sliding window\n",
        "        for i in range(0, len(token_ids) - max_length, stride):\n",
        "            input_chunk = token_ids[i : i + max_length]\n",
        "            target_chunk = token_ids[i + 1 : i + max_length + 1]\n",
        "            self.input_ids.append(torch.tensor(input_chunk))\n",
        "            self.target_ids.append(torch.tensor(target_chunk))\n",
        "\n",
        "    def __len__(self):\n",
        "        \"\"\"Total number of samples in the dataset.\"\"\"\n",
        "        return len(self.input_ids)\n",
        "\n",
        "    def __getitem__(self, idx):\n",
        "        \"\"\"Get a sample from the dataset at the given index.\"\"\"\n",
        "        return self.input_ids[idx], self.target_ids[idx]"
      ]
    },
    {
      "cell_type": "code",
      "execution_count": 46,
      "metadata": {
        "id": "wCJg_b7drgsG"
      },
      "outputs": [],
      "source": [
        "def create_dataloader_v1(\n",
        "    txt: str,\n",
        "    batch_size: int = 4,\n",
        "    max_length: int = 256,\n",
        "    stride: int = 128,\n",
        "    shuffle: bool = True,\n",
        "    drop_last: bool = True,\n",
        "    num_workers: int = 0,\n",
        "):\n",
        "    tokenizer = tiktoken.get_encoding(\"gpt2\")\n",
        "    dataset = GPTDatasetV1(txt, tokenizer, max_length, stride)\n",
        "    dataloader = DataLoader(\n",
        "        dataset,\n",
        "        batch_size=batch_size,\n",
        "        shuffle=shuffle,\n",
        "        drop_last=drop_last,\n",
        "        num_workers=num_workers,\n",
        "    )\n",
        "    return dataloader\n"
      ]
    },
    {
      "cell_type": "markdown",
      "metadata": {
        "id": "q9Ssyoq-rgsG"
      },
      "source": [
        "`batch_size` is the number of samples per batch. Small batch sizes require less memory, but can lead to more noisy model updates.\n",
        "\n",
        "`drop_last` drops the last batch if it's shorter than the specified `batch_size`.\n",
        "This prevents loss spikes during training.\n",
        "\n",
        "`stride` is the step size for the sliding window."
      ]
    },
    {
      "cell_type": "code",
      "execution_count": 48,
      "metadata": {
        "colab": {
          "base_uri": "https://localhost:8080/"
        },
        "id": "B1kyK2xHrgsG",
        "outputId": "e1c57d29-d779-4d00-eae4-250642d67c32"
      },
      "outputs": [
        {
          "output_type": "stream",
          "name": "stdout",
          "text": [
            "[tensor([[  40,  367, 2885, 1464]]), tensor([[ 367, 2885, 1464, 1807]])]\n",
            "[tensor([[ 367, 2885, 1464, 1807]]), tensor([[2885, 1464, 1807, 3619]])]\n"
          ]
        }
      ],
      "source": [
        "dataloader = create_dataloader_v1(\n",
        "    raw_text, batch_size=1, max_length=4, stride=1, shuffle=False\n",
        ")\n",
        "data_iter = iter(dataloader)\n",
        "first_batch = next(data_iter)\n",
        "print(first_batch)\n",
        "second_batch = next(data_iter)\n",
        "print(second_batch)\n"
      ]
    },
    {
      "cell_type": "markdown",
      "metadata": {
        "id": "OdFeODnTrgsG"
      },
      "source": [
        "## 2.7 Creating token embeddings"
      ]
    },
    {
      "cell_type": "code",
      "execution_count": 49,
      "metadata": {
        "colab": {
          "base_uri": "https://localhost:8080/"
        },
        "id": "Ju8l_T2lrgsG",
        "outputId": "be51952e-c278-4b10-8772-d89fbe6933b9"
      },
      "outputs": [
        {
          "output_type": "stream",
          "name": "stdout",
          "text": [
            "Parameter containing:\n",
            "tensor([[ 1.9269,  1.4873, -0.4974],\n",
            "        [ 0.4396, -0.7581,  1.0783],\n",
            "        [ 0.8008,  1.6806,  0.3559],\n",
            "        [-0.6866,  0.6105,  1.3347],\n",
            "        [-0.2316,  0.0418, -0.2516],\n",
            "        [ 0.8599, -0.3097, -0.3957]], requires_grad=True)\n"
          ]
        }
      ],
      "source": [
        "input_ids = torch.tensor([2, 3, 5, 1])\n",
        "\n",
        "vocab_size = 6\n",
        "output_dim = 3  # create embeddings of size 3\n",
        "\n",
        "torch.manual_seed(42)\n",
        "embedding_layer = torch.nn.Embedding(vocab_size, output_dim)\n",
        "print(embedding_layer.weight)"
      ]
    },
    {
      "cell_type": "markdown",
      "metadata": {
        "id": "p8jGkNDwrgsG"
      },
      "source": [
        "The weights above have been randomly initialized.\n",
        "The values will get optimized during LLM training, as part of the LLM optimization.\n",
        "6 rows with 3 columns. One row for each of the six possible tokens in the vocabulary, and one column for each of the three embedding dimensions."
      ]
    },
    {
      "cell_type": "code",
      "execution_count": 50,
      "metadata": {
        "colab": {
          "base_uri": "https://localhost:8080/"
        },
        "id": "4j64BWjgrgsJ",
        "outputId": "576818ee-cedb-4de6-a967-493bc8881e8a"
      },
      "outputs": [
        {
          "output_type": "stream",
          "name": "stdout",
          "text": [
            "tensor([[-0.6866,  0.6105,  1.3347]], grad_fn=<EmbeddingBackward0>)\n"
          ]
        }
      ],
      "source": [
        "print(embedding_layer(torch.tensor([3])))  # applying embedding layer to token id 3"
      ]
    },
    {
      "cell_type": "markdown",
      "metadata": {
        "id": "VdJipxbkrgsJ"
      },
      "source": [
        "You can see that the output is identical to the index 3 in the weights.\n",
        "This is because the embedding layer is basically like a lookup from the embedding layer's weights via the token ID.\n",
        "\n",
        "The embedding layer here is like a more efficient way to implement one-hot encoding, followed by matrix multiplication in a fully connected layer.\n",
        "And that's also why we can view it as a neural network layer that can be optimized via backprop.\n",
        "\n",
        "See [notebook](https://github.com/rasbt/LLMs-from-scratch/blob/main/ch02/03_bonus_embedding-vs-matmul/embeddings-and-linear-layers.ipynb) that explains this relationship. Embedding layers in PyTorch do the same as linear layers that perform matrix multiplications. We use embedding layers for computational efficiency.\n",
        "\n",
        "Above we've discussed how the embedding is basically like a lookup, and that this is comparable to one-hot and a matmul for a linear layer. So say we have the `nn.Linear` layer on a one-hot encoded representation.\n",
        "So the categories are the various token ids we have available, and we've one-hot encoded those to be binary attributes. Therefore, we have as many one-hot features as tokens in our vocabulary.\n",
        "Given a token ID, we'd encode it such as a vector with a binary 1 (hot) in its attribute and 0 elsewhere.\n",
        "Performing a matrix multiplication of that vector with our linear layer's weights gives us the embeddings for that exact token, equivalent to the lookup.\n",
        "\n",
        "Mathematically, we can represent this as:\n",
        "\n",
        "$\\mathbf{e} = \\mathbf{x}^T \\mathbf{W}$\n",
        "\n",
        "Where:\n",
        "- $\\mathbf{e}$ is the resulting embedding vector\n",
        "- $\\mathbf{x}$ is the one-hot encoded input vector\n",
        "- $\\mathbf{W}$ is the weight matrix of the linear layer (or embedding matrix)\n",
        "\n",
        "For example, if we have a vocabulary size of 6 and an embedding dimension of 3:\n",
        "\n",
        "$\\begin{bmatrix}0 & 0 & 1 & 0 & 0 & 0\\end{bmatrix} \\begin{bmatrix}w_{11} & w_{12} & w_{13} \\\\ w_{21} & w_{22} & w_{23} \\\\ w_{31} & w_{32} & w_{33} \\\\ w_{41} & w_{42} & w_{43} \\\\ w_{51} & w_{52} & w_{53} \\\\ w_{61} & w_{62} & w_{63}\\end{bmatrix} = \\begin{bmatrix}w_{31} & w_{32} & w_{33}\\end{bmatrix}$\n",
        "\n",
        "This operation effectively selects the third row of the weight matrix, which is equivalent to looking up the embedding for the third token in our vocabulary.\n",
        "\n",
        "The embedding layer can also be thought of as a hashtable lookup. In this case, we can represent it as:\n",
        "\n",
        "```python\n",
        "embedding = hashtable[token_id]\n",
        "```\n",
        "\n",
        "Where:\n",
        "- embedding is the resulting embedding vector\n",
        "- hashtable is a dictionary-like structure containing the embeddings\n",
        "- token_id is the ID of the token we want to look up\n",
        "\n",
        "For our example with a vocabulary size of 6 and an embedding dimension of 3, we could represent this as:\n",
        "\n",
        "```python\n",
        "hashtable = {\n",
        "    0: [w11, w12, w13],\n",
        "    1: [w21, w22, w23],\n",
        "    2: [w31, w32, w33],\n",
        "    3: [w41, w42, w43],\n",
        "    4: [w51, w52, w53],\n",
        "    5: [w61, w62, w63]\n",
        "}\n",
        "```\n",
        "\n",
        "Then, to get the embedding for token ID 2, we would simply do:\n",
        "\n",
        "```python\n",
        "embedding = hashtable[2]  # This would return [w31, w32, w33]\n",
        "```\n",
        "\n",
        "This hashtable lookup approach is conceptually similar to the embedding layer and provides\n",
        "another way to understand how embeddings work. However, the actual implementation in\n",
        "PyTorch uses more optimized methods for efficiency and to enable gradient flow for training.\n"
      ]
    },
    {
      "cell_type": "code",
      "execution_count": 51,
      "metadata": {
        "colab": {
          "base_uri": "https://localhost:8080/"
        },
        "id": "YTwUz0P3rgsK",
        "outputId": "cd3f2a0f-98d9-40d0-f6ad-3ac2cecbded0"
      },
      "outputs": [
        {
          "output_type": "stream",
          "name": "stdout",
          "text": [
            "tensor([[ 0.8008,  1.6806,  0.3559],\n",
            "        [-0.6866,  0.6105,  1.3347],\n",
            "        [ 0.8599, -0.3097, -0.3957],\n",
            "        [ 0.4396, -0.7581,  1.0783]], grad_fn=<EmbeddingBackward0>)\n"
          ]
        }
      ],
      "source": [
        "print(embedding_layer(input_ids))"
      ]
    },
    {
      "cell_type": "markdown",
      "metadata": {
        "id": "oLWt3Ys3rgsK"
      },
      "source": [
        "## 2.8 Encoding word positions"
      ]
    },
    {
      "cell_type": "code",
      "execution_count": 52,
      "metadata": {
        "id": "F5TRJ4ikrgsK"
      },
      "outputs": [],
      "source": [
        "vocab_size = 50257\n",
        "output_dim = 256\n",
        "token_embedding_layer = torch.nn.Embedding(vocab_size, output_dim)"
      ]
    },
    {
      "cell_type": "code",
      "execution_count": 53,
      "metadata": {
        "colab": {
          "base_uri": "https://localhost:8080/"
        },
        "id": "DlQ0f5NmrgsK",
        "outputId": "82e09bc5-9316-4d5d-befb-efe938b5818d"
      },
      "outputs": [
        {
          "output_type": "stream",
          "name": "stdout",
          "text": [
            "Token IDs:\n",
            " tensor([[   40,   367,  2885,  1464],\n",
            "        [ 1807,  3619,   402,   271],\n",
            "        [10899,  2138,   257,  7026],\n",
            "        [15632,   438,  2016,   257],\n",
            "        [  922,  5891,  1576,   438],\n",
            "        [  568,   340,   373,   645],\n",
            "        [ 1049,  5975,   284,   502],\n",
            "        [  284,  3285,   326,    11]])\n",
            "\n",
            "Inputs shape:\n",
            " torch.Size([8, 4])\n"
          ]
        }
      ],
      "source": [
        "max_length = 4\n",
        "dataloader = create_dataloader_v1(\n",
        "    raw_text, batch_size=8, max_length=max_length,\n",
        "    stride=max_length, shuffle=False\n",
        ")\n",
        "\n",
        "data_iter = iter(dataloader)\n",
        "inputs, targets = next(data_iter)\n",
        "print(\"Token IDs:\\n\", inputs)\n",
        "print(\"\\nInputs shape:\\n\", inputs.shape) # 8 text samples, 4 tokens each"
      ]
    },
    {
      "cell_type": "code",
      "execution_count": 54,
      "metadata": {
        "colab": {
          "base_uri": "https://localhost:8080/"
        },
        "id": "-D1Z2XtrrgsK",
        "outputId": "7e20db84-cde4-4e4d-d5d5-00dc420d9284"
      },
      "outputs": [
        {
          "output_type": "stream",
          "name": "stdout",
          "text": [
            "torch.Size([8, 4, 256])\n"
          ]
        }
      ],
      "source": [
        "token_embeddings = token_embedding_layer(inputs)\n",
        "print(token_embeddings.shape)"
      ]
    },
    {
      "cell_type": "markdown",
      "metadata": {
        "id": "bzK2rAlzrgsK"
      },
      "source": [
        "We embedded each of the tokens into a 256 dimensional vector.\n",
        "8 samples in our batch (4 text samples), 4 tokens per sample, and 256 embedding dimensions for each token."
      ]
    },
    {
      "cell_type": "code",
      "execution_count": 55,
      "metadata": {
        "colab": {
          "base_uri": "https://localhost:8080/"
        },
        "id": "_FYLxjODrgsK",
        "outputId": "4f6120fa-70e9-4ece-9e3b-e68aac5ee12d"
      },
      "outputs": [
        {
          "output_type": "stream",
          "name": "stdout",
          "text": [
            "torch.Size([4, 256])\n"
          ]
        }
      ],
      "source": [
        "# A GPT model's absolute embedding approach:\n",
        "context_length = max_length\n",
        "pos_embedding_layer = torch.nn.Embedding(context_length, output_dim)\n",
        "pos_embeddings = pos_embedding_layer(torch.arange(context_length))\n",
        "print(pos_embeddings.shape)"
      ]
    },
    {
      "cell_type": "markdown",
      "metadata": {
        "id": "oZ1K9YKqrgsK"
      },
      "source": [
        "The input is usually a placeholder vector containing a sequence of numbers `0, 1, ..., n`, where `n` is the maximum input length.\n",
        "\n",
        "`context_length` represents the supported input size for the LLM.\n",
        "We set it to `max_length` here.\n",
        "In practice, the input text can be longer than the supported context length--then we'd have to truncate the text."
      ]
    },
    {
      "cell_type": "code",
      "execution_count": 56,
      "metadata": {
        "colab": {
          "base_uri": "https://localhost:8080/"
        },
        "id": "XVyZA_e7rgsK",
        "outputId": "a4e2ce14-be6d-41f5-8214-266b8ec8f34f"
      },
      "outputs": [
        {
          "output_type": "stream",
          "name": "stdout",
          "text": [
            "torch.Size([8, 4, 256])\n"
          ]
        }
      ],
      "source": [
        "input_embeddings = token_embeddings + pos_embeddings\n",
        "print(input_embeddings.shape)"
      ]
    }
  ],
  "metadata": {
    "kernelspec": {
      "display_name": ".venv",
      "language": "python",
      "name": "python3"
    },
    "language_info": {
      "codemirror_mode": {
        "name": "ipython",
        "version": 3
      },
      "file_extension": ".py",
      "mimetype": "text/x-python",
      "name": "python",
      "nbconvert_exporter": "python",
      "pygments_lexer": "ipython3",
      "version": "3.12.7"
    },
    "colab": {
      "provenance": []
    }
  },
  "nbformat": 4,
  "nbformat_minor": 0
}