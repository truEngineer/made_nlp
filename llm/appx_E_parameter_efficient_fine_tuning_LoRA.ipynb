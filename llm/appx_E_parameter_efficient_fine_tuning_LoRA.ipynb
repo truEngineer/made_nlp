{
  "cells": [
    {
      "cell_type": "markdown",
      "id": "58b8c870-fb72-490e-8916-d8129bd5d1ff",
      "metadata": {
        "id": "58b8c870-fb72-490e-8916-d8129bd5d1ff"
      },
      "source": [
        "# Appendix E: Parameter-efficient Finetuning with LoRA"
      ]
    },
    {
      "cell_type": "code",
      "source": [
        "!pip install tiktoken"
      ],
      "metadata": {
        "colab": {
          "base_uri": "https://localhost:8080/"
        },
        "id": "oUlatTRLcbTU",
        "outputId": "881b29a2-59f8-4aae-d8f0-0ad3c4f13394"
      },
      "id": "oUlatTRLcbTU",
      "execution_count": 1,
      "outputs": [
        {
          "output_type": "stream",
          "name": "stdout",
          "text": [
            "Collecting tiktoken\n",
            "  Downloading tiktoken-0.9.0-cp311-cp311-manylinux_2_17_x86_64.manylinux2014_x86_64.whl.metadata (6.7 kB)\n",
            "Requirement already satisfied: regex>=2022.1.18 in /usr/local/lib/python3.11/dist-packages (from tiktoken) (2024.11.6)\n",
            "Requirement already satisfied: requests>=2.26.0 in /usr/local/lib/python3.11/dist-packages (from tiktoken) (2.32.3)\n",
            "Requirement already satisfied: charset-normalizer<4,>=2 in /usr/local/lib/python3.11/dist-packages (from requests>=2.26.0->tiktoken) (3.4.1)\n",
            "Requirement already satisfied: idna<4,>=2.5 in /usr/local/lib/python3.11/dist-packages (from requests>=2.26.0->tiktoken) (3.10)\n",
            "Requirement already satisfied: urllib3<3,>=1.21.1 in /usr/local/lib/python3.11/dist-packages (from requests>=2.26.0->tiktoken) (2.3.0)\n",
            "Requirement already satisfied: certifi>=2017.4.17 in /usr/local/lib/python3.11/dist-packages (from requests>=2.26.0->tiktoken) (2025.1.31)\n",
            "Downloading tiktoken-0.9.0-cp311-cp311-manylinux_2_17_x86_64.manylinux2014_x86_64.whl (1.2 MB)\n",
            "\u001b[?25l   \u001b[90m━━━━━━━━━━━━━━━━━━━━━━━━━━━━━━━━━━━━━━━━\u001b[0m \u001b[32m0.0/1.2 MB\u001b[0m \u001b[31m?\u001b[0m eta \u001b[36m-:--:--\u001b[0m\r\u001b[2K   \u001b[91m━━━━━━━━\u001b[0m\u001b[91m╸\u001b[0m\u001b[90m━━━━━━━━━━━━━━━━━━━━━━━━━━━━━━━\u001b[0m \u001b[32m0.3/1.2 MB\u001b[0m \u001b[31m7.6 MB/s\u001b[0m eta \u001b[36m0:00:01\u001b[0m\r\u001b[2K   \u001b[90m━━━━━━━━━━━━━━━━━━━━━━━━━━━━━━━━━━━━━━━━\u001b[0m \u001b[32m1.2/1.2 MB\u001b[0m \u001b[31m17.6 MB/s\u001b[0m eta \u001b[36m0:00:00\u001b[0m\n",
            "\u001b[?25hInstalling collected packages: tiktoken\n",
            "Successfully installed tiktoken-0.9.0\n"
          ]
        }
      ]
    },
    {
      "cell_type": "code",
      "execution_count": 2,
      "id": "5b7e01c2-1c84-4f2a-bb51-2e0b74abda90",
      "metadata": {
        "colab": {
          "base_uri": "https://localhost:8080/"
        },
        "id": "5b7e01c2-1c84-4f2a-bb51-2e0b74abda90",
        "outputId": "cd1241ed-ca01-47f7-b757-e6a48a9c9f79"
      },
      "outputs": [
        {
          "output_type": "stream",
          "name": "stdout",
          "text": [
            "matplotlib version: 3.10.0\n",
            "numpy version: 2.0.2\n",
            "tiktoken version: 0.9.0\n",
            "torch version: 2.6.0+cu124\n",
            "tensorflow version: 2.18.0\n",
            "pandas version: 2.2.2\n"
          ]
        }
      ],
      "source": [
        "from importlib.metadata import version\n",
        "\n",
        "\n",
        "pkgs = [\"matplotlib\",\n",
        "        \"numpy\",\n",
        "        \"tiktoken\",\n",
        "        \"torch\",\n",
        "        \"tensorflow\", # For OpenAI's pretrained weights\n",
        "        \"pandas\"      # Dataset loading\n",
        "       ]\n",
        "for p in pkgs:\n",
        "    print(f\"{p} version: {version(p)}\")"
      ]
    },
    {
      "cell_type": "markdown",
      "id": "21532056-0ef4-4c98-82c7-e91f61c6485e",
      "metadata": {
        "id": "21532056-0ef4-4c98-82c7-e91f61c6485e"
      },
      "source": [
        "## E.1 Introduction to LoRA"
      ]
    },
    {
      "cell_type": "markdown",
      "id": "66edc999-3d91-4a1c-a157-9d056392e8d8",
      "metadata": {
        "id": "66edc999-3d91-4a1c-a157-9d056392e8d8"
      },
      "source": [
        "- No code in this section\n",
        "- Low-rank adaptation (LoRA) is a machine learning technique that modifies a pretrained model to better suit a specific, often smaller, dataset by adjusting only a small, low-rank subset of the model's parameters\n",
        "- This approach is important because it allows for efficient finetuning of large models on task-specific data, significantly reducing the computational cost and time required for finetuning"
      ]
    },
    {
      "cell_type": "markdown",
      "id": "5bb75b5d-d59c-4948-821a-1594a5883dc1",
      "metadata": {
        "id": "5bb75b5d-d59c-4948-821a-1594a5883dc1"
      },
      "source": [
        "- Suppose we have a large weight matrix $W$ for a given layer\n",
        "- During backpropagation, we learn a $\\Delta W$ matrix, which contains information on how much we want to update the original weights to minimize the loss function during training\n",
        "- In regular training and finetuning, the weight update is defined as follows:\n",
        "\n",
        "$$W_{\\text{updated}} = W + \\Delta W$$\n",
        "\n",
        "- The LoRA method proposed by [Hu et al.](https://arxiv.org/abs/2106.09685) offers a more efficient alternative to computing the weight updates $\\Delta W$ by learning an approximation of it, $\\Delta W \\approx AB$.\n",
        "- In other words, in LoRA, we have the following, where $A$ and $B$ are two small weight matrices:\n",
        "\n",
        "$$W_{\\text{updated}} = W + AB$$\n",
        "\n",
        "- The figure below illustrates these formulas for full finetuning and LoRA side by side"
      ]
    },
    {
      "cell_type": "markdown",
      "id": "a8a7419d-cae9-4525-bb44-1641f6ef4f3b",
      "metadata": {
        "id": "a8a7419d-cae9-4525-bb44-1641f6ef4f3b"
      },
      "source": [
        "<img src=\"https://sebastianraschka.com/images/LLMs-from-scratch-images/appendix-e_compressed/lora-1.webp\" width=\"500px\">"
      ]
    },
    {
      "cell_type": "markdown",
      "id": "4edd43c9-8ec5-48e6-b3fc-5fb3c16037cc",
      "metadata": {
        "id": "4edd43c9-8ec5-48e6-b3fc-5fb3c16037cc"
      },
      "source": [
        "- If you paid close attention, the full finetuning and LoRA depictions in the figure above look slightly different from the formulas I have shown earlier\n",
        "- That's due to the distributive law of matrix multiplication: we don't have to add the weights with the updated weights but can keep them separate\n",
        "- For instance, if $x$ is the input data, then we can write the following for regular finetuning:\n",
        "\n",
        "$$x (W+\\Delta W) = x W + x \\Delta W$$\n",
        "\n",
        "- Similarly, we can write the following for LoRA:\n",
        "\n",
        "$$x (W+A B) = x W + x A B$$\n",
        "\n",
        "- The fact that we can keep the LoRA weight matrices separate makes LoRA especially attractive\n",
        "- In practice, this means that we don't have to modify the weights of the pretrained model at all, as we can apply the LoRA matrices on the fly\n",
        "- After setting up the dataset and loading the model, we will implement LoRA in the code to make these concepts less abstract"
      ]
    },
    {
      "cell_type": "markdown",
      "id": "8c7017a2-32aa-4002-a2f3-12aac293ccdf",
      "metadata": {
        "id": "8c7017a2-32aa-4002-a2f3-12aac293ccdf"
      },
      "source": [
        "## E.2 Preparing the dataset"
      ]
    },
    {
      "cell_type": "markdown",
      "id": "669c64df-4431-4d27-834d-2bb38a01fc02",
      "metadata": {
        "id": "669c64df-4431-4d27-834d-2bb38a01fc02"
      },
      "source": [
        "- This section repeats the code from chapter 6 to load and prepare the dataset\n",
        "- Instead of repeating this code, one could open and run the chapter 6 notebook and then insert the LoRA code from section E.4 there\n",
        "- (The LoRA code was originally the last section of chapter 6 but was moved to the appendix due to the length of chapter 6)\n",
        "- In a similar fashion, we could also apply LoRA to the models in chapter 7 for instruction finetuning"
      ]
    },
    {
      "cell_type": "code",
      "source": [
        "import os\n",
        "import urllib\n",
        "import zipfile\n",
        "from pathlib import Path\n",
        "import pandas as pd\n",
        "\n",
        "\n",
        "# Chapter 6 code\n",
        "\n",
        "def download_and_unzip_spam_data(url, zip_path, extracted_path, data_file_path):\n",
        "    if data_file_path.exists():\n",
        "        print(f\"{data_file_path} already exists. Skipping download and extraction.\")\n",
        "        return\n",
        "    # Downloading the file\n",
        "    with urllib.request.urlopen(url) as response:\n",
        "        with open(zip_path, \"wb\") as out_file:\n",
        "            out_file.write(response.read())\n",
        "    # Unzipping the file\n",
        "    with zipfile.ZipFile(zip_path, \"r\") as zip_ref:\n",
        "        zip_ref.extractall(extracted_path)\n",
        "    # Add .tsv file extension\n",
        "    original_file_path = Path(extracted_path) / \"SMSSpamCollection\"\n",
        "    os.rename(original_file_path, data_file_path)\n",
        "    print(f\"File downloaded and saved as {data_file_path}\")\n",
        "\n",
        "\n",
        "def create_balanced_dataset(df):\n",
        "    # Count the instances of \"spam\"\n",
        "    num_spam = df[df[\"Label\"] == \"spam\"].shape[0]\n",
        "    # Randomly sample \"ham' instances to match the number of 'spam' instances\n",
        "    ham_subset = df[df[\"Label\"] == \"ham\"].sample(num_spam, random_state=123)\n",
        "    # Combine ham \"subset\" with \"spam\"\n",
        "    balanced_df = pd.concat([ham_subset, df[df[\"Label\"] == \"spam\"]])\n",
        "    return balanced_df\n",
        "\n",
        "\n",
        "def random_split(df, train_frac, validation_frac):\n",
        "    # Shuffle the entire DataFrame\n",
        "    df = df.sample(frac=1, random_state=123).reset_index(drop=True)\n",
        "    # Calculate split indices\n",
        "    train_end = int(len(df) * train_frac)\n",
        "    validation_end = train_end + int(len(df) * validation_frac)\n",
        "    # Split the DataFrame\n",
        "    train_df = df[:train_end]\n",
        "    validation_df = df[train_end:validation_end]\n",
        "    test_df = df[validation_end:]\n",
        "    return train_df, validation_df, test_df"
      ],
      "metadata": {
        "id": "jp7nmkxODAZZ"
      },
      "id": "jp7nmkxODAZZ",
      "execution_count": 3,
      "outputs": []
    },
    {
      "cell_type": "code",
      "execution_count": 4,
      "id": "def7c09b-af9c-4216-90ce-5e67aed1065c",
      "metadata": {
        "colab": {
          "base_uri": "https://localhost:8080/"
        },
        "id": "def7c09b-af9c-4216-90ce-5e67aed1065c",
        "outputId": "bd046183-e89a-4e43-c990-27be51b6e405"
      },
      "outputs": [
        {
          "output_type": "stream",
          "name": "stdout",
          "text": [
            "File downloaded and saved as sms_spam_collection/SMSSpamCollection.tsv\n"
          ]
        }
      ],
      "source": [
        "url = \"https://archive.ics.uci.edu/static/public/228/sms+spam+collection.zip\"\n",
        "zip_path = \"sms_spam_collection.zip\"\n",
        "extracted_path = \"sms_spam_collection\"\n",
        "data_file_path = Path(extracted_path) / \"SMSSpamCollection.tsv\"\n",
        "\n",
        "try:\n",
        "    download_and_unzip_spam_data(url, zip_path, extracted_path, data_file_path)\n",
        "except (urllib.error.HTTPError, urllib.error.URLError, TimeoutError) as e:\n",
        "    print(f\"Primary URL failed: {e}. Trying backup URL...\")\n",
        "    url = \"https://f001.backblazeb2.com/file/LLMs-from-scratch/sms%2Bspam%2Bcollection.zip\"\n",
        "    download_and_unzip_spam_data(url, zip_path, extracted_path, data_file_path)\n",
        "\n",
        "df = pd.read_csv(data_file_path, sep=\"\\t\", header=None, names=[\"Label\", \"Text\"])\n",
        "balanced_df = create_balanced_dataset(df)\n",
        "balanced_df[\"Label\"] = balanced_df[\"Label\"].map({\"ham\": 0, \"spam\": 1})\n",
        "\n",
        "train_df, validation_df, test_df = random_split(balanced_df, 0.7, 0.1)\n",
        "train_df.to_csv(\"train.csv\", index=None)\n",
        "validation_df.to_csv(\"validation.csv\", index=None)\n",
        "test_df.to_csv(\"test.csv\", index=None)"
      ]
    },
    {
      "cell_type": "code",
      "source": [
        "from torch.utils.data import Dataset\n",
        "\n",
        "\n",
        "class SpamDataset(Dataset):\n",
        "    def __init__(self, csv_file, tokenizer, max_length=None, pad_token_id=50256):\n",
        "        self.data = pd.read_csv(csv_file)\n",
        "\n",
        "        # Pre-tokenize texts\n",
        "        self.encoded_texts = [\n",
        "            tokenizer.encode(text) for text in self.data[\"Text\"]\n",
        "        ]\n",
        "\n",
        "        if max_length is None:\n",
        "            self.max_length = self._longest_encoded_length()\n",
        "        else:\n",
        "            self.max_length = max_length\n",
        "            # Truncate sequences if they are longer than max_length\n",
        "            self.encoded_texts = [\n",
        "                encoded_text[:self.max_length]\n",
        "                for encoded_text in self.encoded_texts\n",
        "            ]\n",
        "\n",
        "        # Pad sequences to the longest sequence\n",
        "        self.encoded_texts = [\n",
        "            encoded_text + [pad_token_id] * (self.max_length - len(encoded_text))\n",
        "            for encoded_text in self.encoded_texts\n",
        "        ]\n",
        "\n",
        "    def __getitem__(self, index):\n",
        "        encoded = self.encoded_texts[index]\n",
        "        label = self.data.iloc[index][\"Label\"]\n",
        "        return torch.tensor(encoded, dtype=torch.long), torch.tensor(label, dtype=torch.long)\n",
        "\n",
        "    def __len__(self):\n",
        "        return len(self.data)\n",
        "\n",
        "    def _longest_encoded_length(self):\n",
        "        max_length = 0\n",
        "        for encoded_text in self.encoded_texts:\n",
        "            encoded_length = len(encoded_text)\n",
        "            if encoded_length > max_length:\n",
        "                max_length = encoded_length\n",
        "        return max_length\n",
        "        # Note: A more pythonic version to implement this method\n",
        "        # is the following, which is also used in the next chapter:\n",
        "        # return max(len(encoded_text) for encoded_text in self.encoded_texts)"
      ],
      "metadata": {
        "id": "FFR2LC2tDc7b"
      },
      "id": "FFR2LC2tDc7b",
      "execution_count": 5,
      "outputs": []
    },
    {
      "cell_type": "code",
      "execution_count": 6,
      "id": "74c3c463-8763-4cc0-9320-41c7eaad8ab7",
      "metadata": {
        "id": "74c3c463-8763-4cc0-9320-41c7eaad8ab7"
      },
      "outputs": [],
      "source": [
        "import torch\n",
        "import tiktoken\n",
        "\n",
        "\n",
        "tokenizer = tiktoken.get_encoding(\"gpt2\")\n",
        "train_dataset = SpamDataset(\"train.csv\", max_length=None, tokenizer=tokenizer)\n",
        "val_dataset = SpamDataset(\"validation.csv\", max_length=train_dataset.max_length, tokenizer=tokenizer)\n",
        "test_dataset = SpamDataset(\"test.csv\", max_length=train_dataset.max_length, tokenizer=tokenizer)"
      ]
    },
    {
      "cell_type": "code",
      "execution_count": 7,
      "id": "8681adc0-6f02-4e75-b01a-a6ab75d05542",
      "metadata": {
        "id": "8681adc0-6f02-4e75-b01a-a6ab75d05542"
      },
      "outputs": [],
      "source": [
        "from torch.utils.data import DataLoader\n",
        "\n",
        "\n",
        "num_workers = 0\n",
        "batch_size = 8\n",
        "\n",
        "torch.manual_seed(123)\n",
        "\n",
        "train_loader = DataLoader(\n",
        "    dataset=train_dataset,\n",
        "    batch_size=batch_size,\n",
        "    shuffle=True,\n",
        "    num_workers=num_workers,\n",
        "    drop_last=True,\n",
        ")\n",
        "\n",
        "val_loader = DataLoader(\n",
        "    dataset=val_dataset,\n",
        "    batch_size=batch_size,\n",
        "    num_workers=num_workers,\n",
        "    drop_last=False,\n",
        ")\n",
        "\n",
        "test_loader = DataLoader(\n",
        "    dataset=test_dataset,\n",
        "    batch_size=batch_size,\n",
        "    num_workers=num_workers,\n",
        "    drop_last=False,\n",
        ")"
      ]
    },
    {
      "cell_type": "markdown",
      "id": "ab7335db-e0bb-4e27-80c5-eea11e593a57",
      "metadata": {
        "id": "ab7335db-e0bb-4e27-80c5-eea11e593a57"
      },
      "source": [
        "- As a verification step, we iterate through the data loaders and check that the batches contain 8 training examples each, where each training example consists of 120 tokens"
      ]
    },
    {
      "cell_type": "code",
      "execution_count": 8,
      "id": "4dee6882-4c3a-4964-af15-fa31f86ad047",
      "metadata": {
        "colab": {
          "base_uri": "https://localhost:8080/"
        },
        "id": "4dee6882-4c3a-4964-af15-fa31f86ad047",
        "outputId": "c8704e6b-1ff2-4ae2-f892-56370b05e4aa"
      },
      "outputs": [
        {
          "output_type": "stream",
          "name": "stdout",
          "text": [
            "Train loader:\n",
            "Input batch dimensions: torch.Size([8, 120])\n",
            "Label batch dimensions torch.Size([8])\n"
          ]
        }
      ],
      "source": [
        "print(\"Train loader:\")\n",
        "for input_batch, target_batch in train_loader:\n",
        "    pass\n",
        "\n",
        "print(\"Input batch dimensions:\", input_batch.shape)\n",
        "print(\"Label batch dimensions\", target_batch.shape)"
      ]
    },
    {
      "cell_type": "markdown",
      "id": "5cdd7947-7039-49bf-8a5e-c0a2f4281ca1",
      "metadata": {
        "id": "5cdd7947-7039-49bf-8a5e-c0a2f4281ca1"
      },
      "source": [
        "- Lastly, let's print the total number of batches in each dataset"
      ]
    },
    {
      "cell_type": "code",
      "execution_count": 9,
      "id": "IZfw-TYD2zTj",
      "metadata": {
        "colab": {
          "base_uri": "https://localhost:8080/"
        },
        "id": "IZfw-TYD2zTj",
        "outputId": "6b1c0d7a-313d-461c-f659-a02208111d07"
      },
      "outputs": [
        {
          "output_type": "stream",
          "name": "stdout",
          "text": [
            "130 training batches\n",
            "19 validation batches\n",
            "38 test batches\n"
          ]
        }
      ],
      "source": [
        "print(f\"{len(train_loader)} training batches\")\n",
        "print(f\"{len(val_loader)} validation batches\")\n",
        "print(f\"{len(test_loader)} test batches\")"
      ]
    },
    {
      "cell_type": "markdown",
      "id": "dec9aa4a-ffd2-4d9f-a835-cce1059fe604",
      "metadata": {
        "id": "dec9aa4a-ffd2-4d9f-a835-cce1059fe604"
      },
      "source": [
        "## E.3 Initializing the model"
      ]
    },
    {
      "cell_type": "markdown",
      "id": "f36ebdaf-810e-46a2-9ad9-e017a04051b1",
      "metadata": {
        "id": "f36ebdaf-810e-46a2-9ad9-e017a04051b1"
      },
      "source": [
        "- This section repeats the code from chapter 6 to load and prepare the model"
      ]
    },
    {
      "cell_type": "code",
      "execution_count": 10,
      "id": "02b3a506-3879-4258-82b5-93a5b6bafa74",
      "metadata": {
        "colab": {
          "base_uri": "https://localhost:8080/"
        },
        "id": "02b3a506-3879-4258-82b5-93a5b6bafa74",
        "outputId": "17d9945f-2eb6-47aa-fad3-47c96536f28d"
      },
      "outputs": [
        {
          "output_type": "stream",
          "name": "stderr",
          "text": [
            "checkpoint: 100%|██████████| 77.0/77.0 [00:00<00:00, 119kiB/s]\n",
            "encoder.json: 100%|██████████| 1.04M/1.04M [00:00<00:00, 2.71MiB/s]\n",
            "hparams.json: 100%|██████████| 90.0/90.0 [00:00<00:00, 134kiB/s]\n",
            "model.ckpt.data-00000-of-00001: 100%|██████████| 498M/498M [00:44<00:00, 11.1MiB/s]\n",
            "model.ckpt.index: 100%|██████████| 5.21k/5.21k [00:00<00:00, 6.54MiB/s]\n",
            "model.ckpt.meta: 100%|██████████| 471k/471k [00:00<00:00, 1.38MiB/s]\n",
            "vocab.bpe: 100%|██████████| 456k/456k [00:00<00:00, 1.61MiB/s]\n"
          ]
        }
      ],
      "source": [
        "from GPTModel import GPTModel\n",
        "from load_weights import load_weights_into_gpt\n",
        "from gpt_download import download_and_load_gpt2\n",
        "\n",
        "\n",
        "CHOOSE_MODEL = \"gpt2-small (124M)\"\n",
        "INPUT_PROMPT = \"Every effort moves\"\n",
        "\n",
        "BASE_CONFIG = {\n",
        "    \"vocab_size\": 50257,     # Vocabulary size\n",
        "    \"context_length\": 1024,  # Context length\n",
        "    \"drop_rate\": 0.0,        # Dropout rate\n",
        "    \"qkv_bias\": True         # Query-key-value bias\n",
        "}\n",
        "\n",
        "model_configs = {\n",
        "    \"gpt2-small (124M)\": {\"emb_dim\": 768, \"n_layers\": 12, \"n_heads\": 12},\n",
        "    \"gpt2-medium (355M)\": {\"emb_dim\": 1024, \"n_layers\": 24, \"n_heads\": 16},\n",
        "    \"gpt2-large (774M)\": {\"emb_dim\": 1280, \"n_layers\": 36, \"n_heads\": 20},\n",
        "    \"gpt2-xl (1558M)\": {\"emb_dim\": 1600, \"n_layers\": 48, \"n_heads\": 25},\n",
        "}\n",
        "\n",
        "BASE_CONFIG.update(model_configs[CHOOSE_MODEL])\n",
        "\n",
        "model_size = CHOOSE_MODEL.split(\" \")[-1].lstrip(\"(\").rstrip(\")\")\n",
        "settings, params = download_and_load_gpt2(model_size=model_size, models_dir=\"gpt2\")\n",
        "\n",
        "model = GPTModel(**BASE_CONFIG)\n",
        "load_weights_into_gpt(model, params)\n",
        "model.eval();"
      ]
    },
    {
      "cell_type": "markdown",
      "id": "252614cd-7ce6-4908-83e6-3761f519904e",
      "metadata": {
        "id": "252614cd-7ce6-4908-83e6-3761f519904e"
      },
      "source": [
        "- To ensure that the model was loaded corrected, let's double-check that it generates coherent text"
      ]
    },
    {
      "cell_type": "code",
      "execution_count": 11,
      "id": "8b6ce20c-0700-4783-8be0-4cf17c200a7f",
      "metadata": {
        "colab": {
          "base_uri": "https://localhost:8080/"
        },
        "id": "8b6ce20c-0700-4783-8be0-4cf17c200a7f",
        "outputId": "154462bd-35f6-4ad8-e667-29cc3e297b86"
      },
      "outputs": [
        {
          "output_type": "stream",
          "name": "stdout",
          "text": [
            "Every effort moves you forward.\n",
            "\n",
            "The first step is to understand the importance of your work\n"
          ]
        }
      ],
      "source": [
        "from generate import generate_text_simple, text_to_token_ids, token_ids_to_text\n",
        "\n",
        "\n",
        "text_1 = \"Every effort moves you\"\n",
        "\n",
        "token_ids = generate_text_simple(\n",
        "    model=model,\n",
        "    idx=text_to_token_ids(text_1, tokenizer),\n",
        "    max_new_tokens=15,\n",
        "    context_size=BASE_CONFIG[\"context_length\"]\n",
        ")\n",
        "\n",
        "print(token_ids_to_text(token_ids, tokenizer))"
      ]
    },
    {
      "cell_type": "markdown",
      "id": "8174b31b-1ab5-4115-b01c-245369da5af3",
      "metadata": {
        "id": "8174b31b-1ab5-4115-b01c-245369da5af3"
      },
      "source": [
        "- Then, we prepare the model for classification finetuning similar to chapter 6, where we replace the output layer"
      ]
    },
    {
      "cell_type": "code",
      "execution_count": 12,
      "id": "e255ce91-d73a-4854-90a4-95804928eb16",
      "metadata": {
        "id": "e255ce91-d73a-4854-90a4-95804928eb16"
      },
      "outputs": [],
      "source": [
        "torch.manual_seed(123)\n",
        "\n",
        "num_classes = 2\n",
        "model.out_head = torch.nn.Linear(in_features=768, out_features=num_classes)"
      ]
    },
    {
      "cell_type": "code",
      "execution_count": 13,
      "id": "02e6f057-1383-4ece-8444-0a88e71ac75d",
      "metadata": {
        "id": "02e6f057-1383-4ece-8444-0a88e71ac75d"
      },
      "outputs": [],
      "source": [
        "device = torch.device(\"cuda\" if torch.cuda.is_available() else \"cpu\")\n",
        "\n",
        "# Note:\n",
        "# Uncommenting the following lines will allow the code to run on Apple Silicon chips, if applicable,\n",
        "# which is approximately 1.2x faster than on an Apple CPU (as measured on an M3 MacBook Air).\n",
        "# However, the resulting loss values may be slightly different.\n",
        "\n",
        "#if torch.cuda.is_available():\n",
        "#    device = torch.device(\"cuda\")\n",
        "#elif torch.backends.mps.is_available():\n",
        "#    device = torch.device(\"mps\")\n",
        "#else:\n",
        "#    device = torch.device(\"cpu\")\n",
        "#\n",
        "# print(f\"Using {device} device.\")\n",
        "\n",
        "model.to(device);  # no assignment model = model.to(device) necessary for nn.Module classes"
      ]
    },
    {
      "cell_type": "markdown",
      "id": "8e951cd6-5e42-44d2-b21f-895cb61004fe",
      "metadata": {
        "id": "8e951cd6-5e42-44d2-b21f-895cb61004fe"
      },
      "source": [
        "- Lastly, let's calculate the initial classification accuracy of the non-finetuned model (we expect this to be around 50%, which means that the model is not able to distinguish between spam and non-spam messages yet reliably)"
      ]
    },
    {
      "cell_type": "code",
      "source": [
        "@torch.no_grad()  # Disable gradient tracking for efficiency\n",
        "def calc_accuracy_loader(data_loader, model, device, num_batches=None):\n",
        "    model.eval()\n",
        "    correct_predictions, num_examples = 0, 0\n",
        "\n",
        "    if num_batches is None:\n",
        "        num_batches = len(data_loader)\n",
        "    else:\n",
        "        num_batches = min(num_batches, len(data_loader))\n",
        "    for i, (input_batch, target_batch) in enumerate(data_loader):\n",
        "        if i < num_batches:\n",
        "            input_batch, target_batch = input_batch.to(device), target_batch.to(device)\n",
        "            logits = model(input_batch)[:, -1, :]  # Logits of last output token\n",
        "            predicted_labels = torch.argmax(logits, dim=-1)\n",
        "\n",
        "            num_examples += predicted_labels.shape[0]\n",
        "            correct_predictions += (predicted_labels == target_batch).sum().item()\n",
        "        else:\n",
        "            break\n",
        "    return correct_predictions / num_examples"
      ],
      "metadata": {
        "id": "ft9PwEZVG8jR"
      },
      "id": "ft9PwEZVG8jR",
      "execution_count": 14,
      "outputs": []
    },
    {
      "cell_type": "code",
      "execution_count": 15,
      "id": "fc7dd72c-73a2-4881-ade0-0a9605f1ab8c",
      "metadata": {
        "colab": {
          "base_uri": "https://localhost:8080/"
        },
        "id": "fc7dd72c-73a2-4881-ade0-0a9605f1ab8c",
        "outputId": "b2601e13-5f47-498e-c54f-5e965ebe78c3"
      },
      "outputs": [
        {
          "output_type": "stream",
          "name": "stdout",
          "text": [
            "Training accuracy: 46.25%\n",
            "Validation accuracy: 45.00%\n",
            "Test accuracy: 48.75%\n"
          ]
        }
      ],
      "source": [
        "torch.manual_seed(123)\n",
        "train_accuracy = calc_accuracy_loader(train_loader, model, device, num_batches=10)\n",
        "val_accuracy = calc_accuracy_loader(val_loader, model, device, num_batches=10)\n",
        "test_accuracy = calc_accuracy_loader(test_loader, model, device, num_batches=10)\n",
        "\n",
        "print(f\"Training accuracy: {train_accuracy*100:.2f}%\")\n",
        "print(f\"Validation accuracy: {val_accuracy*100:.2f}%\")\n",
        "print(f\"Test accuracy: {test_accuracy*100:.2f}%\")"
      ]
    },
    {
      "cell_type": "markdown",
      "id": "398a1ec9-e2a1-43d6-bf9f-12ee54b46a7b",
      "metadata": {
        "id": "398a1ec9-e2a1-43d6-bf9f-12ee54b46a7b"
      },
      "source": [
        "## E.4 Parameter-efficient finetuning with LoRA"
      ]
    },
    {
      "cell_type": "markdown",
      "id": "652a4a82-61ef-4d0a-9858-8988e844f12c",
      "metadata": {
        "id": "652a4a82-61ef-4d0a-9858-8988e844f12c"
      },
      "source": [
        "- We begin by initializing a LoRALayer that creates the matrices $A$ and $B$, along with the `alpha` scaling hyperparameter and the `rank` ($r$) hyperparameters\n",
        "- This layer can accept an input and compute the corresponding output, as illustrated in the figure below\n",
        "\n",
        "<img src=\"https://sebastianraschka.com/images/LLMs-from-scratch-images/appendix-e_compressed/lora-2.webp\" width=\"200px\">\n",
        "\n",
        "In code, this LoRA layer depicted in the figure above looks like as follows"
      ]
    },
    {
      "cell_type": "code",
      "execution_count": 16,
      "id": "2ds9ywjMwvIW",
      "metadata": {
        "id": "2ds9ywjMwvIW"
      },
      "outputs": [],
      "source": [
        "import math\n",
        "\n",
        "\n",
        "class LoRALayer(torch.nn.Module):\n",
        "    def __init__(self, in_dim, out_dim, rank, alpha):\n",
        "        super().__init__()\n",
        "        self.A = torch.nn.Parameter(torch.empty(in_dim, rank))\n",
        "        torch.nn.init.kaiming_uniform_(self.A, a=math.sqrt(5))  # similar to standard weight initialization\n",
        "        self.B = torch.nn.Parameter(torch.zeros(rank, out_dim))\n",
        "        self.alpha = alpha\n",
        "\n",
        "    def forward(self, x):\n",
        "        x = self.alpha * (x @ self.A @ self.B)\n",
        "        return x"
      ]
    },
    {
      "cell_type": "markdown",
      "id": "ad21faa8-0614-4257-93cd-68952193e14a",
      "metadata": {
        "id": "ad21faa8-0614-4257-93cd-68952193e14a"
      },
      "source": [
        "- In the code above, `rank` is a hyperparameter that controls the inner dimension of the matrices $A$ and $B$\n",
        "- In other words, this parameter controls the number of additional parameters introduced by LoRA and is a key factor in determining the balance between model adaptability and parameter efficiency\n",
        "- The second hyperparameter, `alpha`, is a scaling hyperparameter applied to the output of the low-rank adaptation\n",
        "- It essentially controls the extent to which the adapted layer's output is allowed to influence the original output of the layer being adapted\n",
        "- This can be seen as a way to regulate the impact of the low-rank adaptation on the layer's output\n",
        "- So far, the `LoRALayer` class we implemented above allows us to transform the layer inputs $x$\n",
        "- However, in LoRA, we are usually interested in replacing existing `Linear` layers so that the weight update is applied to the existing pretrained weights, as shown in the figure below\n",
        "\n",
        "<img src=\"https://sebastianraschka.com/images/LLMs-from-scratch-images/appendix-e_compressed/lora-3.webp\" width=\"200px\">"
      ]
    },
    {
      "cell_type": "markdown",
      "id": "3e6d5da0-dfce-4808-b89b-29ff333f563f",
      "metadata": {
        "id": "3e6d5da0-dfce-4808-b89b-29ff333f563f"
      },
      "source": [
        "- To incorporate the original `Linear` layer weights as shown in the figure above, we implement a `LinearWithLoRA` layer below that uses the previously implemented LoRALayer and can be used to replace existing `Linear` layers in a neural network, for example, the self-attention module or feed forward modules in an LLM"
      ]
    },
    {
      "cell_type": "code",
      "execution_count": 17,
      "id": "127d3a64-8359-4b21-b056-78d58cc75fe8",
      "metadata": {
        "id": "127d3a64-8359-4b21-b056-78d58cc75fe8"
      },
      "outputs": [],
      "source": [
        "class LinearWithLoRA(torch.nn.Module):\n",
        "    def __init__(self, linear, rank, alpha):\n",
        "        super().__init__()\n",
        "        self.linear = linear\n",
        "        self.lora = LoRALayer(\n",
        "            linear.in_features, linear.out_features, rank, alpha\n",
        "        )\n",
        "\n",
        "    def forward(self, x):\n",
        "        return self.linear(x) + self.lora(x)"
      ]
    },
    {
      "cell_type": "markdown",
      "id": "e1145a90-35ff-462c-820b-15483fa5b051",
      "metadata": {
        "id": "e1145a90-35ff-462c-820b-15483fa5b051"
      },
      "source": [
        "- Note that since we initialize the weight matrix $B$ (`self.B` in `LoRALayer`) with zero values in the LoRA layer, the matrix multiplication between $A$ and $B$ results in a matrix consisting of 0's and doesn't affect the original weights (since adding 0 to the original weights does not modify them)"
      ]
    },
    {
      "cell_type": "markdown",
      "id": "e98a6d36-7bc9-434c-a7f1-533f26aff06d",
      "metadata": {
        "id": "e98a6d36-7bc9-434c-a7f1-533f26aff06d"
      },
      "source": [
        "- To try LoRA on the GPT model we defined earlier, we define a `replace_linear_with_lora` function to replace all `Linear` layers in the model with the new `LinearWithLoRA` layers\n",
        "\n",
        "<img src=\"https://sebastianraschka.com/images/LLMs-from-scratch-images/appendix-e_compressed/lora-4.webp\" width=\"400px\">"
      ]
    },
    {
      "cell_type": "code",
      "execution_count": 18,
      "id": "WlQZ8ygqzN_g",
      "metadata": {
        "id": "WlQZ8ygqzN_g"
      },
      "outputs": [],
      "source": [
        "def replace_linear_with_lora(model, rank, alpha):\n",
        "    for name, module in model.named_children():\n",
        "        if isinstance(module, torch.nn.Linear):\n",
        "            # Replace the Linear layer with LinearWithLoRA\n",
        "            setattr(model, name, LinearWithLoRA(module, rank, alpha))\n",
        "        else:\n",
        "            # Recursively apply the same function to child modules\n",
        "            replace_linear_with_lora(module, rank, alpha)"
      ]
    },
    {
      "cell_type": "markdown",
      "id": "8c172164-cdde-4489-b7d7-aaed9cc2f5f2",
      "metadata": {
        "id": "8c172164-cdde-4489-b7d7-aaed9cc2f5f2"
      },
      "source": [
        "- We then freeze the original model parameter and use the `replace_linear_with_lora` to replace the said `Linear` layers using the code below\n",
        "- This will replace the `Linear` layers in the LLM with `LinearWithLoRA` layers"
      ]
    },
    {
      "cell_type": "code",
      "execution_count": 19,
      "id": "dbe15350-4da9-4829-9d23-98bbd3d0b1a1",
      "metadata": {
        "colab": {
          "base_uri": "https://localhost:8080/"
        },
        "id": "dbe15350-4da9-4829-9d23-98bbd3d0b1a1",
        "outputId": "b595fbf2-8334-4153-cd96-7b9489ed3209"
      },
      "outputs": [
        {
          "output_type": "stream",
          "name": "stdout",
          "text": [
            "Total trainable parameters before: 124,441,346\n",
            "Total trainable parameters after: 0\n"
          ]
        }
      ],
      "source": [
        "total_params = sum(p.numel() for p in model.parameters() if p.requires_grad)\n",
        "print(f\"Total trainable parameters before: {total_params:,}\")\n",
        "\n",
        "for param in model.parameters():\n",
        "    param.requires_grad = False\n",
        "\n",
        "total_params = sum(p.numel() for p in model.parameters() if p.requires_grad)\n",
        "print(f\"Total trainable parameters after: {total_params:,}\")"
      ]
    },
    {
      "cell_type": "code",
      "execution_count": 20,
      "id": "mLk_fPq0yz_u",
      "metadata": {
        "colab": {
          "base_uri": "https://localhost:8080/"
        },
        "id": "mLk_fPq0yz_u",
        "outputId": "d630299f-b17c-4828-c038-1131baa39424"
      },
      "outputs": [
        {
          "output_type": "stream",
          "name": "stdout",
          "text": [
            "Total trainable LoRA parameters: 2,666,528\n"
          ]
        }
      ],
      "source": [
        "replace_linear_with_lora(model, rank=16, alpha=16)\n",
        "\n",
        "total_params = sum(p.numel() for p in model.parameters() if p.requires_grad)\n",
        "print(f\"Total trainable LoRA parameters: {total_params:,}\")"
      ]
    },
    {
      "cell_type": "markdown",
      "id": "b8b6819e-ef7a-4f0d-841a-1b467496bef9",
      "metadata": {
        "id": "b8b6819e-ef7a-4f0d-841a-1b467496bef9"
      },
      "source": [
        "- As we can see, we reduced the number of trainable parameters by almost 50x when using LoRA\n",
        "- Let's now double-check whether the layers have been modified as intended by printing the model architecture"
      ]
    },
    {
      "cell_type": "code",
      "execution_count": 21,
      "id": "1711be61-bb2c-466f-9b5b-24f4aa5ccd9c",
      "metadata": {
        "colab": {
          "base_uri": "https://localhost:8080/"
        },
        "id": "1711be61-bb2c-466f-9b5b-24f4aa5ccd9c",
        "outputId": "fc40712d-5268-425f-e73c-df9d29b3873e"
      },
      "outputs": [
        {
          "output_type": "stream",
          "name": "stdout",
          "text": [
            "GPTModel(\n",
            "  (tok_emb): Embedding(50257, 768)\n",
            "  (pos_emb): Embedding(1024, 768)\n",
            "  (drop_emb): Dropout(p=0.0, inplace=False)\n",
            "  (trf_blocks): Sequential(\n",
            "    (0): TransformerBlock(\n",
            "      (layers): ModuleList(\n",
            "        (0): Sequential(\n",
            "          (0): LayerNorm()\n",
            "          (1): MultiHeadAttention(\n",
            "            (W_query): LinearWithLoRA(\n",
            "              (linear): Linear(in_features=768, out_features=768, bias=True)\n",
            "              (lora): LoRALayer()\n",
            "            )\n",
            "            (W_key): LinearWithLoRA(\n",
            "              (linear): Linear(in_features=768, out_features=768, bias=True)\n",
            "              (lora): LoRALayer()\n",
            "            )\n",
            "            (W_value): LinearWithLoRA(\n",
            "              (linear): Linear(in_features=768, out_features=768, bias=True)\n",
            "              (lora): LoRALayer()\n",
            "            )\n",
            "            (out_proj): LinearWithLoRA(\n",
            "              (linear): Linear(in_features=768, out_features=768, bias=True)\n",
            "              (lora): LoRALayer()\n",
            "            )\n",
            "            (dropout): Dropout(p=0.0, inplace=False)\n",
            "          )\n",
            "          (2): Dropout(p=0.0, inplace=False)\n",
            "        )\n",
            "        (1): Sequential(\n",
            "          (0): LayerNorm()\n",
            "          (1): FeedForward(\n",
            "            (layers): Sequential(\n",
            "              (0): LinearWithLoRA(\n",
            "                (linear): Linear(in_features=768, out_features=3072, bias=True)\n",
            "                (lora): LoRALayer()\n",
            "              )\n",
            "              (1): GELU()\n",
            "              (2): LinearWithLoRA(\n",
            "                (linear): Linear(in_features=3072, out_features=768, bias=True)\n",
            "                (lora): LoRALayer()\n",
            "              )\n",
            "            )\n",
            "          )\n",
            "          (2): Dropout(p=0.0, inplace=False)\n",
            "        )\n",
            "      )\n",
            "    )\n",
            "    (1): TransformerBlock(\n",
            "      (layers): ModuleList(\n",
            "        (0): Sequential(\n",
            "          (0): LayerNorm()\n",
            "          (1): MultiHeadAttention(\n",
            "            (W_query): LinearWithLoRA(\n",
            "              (linear): Linear(in_features=768, out_features=768, bias=True)\n",
            "              (lora): LoRALayer()\n",
            "            )\n",
            "            (W_key): LinearWithLoRA(\n",
            "              (linear): Linear(in_features=768, out_features=768, bias=True)\n",
            "              (lora): LoRALayer()\n",
            "            )\n",
            "            (W_value): LinearWithLoRA(\n",
            "              (linear): Linear(in_features=768, out_features=768, bias=True)\n",
            "              (lora): LoRALayer()\n",
            "            )\n",
            "            (out_proj): LinearWithLoRA(\n",
            "              (linear): Linear(in_features=768, out_features=768, bias=True)\n",
            "              (lora): LoRALayer()\n",
            "            )\n",
            "            (dropout): Dropout(p=0.0, inplace=False)\n",
            "          )\n",
            "          (2): Dropout(p=0.0, inplace=False)\n",
            "        )\n",
            "        (1): Sequential(\n",
            "          (0): LayerNorm()\n",
            "          (1): FeedForward(\n",
            "            (layers): Sequential(\n",
            "              (0): LinearWithLoRA(\n",
            "                (linear): Linear(in_features=768, out_features=3072, bias=True)\n",
            "                (lora): LoRALayer()\n",
            "              )\n",
            "              (1): GELU()\n",
            "              (2): LinearWithLoRA(\n",
            "                (linear): Linear(in_features=3072, out_features=768, bias=True)\n",
            "                (lora): LoRALayer()\n",
            "              )\n",
            "            )\n",
            "          )\n",
            "          (2): Dropout(p=0.0, inplace=False)\n",
            "        )\n",
            "      )\n",
            "    )\n",
            "    (2): TransformerBlock(\n",
            "      (layers): ModuleList(\n",
            "        (0): Sequential(\n",
            "          (0): LayerNorm()\n",
            "          (1): MultiHeadAttention(\n",
            "            (W_query): LinearWithLoRA(\n",
            "              (linear): Linear(in_features=768, out_features=768, bias=True)\n",
            "              (lora): LoRALayer()\n",
            "            )\n",
            "            (W_key): LinearWithLoRA(\n",
            "              (linear): Linear(in_features=768, out_features=768, bias=True)\n",
            "              (lora): LoRALayer()\n",
            "            )\n",
            "            (W_value): LinearWithLoRA(\n",
            "              (linear): Linear(in_features=768, out_features=768, bias=True)\n",
            "              (lora): LoRALayer()\n",
            "            )\n",
            "            (out_proj): LinearWithLoRA(\n",
            "              (linear): Linear(in_features=768, out_features=768, bias=True)\n",
            "              (lora): LoRALayer()\n",
            "            )\n",
            "            (dropout): Dropout(p=0.0, inplace=False)\n",
            "          )\n",
            "          (2): Dropout(p=0.0, inplace=False)\n",
            "        )\n",
            "        (1): Sequential(\n",
            "          (0): LayerNorm()\n",
            "          (1): FeedForward(\n",
            "            (layers): Sequential(\n",
            "              (0): LinearWithLoRA(\n",
            "                (linear): Linear(in_features=768, out_features=3072, bias=True)\n",
            "                (lora): LoRALayer()\n",
            "              )\n",
            "              (1): GELU()\n",
            "              (2): LinearWithLoRA(\n",
            "                (linear): Linear(in_features=3072, out_features=768, bias=True)\n",
            "                (lora): LoRALayer()\n",
            "              )\n",
            "            )\n",
            "          )\n",
            "          (2): Dropout(p=0.0, inplace=False)\n",
            "        )\n",
            "      )\n",
            "    )\n",
            "    (3): TransformerBlock(\n",
            "      (layers): ModuleList(\n",
            "        (0): Sequential(\n",
            "          (0): LayerNorm()\n",
            "          (1): MultiHeadAttention(\n",
            "            (W_query): LinearWithLoRA(\n",
            "              (linear): Linear(in_features=768, out_features=768, bias=True)\n",
            "              (lora): LoRALayer()\n",
            "            )\n",
            "            (W_key): LinearWithLoRA(\n",
            "              (linear): Linear(in_features=768, out_features=768, bias=True)\n",
            "              (lora): LoRALayer()\n",
            "            )\n",
            "            (W_value): LinearWithLoRA(\n",
            "              (linear): Linear(in_features=768, out_features=768, bias=True)\n",
            "              (lora): LoRALayer()\n",
            "            )\n",
            "            (out_proj): LinearWithLoRA(\n",
            "              (linear): Linear(in_features=768, out_features=768, bias=True)\n",
            "              (lora): LoRALayer()\n",
            "            )\n",
            "            (dropout): Dropout(p=0.0, inplace=False)\n",
            "          )\n",
            "          (2): Dropout(p=0.0, inplace=False)\n",
            "        )\n",
            "        (1): Sequential(\n",
            "          (0): LayerNorm()\n",
            "          (1): FeedForward(\n",
            "            (layers): Sequential(\n",
            "              (0): LinearWithLoRA(\n",
            "                (linear): Linear(in_features=768, out_features=3072, bias=True)\n",
            "                (lora): LoRALayer()\n",
            "              )\n",
            "              (1): GELU()\n",
            "              (2): LinearWithLoRA(\n",
            "                (linear): Linear(in_features=3072, out_features=768, bias=True)\n",
            "                (lora): LoRALayer()\n",
            "              )\n",
            "            )\n",
            "          )\n",
            "          (2): Dropout(p=0.0, inplace=False)\n",
            "        )\n",
            "      )\n",
            "    )\n",
            "    (4): TransformerBlock(\n",
            "      (layers): ModuleList(\n",
            "        (0): Sequential(\n",
            "          (0): LayerNorm()\n",
            "          (1): MultiHeadAttention(\n",
            "            (W_query): LinearWithLoRA(\n",
            "              (linear): Linear(in_features=768, out_features=768, bias=True)\n",
            "              (lora): LoRALayer()\n",
            "            )\n",
            "            (W_key): LinearWithLoRA(\n",
            "              (linear): Linear(in_features=768, out_features=768, bias=True)\n",
            "              (lora): LoRALayer()\n",
            "            )\n",
            "            (W_value): LinearWithLoRA(\n",
            "              (linear): Linear(in_features=768, out_features=768, bias=True)\n",
            "              (lora): LoRALayer()\n",
            "            )\n",
            "            (out_proj): LinearWithLoRA(\n",
            "              (linear): Linear(in_features=768, out_features=768, bias=True)\n",
            "              (lora): LoRALayer()\n",
            "            )\n",
            "            (dropout): Dropout(p=0.0, inplace=False)\n",
            "          )\n",
            "          (2): Dropout(p=0.0, inplace=False)\n",
            "        )\n",
            "        (1): Sequential(\n",
            "          (0): LayerNorm()\n",
            "          (1): FeedForward(\n",
            "            (layers): Sequential(\n",
            "              (0): LinearWithLoRA(\n",
            "                (linear): Linear(in_features=768, out_features=3072, bias=True)\n",
            "                (lora): LoRALayer()\n",
            "              )\n",
            "              (1): GELU()\n",
            "              (2): LinearWithLoRA(\n",
            "                (linear): Linear(in_features=3072, out_features=768, bias=True)\n",
            "                (lora): LoRALayer()\n",
            "              )\n",
            "            )\n",
            "          )\n",
            "          (2): Dropout(p=0.0, inplace=False)\n",
            "        )\n",
            "      )\n",
            "    )\n",
            "    (5): TransformerBlock(\n",
            "      (layers): ModuleList(\n",
            "        (0): Sequential(\n",
            "          (0): LayerNorm()\n",
            "          (1): MultiHeadAttention(\n",
            "            (W_query): LinearWithLoRA(\n",
            "              (linear): Linear(in_features=768, out_features=768, bias=True)\n",
            "              (lora): LoRALayer()\n",
            "            )\n",
            "            (W_key): LinearWithLoRA(\n",
            "              (linear): Linear(in_features=768, out_features=768, bias=True)\n",
            "              (lora): LoRALayer()\n",
            "            )\n",
            "            (W_value): LinearWithLoRA(\n",
            "              (linear): Linear(in_features=768, out_features=768, bias=True)\n",
            "              (lora): LoRALayer()\n",
            "            )\n",
            "            (out_proj): LinearWithLoRA(\n",
            "              (linear): Linear(in_features=768, out_features=768, bias=True)\n",
            "              (lora): LoRALayer()\n",
            "            )\n",
            "            (dropout): Dropout(p=0.0, inplace=False)\n",
            "          )\n",
            "          (2): Dropout(p=0.0, inplace=False)\n",
            "        )\n",
            "        (1): Sequential(\n",
            "          (0): LayerNorm()\n",
            "          (1): FeedForward(\n",
            "            (layers): Sequential(\n",
            "              (0): LinearWithLoRA(\n",
            "                (linear): Linear(in_features=768, out_features=3072, bias=True)\n",
            "                (lora): LoRALayer()\n",
            "              )\n",
            "              (1): GELU()\n",
            "              (2): LinearWithLoRA(\n",
            "                (linear): Linear(in_features=3072, out_features=768, bias=True)\n",
            "                (lora): LoRALayer()\n",
            "              )\n",
            "            )\n",
            "          )\n",
            "          (2): Dropout(p=0.0, inplace=False)\n",
            "        )\n",
            "      )\n",
            "    )\n",
            "    (6): TransformerBlock(\n",
            "      (layers): ModuleList(\n",
            "        (0): Sequential(\n",
            "          (0): LayerNorm()\n",
            "          (1): MultiHeadAttention(\n",
            "            (W_query): LinearWithLoRA(\n",
            "              (linear): Linear(in_features=768, out_features=768, bias=True)\n",
            "              (lora): LoRALayer()\n",
            "            )\n",
            "            (W_key): LinearWithLoRA(\n",
            "              (linear): Linear(in_features=768, out_features=768, bias=True)\n",
            "              (lora): LoRALayer()\n",
            "            )\n",
            "            (W_value): LinearWithLoRA(\n",
            "              (linear): Linear(in_features=768, out_features=768, bias=True)\n",
            "              (lora): LoRALayer()\n",
            "            )\n",
            "            (out_proj): LinearWithLoRA(\n",
            "              (linear): Linear(in_features=768, out_features=768, bias=True)\n",
            "              (lora): LoRALayer()\n",
            "            )\n",
            "            (dropout): Dropout(p=0.0, inplace=False)\n",
            "          )\n",
            "          (2): Dropout(p=0.0, inplace=False)\n",
            "        )\n",
            "        (1): Sequential(\n",
            "          (0): LayerNorm()\n",
            "          (1): FeedForward(\n",
            "            (layers): Sequential(\n",
            "              (0): LinearWithLoRA(\n",
            "                (linear): Linear(in_features=768, out_features=3072, bias=True)\n",
            "                (lora): LoRALayer()\n",
            "              )\n",
            "              (1): GELU()\n",
            "              (2): LinearWithLoRA(\n",
            "                (linear): Linear(in_features=3072, out_features=768, bias=True)\n",
            "                (lora): LoRALayer()\n",
            "              )\n",
            "            )\n",
            "          )\n",
            "          (2): Dropout(p=0.0, inplace=False)\n",
            "        )\n",
            "      )\n",
            "    )\n",
            "    (7): TransformerBlock(\n",
            "      (layers): ModuleList(\n",
            "        (0): Sequential(\n",
            "          (0): LayerNorm()\n",
            "          (1): MultiHeadAttention(\n",
            "            (W_query): LinearWithLoRA(\n",
            "              (linear): Linear(in_features=768, out_features=768, bias=True)\n",
            "              (lora): LoRALayer()\n",
            "            )\n",
            "            (W_key): LinearWithLoRA(\n",
            "              (linear): Linear(in_features=768, out_features=768, bias=True)\n",
            "              (lora): LoRALayer()\n",
            "            )\n",
            "            (W_value): LinearWithLoRA(\n",
            "              (linear): Linear(in_features=768, out_features=768, bias=True)\n",
            "              (lora): LoRALayer()\n",
            "            )\n",
            "            (out_proj): LinearWithLoRA(\n",
            "              (linear): Linear(in_features=768, out_features=768, bias=True)\n",
            "              (lora): LoRALayer()\n",
            "            )\n",
            "            (dropout): Dropout(p=0.0, inplace=False)\n",
            "          )\n",
            "          (2): Dropout(p=0.0, inplace=False)\n",
            "        )\n",
            "        (1): Sequential(\n",
            "          (0): LayerNorm()\n",
            "          (1): FeedForward(\n",
            "            (layers): Sequential(\n",
            "              (0): LinearWithLoRA(\n",
            "                (linear): Linear(in_features=768, out_features=3072, bias=True)\n",
            "                (lora): LoRALayer()\n",
            "              )\n",
            "              (1): GELU()\n",
            "              (2): LinearWithLoRA(\n",
            "                (linear): Linear(in_features=3072, out_features=768, bias=True)\n",
            "                (lora): LoRALayer()\n",
            "              )\n",
            "            )\n",
            "          )\n",
            "          (2): Dropout(p=0.0, inplace=False)\n",
            "        )\n",
            "      )\n",
            "    )\n",
            "    (8): TransformerBlock(\n",
            "      (layers): ModuleList(\n",
            "        (0): Sequential(\n",
            "          (0): LayerNorm()\n",
            "          (1): MultiHeadAttention(\n",
            "            (W_query): LinearWithLoRA(\n",
            "              (linear): Linear(in_features=768, out_features=768, bias=True)\n",
            "              (lora): LoRALayer()\n",
            "            )\n",
            "            (W_key): LinearWithLoRA(\n",
            "              (linear): Linear(in_features=768, out_features=768, bias=True)\n",
            "              (lora): LoRALayer()\n",
            "            )\n",
            "            (W_value): LinearWithLoRA(\n",
            "              (linear): Linear(in_features=768, out_features=768, bias=True)\n",
            "              (lora): LoRALayer()\n",
            "            )\n",
            "            (out_proj): LinearWithLoRA(\n",
            "              (linear): Linear(in_features=768, out_features=768, bias=True)\n",
            "              (lora): LoRALayer()\n",
            "            )\n",
            "            (dropout): Dropout(p=0.0, inplace=False)\n",
            "          )\n",
            "          (2): Dropout(p=0.0, inplace=False)\n",
            "        )\n",
            "        (1): Sequential(\n",
            "          (0): LayerNorm()\n",
            "          (1): FeedForward(\n",
            "            (layers): Sequential(\n",
            "              (0): LinearWithLoRA(\n",
            "                (linear): Linear(in_features=768, out_features=3072, bias=True)\n",
            "                (lora): LoRALayer()\n",
            "              )\n",
            "              (1): GELU()\n",
            "              (2): LinearWithLoRA(\n",
            "                (linear): Linear(in_features=3072, out_features=768, bias=True)\n",
            "                (lora): LoRALayer()\n",
            "              )\n",
            "            )\n",
            "          )\n",
            "          (2): Dropout(p=0.0, inplace=False)\n",
            "        )\n",
            "      )\n",
            "    )\n",
            "    (9): TransformerBlock(\n",
            "      (layers): ModuleList(\n",
            "        (0): Sequential(\n",
            "          (0): LayerNorm()\n",
            "          (1): MultiHeadAttention(\n",
            "            (W_query): LinearWithLoRA(\n",
            "              (linear): Linear(in_features=768, out_features=768, bias=True)\n",
            "              (lora): LoRALayer()\n",
            "            )\n",
            "            (W_key): LinearWithLoRA(\n",
            "              (linear): Linear(in_features=768, out_features=768, bias=True)\n",
            "              (lora): LoRALayer()\n",
            "            )\n",
            "            (W_value): LinearWithLoRA(\n",
            "              (linear): Linear(in_features=768, out_features=768, bias=True)\n",
            "              (lora): LoRALayer()\n",
            "            )\n",
            "            (out_proj): LinearWithLoRA(\n",
            "              (linear): Linear(in_features=768, out_features=768, bias=True)\n",
            "              (lora): LoRALayer()\n",
            "            )\n",
            "            (dropout): Dropout(p=0.0, inplace=False)\n",
            "          )\n",
            "          (2): Dropout(p=0.0, inplace=False)\n",
            "        )\n",
            "        (1): Sequential(\n",
            "          (0): LayerNorm()\n",
            "          (1): FeedForward(\n",
            "            (layers): Sequential(\n",
            "              (0): LinearWithLoRA(\n",
            "                (linear): Linear(in_features=768, out_features=3072, bias=True)\n",
            "                (lora): LoRALayer()\n",
            "              )\n",
            "              (1): GELU()\n",
            "              (2): LinearWithLoRA(\n",
            "                (linear): Linear(in_features=3072, out_features=768, bias=True)\n",
            "                (lora): LoRALayer()\n",
            "              )\n",
            "            )\n",
            "          )\n",
            "          (2): Dropout(p=0.0, inplace=False)\n",
            "        )\n",
            "      )\n",
            "    )\n",
            "    (10): TransformerBlock(\n",
            "      (layers): ModuleList(\n",
            "        (0): Sequential(\n",
            "          (0): LayerNorm()\n",
            "          (1): MultiHeadAttention(\n",
            "            (W_query): LinearWithLoRA(\n",
            "              (linear): Linear(in_features=768, out_features=768, bias=True)\n",
            "              (lora): LoRALayer()\n",
            "            )\n",
            "            (W_key): LinearWithLoRA(\n",
            "              (linear): Linear(in_features=768, out_features=768, bias=True)\n",
            "              (lora): LoRALayer()\n",
            "            )\n",
            "            (W_value): LinearWithLoRA(\n",
            "              (linear): Linear(in_features=768, out_features=768, bias=True)\n",
            "              (lora): LoRALayer()\n",
            "            )\n",
            "            (out_proj): LinearWithLoRA(\n",
            "              (linear): Linear(in_features=768, out_features=768, bias=True)\n",
            "              (lora): LoRALayer()\n",
            "            )\n",
            "            (dropout): Dropout(p=0.0, inplace=False)\n",
            "          )\n",
            "          (2): Dropout(p=0.0, inplace=False)\n",
            "        )\n",
            "        (1): Sequential(\n",
            "          (0): LayerNorm()\n",
            "          (1): FeedForward(\n",
            "            (layers): Sequential(\n",
            "              (0): LinearWithLoRA(\n",
            "                (linear): Linear(in_features=768, out_features=3072, bias=True)\n",
            "                (lora): LoRALayer()\n",
            "              )\n",
            "              (1): GELU()\n",
            "              (2): LinearWithLoRA(\n",
            "                (linear): Linear(in_features=3072, out_features=768, bias=True)\n",
            "                (lora): LoRALayer()\n",
            "              )\n",
            "            )\n",
            "          )\n",
            "          (2): Dropout(p=0.0, inplace=False)\n",
            "        )\n",
            "      )\n",
            "    )\n",
            "    (11): TransformerBlock(\n",
            "      (layers): ModuleList(\n",
            "        (0): Sequential(\n",
            "          (0): LayerNorm()\n",
            "          (1): MultiHeadAttention(\n",
            "            (W_query): LinearWithLoRA(\n",
            "              (linear): Linear(in_features=768, out_features=768, bias=True)\n",
            "              (lora): LoRALayer()\n",
            "            )\n",
            "            (W_key): LinearWithLoRA(\n",
            "              (linear): Linear(in_features=768, out_features=768, bias=True)\n",
            "              (lora): LoRALayer()\n",
            "            )\n",
            "            (W_value): LinearWithLoRA(\n",
            "              (linear): Linear(in_features=768, out_features=768, bias=True)\n",
            "              (lora): LoRALayer()\n",
            "            )\n",
            "            (out_proj): LinearWithLoRA(\n",
            "              (linear): Linear(in_features=768, out_features=768, bias=True)\n",
            "              (lora): LoRALayer()\n",
            "            )\n",
            "            (dropout): Dropout(p=0.0, inplace=False)\n",
            "          )\n",
            "          (2): Dropout(p=0.0, inplace=False)\n",
            "        )\n",
            "        (1): Sequential(\n",
            "          (0): LayerNorm()\n",
            "          (1): FeedForward(\n",
            "            (layers): Sequential(\n",
            "              (0): LinearWithLoRA(\n",
            "                (linear): Linear(in_features=768, out_features=3072, bias=True)\n",
            "                (lora): LoRALayer()\n",
            "              )\n",
            "              (1): GELU()\n",
            "              (2): LinearWithLoRA(\n",
            "                (linear): Linear(in_features=3072, out_features=768, bias=True)\n",
            "                (lora): LoRALayer()\n",
            "              )\n",
            "            )\n",
            "          )\n",
            "          (2): Dropout(p=0.0, inplace=False)\n",
            "        )\n",
            "      )\n",
            "    )\n",
            "  )\n",
            "  (final_norm): LayerNorm()\n",
            "  (out_head): LinearWithLoRA(\n",
            "    (linear): Linear(in_features=768, out_features=2, bias=True)\n",
            "    (lora): LoRALayer()\n",
            "  )\n",
            ")\n"
          ]
        }
      ],
      "source": [
        "device = torch.device(\"cuda\" if torch.cuda.is_available() else \"cpu\")\n",
        "model.to(device)\n",
        "\n",
        "print(model)"
      ]
    },
    {
      "cell_type": "markdown",
      "id": "c4bbc9d7-65ec-4675-bab8-2e56eb0cfb55",
      "metadata": {
        "id": "c4bbc9d7-65ec-4675-bab8-2e56eb0cfb55"
      },
      "source": [
        "- Based on the model architecture above, we can see that the model now contains our new `LinearWithLoRA` layers\n",
        "- Also, since we initialized matrix $B$ with 0's, we expect the initial model performance to be unchanged compared to before"
      ]
    },
    {
      "cell_type": "code",
      "execution_count": 22,
      "id": "DAlrb_I00VEU",
      "metadata": {
        "colab": {
          "base_uri": "https://localhost:8080/"
        },
        "id": "DAlrb_I00VEU",
        "outputId": "e553093d-c155-4df4-df51-e3cac3290466"
      },
      "outputs": [
        {
          "output_type": "stream",
          "name": "stdout",
          "text": [
            "Training accuracy: 46.25%\n",
            "Validation accuracy: 45.00%\n",
            "Test accuracy: 48.75%\n"
          ]
        }
      ],
      "source": [
        "torch.manual_seed(123)\n",
        "train_accuracy = calc_accuracy_loader(train_loader, model, device, num_batches=10)\n",
        "val_accuracy = calc_accuracy_loader(val_loader, model, device, num_batches=10)\n",
        "test_accuracy = calc_accuracy_loader(test_loader, model, device, num_batches=10)\n",
        "\n",
        "print(f\"Training accuracy: {train_accuracy*100:.2f}%\")\n",
        "print(f\"Validation accuracy: {val_accuracy*100:.2f}%\")\n",
        "print(f\"Test accuracy: {test_accuracy*100:.2f}%\")"
      ]
    },
    {
      "cell_type": "markdown",
      "id": "13735b3e-f0c3-4dba-ae3d-4141b2878101",
      "metadata": {
        "id": "13735b3e-f0c3-4dba-ae3d-4141b2878101"
      },
      "source": [
        "- Let's now get to the interesting part and finetune the model by reusing the training function from chapter 6\n",
        "- The training takes about 15 minutes on a M3 MacBook Air laptop computer and less than half a minute on a V100 or A100 GPU"
      ]
    },
    {
      "cell_type": "code",
      "source": [
        "def calc_loss_batch(input_batch, target_batch, model, device):\n",
        "    input_batch, target_batch = input_batch.to(device), target_batch.to(device)\n",
        "    logits = model(input_batch)[:, -1, :]  # Logits of last output token\n",
        "    loss = torch.nn.functional.cross_entropy(logits, target_batch)\n",
        "    return loss\n",
        "\n",
        "\n",
        "def calc_loss_loader(data_loader, model, device, num_batches=None):\n",
        "    total_loss = 0.\n",
        "    if len(data_loader) == 0:\n",
        "        return float(\"nan\")\n",
        "    elif num_batches is None:\n",
        "        num_batches = len(data_loader)\n",
        "    else:\n",
        "        # Reduce the number of batches to match the total number of batches in the data loader\n",
        "        # if num_batches exceeds the number of batches in the data loader\n",
        "        num_batches = min(num_batches, len(data_loader))\n",
        "    for i, (input_batch, target_batch) in enumerate(data_loader):\n",
        "        if i < num_batches:\n",
        "            loss = calc_loss_batch(input_batch, target_batch, model, device)\n",
        "            total_loss += loss.item()\n",
        "        else:\n",
        "            break\n",
        "    return total_loss / num_batches\n",
        "\n",
        "\n",
        "def evaluate_model(model, train_loader, val_loader, device, eval_iter):\n",
        "    model.eval()\n",
        "    with torch.no_grad():\n",
        "        train_loss = calc_loss_loader(train_loader, model, device, num_batches=eval_iter)\n",
        "        val_loss = calc_loss_loader(val_loader, model, device, num_batches=eval_iter)\n",
        "    model.train()\n",
        "    return train_loss, val_loss\n",
        "\n",
        "\n",
        "# Overall the same as `train_model_simple` in chapter 5\n",
        "def train_classifier_simple(model, train_loader, val_loader, optimizer, device, num_epochs,\n",
        "                            eval_freq, eval_iter):\n",
        "    # Initialize lists to track losses and tokens seen\n",
        "    train_losses, val_losses, train_accs, val_accs = [], [], [], []\n",
        "    examples_seen, global_step = 0, -1\n",
        "\n",
        "    # Main training loop\n",
        "    for epoch in range(num_epochs):\n",
        "        model.train()  # Set model to training mode\n",
        "\n",
        "        for input_batch, target_batch in train_loader:\n",
        "            optimizer.zero_grad()  # Reset loss gradients from previous batch iteration\n",
        "            loss = calc_loss_batch(input_batch, target_batch, model, device)\n",
        "            loss.backward()  # Calculate loss gradients\n",
        "            optimizer.step()  # Update model weights using loss gradients\n",
        "            examples_seen += input_batch.shape[0]  # New: track examples instead of tokens\n",
        "            global_step += 1\n",
        "\n",
        "            # Optional evaluation step\n",
        "            if global_step % eval_freq == 0:\n",
        "                train_loss, val_loss = evaluate_model(\n",
        "                    model, train_loader, val_loader, device, eval_iter)\n",
        "                train_losses.append(train_loss)\n",
        "                val_losses.append(val_loss)\n",
        "                print(f\"Ep {epoch+1} (Step {global_step:06d}): \"\n",
        "                      f\"Train loss {train_loss:.3f}, Val loss {val_loss:.3f}\")\n",
        "\n",
        "        # Calculate accuracy after each epoch\n",
        "        train_accuracy = calc_accuracy_loader(train_loader, model, device, num_batches=eval_iter)\n",
        "        val_accuracy = calc_accuracy_loader(val_loader, model, device, num_batches=eval_iter)\n",
        "        print(f\"Training accuracy: {train_accuracy*100:.2f}% | \", end=\"\")\n",
        "        print(f\"Validation accuracy: {val_accuracy*100:.2f}%\")\n",
        "        train_accs.append(train_accuracy)\n",
        "        val_accs.append(val_accuracy)\n",
        "\n",
        "    return train_losses, val_losses, train_accs, val_accs, examples_seen"
      ],
      "metadata": {
        "id": "sPmmZt09IRg1"
      },
      "id": "sPmmZt09IRg1",
      "execution_count": 23,
      "outputs": []
    },
    {
      "cell_type": "code",
      "execution_count": 24,
      "id": "wCParRvr0eff",
      "metadata": {
        "colab": {
          "base_uri": "https://localhost:8080/"
        },
        "id": "wCParRvr0eff",
        "outputId": "675b679c-6426-4251-e5d1-48f57ace90f4"
      },
      "outputs": [
        {
          "output_type": "stream",
          "name": "stdout",
          "text": [
            "Ep 1 (Step 000000): Train loss 3.820, Val loss 3.462\n",
            "Ep 1 (Step 000050): Train loss 0.396, Val loss 0.364\n",
            "Ep 1 (Step 000100): Train loss 0.111, Val loss 0.229\n",
            "Training accuracy: 97.50% | Validation accuracy: 95.00%\n",
            "Ep 2 (Step 000150): Train loss 0.135, Val loss 0.073\n",
            "Ep 2 (Step 000200): Train loss 0.012, Val loss 0.043\n",
            "Ep 2 (Step 000250): Train loss 0.027, Val loss 0.174\n",
            "Training accuracy: 100.00% | Validation accuracy: 97.50%\n",
            "Ep 3 (Step 000300): Train loss 0.129, Val loss 0.087\n",
            "Ep 3 (Step 000350): Train loss 0.396, Val loss 0.518\n",
            "Training accuracy: 100.00% | Validation accuracy: 97.50%\n",
            "Ep 4 (Step 000400): Train loss 0.006, Val loss 0.118\n",
            "Ep 4 (Step 000450): Train loss 0.013, Val loss 0.111\n",
            "Ep 4 (Step 000500): Train loss 0.052, Val loss 0.158\n",
            "Training accuracy: 100.00% | Validation accuracy: 90.00%\n",
            "Ep 5 (Step 000550): Train loss 0.003, Val loss 0.601\n",
            "Ep 5 (Step 000600): Train loss 0.000, Val loss 0.154\n",
            "Training accuracy: 100.00% | Validation accuracy: 90.00%\n",
            "Training completed in 2.11 minutes.\n"
          ]
        }
      ],
      "source": [
        "import time\n",
        "\n",
        "\n",
        "start_time = time.time()\n",
        "\n",
        "torch.manual_seed(123)\n",
        "\n",
        "optimizer = torch.optim.AdamW(model.parameters(), lr=5e-5, weight_decay=0.1)\n",
        "\n",
        "num_epochs = 5\n",
        "train_losses, val_losses, train_accs, val_accs, examples_seen = train_classifier_simple(\n",
        "    model, train_loader, val_loader, optimizer, device,\n",
        "    num_epochs=num_epochs, eval_freq=50, eval_iter=5,\n",
        ")\n",
        "\n",
        "end_time = time.time()\n",
        "execution_time_minutes = (end_time - start_time) / 60\n",
        "print(f\"Training completed in {execution_time_minutes:.2f} minutes.\")"
      ]
    },
    {
      "cell_type": "markdown",
      "id": "d0c89e82-3aa8-44c6-b046-0b16200b8e6c",
      "metadata": {
        "id": "d0c89e82-3aa8-44c6-b046-0b16200b8e6c"
      },
      "source": [
        "- Finally, let's evaluate the model"
      ]
    },
    {
      "cell_type": "code",
      "source": [
        "import matplotlib.pyplot as plt\n",
        "\n",
        "\n",
        "def plot_values(epochs_seen, examples_seen, train_values, val_values, label=\"loss\"):\n",
        "    fig, ax1 = plt.subplots(figsize=(5, 3))\n",
        "    # Plot training and validation loss against epochs\n",
        "    ax1.plot(epochs_seen, train_values, label=f\"Training {label}\")\n",
        "    ax1.plot(epochs_seen, val_values, linestyle=\"-.\", label=f\"Validation {label}\")\n",
        "    ax1.set_xlabel(\"Epochs\")\n",
        "    ax1.set_ylabel(label.capitalize())\n",
        "    ax1.legend()\n",
        "    # Create a second x-axis for tokens seen\n",
        "    ax2 = ax1.twiny()  # Create a second x-axis that shares the same y-axis\n",
        "    ax2.plot(examples_seen, train_values, alpha=0)  # Invisible plot for aligning ticks\n",
        "    ax2.set_xlabel(\"Examples seen\")\n",
        "    fig.tight_layout()  # Adjust layout to make room\n",
        "    plt.savefig(f\"{label}-plot.pdf\")\n",
        "    plt.show()"
      ],
      "metadata": {
        "id": "vdPTJjtKJqsg"
      },
      "id": "vdPTJjtKJqsg",
      "execution_count": 25,
      "outputs": []
    },
    {
      "cell_type": "code",
      "execution_count": 26,
      "id": "bawWGijA0iF3",
      "metadata": {
        "colab": {
          "base_uri": "https://localhost:8080/",
          "height": 307
        },
        "id": "bawWGijA0iF3",
        "outputId": "82f61a27-5247-419c-d99f-a9b217eddee7"
      },
      "outputs": [
        {
          "output_type": "display_data",
          "data": {
            "text/plain": [
              "<Figure size 500x300 with 2 Axes>"
            ],
            "image/png": "[encoded data removed]"
          },
          "metadata": {}
        }
      ],
      "source": [
        "epochs_tensor = torch.linspace(0, num_epochs, len(train_losses))\n",
        "examples_seen_tensor = torch.linspace(0, examples_seen, len(train_losses))\n",
        "\n",
        "plot_values(epochs_tensor, examples_seen_tensor, train_losses, val_losses, label=\"loss\")"
      ]
    },
    {
      "cell_type": "markdown",
      "id": "aa074723-e3f7-4f7e-a267-855531a037dc",
      "metadata": {
        "id": "aa074723-e3f7-4f7e-a267-855531a037dc"
      },
      "source": [
        "- Note that we previously calculated the accuracy values on 5 batches only via the `eval_iter=5` setting; below, we calculate the accuracies on the full dataset"
      ]
    },
    {
      "cell_type": "code",
      "execution_count": 27,
      "id": "1D2awlEq0gZi",
      "metadata": {
        "colab": {
          "base_uri": "https://localhost:8080/"
        },
        "id": "1D2awlEq0gZi",
        "outputId": "56d295ca-f285-487a-fc78-f7a5cbc98bf3"
      },
      "outputs": [
        {
          "output_type": "stream",
          "name": "stdout",
          "text": [
            "Training accuracy: 99.23%\n",
            "Validation accuracy: 94.63%\n",
            "Test accuracy: 95.67%\n"
          ]
        }
      ],
      "source": [
        "train_accuracy = calc_accuracy_loader(train_loader, model, device)\n",
        "val_accuracy = calc_accuracy_loader(val_loader, model, device)\n",
        "test_accuracy = calc_accuracy_loader(test_loader, model, device)\n",
        "\n",
        "print(f\"Training accuracy: {train_accuracy*100:.2f}%\")\n",
        "print(f\"Validation accuracy: {val_accuracy*100:.2f}%\")\n",
        "print(f\"Test accuracy: {test_accuracy*100:.2f}%\")"
      ]
    },
    {
      "cell_type": "markdown",
      "id": "1f87f5e6-339e-4fcf-900b-6d845d3c713d",
      "metadata": {
        "id": "1f87f5e6-339e-4fcf-900b-6d845d3c713d"
      },
      "source": [
        "- As we can see based on the relatively high accuracy values above, the LoRA finetuning was successful"
      ]
    },
    {
      "cell_type": "code",
      "source": [
        "!nvidia-smi"
      ],
      "metadata": {
        "colab": {
          "base_uri": "https://localhost:8080/"
        },
        "id": "uqY3T2y8KEWo",
        "outputId": "c1c8fa3f-7595-494e-b478-15c71481ca6e"
      },
      "id": "uqY3T2y8KEWo",
      "execution_count": 28,
      "outputs": [
        {
          "output_type": "stream",
          "name": "stdout",
          "text": [
            "Thu Mar 27 19:50:55 2025       \n",
            "+-----------------------------------------------------------------------------------------+\n",
            "| NVIDIA-SMI 550.54.15              Driver Version: 550.54.15      CUDA Version: 12.4     |\n",
            "|-----------------------------------------+------------------------+----------------------+\n",
            "| GPU  Name                 Persistence-M | Bus-Id          Disp.A | Volatile Uncorr. ECC |\n",
            "| Fan  Temp   Perf          Pwr:Usage/Cap |           Memory-Usage | GPU-Util  Compute M. |\n",
            "|                                         |                        |               MIG M. |\n",
            "|=========================================+========================+======================|\n",
            "|   0  Tesla T4                       Off |   00000000:00:04.0 Off |                    0 |\n",
            "| N/A   75C    P0             33W /   70W |    2034MiB /  15360MiB |      0%      Default |\n",
            "|                                         |                        |                  N/A |\n",
            "+-----------------------------------------+------------------------+----------------------+\n",
            "                                                                                         \n",
            "+-----------------------------------------------------------------------------------------+\n",
            "| Processes:                                                                              |\n",
            "|  GPU   GI   CI        PID   Type   Process name                              GPU Memory |\n",
            "|        ID   ID                                                               Usage      |\n",
            "|=========================================================================================|\n",
            "+-----------------------------------------------------------------------------------------+\n"
          ]
        }
      ]
    }
  ],
  "metadata": {
    "accelerator": "GPU",
    "colab": {
      "gpuType": "T4",
      "provenance": []
    },
    "kernelspec": {
      "display_name": "Python 3 (ipykernel)",
      "language": "python",
      "name": "python3"
    },
    "language_info": {
      "codemirror_mode": {
        "name": "ipython",
        "version": 3
      },
      "file_extension": ".py",
      "mimetype": "text/x-python",
      "name": "python",
      "nbconvert_exporter": "python",
      "pygments_lexer": "ipython3",
      "version": "3.10.16"
    }
  },
  "nbformat": 4,
  "nbformat_minor": 5
}