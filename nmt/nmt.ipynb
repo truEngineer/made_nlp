{
  "nbformat": 4,
  "nbformat_minor": 0,
  "metadata": {
    "colab": {
      "provenance": [],
      "gpuType": "T4",
      "collapsed_sections": [
        "vk1XLNjpc0Mc"
      ]
    },
    "kernelspec": {
      "name": "python3",
      "display_name": "Python 3"
    },
    "language_info": {
      "name": "python"
    },
    "accelerator": "GPU",
    "gpuClass": "standard",
    "widgets": {
      "application/vnd.jupyter.widget-state+json": {
        "b4d492eafcd844aa93107bbf5378b45e": {
          "model_module": "@jupyter-widgets/controls",
          "model_name": "HBoxModel",
          "model_module_version": "1.5.0",
          "state": {
            "_dom_classes": [],
            "_model_module": "@jupyter-widgets/controls",
            "_model_module_version": "1.5.0",
            "_model_name": "HBoxModel",
            "_view_count": null,
            "_view_module": "@jupyter-widgets/controls",
            "_view_module_version": "1.5.0",
            "_view_name": "HBoxView",
            "box_style": "",
            "children": [
              "IPY_MODEL_1aaab4fb05b449b687cf4e22c66c5c1a",
              "IPY_MODEL_b0ce5eb96c264a1cb8049e0258ded71f",
              "IPY_MODEL_0a26bb0ef96e44bb8b8aade44c2aba5e"
            ],
            "layout": "IPY_MODEL_e81c20f48c9448f78da8e965c1270181"
          }
        },
        "1aaab4fb05b449b687cf4e22c66c5c1a": {
          "model_module": "@jupyter-widgets/controls",
          "model_name": "HTMLModel",
          "model_module_version": "1.5.0",
          "state": {
            "_dom_classes": [],
            "_model_module": "@jupyter-widgets/controls",
            "_model_module_version": "1.5.0",
            "_model_name": "HTMLModel",
            "_view_count": null,
            "_view_module": "@jupyter-widgets/controls",
            "_view_module_version": "1.5.0",
            "_view_name": "HTMLView",
            "description": "",
            "description_tooltip": null,
            "layout": "IPY_MODEL_8050b41dc42743b7a719baa83ecfd12d",
            "placeholder": "​",
            "style": "IPY_MODEL_a8781ebdaf3c43c39dd8baa4e8e6b709",
            "value": "Downloading (…)okenizer_config.json: 100%"
          }
        },
        "b0ce5eb96c264a1cb8049e0258ded71f": {
          "model_module": "@jupyter-widgets/controls",
          "model_name": "FloatProgressModel",
          "model_module_version": "1.5.0",
          "state": {
            "_dom_classes": [],
            "_model_module": "@jupyter-widgets/controls",
            "_model_module_version": "1.5.0",
            "_model_name": "FloatProgressModel",
            "_view_count": null,
            "_view_module": "@jupyter-widgets/controls",
            "_view_module_version": "1.5.0",
            "_view_name": "ProgressView",
            "bar_style": "success",
            "description": "",
            "description_tooltip": null,
            "layout": "IPY_MODEL_96d7c3729afd4452afb48259830666c5",
            "max": 29,
            "min": 0,
            "orientation": "horizontal",
            "style": "IPY_MODEL_87db195429934a86ad1aa4cf04ec429b",
            "value": 29
          }
        },
        "0a26bb0ef96e44bb8b8aade44c2aba5e": {
          "model_module": "@jupyter-widgets/controls",
          "model_name": "HTMLModel",
          "model_module_version": "1.5.0",
          "state": {
            "_dom_classes": [],
            "_model_module": "@jupyter-widgets/controls",
            "_model_module_version": "1.5.0",
            "_model_name": "HTMLModel",
            "_view_count": null,
            "_view_module": "@jupyter-widgets/controls",
            "_view_module_version": "1.5.0",
            "_view_name": "HTMLView",
            "description": "",
            "description_tooltip": null,
            "layout": "IPY_MODEL_fc1d093bf9cc497abb710592222a3b1d",
            "placeholder": "​",
            "style": "IPY_MODEL_b8713624813e4c8d804a5d5711d5b54b",
            "value": " 29.0/29.0 [00:00&lt;00:00, 1.02kB/s]"
          }
        },
        "e81c20f48c9448f78da8e965c1270181": {
          "model_module": "@jupyter-widgets/base",
          "model_name": "LayoutModel",
          "model_module_version": "1.2.0",
          "state": {
            "_model_module": "@jupyter-widgets/base",
            "_model_module_version": "1.2.0",
            "_model_name": "LayoutModel",
            "_view_count": null,
            "_view_module": "@jupyter-widgets/base",
            "_view_module_version": "1.2.0",
            "_view_name": "LayoutView",
            "align_content": null,
            "align_items": null,
            "align_self": null,
            "border": null,
            "bottom": null,
            "display": null,
            "flex": null,
            "flex_flow": null,
            "grid_area": null,
            "grid_auto_columns": null,
            "grid_auto_flow": null,
            "grid_auto_rows": null,
            "grid_column": null,
            "grid_gap": null,
            "grid_row": null,
            "grid_template_areas": null,
            "grid_template_columns": null,
            "grid_template_rows": null,
            "height": null,
            "justify_content": null,
            "justify_items": null,
            "left": null,
            "margin": null,
            "max_height": null,
            "max_width": null,
            "min_height": null,
            "min_width": null,
            "object_fit": null,
            "object_position": null,
            "order": null,
            "overflow": null,
            "overflow_x": null,
            "overflow_y": null,
            "padding": null,
            "right": null,
            "top": null,
            "visibility": null,
            "width": null
          }
        },
        "8050b41dc42743b7a719baa83ecfd12d": {
          "model_module": "@jupyter-widgets/base",
          "model_name": "LayoutModel",
          "model_module_version": "1.2.0",
          "state": {
            "_model_module": "@jupyter-widgets/base",
            "_model_module_version": "1.2.0",
            "_model_name": "LayoutModel",
            "_view_count": null,
            "_view_module": "@jupyter-widgets/base",
            "_view_module_version": "1.2.0",
            "_view_name": "LayoutView",
            "align_content": null,
            "align_items": null,
            "align_self": null,
            "border": null,
            "bottom": null,
            "display": null,
            "flex": null,
            "flex_flow": null,
            "grid_area": null,
            "grid_auto_columns": null,
            "grid_auto_flow": null,
            "grid_auto_rows": null,
            "grid_column": null,
            "grid_gap": null,
            "grid_row": null,
            "grid_template_areas": null,
            "grid_template_columns": null,
            "grid_template_rows": null,
            "height": null,
            "justify_content": null,
            "justify_items": null,
            "left": null,
            "margin": null,
            "max_height": null,
            "max_width": null,
            "min_height": null,
            "min_width": null,
            "object_fit": null,
            "object_position": null,
            "order": null,
            "overflow": null,
            "overflow_x": null,
            "overflow_y": null,
            "padding": null,
            "right": null,
            "top": null,
            "visibility": null,
            "width": null
          }
        },
        "a8781ebdaf3c43c39dd8baa4e8e6b709": {
          "model_module": "@jupyter-widgets/controls",
          "model_name": "DescriptionStyleModel",
          "model_module_version": "1.5.0",
          "state": {
            "_model_module": "@jupyter-widgets/controls",
            "_model_module_version": "1.5.0",
            "_model_name": "DescriptionStyleModel",
            "_view_count": null,
            "_view_module": "@jupyter-widgets/base",
            "_view_module_version": "1.2.0",
            "_view_name": "StyleView",
            "description_width": ""
          }
        },
        "96d7c3729afd4452afb48259830666c5": {
          "model_module": "@jupyter-widgets/base",
          "model_name": "LayoutModel",
          "model_module_version": "1.2.0",
          "state": {
            "_model_module": "@jupyter-widgets/base",
            "_model_module_version": "1.2.0",
            "_model_name": "LayoutModel",
            "_view_count": null,
            "_view_module": "@jupyter-widgets/base",
            "_view_module_version": "1.2.0",
            "_view_name": "LayoutView",
            "align_content": null,
            "align_items": null,
            "align_self": null,
            "border": null,
            "bottom": null,
            "display": null,
            "flex": null,
            "flex_flow": null,
            "grid_area": null,
            "grid_auto_columns": null,
            "grid_auto_flow": null,
            "grid_auto_rows": null,
            "grid_column": null,
            "grid_gap": null,
            "grid_row": null,
            "grid_template_areas": null,
            "grid_template_columns": null,
            "grid_template_rows": null,
            "height": null,
            "justify_content": null,
            "justify_items": null,
            "left": null,
            "margin": null,
            "max_height": null,
            "max_width": null,
            "min_height": null,
            "min_width": null,
            "object_fit": null,
            "object_position": null,
            "order": null,
            "overflow": null,
            "overflow_x": null,
            "overflow_y": null,
            "padding": null,
            "right": null,
            "top": null,
            "visibility": null,
            "width": null
          }
        },
        "87db195429934a86ad1aa4cf04ec429b": {
          "model_module": "@jupyter-widgets/controls",
          "model_name": "ProgressStyleModel",
          "model_module_version": "1.5.0",
          "state": {
            "_model_module": "@jupyter-widgets/controls",
            "_model_module_version": "1.5.0",
            "_model_name": "ProgressStyleModel",
            "_view_count": null,
            "_view_module": "@jupyter-widgets/base",
            "_view_module_version": "1.2.0",
            "_view_name": "StyleView",
            "bar_color": null,
            "description_width": ""
          }
        },
        "fc1d093bf9cc497abb710592222a3b1d": {
          "model_module": "@jupyter-widgets/base",
          "model_name": "LayoutModel",
          "model_module_version": "1.2.0",
          "state": {
            "_model_module": "@jupyter-widgets/base",
            "_model_module_version": "1.2.0",
            "_model_name": "LayoutModel",
            "_view_count": null,
            "_view_module": "@jupyter-widgets/base",
            "_view_module_version": "1.2.0",
            "_view_name": "LayoutView",
            "align_content": null,
            "align_items": null,
            "align_self": null,
            "border": null,
            "bottom": null,
            "display": null,
            "flex": null,
            "flex_flow": null,
            "grid_area": null,
            "grid_auto_columns": null,
            "grid_auto_flow": null,
            "grid_auto_rows": null,
            "grid_column": null,
            "grid_gap": null,
            "grid_row": null,
            "grid_template_areas": null,
            "grid_template_columns": null,
            "grid_template_rows": null,
            "height": null,
            "justify_content": null,
            "justify_items": null,
            "left": null,
            "margin": null,
            "max_height": null,
            "max_width": null,
            "min_height": null,
            "min_width": null,
            "object_fit": null,
            "object_position": null,
            "order": null,
            "overflow": null,
            "overflow_x": null,
            "overflow_y": null,
            "padding": null,
            "right": null,
            "top": null,
            "visibility": null,
            "width": null
          }
        },
        "b8713624813e4c8d804a5d5711d5b54b": {
          "model_module": "@jupyter-widgets/controls",
          "model_name": "DescriptionStyleModel",
          "model_module_version": "1.5.0",
          "state": {
            "_model_module": "@jupyter-widgets/controls",
            "_model_module_version": "1.5.0",
            "_model_name": "DescriptionStyleModel",
            "_view_count": null,
            "_view_module": "@jupyter-widgets/base",
            "_view_module_version": "1.2.0",
            "_view_name": "StyleView",
            "description_width": ""
          }
        },
        "dff2777f976f494bafe7aced3473c5af": {
          "model_module": "@jupyter-widgets/controls",
          "model_name": "HBoxModel",
          "model_module_version": "1.5.0",
          "state": {
            "_dom_classes": [],
            "_model_module": "@jupyter-widgets/controls",
            "_model_module_version": "1.5.0",
            "_model_name": "HBoxModel",
            "_view_count": null,
            "_view_module": "@jupyter-widgets/controls",
            "_view_module_version": "1.5.0",
            "_view_name": "HBoxView",
            "box_style": "",
            "children": [
              "IPY_MODEL_fd1fcd54073f4154b548a1a5e6541c81",
              "IPY_MODEL_596c64a9c5074292bf241a94299f7931",
              "IPY_MODEL_f07b27fdbded40a497582bce72ab0fe0"
            ],
            "layout": "IPY_MODEL_c9e6ef793d564cd28b354bb94fa29a6e"
          }
        },
        "fd1fcd54073f4154b548a1a5e6541c81": {
          "model_module": "@jupyter-widgets/controls",
          "model_name": "HTMLModel",
          "model_module_version": "1.5.0",
          "state": {
            "_dom_classes": [],
            "_model_module": "@jupyter-widgets/controls",
            "_model_module_version": "1.5.0",
            "_model_name": "HTMLModel",
            "_view_count": null,
            "_view_module": "@jupyter-widgets/controls",
            "_view_module_version": "1.5.0",
            "_view_name": "HTMLView",
            "description": "",
            "description_tooltip": null,
            "layout": "IPY_MODEL_9116fd63e31e469184e8681cab88a8a1",
            "placeholder": "​",
            "style": "IPY_MODEL_396755b927394d4ca0e7b406ed6a0a5e",
            "value": "Downloading (…)lve/main/config.json: 100%"
          }
        },
        "596c64a9c5074292bf241a94299f7931": {
          "model_module": "@jupyter-widgets/controls",
          "model_name": "FloatProgressModel",
          "model_module_version": "1.5.0",
          "state": {
            "_dom_classes": [],
            "_model_module": "@jupyter-widgets/controls",
            "_model_module_version": "1.5.0",
            "_model_name": "FloatProgressModel",
            "_view_count": null,
            "_view_module": "@jupyter-widgets/controls",
            "_view_module_version": "1.5.0",
            "_view_name": "ProgressView",
            "bar_style": "success",
            "description": "",
            "description_tooltip": null,
            "layout": "IPY_MODEL_141e7230f1fa4d9b841ca76118f3ebc6",
            "max": 411,
            "min": 0,
            "orientation": "horizontal",
            "style": "IPY_MODEL_73133b4eff5942d487816599bcab7293",
            "value": 411
          }
        },
        "f07b27fdbded40a497582bce72ab0fe0": {
          "model_module": "@jupyter-widgets/controls",
          "model_name": "HTMLModel",
          "model_module_version": "1.5.0",
          "state": {
            "_dom_classes": [],
            "_model_module": "@jupyter-widgets/controls",
            "_model_module_version": "1.5.0",
            "_model_name": "HTMLModel",
            "_view_count": null,
            "_view_module": "@jupyter-widgets/controls",
            "_view_module_version": "1.5.0",
            "_view_name": "HTMLView",
            "description": "",
            "description_tooltip": null,
            "layout": "IPY_MODEL_cb14a8a72a5f40fda54b9f4d78271d3f",
            "placeholder": "​",
            "style": "IPY_MODEL_510a3e3048d145b981b364beff99688d",
            "value": " 411/411 [00:00&lt;00:00, 22.6kB/s]"
          }
        },
        "c9e6ef793d564cd28b354bb94fa29a6e": {
          "model_module": "@jupyter-widgets/base",
          "model_name": "LayoutModel",
          "model_module_version": "1.2.0",
          "state": {
            "_model_module": "@jupyter-widgets/base",
            "_model_module_version": "1.2.0",
            "_model_name": "LayoutModel",
            "_view_count": null,
            "_view_module": "@jupyter-widgets/base",
            "_view_module_version": "1.2.0",
            "_view_name": "LayoutView",
            "align_content": null,
            "align_items": null,
            "align_self": null,
            "border": null,
            "bottom": null,
            "display": null,
            "flex": null,
            "flex_flow": null,
            "grid_area": null,
            "grid_auto_columns": null,
            "grid_auto_flow": null,
            "grid_auto_rows": null,
            "grid_column": null,
            "grid_gap": null,
            "grid_row": null,
            "grid_template_areas": null,
            "grid_template_columns": null,
            "grid_template_rows": null,
            "height": null,
            "justify_content": null,
            "justify_items": null,
            "left": null,
            "margin": null,
            "max_height": null,
            "max_width": null,
            "min_height": null,
            "min_width": null,
            "object_fit": null,
            "object_position": null,
            "order": null,
            "overflow": null,
            "overflow_x": null,
            "overflow_y": null,
            "padding": null,
            "right": null,
            "top": null,
            "visibility": null,
            "width": null
          }
        },
        "9116fd63e31e469184e8681cab88a8a1": {
          "model_module": "@jupyter-widgets/base",
          "model_name": "LayoutModel",
          "model_module_version": "1.2.0",
          "state": {
            "_model_module": "@jupyter-widgets/base",
            "_model_module_version": "1.2.0",
            "_model_name": "LayoutModel",
            "_view_count": null,
            "_view_module": "@jupyter-widgets/base",
            "_view_module_version": "1.2.0",
            "_view_name": "LayoutView",
            "align_content": null,
            "align_items": null,
            "align_self": null,
            "border": null,
            "bottom": null,
            "display": null,
            "flex": null,
            "flex_flow": null,
            "grid_area": null,
            "grid_auto_columns": null,
            "grid_auto_flow": null,
            "grid_auto_rows": null,
            "grid_column": null,
            "grid_gap": null,
            "grid_row": null,
            "grid_template_areas": null,
            "grid_template_columns": null,
            "grid_template_rows": null,
            "height": null,
            "justify_content": null,
            "justify_items": null,
            "left": null,
            "margin": null,
            "max_height": null,
            "max_width": null,
            "min_height": null,
            "min_width": null,
            "object_fit": null,
            "object_position": null,
            "order": null,
            "overflow": null,
            "overflow_x": null,
            "overflow_y": null,
            "padding": null,
            "right": null,
            "top": null,
            "visibility": null,
            "width": null
          }
        },
        "396755b927394d4ca0e7b406ed6a0a5e": {
          "model_module": "@jupyter-widgets/controls",
          "model_name": "DescriptionStyleModel",
          "model_module_version": "1.5.0",
          "state": {
            "_model_module": "@jupyter-widgets/controls",
            "_model_module_version": "1.5.0",
            "_model_name": "DescriptionStyleModel",
            "_view_count": null,
            "_view_module": "@jupyter-widgets/base",
            "_view_module_version": "1.2.0",
            "_view_name": "StyleView",
            "description_width": ""
          }
        },
        "141e7230f1fa4d9b841ca76118f3ebc6": {
          "model_module": "@jupyter-widgets/base",
          "model_name": "LayoutModel",
          "model_module_version": "1.2.0",
          "state": {
            "_model_module": "@jupyter-widgets/base",
            "_model_module_version": "1.2.0",
            "_model_name": "LayoutModel",
            "_view_count": null,
            "_view_module": "@jupyter-widgets/base",
            "_view_module_version": "1.2.0",
            "_view_name": "LayoutView",
            "align_content": null,
            "align_items": null,
            "align_self": null,
            "border": null,
            "bottom": null,
            "display": null,
            "flex": null,
            "flex_flow": null,
            "grid_area": null,
            "grid_auto_columns": null,
            "grid_auto_flow": null,
            "grid_auto_rows": null,
            "grid_column": null,
            "grid_gap": null,
            "grid_row": null,
            "grid_template_areas": null,
            "grid_template_columns": null,
            "grid_template_rows": null,
            "height": null,
            "justify_content": null,
            "justify_items": null,
            "left": null,
            "margin": null,
            "max_height": null,
            "max_width": null,
            "min_height": null,
            "min_width": null,
            "object_fit": null,
            "object_position": null,
            "order": null,
            "overflow": null,
            "overflow_x": null,
            "overflow_y": null,
            "padding": null,
            "right": null,
            "top": null,
            "visibility": null,
            "width": null
          }
        },
        "73133b4eff5942d487816599bcab7293": {
          "model_module": "@jupyter-widgets/controls",
          "model_name": "ProgressStyleModel",
          "model_module_version": "1.5.0",
          "state": {
            "_model_module": "@jupyter-widgets/controls",
            "_model_module_version": "1.5.0",
            "_model_name": "ProgressStyleModel",
            "_view_count": null,
            "_view_module": "@jupyter-widgets/base",
            "_view_module_version": "1.2.0",
            "_view_name": "StyleView",
            "bar_color": null,
            "description_width": ""
          }
        },
        "cb14a8a72a5f40fda54b9f4d78271d3f": {
          "model_module": "@jupyter-widgets/base",
          "model_name": "LayoutModel",
          "model_module_version": "1.2.0",
          "state": {
            "_model_module": "@jupyter-widgets/base",
            "_model_module_version": "1.2.0",
            "_model_name": "LayoutModel",
            "_view_count": null,
            "_view_module": "@jupyter-widgets/base",
            "_view_module_version": "1.2.0",
            "_view_name": "LayoutView",
            "align_content": null,
            "align_items": null,
            "align_self": null,
            "border": null,
            "bottom": null,
            "display": null,
            "flex": null,
            "flex_flow": null,
            "grid_area": null,
            "grid_auto_columns": null,
            "grid_auto_flow": null,
            "grid_auto_rows": null,
            "grid_column": null,
            "grid_gap": null,
            "grid_row": null,
            "grid_template_areas": null,
            "grid_template_columns": null,
            "grid_template_rows": null,
            "height": null,
            "justify_content": null,
            "justify_items": null,
            "left": null,
            "margin": null,
            "max_height": null,
            "max_width": null,
            "min_height": null,
            "min_width": null,
            "object_fit": null,
            "object_position": null,
            "order": null,
            "overflow": null,
            "overflow_x": null,
            "overflow_y": null,
            "padding": null,
            "right": null,
            "top": null,
            "visibility": null,
            "width": null
          }
        },
        "510a3e3048d145b981b364beff99688d": {
          "model_module": "@jupyter-widgets/controls",
          "model_name": "DescriptionStyleModel",
          "model_module_version": "1.5.0",
          "state": {
            "_model_module": "@jupyter-widgets/controls",
            "_model_module_version": "1.5.0",
            "_model_name": "DescriptionStyleModel",
            "_view_count": null,
            "_view_module": "@jupyter-widgets/base",
            "_view_module_version": "1.2.0",
            "_view_name": "StyleView",
            "description_width": ""
          }
        },
        "e559d24fed534d509b67bebd58d80fc3": {
          "model_module": "@jupyter-widgets/controls",
          "model_name": "HBoxModel",
          "model_module_version": "1.5.0",
          "state": {
            "_dom_classes": [],
            "_model_module": "@jupyter-widgets/controls",
            "_model_module_version": "1.5.0",
            "_model_name": "HBoxModel",
            "_view_count": null,
            "_view_module": "@jupyter-widgets/controls",
            "_view_module_version": "1.5.0",
            "_view_name": "HBoxView",
            "box_style": "",
            "children": [
              "IPY_MODEL_17ade0cdd31b4b589b16fe49f3780575",
              "IPY_MODEL_2fc02e3b698d40b485c03822a670fb95",
              "IPY_MODEL_0ad5af76754d4a94af9cad656585b5dd"
            ],
            "layout": "IPY_MODEL_a105f2d51fe7446987658a4a8b3e70a4"
          }
        },
        "17ade0cdd31b4b589b16fe49f3780575": {
          "model_module": "@jupyter-widgets/controls",
          "model_name": "HTMLModel",
          "model_module_version": "1.5.0",
          "state": {
            "_dom_classes": [],
            "_model_module": "@jupyter-widgets/controls",
            "_model_module_version": "1.5.0",
            "_model_name": "HTMLModel",
            "_view_count": null,
            "_view_module": "@jupyter-widgets/controls",
            "_view_module_version": "1.5.0",
            "_view_name": "HTMLView",
            "description": "",
            "description_tooltip": null,
            "layout": "IPY_MODEL_97fe815567d64965aecc3ee55e2b4010",
            "placeholder": "​",
            "style": "IPY_MODEL_940120efe77d4996891b972eb66a4610",
            "value": "Downloading (…)solve/main/vocab.txt: 100%"
          }
        },
        "2fc02e3b698d40b485c03822a670fb95": {
          "model_module": "@jupyter-widgets/controls",
          "model_name": "FloatProgressModel",
          "model_module_version": "1.5.0",
          "state": {
            "_dom_classes": [],
            "_model_module": "@jupyter-widgets/controls",
            "_model_module_version": "1.5.0",
            "_model_name": "FloatProgressModel",
            "_view_count": null,
            "_view_module": "@jupyter-widgets/controls",
            "_view_module_version": "1.5.0",
            "_view_name": "ProgressView",
            "bar_style": "success",
            "description": "",
            "description_tooltip": null,
            "layout": "IPY_MODEL_44b8fe3bfecf465996083bb471ee6aa1",
            "max": 213450,
            "min": 0,
            "orientation": "horizontal",
            "style": "IPY_MODEL_6c9874dc65b44d41840fc3f371e4d7e9",
            "value": 213450
          }
        },
        "0ad5af76754d4a94af9cad656585b5dd": {
          "model_module": "@jupyter-widgets/controls",
          "model_name": "HTMLModel",
          "model_module_version": "1.5.0",
          "state": {
            "_dom_classes": [],
            "_model_module": "@jupyter-widgets/controls",
            "_model_module_version": "1.5.0",
            "_model_name": "HTMLModel",
            "_view_count": null,
            "_view_module": "@jupyter-widgets/controls",
            "_view_module_version": "1.5.0",
            "_view_name": "HTMLView",
            "description": "",
            "description_tooltip": null,
            "layout": "IPY_MODEL_98ba2c2276f945b486488a9ba0f015e3",
            "placeholder": "​",
            "style": "IPY_MODEL_62092f9484ff45cf8df5fd259863bd08",
            "value": " 213k/213k [00:00&lt;00:00, 1.16MB/s]"
          }
        },
        "a105f2d51fe7446987658a4a8b3e70a4": {
          "model_module": "@jupyter-widgets/base",
          "model_name": "LayoutModel",
          "model_module_version": "1.2.0",
          "state": {
            "_model_module": "@jupyter-widgets/base",
            "_model_module_version": "1.2.0",
            "_model_name": "LayoutModel",
            "_view_count": null,
            "_view_module": "@jupyter-widgets/base",
            "_view_module_version": "1.2.0",
            "_view_name": "LayoutView",
            "align_content": null,
            "align_items": null,
            "align_self": null,
            "border": null,
            "bottom": null,
            "display": null,
            "flex": null,
            "flex_flow": null,
            "grid_area": null,
            "grid_auto_columns": null,
            "grid_auto_flow": null,
            "grid_auto_rows": null,
            "grid_column": null,
            "grid_gap": null,
            "grid_row": null,
            "grid_template_areas": null,
            "grid_template_columns": null,
            "grid_template_rows": null,
            "height": null,
            "justify_content": null,
            "justify_items": null,
            "left": null,
            "margin": null,
            "max_height": null,
            "max_width": null,
            "min_height": null,
            "min_width": null,
            "object_fit": null,
            "object_position": null,
            "order": null,
            "overflow": null,
            "overflow_x": null,
            "overflow_y": null,
            "padding": null,
            "right": null,
            "top": null,
            "visibility": null,
            "width": null
          }
        },
        "97fe815567d64965aecc3ee55e2b4010": {
          "model_module": "@jupyter-widgets/base",
          "model_name": "LayoutModel",
          "model_module_version": "1.2.0",
          "state": {
            "_model_module": "@jupyter-widgets/base",
            "_model_module_version": "1.2.0",
            "_model_name": "LayoutModel",
            "_view_count": null,
            "_view_module": "@jupyter-widgets/base",
            "_view_module_version": "1.2.0",
            "_view_name": "LayoutView",
            "align_content": null,
            "align_items": null,
            "align_self": null,
            "border": null,
            "bottom": null,
            "display": null,
            "flex": null,
            "flex_flow": null,
            "grid_area": null,
            "grid_auto_columns": null,
            "grid_auto_flow": null,
            "grid_auto_rows": null,
            "grid_column": null,
            "grid_gap": null,
            "grid_row": null,
            "grid_template_areas": null,
            "grid_template_columns": null,
            "grid_template_rows": null,
            "height": null,
            "justify_content": null,
            "justify_items": null,
            "left": null,
            "margin": null,
            "max_height": null,
            "max_width": null,
            "min_height": null,
            "min_width": null,
            "object_fit": null,
            "object_position": null,
            "order": null,
            "overflow": null,
            "overflow_x": null,
            "overflow_y": null,
            "padding": null,
            "right": null,
            "top": null,
            "visibility": null,
            "width": null
          }
        },
        "940120efe77d4996891b972eb66a4610": {
          "model_module": "@jupyter-widgets/controls",
          "model_name": "DescriptionStyleModel",
          "model_module_version": "1.5.0",
          "state": {
            "_model_module": "@jupyter-widgets/controls",
            "_model_module_version": "1.5.0",
            "_model_name": "DescriptionStyleModel",
            "_view_count": null,
            "_view_module": "@jupyter-widgets/base",
            "_view_module_version": "1.2.0",
            "_view_name": "StyleView",
            "description_width": ""
          }
        },
        "44b8fe3bfecf465996083bb471ee6aa1": {
          "model_module": "@jupyter-widgets/base",
          "model_name": "LayoutModel",
          "model_module_version": "1.2.0",
          "state": {
            "_model_module": "@jupyter-widgets/base",
            "_model_module_version": "1.2.0",
            "_model_name": "LayoutModel",
            "_view_count": null,
            "_view_module": "@jupyter-widgets/base",
            "_view_module_version": "1.2.0",
            "_view_name": "LayoutView",
            "align_content": null,
            "align_items": null,
            "align_self": null,
            "border": null,
            "bottom": null,
            "display": null,
            "flex": null,
            "flex_flow": null,
            "grid_area": null,
            "grid_auto_columns": null,
            "grid_auto_flow": null,
            "grid_auto_rows": null,
            "grid_column": null,
            "grid_gap": null,
            "grid_row": null,
            "grid_template_areas": null,
            "grid_template_columns": null,
            "grid_template_rows": null,
            "height": null,
            "justify_content": null,
            "justify_items": null,
            "left": null,
            "margin": null,
            "max_height": null,
            "max_width": null,
            "min_height": null,
            "min_width": null,
            "object_fit": null,
            "object_position": null,
            "order": null,
            "overflow": null,
            "overflow_x": null,
            "overflow_y": null,
            "padding": null,
            "right": null,
            "top": null,
            "visibility": null,
            "width": null
          }
        },
        "6c9874dc65b44d41840fc3f371e4d7e9": {
          "model_module": "@jupyter-widgets/controls",
          "model_name": "ProgressStyleModel",
          "model_module_version": "1.5.0",
          "state": {
            "_model_module": "@jupyter-widgets/controls",
            "_model_module_version": "1.5.0",
            "_model_name": "ProgressStyleModel",
            "_view_count": null,
            "_view_module": "@jupyter-widgets/base",
            "_view_module_version": "1.2.0",
            "_view_name": "StyleView",
            "bar_color": null,
            "description_width": ""
          }
        },
        "98ba2c2276f945b486488a9ba0f015e3": {
          "model_module": "@jupyter-widgets/base",
          "model_name": "LayoutModel",
          "model_module_version": "1.2.0",
          "state": {
            "_model_module": "@jupyter-widgets/base",
            "_model_module_version": "1.2.0",
            "_model_name": "LayoutModel",
            "_view_count": null,
            "_view_module": "@jupyter-widgets/base",
            "_view_module_version": "1.2.0",
            "_view_name": "LayoutView",
            "align_content": null,
            "align_items": null,
            "align_self": null,
            "border": null,
            "bottom": null,
            "display": null,
            "flex": null,
            "flex_flow": null,
            "grid_area": null,
            "grid_auto_columns": null,
            "grid_auto_flow": null,
            "grid_auto_rows": null,
            "grid_column": null,
            "grid_gap": null,
            "grid_row": null,
            "grid_template_areas": null,
            "grid_template_columns": null,
            "grid_template_rows": null,
            "height": null,
            "justify_content": null,
            "justify_items": null,
            "left": null,
            "margin": null,
            "max_height": null,
            "max_width": null,
            "min_height": null,
            "min_width": null,
            "object_fit": null,
            "object_position": null,
            "order": null,
            "overflow": null,
            "overflow_x": null,
            "overflow_y": null,
            "padding": null,
            "right": null,
            "top": null,
            "visibility": null,
            "width": null
          }
        },
        "62092f9484ff45cf8df5fd259863bd08": {
          "model_module": "@jupyter-widgets/controls",
          "model_name": "DescriptionStyleModel",
          "model_module_version": "1.5.0",
          "state": {
            "_model_module": "@jupyter-widgets/controls",
            "_model_module_version": "1.5.0",
            "_model_name": "DescriptionStyleModel",
            "_view_count": null,
            "_view_module": "@jupyter-widgets/base",
            "_view_module_version": "1.2.0",
            "_view_name": "StyleView",
            "description_width": ""
          }
        },
        "326aa403bdc945e6a6877222bbbc4652": {
          "model_module": "@jupyter-widgets/controls",
          "model_name": "HBoxModel",
          "model_module_version": "1.5.0",
          "state": {
            "_dom_classes": [],
            "_model_module": "@jupyter-widgets/controls",
            "_model_module_version": "1.5.0",
            "_model_name": "HBoxModel",
            "_view_count": null,
            "_view_module": "@jupyter-widgets/controls",
            "_view_module_version": "1.5.0",
            "_view_name": "HBoxView",
            "box_style": "",
            "children": [
              "IPY_MODEL_19908969766a49799efbc22d068c84be",
              "IPY_MODEL_3fff6f05f5f04dbdb6a0a9f51f6e9d45",
              "IPY_MODEL_dc3c8585787c4987b3414e5d86baed11"
            ],
            "layout": "IPY_MODEL_8a4e6fd9b0a24b47a14d1809136a84b3"
          }
        },
        "19908969766a49799efbc22d068c84be": {
          "model_module": "@jupyter-widgets/controls",
          "model_name": "HTMLModel",
          "model_module_version": "1.5.0",
          "state": {
            "_dom_classes": [],
            "_model_module": "@jupyter-widgets/controls",
            "_model_module_version": "1.5.0",
            "_model_name": "HTMLModel",
            "_view_count": null,
            "_view_module": "@jupyter-widgets/controls",
            "_view_module_version": "1.5.0",
            "_view_name": "HTMLView",
            "description": "",
            "description_tooltip": null,
            "layout": "IPY_MODEL_8ec6e40b415d410db0bdfa591eacf5bc",
            "placeholder": "​",
            "style": "IPY_MODEL_96ba29a6e6d74afb8444ddc92cadb4de",
            "value": "Downloading (…)/main/tokenizer.json: 100%"
          }
        },
        "3fff6f05f5f04dbdb6a0a9f51f6e9d45": {
          "model_module": "@jupyter-widgets/controls",
          "model_name": "FloatProgressModel",
          "model_module_version": "1.5.0",
          "state": {
            "_dom_classes": [],
            "_model_module": "@jupyter-widgets/controls",
            "_model_module_version": "1.5.0",
            "_model_name": "FloatProgressModel",
            "_view_count": null,
            "_view_module": "@jupyter-widgets/controls",
            "_view_module_version": "1.5.0",
            "_view_name": "ProgressView",
            "bar_style": "success",
            "description": "",
            "description_tooltip": null,
            "layout": "IPY_MODEL_8c971d9f1935458db7811376e28f1ba7",
            "max": 435797,
            "min": 0,
            "orientation": "horizontal",
            "style": "IPY_MODEL_5c949c5100044df388c4b494c126e288",
            "value": 435797
          }
        },
        "dc3c8585787c4987b3414e5d86baed11": {
          "model_module": "@jupyter-widgets/controls",
          "model_name": "HTMLModel",
          "model_module_version": "1.5.0",
          "state": {
            "_dom_classes": [],
            "_model_module": "@jupyter-widgets/controls",
            "_model_module_version": "1.5.0",
            "_model_name": "HTMLModel",
            "_view_count": null,
            "_view_module": "@jupyter-widgets/controls",
            "_view_module_version": "1.5.0",
            "_view_name": "HTMLView",
            "description": "",
            "description_tooltip": null,
            "layout": "IPY_MODEL_69181ac4d6694996b7fe6effa90aa3ca",
            "placeholder": "​",
            "style": "IPY_MODEL_684109ccc8d646978fc58fd00bdb3e07",
            "value": " 436k/436k [00:00&lt;00:00, 1.59MB/s]"
          }
        },
        "8a4e6fd9b0a24b47a14d1809136a84b3": {
          "model_module": "@jupyter-widgets/base",
          "model_name": "LayoutModel",
          "model_module_version": "1.2.0",
          "state": {
            "_model_module": "@jupyter-widgets/base",
            "_model_module_version": "1.2.0",
            "_model_name": "LayoutModel",
            "_view_count": null,
            "_view_module": "@jupyter-widgets/base",
            "_view_module_version": "1.2.0",
            "_view_name": "LayoutView",
            "align_content": null,
            "align_items": null,
            "align_self": null,
            "border": null,
            "bottom": null,
            "display": null,
            "flex": null,
            "flex_flow": null,
            "grid_area": null,
            "grid_auto_columns": null,
            "grid_auto_flow": null,
            "grid_auto_rows": null,
            "grid_column": null,
            "grid_gap": null,
            "grid_row": null,
            "grid_template_areas": null,
            "grid_template_columns": null,
            "grid_template_rows": null,
            "height": null,
            "justify_content": null,
            "justify_items": null,
            "left": null,
            "margin": null,
            "max_height": null,
            "max_width": null,
            "min_height": null,
            "min_width": null,
            "object_fit": null,
            "object_position": null,
            "order": null,
            "overflow": null,
            "overflow_x": null,
            "overflow_y": null,
            "padding": null,
            "right": null,
            "top": null,
            "visibility": null,
            "width": null
          }
        },
        "8ec6e40b415d410db0bdfa591eacf5bc": {
          "model_module": "@jupyter-widgets/base",
          "model_name": "LayoutModel",
          "model_module_version": "1.2.0",
          "state": {
            "_model_module": "@jupyter-widgets/base",
            "_model_module_version": "1.2.0",
            "_model_name": "LayoutModel",
            "_view_count": null,
            "_view_module": "@jupyter-widgets/base",
            "_view_module_version": "1.2.0",
            "_view_name": "LayoutView",
            "align_content": null,
            "align_items": null,
            "align_self": null,
            "border": null,
            "bottom": null,
            "display": null,
            "flex": null,
            "flex_flow": null,
            "grid_area": null,
            "grid_auto_columns": null,
            "grid_auto_flow": null,
            "grid_auto_rows": null,
            "grid_column": null,
            "grid_gap": null,
            "grid_row": null,
            "grid_template_areas": null,
            "grid_template_columns": null,
            "grid_template_rows": null,
            "height": null,
            "justify_content": null,
            "justify_items": null,
            "left": null,
            "margin": null,
            "max_height": null,
            "max_width": null,
            "min_height": null,
            "min_width": null,
            "object_fit": null,
            "object_position": null,
            "order": null,
            "overflow": null,
            "overflow_x": null,
            "overflow_y": null,
            "padding": null,
            "right": null,
            "top": null,
            "visibility": null,
            "width": null
          }
        },
        "96ba29a6e6d74afb8444ddc92cadb4de": {
          "model_module": "@jupyter-widgets/controls",
          "model_name": "DescriptionStyleModel",
          "model_module_version": "1.5.0",
          "state": {
            "_model_module": "@jupyter-widgets/controls",
            "_model_module_version": "1.5.0",
            "_model_name": "DescriptionStyleModel",
            "_view_count": null,
            "_view_module": "@jupyter-widgets/base",
            "_view_module_version": "1.2.0",
            "_view_name": "StyleView",
            "description_width": ""
          }
        },
        "8c971d9f1935458db7811376e28f1ba7": {
          "model_module": "@jupyter-widgets/base",
          "model_name": "LayoutModel",
          "model_module_version": "1.2.0",
          "state": {
            "_model_module": "@jupyter-widgets/base",
            "_model_module_version": "1.2.0",
            "_model_name": "LayoutModel",
            "_view_count": null,
            "_view_module": "@jupyter-widgets/base",
            "_view_module_version": "1.2.0",
            "_view_name": "LayoutView",
            "align_content": null,
            "align_items": null,
            "align_self": null,
            "border": null,
            "bottom": null,
            "display": null,
            "flex": null,
            "flex_flow": null,
            "grid_area": null,
            "grid_auto_columns": null,
            "grid_auto_flow": null,
            "grid_auto_rows": null,
            "grid_column": null,
            "grid_gap": null,
            "grid_row": null,
            "grid_template_areas": null,
            "grid_template_columns": null,
            "grid_template_rows": null,
            "height": null,
            "justify_content": null,
            "justify_items": null,
            "left": null,
            "margin": null,
            "max_height": null,
            "max_width": null,
            "min_height": null,
            "min_width": null,
            "object_fit": null,
            "object_position": null,
            "order": null,
            "overflow": null,
            "overflow_x": null,
            "overflow_y": null,
            "padding": null,
            "right": null,
            "top": null,
            "visibility": null,
            "width": null
          }
        },
        "5c949c5100044df388c4b494c126e288": {
          "model_module": "@jupyter-widgets/controls",
          "model_name": "ProgressStyleModel",
          "model_module_version": "1.5.0",
          "state": {
            "_model_module": "@jupyter-widgets/controls",
            "_model_module_version": "1.5.0",
            "_model_name": "ProgressStyleModel",
            "_view_count": null,
            "_view_module": "@jupyter-widgets/base",
            "_view_module_version": "1.2.0",
            "_view_name": "StyleView",
            "bar_color": null,
            "description_width": ""
          }
        },
        "69181ac4d6694996b7fe6effa90aa3ca": {
          "model_module": "@jupyter-widgets/base",
          "model_name": "LayoutModel",
          "model_module_version": "1.2.0",
          "state": {
            "_model_module": "@jupyter-widgets/base",
            "_model_module_version": "1.2.0",
            "_model_name": "LayoutModel",
            "_view_count": null,
            "_view_module": "@jupyter-widgets/base",
            "_view_module_version": "1.2.0",
            "_view_name": "LayoutView",
            "align_content": null,
            "align_items": null,
            "align_self": null,
            "border": null,
            "bottom": null,
            "display": null,
            "flex": null,
            "flex_flow": null,
            "grid_area": null,
            "grid_auto_columns": null,
            "grid_auto_flow": null,
            "grid_auto_rows": null,
            "grid_column": null,
            "grid_gap": null,
            "grid_row": null,
            "grid_template_areas": null,
            "grid_template_columns": null,
            "grid_template_rows": null,
            "height": null,
            "justify_content": null,
            "justify_items": null,
            "left": null,
            "margin": null,
            "max_height": null,
            "max_width": null,
            "min_height": null,
            "min_width": null,
            "object_fit": null,
            "object_position": null,
            "order": null,
            "overflow": null,
            "overflow_x": null,
            "overflow_y": null,
            "padding": null,
            "right": null,
            "top": null,
            "visibility": null,
            "width": null
          }
        },
        "684109ccc8d646978fc58fd00bdb3e07": {
          "model_module": "@jupyter-widgets/controls",
          "model_name": "DescriptionStyleModel",
          "model_module_version": "1.5.0",
          "state": {
            "_model_module": "@jupyter-widgets/controls",
            "_model_module_version": "1.5.0",
            "_model_name": "DescriptionStyleModel",
            "_view_count": null,
            "_view_module": "@jupyter-widgets/base",
            "_view_module_version": "1.2.0",
            "_view_name": "StyleView",
            "description_width": ""
          }
        }
      }
    }
  },
  "cells": [
    {
      "cell_type": "markdown",
      "source": [
        "# Lab2 NMT"
      ],
      "metadata": {
        "id": "8ZeTJbf9S88X"
      }
    },
    {
      "cell_type": "code",
      "source": [
        "!pip install transformers"
      ],
      "metadata": {
        "colab": {
          "base_uri": "https://localhost:8080/"
        },
        "id": "37vxIKc-TNzB",
        "outputId": "17c6a5ae-0a42-40f6-ff67-7bd0ec07220f"
      },
      "execution_count": 6,
      "outputs": [
        {
          "output_type": "stream",
          "name": "stdout",
          "text": [
            "Looking in indexes: https://pypi.org/simple, https://us-python.pkg.dev/colab-wheels/public/simple/\n",
            "Collecting transformers\n",
            "  Downloading transformers-4.29.1-py3-none-any.whl (7.1 MB)\n",
            "\u001b[2K     \u001b[90m━━━━━━━━━━━━━━━━━━━━━━━━━━━━━━━━━━━━━━━━\u001b[0m \u001b[32m7.1/7.1 MB\u001b[0m \u001b[31m91.0 MB/s\u001b[0m eta \u001b[36m0:00:00\u001b[0m\n",
            "\u001b[?25hRequirement already satisfied: filelock in /usr/local/lib/python3.10/dist-packages (from transformers) (3.12.0)\n",
            "Collecting huggingface-hub<1.0,>=0.14.1 (from transformers)\n",
            "  Downloading huggingface_hub-0.14.1-py3-none-any.whl (224 kB)\n",
            "\u001b[2K     \u001b[90m━━━━━━━━━━━━━━━━━━━━━━━━━━━━━━━━━━━━━━\u001b[0m \u001b[32m224.5/224.5 kB\u001b[0m \u001b[31m29.6 MB/s\u001b[0m eta \u001b[36m0:00:00\u001b[0m\n",
            "\u001b[?25hRequirement already satisfied: numpy>=1.17 in /usr/local/lib/python3.10/dist-packages (from transformers) (1.22.4)\n",
            "Requirement already satisfied: packaging>=20.0 in /usr/local/lib/python3.10/dist-packages (from transformers) (23.1)\n",
            "Requirement already satisfied: pyyaml>=5.1 in /usr/local/lib/python3.10/dist-packages (from transformers) (6.0)\n",
            "Requirement already satisfied: regex!=2019.12.17 in /usr/local/lib/python3.10/dist-packages (from transformers) (2022.10.31)\n",
            "Requirement already satisfied: requests in /usr/local/lib/python3.10/dist-packages (from transformers) (2.27.1)\n",
            "Collecting tokenizers!=0.11.3,<0.14,>=0.11.1 (from transformers)\n",
            "  Downloading tokenizers-0.13.3-cp310-cp310-manylinux_2_17_x86_64.manylinux2014_x86_64.whl (7.8 MB)\n",
            "\u001b[2K     \u001b[90m━━━━━━━━━━━━━━━━━━━━━━━━━━━━━━━━━━━━━━━━\u001b[0m \u001b[32m7.8/7.8 MB\u001b[0m \u001b[31m94.7 MB/s\u001b[0m eta \u001b[36m0:00:00\u001b[0m\n",
            "\u001b[?25hRequirement already satisfied: tqdm>=4.27 in /usr/local/lib/python3.10/dist-packages (from transformers) (4.65.0)\n",
            "Requirement already satisfied: fsspec in /usr/local/lib/python3.10/dist-packages (from huggingface-hub<1.0,>=0.14.1->transformers) (2023.4.0)\n",
            "Requirement already satisfied: typing-extensions>=3.7.4.3 in /usr/local/lib/python3.10/dist-packages (from huggingface-hub<1.0,>=0.14.1->transformers) (4.5.0)\n",
            "Requirement already satisfied: urllib3<1.27,>=1.21.1 in /usr/local/lib/python3.10/dist-packages (from requests->transformers) (1.26.15)\n",
            "Requirement already satisfied: certifi>=2017.4.17 in /usr/local/lib/python3.10/dist-packages (from requests->transformers) (2022.12.7)\n",
            "Requirement already satisfied: charset-normalizer~=2.0.0 in /usr/local/lib/python3.10/dist-packages (from requests->transformers) (2.0.12)\n",
            "Requirement already satisfied: idna<4,>=2.5 in /usr/local/lib/python3.10/dist-packages (from requests->transformers) (3.4)\n",
            "Installing collected packages: tokenizers, huggingface-hub, transformers\n",
            "Successfully installed huggingface-hub-0.14.1 tokenizers-0.13.3 transformers-4.29.1\n"
          ]
        }
      ]
    },
    {
      "cell_type": "code",
      "source": [
        "import os\n",
        "\n",
        "# dataset\n",
        "path_do_data = './data.txt'\n",
        "if not os.path.exists(path_do_data):\n",
        "    print(\"Dataset not found locally. Downloading from github.\")\n",
        "    !wget https://raw.githubusercontent.com/neychev/made_nlp_course/master/datasets/Machine_translation_EN_RU/data.txt -nc"
      ],
      "metadata": {
        "id": "Uq_ArHTiymyc"
      },
      "execution_count": 6,
      "outputs": []
    },
    {
      "cell_type": "code",
      "source": [
        "import math\n",
        "import random\n",
        "from functools import partial\n",
        "\n",
        "import torch\n",
        "import torch.nn as nn\n",
        "from tqdm import tqdm\n",
        "import torch.optim as optim\n",
        "from torch.utils.data import DataLoader, random_split\n",
        "import matplotlib.pyplot as plt\n",
        "%matplotlib inline\n",
        "%config InlineBackend.figure_format = 'retina'\n",
        "\n",
        "from train import train_model, evaluate\n",
        "from data_utils import En2RuDataset, process_data, generate_batch\n",
        "from train_utils import (init_weights, init_weights_xavier, count_parameters, \n",
        "                         calc_bleu, plot_history, calc_inference_speed)\n",
        "\n",
        "random.seed(0)\n",
        "torch.manual_seed(0);"
      ],
      "metadata": {
        "colab": {
          "base_uri": "https://localhost:8080/",
          "height": 145,
          "referenced_widgets": [
            "b4d492eafcd844aa93107bbf5378b45e",
            "1aaab4fb05b449b687cf4e22c66c5c1a",
            "b0ce5eb96c264a1cb8049e0258ded71f",
            "0a26bb0ef96e44bb8b8aade44c2aba5e",
            "e81c20f48c9448f78da8e965c1270181",
            "8050b41dc42743b7a719baa83ecfd12d",
            "a8781ebdaf3c43c39dd8baa4e8e6b709",
            "96d7c3729afd4452afb48259830666c5",
            "87db195429934a86ad1aa4cf04ec429b",
            "fc1d093bf9cc497abb710592222a3b1d",
            "b8713624813e4c8d804a5d5711d5b54b",
            "dff2777f976f494bafe7aced3473c5af",
            "fd1fcd54073f4154b548a1a5e6541c81",
            "596c64a9c5074292bf241a94299f7931",
            "f07b27fdbded40a497582bce72ab0fe0",
            "c9e6ef793d564cd28b354bb94fa29a6e",
            "9116fd63e31e469184e8681cab88a8a1",
            "396755b927394d4ca0e7b406ed6a0a5e",
            "141e7230f1fa4d9b841ca76118f3ebc6",
            "73133b4eff5942d487816599bcab7293",
            "cb14a8a72a5f40fda54b9f4d78271d3f",
            "510a3e3048d145b981b364beff99688d",
            "e559d24fed534d509b67bebd58d80fc3",
            "17ade0cdd31b4b589b16fe49f3780575",
            "2fc02e3b698d40b485c03822a670fb95",
            "0ad5af76754d4a94af9cad656585b5dd",
            "a105f2d51fe7446987658a4a8b3e70a4",
            "97fe815567d64965aecc3ee55e2b4010",
            "940120efe77d4996891b972eb66a4610",
            "44b8fe3bfecf465996083bb471ee6aa1",
            "6c9874dc65b44d41840fc3f371e4d7e9",
            "98ba2c2276f945b486488a9ba0f015e3",
            "62092f9484ff45cf8df5fd259863bd08",
            "326aa403bdc945e6a6877222bbbc4652",
            "19908969766a49799efbc22d068c84be",
            "3fff6f05f5f04dbdb6a0a9f51f6e9d45",
            "dc3c8585787c4987b3414e5d86baed11",
            "8a4e6fd9b0a24b47a14d1809136a84b3",
            "8ec6e40b415d410db0bdfa591eacf5bc",
            "96ba29a6e6d74afb8444ddc92cadb4de",
            "8c971d9f1935458db7811376e28f1ba7",
            "5c949c5100044df388c4b494c126e288",
            "69181ac4d6694996b7fe6effa90aa3ca",
            "684109ccc8d646978fc58fd00bdb3e07"
          ]
        },
        "id": "_nsVcRMmTBTI",
        "outputId": "d4fda0b9-5784-4786-dd62-39acd4d8683c"
      },
      "execution_count": 7,
      "outputs": [
        {
          "output_type": "display_data",
          "data": {
            "text/plain": [
              "Downloading (…)okenizer_config.json:   0%|          | 0.00/29.0 [00:00<?, ?B/s]"
            ],
            "application/vnd.jupyter.widget-view+json": {
              "version_major": 2,
              "version_minor": 0,
              "model_id": "b4d492eafcd844aa93107bbf5378b45e"
            }
          },
          "metadata": {}
        },
        {
          "output_type": "display_data",
          "data": {
            "text/plain": [
              "Downloading (…)lve/main/config.json:   0%|          | 0.00/411 [00:00<?, ?B/s]"
            ],
            "application/vnd.jupyter.widget-view+json": {
              "version_major": 2,
              "version_minor": 0,
              "model_id": "dff2777f976f494bafe7aced3473c5af"
            }
          },
          "metadata": {}
        },
        {
          "output_type": "display_data",
          "data": {
            "text/plain": [
              "Downloading (…)solve/main/vocab.txt:   0%|          | 0.00/213k [00:00<?, ?B/s]"
            ],
            "application/vnd.jupyter.widget-view+json": {
              "version_major": 2,
              "version_minor": 0,
              "model_id": "e559d24fed534d509b67bebd58d80fc3"
            }
          },
          "metadata": {}
        },
        {
          "output_type": "display_data",
          "data": {
            "text/plain": [
              "Downloading (…)/main/tokenizer.json:   0%|          | 0.00/436k [00:00<?, ?B/s]"
            ],
            "application/vnd.jupyter.widget-view+json": {
              "version_major": 2,
              "version_minor": 0,
              "model_id": "326aa403bdc945e6a6877222bbbc4652"
            }
          },
          "metadata": {}
        }
      ]
    },
    {
      "cell_type": "code",
      "source": [
        "en_ru_tensors, en_vocab, ru_vocab = process_data('data.txt')\n",
        "en_ru_lengths = [(len(en_t), len(ru_t)) for en_t, ru_t in en_ru_tensors]\n",
        "print('en/ru max tensors length:', *max(en_ru_lengths))"
      ],
      "metadata": {
        "colab": {
          "base_uri": "https://localhost:8080/"
        },
        "id": "lVaS4nM9TuOj",
        "outputId": "8436350d-6281-4802-c740-26b4f6b5e1bb"
      },
      "execution_count": 8,
      "outputs": [
        {
          "output_type": "stream",
          "name": "stdout",
          "text": [
            "en/ru max tensors length: 99 80\n"
          ]
        }
      ]
    },
    {
      "cell_type": "markdown",
      "source": [
        "## Baseline LSTM Seq2Seq"
      ],
      "metadata": {
        "id": "GYeaPOJwTIMv"
      }
    },
    {
      "cell_type": "code",
      "source": [
        "from models.lstm_baseline import Encoder, Decoder, Seq2Seq"
      ],
      "metadata": {
        "id": "JXTdDDspT6Fj"
      },
      "execution_count": null,
      "outputs": []
    },
    {
      "cell_type": "code",
      "source": [
        "BATCH_SIZE = 128\n",
        "\n",
        "en2ru_dataset = En2RuDataset(en_ru_tensors)\n",
        "train_data, val_data, test_data = random_split(en2ru_dataset, lengths=[0.8, 0.15, 0.05])\n",
        "print(f'train: {len(train_data)}, val: {len(val_data)}, test: {len(test_data)}')\n",
        "\n",
        "collate_fn = partial(generate_batch, en_vocab=en_vocab, ru_vocab=ru_vocab, batch_first=False)\n",
        "train_loader = DataLoader(train_data, batch_size=BATCH_SIZE, shuffle=True, collate_fn=collate_fn)\n",
        "val_loader = DataLoader(val_data, batch_size=BATCH_SIZE, shuffle=False, collate_fn=collate_fn)\n",
        "test_loader = DataLoader(test_data, batch_size=BATCH_SIZE, shuffle=False, collate_fn=collate_fn)"
      ],
      "metadata": {
        "colab": {
          "base_uri": "https://localhost:8080/"
        },
        "id": "zLhrFmgRTHuV",
        "outputId": "039a1d1c-6d38-40e3-ba3c-8882674ce8af"
      },
      "execution_count": null,
      "outputs": [
        {
          "output_type": "stream",
          "name": "stdout",
          "text": [
            "train: 40000, val: 7500, test: 2500\n"
          ]
        }
      ]
    },
    {
      "cell_type": "code",
      "source": [
        "INPUT_DIM = len(en_vocab)  # len(source_vocab)\n",
        "OUTPUT_DIM = len(ru_vocab)  # len(target_vocab)\n",
        "ENC_EMB_DIM = 256\n",
        "DEC_EMB_DIM = 256\n",
        "HID_DIM = 512\n",
        "NUM_LAYERS = 2\n",
        "ENC_DROPOUT = 0.5\n",
        "DEC_DROPOUT = 0.5\n",
        "\n",
        "device = torch.device('cuda' if torch.cuda.is_available() else 'cpu')\n",
        "print(f'device: {device}')\n",
        "encoder = Encoder(INPUT_DIM, ENC_EMB_DIM, HID_DIM, NUM_LAYERS, ENC_DROPOUT)\n",
        "decoder = Decoder(OUTPUT_DIM, DEC_EMB_DIM, HID_DIM, NUM_LAYERS, DEC_DROPOUT)\n",
        "model = Seq2Seq(encoder, decoder, device).to(device)\n",
        "model.apply(init_weights)\n",
        "print(f'The model has {count_parameters(model):,} trainable parameters')\n",
        "\n",
        "MODEL_NAME = 'baseline_model'\n",
        "LEARNING_RATE = 1e-3\n",
        "NUM_EPOCHS = 15\n",
        "CLIP = 1\n",
        "\n",
        "optimizer = optim.AdamW(model.parameters(), lr=LEARNING_RATE)\n",
        "# when scoring the performance of a language translation model in particular,\n",
        "# we have to tell the nn.CrossEntropyLoss function to ignore the indices where\n",
        "# the target is simply padding\n",
        "criterion = nn.CrossEntropyLoss(ignore_index=ru_vocab['<pad>'])\n",
        "scheduler = optim.lr_scheduler.ReduceLROnPlateau(\n",
        "    optimizer, factor=0.5, patience=2, min_lr=1e-6, verbose=True\n",
        ")"
      ],
      "metadata": {
        "colab": {
          "base_uri": "https://localhost:8080/"
        },
        "id": "E2iLQyo4T4Ac",
        "outputId": "e02de7f1-4d58-444f-cced-54f4025f10e3"
      },
      "execution_count": null,
      "outputs": [
        {
          "output_type": "stream",
          "name": "stdout",
          "text": [
            "device: cuda\n",
            "The model has 17,664,815 trainable parameters\n"
          ]
        }
      ]
    },
    {
      "cell_type": "code",
      "source": [
        "model"
      ],
      "metadata": {
        "colab": {
          "base_uri": "https://localhost:8080/"
        },
        "id": "giCmJa1qUG64",
        "outputId": "2942a025-dd91-4517-fe53-465ea9f2e5c8"
      },
      "execution_count": null,
      "outputs": [
        {
          "output_type": "execute_result",
          "data": {
            "text/plain": [
              "Seq2Seq(\n",
              "  (encoder): Encoder(\n",
              "    (embedding): Embedding(7828, 256)\n",
              "    (rnn): LSTM(256, 512, num_layers=2, dropout=0.5)\n",
              "    (dropout): Dropout(p=0.5, inplace=False)\n",
              "  )\n",
              "  (decoder): Decoder(\n",
              "    (embedding): Embedding(10799, 256)\n",
              "    (rnn): LSTM(256, 512, num_layers=2, dropout=0.5)\n",
              "    (out): Linear(in_features=512, out_features=10799, bias=True)\n",
              "    (dropout): Dropout(p=0.5, inplace=False)\n",
              "  )\n",
              ")"
            ]
          },
          "metadata": {},
          "execution_count": 11
        }
      ]
    },
    {
      "cell_type": "code",
      "source": [
        "%%time\n",
        "train_history, val_history = train_model(\n",
        "    model, device, NUM_EPOCHS,\n",
        "    train_loader, val_loader, optimizer, criterion,\n",
        "    scheduler, CLIP, model_name=MODEL_NAME\n",
        ")"
      ],
      "metadata": {
        "colab": {
          "base_uri": "https://localhost:8080/"
        },
        "id": "cWi02xkDUDq1",
        "outputId": "ae8467ce-777f-45f7-c7dd-ca751f2a8890"
      },
      "execution_count": null,
      "outputs": [
        {
          "output_type": "stream",
          "name": "stderr",
          "text": [
            "train: 100%|██████████| 313/313 [02:04<00:00,  2.52it/s]\n",
            "evaluate: 100%|██████████| 59/59 [00:08<00:00,  6.93it/s]\n"
          ]
        },
        {
          "output_type": "stream",
          "name": "stdout",
          "text": [
            "Epoch: 01 | Time: 2m 12s\n",
            "\tTrain Loss: 5.661 | Train PPL: 287.450\n",
            "\t Val. Loss: 5.878 |  Val. PPL: 357.214\n"
          ]
        },
        {
          "output_type": "stream",
          "name": "stderr",
          "text": [
            "train: 100%|██████████| 313/313 [02:01<00:00,  2.57it/s]\n",
            "evaluate: 100%|██████████| 59/59 [00:08<00:00,  6.87it/s]\n"
          ]
        },
        {
          "output_type": "stream",
          "name": "stdout",
          "text": [
            "Epoch: 02 | Time: 2m 10s\n",
            "\tTrain Loss: 4.664 | Train PPL: 106.033\n",
            "\t Val. Loss: 5.734 |  Val. PPL: 309.182\n"
          ]
        },
        {
          "output_type": "stream",
          "name": "stderr",
          "text": [
            "train: 100%|██████████| 313/313 [02:02<00:00,  2.55it/s]\n",
            "evaluate: 100%|██████████| 59/59 [00:08<00:00,  6.77it/s]\n"
          ]
        },
        {
          "output_type": "stream",
          "name": "stdout",
          "text": [
            "Epoch: 03 | Time: 2m 11s\n",
            "\tTrain Loss: 4.028 | Train PPL:  56.161\n",
            "\t Val. Loss: 5.533 |  Val. PPL: 252.994\n"
          ]
        },
        {
          "output_type": "stream",
          "name": "stderr",
          "text": [
            "train: 100%|██████████| 313/313 [02:02<00:00,  2.56it/s]\n",
            "evaluate: 100%|██████████| 59/59 [00:08<00:00,  6.83it/s]\n"
          ]
        },
        {
          "output_type": "stream",
          "name": "stdout",
          "text": [
            "Epoch: 04 | Time: 2m 11s\n",
            "\tTrain Loss: 3.713 | Train PPL:  40.957\n",
            "\t Val. Loss: 5.387 |  Val. PPL: 218.528\n"
          ]
        },
        {
          "output_type": "stream",
          "name": "stderr",
          "text": [
            "train: 100%|██████████| 313/313 [02:02<00:00,  2.55it/s]\n",
            "evaluate: 100%|██████████| 59/59 [00:08<00:00,  6.96it/s]\n"
          ]
        },
        {
          "output_type": "stream",
          "name": "stdout",
          "text": [
            "Epoch: 05 | Time: 2m 11s\n",
            "\tTrain Loss: 3.488 | Train PPL:  32.715\n",
            "\t Val. Loss: 5.274 |  Val. PPL: 195.105\n"
          ]
        },
        {
          "output_type": "stream",
          "name": "stderr",
          "text": [
            "train: 100%|██████████| 313/313 [02:10<00:00,  2.40it/s]\n",
            "evaluate: 100%|██████████| 59/59 [00:08<00:00,  6.92it/s]\n"
          ]
        },
        {
          "output_type": "stream",
          "name": "stdout",
          "text": [
            "Epoch: 06 | Time: 2m 18s\n",
            "\tTrain Loss: 3.319 | Train PPL:  27.644\n",
            "\t Val. Loss: 5.217 |  Val. PPL: 184.408\n"
          ]
        },
        {
          "output_type": "stream",
          "name": "stderr",
          "text": [
            "train: 100%|██████████| 313/313 [02:05<00:00,  2.50it/s]\n",
            "evaluate: 100%|██████████| 59/59 [00:08<00:00,  7.02it/s]\n"
          ]
        },
        {
          "output_type": "stream",
          "name": "stdout",
          "text": [
            "Epoch: 07 | Time: 2m 13s\n",
            "\tTrain Loss: 3.187 | Train PPL:  24.223\n",
            "\t Val. Loss: 5.182 |  Val. PPL: 178.120\n"
          ]
        },
        {
          "output_type": "stream",
          "name": "stderr",
          "text": [
            "train: 100%|██████████| 313/313 [02:06<00:00,  2.47it/s]\n",
            "evaluate: 100%|██████████| 59/59 [00:09<00:00,  6.00it/s]\n"
          ]
        },
        {
          "output_type": "stream",
          "name": "stdout",
          "text": [
            "Epoch: 08 | Time: 2m 16s\n",
            "\tTrain Loss: 3.074 | Train PPL:  21.637\n",
            "\t Val. Loss: 5.070 |  Val. PPL: 159.198\n"
          ]
        },
        {
          "output_type": "stream",
          "name": "stderr",
          "text": [
            "train: 100%|██████████| 313/313 [02:04<00:00,  2.51it/s]\n",
            "evaluate: 100%|██████████| 59/59 [00:08<00:00,  6.78it/s]\n"
          ]
        },
        {
          "output_type": "stream",
          "name": "stdout",
          "text": [
            "Epoch: 09 | Time: 2m 13s\n",
            "\tTrain Loss: 2.995 | Train PPL:  19.977\n",
            "\t Val. Loss: 5.136 |  Val. PPL: 170.005\n"
          ]
        },
        {
          "output_type": "stream",
          "name": "stderr",
          "text": [
            "train: 100%|██████████| 313/313 [02:01<00:00,  2.58it/s]\n",
            "evaluate: 100%|██████████| 59/59 [00:08<00:00,  6.91it/s]\n"
          ]
        },
        {
          "output_type": "stream",
          "name": "stdout",
          "text": [
            "Epoch: 10 | Time: 2m 9s\n",
            "\tTrain Loss: 2.909 | Train PPL:  18.338\n",
            "\t Val. Loss: 5.039 |  Val. PPL: 154.336\n"
          ]
        },
        {
          "output_type": "stream",
          "name": "stderr",
          "text": [
            "train: 100%|██████████| 313/313 [02:03<00:00,  2.53it/s]\n",
            "evaluate: 100%|██████████| 59/59 [00:08<00:00,  6.71it/s]\n"
          ]
        },
        {
          "output_type": "stream",
          "name": "stdout",
          "text": [
            "Epoch: 11 | Time: 2m 12s\n",
            "\tTrain Loss: 2.802 | Train PPL:  16.483\n",
            "\t Val. Loss: 5.080 |  Val. PPL: 160.788\n"
          ]
        },
        {
          "output_type": "stream",
          "name": "stderr",
          "text": [
            "train: 100%|██████████| 313/313 [02:03<00:00,  2.53it/s]\n",
            "evaluate: 100%|██████████| 59/59 [00:08<00:00,  6.85it/s]\n"
          ]
        },
        {
          "output_type": "stream",
          "name": "stdout",
          "text": [
            "Epoch: 12 | Time: 2m 12s\n",
            "\tTrain Loss: 2.749 | Train PPL:  15.627\n",
            "\t Val. Loss: 5.072 |  Val. PPL: 159.484\n"
          ]
        },
        {
          "output_type": "stream",
          "name": "stderr",
          "text": [
            "train: 100%|██████████| 313/313 [02:03<00:00,  2.54it/s]\n",
            "evaluate: 100%|██████████| 59/59 [00:08<00:00,  7.02it/s]\n"
          ]
        },
        {
          "output_type": "stream",
          "name": "stdout",
          "text": [
            "Epoch 00013: reducing learning rate of group 0 to 5.0000e-04.\n",
            "Epoch: 13 | Time: 2m 11s\n",
            "\tTrain Loss: 2.665 | Train PPL:  14.368\n",
            "\t Val. Loss: 5.083 |  Val. PPL: 161.212\n"
          ]
        },
        {
          "output_type": "stream",
          "name": "stderr",
          "text": [
            "train: 100%|██████████| 313/313 [02:11<00:00,  2.39it/s]\n",
            "evaluate: 100%|██████████| 59/59 [00:10<00:00,  5.85it/s]\n"
          ]
        },
        {
          "output_type": "stream",
          "name": "stdout",
          "text": [
            "Epoch: 14 | Time: 2m 21s\n",
            "\tTrain Loss: 2.538 | Train PPL:  12.660\n",
            "\t Val. Loss: 4.986 |  Val. PPL: 146.381\n"
          ]
        },
        {
          "output_type": "stream",
          "name": "stderr",
          "text": [
            "train: 100%|██████████| 313/313 [02:07<00:00,  2.46it/s]\n",
            "evaluate: 100%|██████████| 59/59 [00:08<00:00,  6.82it/s]"
          ]
        },
        {
          "output_type": "stream",
          "name": "stdout",
          "text": [
            "Epoch: 15 | Time: 2m 15s\n",
            "\tTrain Loss: 2.524 | Train PPL:  12.483\n",
            "\t Val. Loss: 5.030 |  Val. PPL: 152.867\n",
            "CPU times: user 30min 35s, sys: 1min 20s, total: 31min 56s\n",
            "Wall time: 33min 39s\n"
          ]
        },
        {
          "output_type": "stream",
          "name": "stderr",
          "text": [
            "\n"
          ]
        }
      ]
    },
    {
      "cell_type": "code",
      "source": [
        "plot_history(train_history, val_history)"
      ],
      "metadata": {
        "colab": {
          "base_uri": "https://localhost:8080/",
          "height": 216
        },
        "id": "6tfBQygHSp6Z",
        "outputId": "8e12ab18-e055-4cb5-e9e3-fb03dd803709"
      },
      "execution_count": null,
      "outputs": [
        {
          "output_type": "display_data",
          "data": {
            "text/plain": [
              "<Figure size 400x200 with 1 Axes>"
            ],
            "image/png": "[encoded data removed]"
          },
          "metadata": {
            "image/png": {
              "width": 347,
              "height": 199
            }
          }
        }
      ]
    },
    {
      "cell_type": "markdown",
      "source": [
        "At times, the validation loss is greater than the training loss. This may indicate that the model is underfitting. Underfitting occurs when the model is unable to accurately model the training data, and hence generates large errors.\n",
        "\n",
        "Furthermore, the results in this scenario indicate that further training is needed to reduce the loss incurred during training. Alternatively, we can also increase the training data either by obtaining more samples or augmenting the data."
      ],
      "metadata": {
        "id": "S2pJi-_IabSk"
      }
    },
    {
      "cell_type": "code",
      "source": [
        "# load best model\n",
        "with open(f'{MODEL_NAME}.pt', 'rb') as fp:\n",
        "    checkpoint = torch.load(fp, map_location='cpu')\n",
        "    model.load_state_dict(checkpoint['model_state_dict'])\n",
        "model.to(device)\n",
        "\n",
        "test_loss = evaluate(model, device, test_loader, criterion)\n",
        "print(f'\\nTest Loss: {test_loss:.3f} | Test PPL: {math.exp(test_loss):7.3f} \\n')\n",
        "\n",
        "calc_bleu(model, device, test_loader, en_vocab, ru_vocab, num_examples=5)"
      ],
      "metadata": {
        "colab": {
          "base_uri": "https://localhost:8080/"
        },
        "id": "9dqC1DMQUMZC",
        "outputId": "0a7421de-def1-4398-d333-9b3bbd215e48"
      },
      "execution_count": null,
      "outputs": [
        {
          "output_type": "stream",
          "name": "stderr",
          "text": [
            "evaluate: 100%|██████████| 20/20 [00:03<00:00,  6.53it/s]\n"
          ]
        },
        {
          "output_type": "stream",
          "name": "stdout",
          "text": [
            "\n",
            "Test Loss: 5.007 | Test PPL: 149.514 \n",
            "\n"
          ]
        },
        {
          "output_type": "stream",
          "name": "stderr",
          "text": [
            "bleu: 100%|██████████| 20/20 [00:23<00:00,  1.16s/it]\n"
          ]
        },
        {
          "output_type": "stream",
          "name": "stdout",
          "text": [
            "bleu: 17.919\n",
            "\n",
            "input: the features rooms and apartments with unique historic interiors and free wi - fi .\n",
            "target: в номерах и апартаментах отеля с уникальными историческими предоставляется бесплатный wi - fi .\n",
            "generated: в и . предоставляется бесплатный wi - fi . \n",
            "\n",
            "input: the wellness centre features a gym , a sauna and a turkish bath .\n",
            "target: в оздоровительном центре гости могут посетить тренажерный зал , сауну и турецкую баню .\n",
            "generated: в спа - центре отеля можно посетить сауну и паровую баню . \n",
            "\n",
            "input: you will find a variety of restaurants and shops in the vicinity .\n",
            "target: рядом с комплексом работает множество ресторанов и магазинов .\n",
            "generated: в непосредственной близости от отеля работают различные рестораны и рестораны . \n",
            "\n",
            "input: jolly amusement park is 3 miles away .\n",
            "target: расстояние от отеля до парка аттракционов составляет 4 , 8 км .\n",
            "generated: расстояние до парка - - составляет 3 , 5 км . \n",
            "\n",
            "input: you can play table tennis at the guest house .\n",
            "target: в гостевом доме можно поиграть в настольный теннис .\n",
            "generated: гости могут поиграть в настольный теннис . \n",
            "\n"
          ]
        }
      ]
    },
    {
      "cell_type": "code",
      "source": [
        "# benchmark\n",
        "BATCH_SIZE = 32\n",
        "speed_test_loader = DataLoader(test_data, batch_size=BATCH_SIZE, shuffle=False, collate_fn=collate_fn)\n",
        "print(f'batch size: {BATCH_SIZE}\\nnum batches: {len(speed_test_loader)}')\n",
        "\n",
        "inference_times = calc_inference_speed(model, device, speed_test_loader)\n",
        "\n",
        "mean_inference_time = sum(inference_times) / len(inference_times)\n",
        "# number of examples network can process in one second\n",
        "inference_speed = len(speed_test_loader) * BATCH_SIZE / sum(inference_times)\n",
        "print(f'\\nmean inference time: {mean_inference_time:.2f} s\\ninference speed: {inference_speed:.2f} samples/s')"
      ],
      "metadata": {
        "colab": {
          "base_uri": "https://localhost:8080/"
        },
        "id": "Ye951TY0iQ7n",
        "outputId": "efc8bf17-e8a9-4d60-b009-eac549b5b73d"
      },
      "execution_count": null,
      "outputs": [
        {
          "output_type": "stream",
          "name": "stdout",
          "text": [
            "batch size: 32\n",
            "num batches: 79\n"
          ]
        },
        {
          "output_type": "stream",
          "name": "stderr",
          "text": [
            "speed test: 100%|██████████| 79/79 [00:05<00:00, 13.86it/s]"
          ]
        },
        {
          "output_type": "stream",
          "name": "stdout",
          "text": [
            "\n",
            "mean inference time: 0.07 s\n",
            "inference speed: 472.22 samples/s\n"
          ]
        },
        {
          "output_type": "stream",
          "name": "stderr",
          "text": [
            "\n"
          ]
        }
      ]
    },
    {
      "cell_type": "markdown",
      "source": [
        "## GRU + Attention Seq2Seq"
      ],
      "metadata": {
        "id": "NzsKNC2sURiu"
      }
    },
    {
      "cell_type": "code",
      "source": [
        "from models.gru_attention import Encoder, Attention, Decoder, Seq2Seq"
      ],
      "metadata": {
        "id": "ZGwz3fNwUi2B"
      },
      "execution_count": null,
      "outputs": []
    },
    {
      "cell_type": "code",
      "source": [
        "BATCH_SIZE = 128\n",
        "\n",
        "en2ru_dataset = En2RuDataset(en_ru_tensors)\n",
        "train_data, val_data, test_data = random_split(en2ru_dataset, lengths=[0.8, 0.15, 0.05])\n",
        "print(f'train: {len(train_data)}, val: {len(val_data)}, test: {len(test_data)}')\n",
        "\n",
        "collate_fn = partial(generate_batch, en_vocab=en_vocab, ru_vocab=ru_vocab, batch_first=False)\n",
        "train_loader = DataLoader(train_data, batch_size=BATCH_SIZE, shuffle=True, collate_fn=collate_fn)\n",
        "val_loader = DataLoader(val_data, batch_size=BATCH_SIZE, shuffle=False, collate_fn=collate_fn)\n",
        "test_loader = DataLoader(test_data, batch_size=BATCH_SIZE, shuffle=False, collate_fn=collate_fn)"
      ],
      "metadata": {
        "colab": {
          "base_uri": "https://localhost:8080/"
        },
        "id": "tNuqTSjMUbL7",
        "outputId": "37a6deee-3ed6-4dbb-b68a-e9af5ec3c3f7"
      },
      "execution_count": null,
      "outputs": [
        {
          "output_type": "stream",
          "name": "stdout",
          "text": [
            "train: 40000, val: 7500, test: 2500\n"
          ]
        }
      ]
    },
    {
      "cell_type": "code",
      "source": [
        "INPUT_DIM = len(en_vocab)\n",
        "OUTPUT_DIM = len(ru_vocab)\n",
        "ENC_EMB_DIM = 256\n",
        "DEC_EMB_DIM = 256\n",
        "ENC_HID_DIM = 512\n",
        "DEC_HID_DIM = 512\n",
        "ATTN_DIM = 64\n",
        "ENC_DROPOUT = 0.5\n",
        "DEC_DROPOUT = 0.5\n",
        "\n",
        "device = torch.device('cuda' if torch.cuda.is_available() else 'cpu')\n",
        "print(f'device: {device}')\n",
        "encoder = Encoder(INPUT_DIM, ENC_EMB_DIM, ENC_HID_DIM, DEC_HID_DIM, ENC_DROPOUT)\n",
        "attention = Attention(ENC_HID_DIM, DEC_HID_DIM, ATTN_DIM)\n",
        "decoder = Decoder(OUTPUT_DIM, DEC_EMB_DIM, ENC_HID_DIM, DEC_HID_DIM, DEC_DROPOUT, attention)\n",
        "model = Seq2Seq(encoder, decoder, device).to(device)\n",
        "model.apply(init_weights)\n",
        "print(f'The model has {count_parameters(model):,} trainable parameters')\n",
        "\n",
        "MODEL_NAME = 'attention_model'\n",
        "LEARNING_RATE = 1e-3\n",
        "NUM_EPOCHS = 10\n",
        "CLIP = 1\n",
        "\n",
        "optimizer = optim.AdamW(model.parameters(), lr=LEARNING_RATE)\n",
        "criterion = nn.CrossEntropyLoss(ignore_index=ru_vocab['<pad>'])\n",
        "scheduler = optim.lr_scheduler.ReduceLROnPlateau(\n",
        "    optimizer, factor=0.5, patience=2, min_lr=1e-6, verbose=True\n",
        ")"
      ],
      "metadata": {
        "colab": {
          "base_uri": "https://localhost:8080/"
        },
        "id": "1ft8TQ-oUoU-",
        "outputId": "fbf2ba12-171e-431a-a1d2-19367c60e041"
      },
      "execution_count": null,
      "outputs": [
        {
          "output_type": "stream",
          "name": "stdout",
          "text": [
            "device: cuda\n",
            "The model has 29,875,311 trainable parameters\n"
          ]
        }
      ]
    },
    {
      "cell_type": "code",
      "source": [
        "model"
      ],
      "metadata": {
        "colab": {
          "base_uri": "https://localhost:8080/"
        },
        "id": "bJMq6F0BU1ZD",
        "outputId": "c8581757-7709-4eaa-d776-46825f688e16"
      },
      "execution_count": null,
      "outputs": [
        {
          "output_type": "execute_result",
          "data": {
            "text/plain": [
              "Seq2Seq(\n",
              "  (encoder): Encoder(\n",
              "    (embedding): Embedding(7828, 256)\n",
              "    (rnn): GRU(256, 512, bidirectional=True)\n",
              "    (fc): Linear(in_features=1024, out_features=512, bias=True)\n",
              "    (dropout): Dropout(p=0.5, inplace=False)\n",
              "  )\n",
              "  (decoder): Decoder(\n",
              "    (attention): Attention(\n",
              "      (attn): Linear(in_features=1536, out_features=64, bias=True)\n",
              "    )\n",
              "    (embedding): Embedding(10799, 256)\n",
              "    (rnn): GRU(1280, 512)\n",
              "    (out): Linear(in_features=1792, out_features=10799, bias=True)\n",
              "    (dropout): Dropout(p=0.5, inplace=False)\n",
              "  )\n",
              ")"
            ]
          },
          "metadata": {},
          "execution_count": 18
        }
      ]
    },
    {
      "cell_type": "code",
      "source": [
        "%%time\n",
        "train_history, val_history = train_model(\n",
        "    model, device, NUM_EPOCHS,\n",
        "    train_loader, val_loader, optimizer, criterion,\n",
        "    scheduler, CLIP, model_name=MODEL_NAME\n",
        ")"
      ],
      "metadata": {
        "colab": {
          "base_uri": "https://localhost:8080/"
        },
        "id": "LiT6nD-lUwDM",
        "outputId": "61f3e376-9af7-4870-b332-d1cb275f8c68"
      },
      "execution_count": null,
      "outputs": [
        {
          "metadata": {
            "tags": null
          },
          "name": "stderr",
          "output_type": "stream",
          "text": [
            "train: 100%|██████████| 313/313 [03:57<00:00,  1.32it/s]\n",
            "evaluate: 100%|██████████| 59/59 [00:20<00:00,  2.90it/s]\n"
          ]
        },
        {
          "metadata": {
            "tags": null
          },
          "name": "stdout",
          "output_type": "stream",
          "text": [
            "Epoch: 01 | Time: 4m 18s\n",
            "\tTrain Loss: 4.570 | Train PPL:  96.540\n",
            "\t Val. Loss: 4.832 |  Val. PPL: 125.462\n"
          ]
        },
        {
          "output_type": "stream",
          "name": "stderr",
          "text": [
            "train: 100%|██████████| 313/313 [03:56<00:00,  1.32it/s]\n",
            "evaluate: 100%|██████████| 59/59 [00:19<00:00,  2.96it/s]\n"
          ]
        },
        {
          "output_type": "stream",
          "name": "stdout",
          "text": [
            "Epoch: 02 | Time: 4m 16s\n",
            "\tTrain Loss: 3.230 | Train PPL:  25.283\n",
            "\t Val. Loss: 4.719 |  Val. PPL: 112.077\n"
          ]
        },
        {
          "output_type": "stream",
          "name": "stderr",
          "text": [
            "train: 100%|██████████| 313/313 [03:57<00:00,  1.32it/s]\n",
            "evaluate: 100%|██████████| 59/59 [00:19<00:00,  2.95it/s]\n"
          ]
        },
        {
          "output_type": "stream",
          "name": "stdout",
          "text": [
            "Epoch: 03 | Time: 4m 17s\n",
            "\tTrain Loss: 2.766 | Train PPL:  15.898\n",
            "\t Val. Loss: 4.603 |  Val. PPL:  99.790\n"
          ]
        },
        {
          "output_type": "stream",
          "name": "stderr",
          "text": [
            "train: 100%|██████████| 313/313 [03:59<00:00,  1.31it/s]\n",
            "evaluate: 100%|██████████| 59/59 [00:20<00:00,  2.93it/s]\n"
          ]
        },
        {
          "output_type": "stream",
          "name": "stdout",
          "text": [
            "Epoch: 04 | Time: 4m 19s\n",
            "\tTrain Loss: 2.449 | Train PPL:  11.577\n",
            "\t Val. Loss: 4.661 |  Val. PPL: 105.721\n"
          ]
        },
        {
          "output_type": "stream",
          "name": "stderr",
          "text": [
            "train: 100%|██████████| 313/313 [03:57<00:00,  1.32it/s]\n",
            "evaluate: 100%|██████████| 59/59 [00:19<00:00,  2.96it/s]\n"
          ]
        },
        {
          "output_type": "stream",
          "name": "stdout",
          "text": [
            "Epoch: 05 | Time: 4m 17s\n",
            "\tTrain Loss: 2.232 | Train PPL:   9.319\n",
            "\t Val. Loss: 4.652 |  Val. PPL: 104.813\n"
          ]
        },
        {
          "output_type": "stream",
          "name": "stderr",
          "text": [
            "train: 100%|██████████| 313/313 [03:57<00:00,  1.32it/s]\n",
            "evaluate: 100%|██████████| 59/59 [00:20<00:00,  2.93it/s]\n"
          ]
        },
        {
          "output_type": "stream",
          "name": "stdout",
          "text": [
            "Epoch: 06 | Time: 4m 18s\n",
            "\tTrain Loss: 2.027 | Train PPL:   7.593\n",
            "\t Val. Loss: 4.586 |  Val. PPL:  98.100\n"
          ]
        },
        {
          "output_type": "stream",
          "name": "stderr",
          "text": [
            "evaluate: 100%|██████████| 59/59 [00:19<00:00,  2.97it/s]\n"
          ]
        },
        {
          "output_type": "stream",
          "name": "stdout",
          "text": [
            "Epoch: 07 | Time: 4m 16s\n",
            "\tTrain Loss: 1.861 | Train PPL:   6.427\n",
            "\t Val. Loss: 4.688 |  Val. PPL: 108.601\n"
          ]
        },
        {
          "output_type": "stream",
          "name": "stderr",
          "text": [
            "train: 100%|██████████| 313/313 [03:56<00:00,  1.33it/s]\n",
            "evaluate: 100%|██████████| 59/59 [00:19<00:00,  2.96it/s]\n"
          ]
        },
        {
          "output_type": "stream",
          "name": "stdout",
          "text": [
            "Epoch: 08 | Time: 4m 16s\n",
            "\tTrain Loss: 1.750 | Train PPL:   5.755\n",
            "\t Val. Loss: 4.782 |  Val. PPL: 119.335\n"
          ]
        },
        {
          "output_type": "stream",
          "name": "stderr",
          "text": [
            "train: 100%|██████████| 313/313 [03:59<00:00,  1.31it/s]\n",
            "evaluate: 100%|██████████| 59/59 [00:20<00:00,  2.90it/s]\n"
          ]
        },
        {
          "output_type": "stream",
          "name": "stdout",
          "text": [
            "Epoch 00009: reducing learning rate of group 0 to 5.0000e-04.\n",
            "Epoch: 09 | Time: 4m 19s\n",
            "\tTrain Loss: 1.666 | Train PPL:   5.292\n",
            "\t Val. Loss: 4.786 |  Val. PPL: 119.808\n"
          ]
        },
        {
          "output_type": "stream",
          "name": "stderr",
          "text": [
            "train: 100%|██████████| 313/313 [03:59<00:00,  1.31it/s]\n",
            "evaluate: 100%|██████████| 59/59 [00:19<00:00,  2.97it/s]"
          ]
        },
        {
          "output_type": "stream",
          "name": "stdout",
          "text": [
            "Epoch: 10 | Time: 4m 19s\n",
            "\tTrain Loss: 1.430 | Train PPL:   4.180\n",
            "\t Val. Loss: 4.949 |  Val. PPL: 141.051\n",
            "CPU times: user 29min 16s, sys: 13min 27s, total: 42min 44s\n",
            "Wall time: 43min 16s\n"
          ]
        },
        {
          "output_type": "stream",
          "name": "stderr",
          "text": [
            "\n"
          ]
        }
      ]
    },
    {
      "cell_type": "code",
      "source": [
        "plot_history(train_history, val_history)"
      ],
      "metadata": {
        "colab": {
          "base_uri": "https://localhost:8080/",
          "height": 213
        },
        "id": "AnEdarC-ZdN_",
        "outputId": "9e43fc3e-6c0e-40b5-ae85-413e79eee43f"
      },
      "execution_count": null,
      "outputs": [
        {
          "output_type": "display_data",
          "data": {
            "text/plain": [
              "<Figure size 400x200 with 1 Axes>"
            ],
            "image/png": "[encoded data removed]"
          },
          "metadata": {
            "image/png": {
              "width": 347,
              "height": 196
            }
          }
        }
      ]
    },
    {
      "cell_type": "markdown",
      "source": [
        "Overfitting occurs after 6 epochs."
      ],
      "metadata": {
        "id": "gJ4ioxHapPru"
      }
    },
    {
      "cell_type": "code",
      "source": [
        "# load best model\n",
        "with open(f'{MODEL_NAME}.pt', 'rb') as fp:\n",
        "    checkpoint = torch.load(fp, map_location='cpu')\n",
        "    model.load_state_dict(checkpoint['model_state_dict'])\n",
        "\n",
        "model.to(device)\n",
        "\n",
        "test_loss = evaluate(model, device, test_loader, criterion)\n",
        "print(f'\\nTest Loss: {test_loss:.3f} | Test PPL: {math.exp(test_loss):7.3f} \\n')\n",
        "\n",
        "calc_bleu(model, device, test_loader, en_vocab, ru_vocab, num_examples=5)"
      ],
      "metadata": {
        "colab": {
          "base_uri": "https://localhost:8080/"
        },
        "id": "i1ABJX2wZb-a",
        "outputId": "7ebb73a5-a5ef-4183-f9f5-583bef5df9b8"
      },
      "execution_count": null,
      "outputs": [
        {
          "output_type": "stream",
          "name": "stderr",
          "text": [
            "evaluate: 100%|██████████| 20/20 [00:07<00:00,  2.59it/s]\n"
          ]
        },
        {
          "output_type": "stream",
          "name": "stdout",
          "text": [
            "\n",
            "Test Loss: 4.579 | Test PPL:  97.393 \n",
            "\n"
          ]
        },
        {
          "output_type": "stream",
          "name": "stderr",
          "text": [
            "bleu: 100%|██████████| 20/20 [00:22<00:00,  1.11s/it]\n"
          ]
        },
        {
          "output_type": "stream",
          "name": "stdout",
          "text": [
            "bleu: 29.437\n",
            "\n",
            "input: rome ciampino airport is 17 km away .\n",
            "target: расстояние до аэропорта рим - чампино составляет 17 км .\n",
            "generated: расстояние до аэропорта фьюмичино составляет 17 км . \n",
            "\n",
            "input: free parking is available .\n",
            "target: для гостей обустроена бесплатная парковка .\n",
            "generated: гостям предоставляется бесплатная парковка . \n",
            "\n",
            "input: the accommodation has a flat - screen tv . some units feature a terrace and / or balcony .\n",
            "target: во всех домах для отпуска установлен телевизор с плоским экраном , а в некоторых из них обустроена терраса и / или балкон .\n",
            "generated: в числе удобств телевизор с плоским экраном и а в некоторых — терраса и / или балкон . \n",
            "\n",
            "input: the four bedroom apartment has two bedrooms with double beds and two bedrooms with two single beds each .\n",
            "target: в распоряжении гостей 4 спальни , в 2 из которых установлены двуспальные кровати , а в других — по 2 односпальные кровати .\n",
            "generated: в апартаментах с 4 спальнями , 2 спальни с 2 односпальными кроватями и 2 односпальными кроватями . \n",
            "\n",
            "input: offering a balcony with mountain views , is 500 metres from the cable car and 1 km from the centre of arosa .\n",
            "target: апартаменты находятся в 500 метрах от канатной дороги и в 1 км от центра . с балкона апартаментов открывается вид на горы .\n",
            "generated: апартаменты с видом на горы и в 500 метрах от канатной дороги и в 1 км от центра города . \n",
            "\n"
          ]
        }
      ]
    },
    {
      "cell_type": "code",
      "source": [
        "# benchmark\n",
        "BATCH_SIZE = 32\n",
        "speed_test_loader = DataLoader(test_data, batch_size=BATCH_SIZE, shuffle=False, collate_fn=collate_fn)\n",
        "print(f'batch size: {BATCH_SIZE}\\nnum batches: {len(speed_test_loader)}')\n",
        "\n",
        "inference_times = calc_inference_speed(model, device, speed_test_loader)\n",
        "\n",
        "mean_inference_time = sum(inference_times) / len(inference_times)\n",
        "# number of examples network can process in one second\n",
        "inference_speed = len(speed_test_loader) * BATCH_SIZE / sum(inference_times)\n",
        "print(f'\\nmean inference time: {mean_inference_time:.2f} s\\ninference speed: {inference_speed:.2f} samples/s')"
      ],
      "metadata": {
        "colab": {
          "base_uri": "https://localhost:8080/"
        },
        "id": "FH6NgeAlQe5u",
        "outputId": "0adf1311-5663-459a-eee5-92f225d7dd6d"
      },
      "execution_count": null,
      "outputs": [
        {
          "output_type": "stream",
          "name": "stdout",
          "text": [
            "batch size: 32\n",
            "num batches: 79\n"
          ]
        },
        {
          "output_type": "stream",
          "name": "stderr",
          "text": [
            "speed test: 100%|██████████| 79/79 [00:05<00:00, 15.21it/s]"
          ]
        },
        {
          "output_type": "stream",
          "name": "stdout",
          "text": [
            "\n",
            "mean inference time: 0.06 s\n",
            "inference speed: 520.18 samples/s\n"
          ]
        },
        {
          "output_type": "stream",
          "name": "stderr",
          "text": [
            "\n"
          ]
        }
      ]
    },
    {
      "cell_type": "markdown",
      "source": [
        "- slow inference\n",
        "- good translation quality"
      ],
      "metadata": {
        "id": "Tit27pfecVKT"
      }
    },
    {
      "cell_type": "markdown",
      "source": [
        "## Transformer + Positional Embeddings Seq2Seq"
      ],
      "metadata": {
        "id": "qvaIdBnrcs2R"
      }
    },
    {
      "cell_type": "code",
      "source": [
        "from models.transformer_pos_emb import Encoder, Decoder, Seq2Seq"
      ],
      "metadata": {
        "id": "CjM_w-zKcwJz"
      },
      "execution_count": null,
      "outputs": []
    },
    {
      "cell_type": "code",
      "source": [
        "BATCH_SIZE = 128\n",
        "\n",
        "en2ru_dataset = En2RuDataset(en_ru_tensors)\n",
        "train_data, val_data, test_data = random_split(en2ru_dataset, lengths=[0.8, 0.15, 0.05])\n",
        "print(f'train: {len(train_data)}, val: {len(val_data)}, test: {len(test_data)}')\n",
        "\n",
        "collate_fn = partial(generate_batch, en_vocab=en_vocab, ru_vocab=ru_vocab, batch_first=True)\n",
        "train_loader = DataLoader(train_data, batch_size=BATCH_SIZE, shuffle=True, collate_fn=collate_fn)\n",
        "val_loader = DataLoader(val_data, batch_size=BATCH_SIZE, shuffle=False, collate_fn=collate_fn)\n",
        "test_loader = DataLoader(test_data, batch_size=BATCH_SIZE, shuffle=False, collate_fn=collate_fn)"
      ],
      "metadata": {
        "colab": {
          "base_uri": "https://localhost:8080/"
        },
        "id": "yZwfdfd9dW2S",
        "outputId": "c0899ae5-68ed-42a4-d9c2-4f8a5c11cfd7"
      },
      "execution_count": null,
      "outputs": [
        {
          "output_type": "stream",
          "name": "stdout",
          "text": [
            "train: 40000, val: 7500, test: 2500\n"
          ]
        }
      ]
    },
    {
      "cell_type": "code",
      "source": [
        "INPUT_DIM = len(en_vocab)\n",
        "OUTPUT_DIM = len(ru_vocab)\n",
        "HID_DIM = 256\n",
        "ENC_LAYERS = 3\n",
        "DEC_LAYERS = 3\n",
        "ENC_HEADS = 4\n",
        "DEC_HEADS = 4\n",
        "ENC_PF_DIM = 512\n",
        "DEC_PF_DIM = 512\n",
        "ENC_DROPOUT = 0.1\n",
        "DEC_DROPOUT = 0.1\n",
        "\n",
        "device = torch.device('cuda' if torch.cuda.is_available() else 'cpu')\n",
        "print(f'device: {device}')\n",
        "encoder = Encoder(INPUT_DIM, HID_DIM, ENC_LAYERS, ENC_HEADS,\n",
        "                  ENC_PF_DIM, ENC_DROPOUT, device, max_length=200)  # max_length, max tensor length x2\n",
        "decoder = Decoder(OUTPUT_DIM, HID_DIM, DEC_LAYERS, DEC_HEADS,\n",
        "                  DEC_PF_DIM, DEC_DROPOUT, device, max_length=200)\n",
        "model = Seq2Seq(encoder, decoder, src_pad_idx=en_vocab['<pad>'], trg_pad_idx=ru_vocab['<pad>'],\n",
        "                device=device).to(device)\n",
        "model.apply(init_weights_xavier)\n",
        "print(f'The model has {count_parameters(model):,} trainable parameters')\n",
        "\n",
        "MODEL_NAME = 'transformer_model'\n",
        "LEARNING_RATE = 5e-4\n",
        "NUM_EPOCHS = 15\n",
        "CLIP = 1\n",
        "\n",
        "optimizer = torch.optim.AdamW(model.parameters(), lr=LEARNING_RATE)\n",
        "criterion = nn.CrossEntropyLoss(ignore_index=ru_vocab['<pad>'])\n",
        "scheduler = optim.lr_scheduler.ReduceLROnPlateau(optimizer, factor=0.5, patience=2, min_lr=1e-6, verbose=True)"
      ],
      "metadata": {
        "colab": {
          "base_uri": "https://localhost:8080/"
        },
        "id": "BUqPTbSpda4M",
        "outputId": "d7f4fdf5-6813-42d7-90f3-761e11f8e27e"
      },
      "execution_count": null,
      "outputs": [
        {
          "output_type": "stream",
          "name": "stdout",
          "text": [
            "device: cuda\n",
            "The model has 11,599,919 trainable parameters\n"
          ]
        }
      ]
    },
    {
      "cell_type": "code",
      "source": [
        "model"
      ],
      "metadata": {
        "colab": {
          "base_uri": "https://localhost:8080/"
        },
        "id": "AL9rSEc5dsor",
        "outputId": "f97d6d79-9a8f-4fa8-b999-d4a50962b3aa"
      },
      "execution_count": null,
      "outputs": [
        {
          "output_type": "execute_result",
          "data": {
            "text/plain": [
              "Seq2Seq(\n",
              "  (encoder): Encoder(\n",
              "    (tok_embedding): Embedding(7828, 256)\n",
              "    (pos_embedding): Embedding(200, 256)\n",
              "    (layers): ModuleList(\n",
              "      (0-2): 3 x EncoderLayer(\n",
              "        (self_attn_layer_norm): LayerNorm((256,), eps=1e-05, elementwise_affine=True)\n",
              "        (ff_layer_norm): LayerNorm((256,), eps=1e-05, elementwise_affine=True)\n",
              "        (self_attention): MultiHeadAttentionLayer(\n",
              "          (fc_q): Linear(in_features=256, out_features=256, bias=True)\n",
              "          (fc_k): Linear(in_features=256, out_features=256, bias=True)\n",
              "          (fc_v): Linear(in_features=256, out_features=256, bias=True)\n",
              "          (fc_o): Linear(in_features=256, out_features=256, bias=True)\n",
              "          (dropout): Dropout(p=0.1, inplace=False)\n",
              "        )\n",
              "        (positionwise_feedforward): PositionwiseFeedforwardLayer(\n",
              "          (fc_1): Linear(in_features=256, out_features=512, bias=True)\n",
              "          (fc_2): Linear(in_features=512, out_features=256, bias=True)\n",
              "          (dropout): Dropout(p=0.1, inplace=False)\n",
              "        )\n",
              "        (dropout): Dropout(p=0.1, inplace=False)\n",
              "      )\n",
              "    )\n",
              "    (dropout): Dropout(p=0.1, inplace=False)\n",
              "  )\n",
              "  (decoder): Decoder(\n",
              "    (tok_embedding): Embedding(10799, 256)\n",
              "    (pos_embedding): Embedding(200, 256)\n",
              "    (layers): ModuleList(\n",
              "      (0-2): 3 x DecoderLayer(\n",
              "        (self_attn_layer_norm): LayerNorm((256,), eps=1e-05, elementwise_affine=True)\n",
              "        (enc_attn_layer_norm): LayerNorm((256,), eps=1e-05, elementwise_affine=True)\n",
              "        (ff_layer_norm): LayerNorm((256,), eps=1e-05, elementwise_affine=True)\n",
              "        (self_attention): MultiHeadAttentionLayer(\n",
              "          (fc_q): Linear(in_features=256, out_features=256, bias=True)\n",
              "          (fc_k): Linear(in_features=256, out_features=256, bias=True)\n",
              "          (fc_v): Linear(in_features=256, out_features=256, bias=True)\n",
              "          (fc_o): Linear(in_features=256, out_features=256, bias=True)\n",
              "          (dropout): Dropout(p=0.1, inplace=False)\n",
              "        )\n",
              "        (encoder_attention): MultiHeadAttentionLayer(\n",
              "          (fc_q): Linear(in_features=256, out_features=256, bias=True)\n",
              "          (fc_k): Linear(in_features=256, out_features=256, bias=True)\n",
              "          (fc_v): Linear(in_features=256, out_features=256, bias=True)\n",
              "          (fc_o): Linear(in_features=256, out_features=256, bias=True)\n",
              "          (dropout): Dropout(p=0.1, inplace=False)\n",
              "        )\n",
              "        (positionwise_feedforward): PositionwiseFeedforwardLayer(\n",
              "          (fc_1): Linear(in_features=256, out_features=512, bias=True)\n",
              "          (fc_2): Linear(in_features=512, out_features=256, bias=True)\n",
              "          (dropout): Dropout(p=0.1, inplace=False)\n",
              "        )\n",
              "        (dropout): Dropout(p=0.1, inplace=False)\n",
              "      )\n",
              "    )\n",
              "    (fc_out): Linear(in_features=256, out_features=10799, bias=True)\n",
              "    (dropout): Dropout(p=0.1, inplace=False)\n",
              "  )\n",
              ")"
            ]
          },
          "metadata": {},
          "execution_count": 17
        }
      ]
    },
    {
      "cell_type": "code",
      "source": [
        "%%time\n",
        "train_history, val_history = train_model(\n",
        "    model, device, NUM_EPOCHS,\n",
        "    train_loader, val_loader, optimizer, criterion,\n",
        "    scheduler, CLIP, model_name=MODEL_NAME,\n",
        "    transformer=True\n",
        ")"
      ],
      "metadata": {
        "colab": {
          "base_uri": "https://localhost:8080/"
        },
        "id": "DkkSzY_Wdwjk",
        "outputId": "70957945-93ef-49ff-b204-789718e8c1d5"
      },
      "execution_count": null,
      "outputs": [
        {
          "output_type": "stream",
          "name": "stderr",
          "text": [
            "train: 100%|██████████| 313/313 [00:38<00:00,  8.16it/s]\n",
            "evaluate: 100%|██████████| 59/59 [00:02<00:00, 24.68it/s]\n"
          ]
        },
        {
          "output_type": "stream",
          "name": "stdout",
          "text": [
            "Epoch: 01 | Time: 0m 40s\n",
            "\tTrain Loss: 3.960 | Train PPL:  52.468\n",
            "\t Val. Loss: 2.661 |  Val. PPL:  14.308\n"
          ]
        },
        {
          "output_type": "stream",
          "name": "stderr",
          "text": [
            "train: 100%|██████████| 313/313 [00:36<00:00,  8.51it/s]\n",
            "evaluate: 100%|██████████| 59/59 [00:02<00:00, 23.71it/s]\n"
          ]
        },
        {
          "output_type": "stream",
          "name": "stdout",
          "text": [
            "Epoch: 02 | Time: 0m 39s\n",
            "\tTrain Loss: 2.396 | Train PPL:  10.984\n",
            "\t Val. Loss: 2.196 |  Val. PPL:   8.986\n"
          ]
        },
        {
          "output_type": "stream",
          "name": "stderr",
          "text": [
            "train: 100%|██████████| 313/313 [00:36<00:00,  8.53it/s]\n",
            "evaluate: 100%|██████████| 59/59 [00:02<00:00, 24.44it/s]\n"
          ]
        },
        {
          "output_type": "stream",
          "name": "stdout",
          "text": [
            "Epoch: 03 | Time: 0m 39s\n",
            "\tTrain Loss: 1.957 | Train PPL:   7.075\n",
            "\t Val. Loss: 1.935 |  Val. PPL:   6.924\n"
          ]
        },
        {
          "output_type": "stream",
          "name": "stderr",
          "text": [
            "train: 100%|██████████| 313/313 [00:36<00:00,  8.53it/s]\n",
            "evaluate: 100%|██████████| 59/59 [00:02<00:00, 24.06it/s]\n"
          ]
        },
        {
          "output_type": "stream",
          "name": "stdout",
          "text": [
            "Epoch: 04 | Time: 0m 39s\n",
            "\tTrain Loss: 1.660 | Train PPL:   5.261\n",
            "\t Val. Loss: 1.793 |  Val. PPL:   6.008\n"
          ]
        },
        {
          "output_type": "stream",
          "name": "stderr",
          "text": [
            "train: 100%|██████████| 313/313 [00:36<00:00,  8.56it/s]\n",
            "evaluate: 100%|██████████| 59/59 [00:02<00:00, 23.64it/s]\n"
          ]
        },
        {
          "output_type": "stream",
          "name": "stdout",
          "text": [
            "Epoch: 05 | Time: 0m 39s\n",
            "\tTrain Loss: 1.444 | Train PPL:   4.236\n",
            "\t Val. Loss: 1.691 |  Val. PPL:   5.426\n"
          ]
        },
        {
          "output_type": "stream",
          "name": "stderr",
          "text": [
            "train: 100%|██████████| 313/313 [00:36<00:00,  8.53it/s]\n",
            "evaluate: 100%|██████████| 59/59 [00:02<00:00, 23.07it/s]\n"
          ]
        },
        {
          "output_type": "stream",
          "name": "stdout",
          "text": [
            "Epoch: 06 | Time: 0m 39s\n",
            "\tTrain Loss: 1.270 | Train PPL:   3.561\n",
            "\t Val. Loss: 1.644 |  Val. PPL:   5.175\n"
          ]
        },
        {
          "output_type": "stream",
          "name": "stderr",
          "text": [
            "train: 100%|██████████| 313/313 [00:36<00:00,  8.58it/s]\n",
            "evaluate: 100%|██████████| 59/59 [00:02<00:00, 22.93it/s]\n"
          ]
        },
        {
          "output_type": "stream",
          "name": "stdout",
          "text": [
            "Epoch: 07 | Time: 0m 39s\n",
            "\tTrain Loss: 1.128 | Train PPL:   3.090\n",
            "\t Val. Loss: 1.618 |  Val. PPL:   5.041\n"
          ]
        },
        {
          "output_type": "stream",
          "name": "stderr",
          "text": [
            "train: 100%|██████████| 313/313 [00:36<00:00,  8.56it/s]\n",
            "evaluate: 100%|██████████| 59/59 [00:02<00:00, 23.23it/s]\n"
          ]
        },
        {
          "output_type": "stream",
          "name": "stdout",
          "text": [
            "Epoch: 08 | Time: 0m 39s\n",
            "\tTrain Loss: 1.012 | Train PPL:   2.752\n",
            "\t Val. Loss: 1.609 |  Val. PPL:   5.000\n"
          ]
        },
        {
          "output_type": "stream",
          "name": "stderr",
          "text": [
            "train: 100%|██████████| 313/313 [00:36<00:00,  8.46it/s]\n",
            "evaluate: 100%|██████████| 59/59 [00:02<00:00, 23.70it/s]\n"
          ]
        },
        {
          "output_type": "stream",
          "name": "stdout",
          "text": [
            "Epoch: 09 | Time: 0m 39s\n",
            "\tTrain Loss: 0.916 | Train PPL:   2.499\n",
            "\t Val. Loss: 1.622 |  Val. PPL:   5.062\n"
          ]
        },
        {
          "output_type": "stream",
          "name": "stderr",
          "text": [
            "train: 100%|██████████| 313/313 [00:36<00:00,  8.50it/s]\n",
            "evaluate: 100%|██████████| 59/59 [00:02<00:00, 23.91it/s]\n"
          ]
        },
        {
          "output_type": "stream",
          "name": "stdout",
          "text": [
            "Epoch: 10 | Time: 0m 39s\n",
            "\tTrain Loss: 0.837 | Train PPL:   2.309\n",
            "\t Val. Loss: 1.637 |  Val. PPL:   5.139\n"
          ]
        },
        {
          "output_type": "stream",
          "name": "stderr",
          "text": [
            "train: 100%|██████████| 313/313 [00:36<00:00,  8.50it/s]\n",
            "evaluate: 100%|██████████| 59/59 [00:02<00:00, 24.14it/s]\n"
          ]
        },
        {
          "output_type": "stream",
          "name": "stdout",
          "text": [
            "Epoch 00011: reducing learning rate of group 0 to 2.5000e-04.\n",
            "Epoch: 11 | Time: 0m 39s\n",
            "\tTrain Loss: 0.770 | Train PPL:   2.160\n",
            "\t Val. Loss: 1.674 |  Val. PPL:   5.331\n"
          ]
        },
        {
          "output_type": "stream",
          "name": "stderr",
          "text": [
            "train: 100%|██████████| 313/313 [00:36<00:00,  8.55it/s]\n",
            "evaluate: 100%|██████████| 59/59 [00:02<00:00, 24.29it/s]\n"
          ]
        },
        {
          "output_type": "stream",
          "name": "stdout",
          "text": [
            "Epoch: 12 | Time: 0m 39s\n",
            "\tTrain Loss: 0.643 | Train PPL:   1.902\n",
            "\t Val. Loss: 1.666 |  Val. PPL:   5.292\n"
          ]
        },
        {
          "output_type": "stream",
          "name": "stderr",
          "text": [
            "train: 100%|██████████| 313/313 [00:36<00:00,  8.52it/s]\n",
            "evaluate: 100%|██████████| 59/59 [00:02<00:00, 24.20it/s]\n"
          ]
        },
        {
          "output_type": "stream",
          "name": "stdout",
          "text": [
            "Epoch: 13 | Time: 0m 39s\n",
            "\tTrain Loss: 0.582 | Train PPL:   1.790\n",
            "\t Val. Loss: 1.695 |  Val. PPL:   5.447\n"
          ]
        },
        {
          "output_type": "stream",
          "name": "stderr",
          "text": [
            "train: 100%|██████████| 313/313 [00:36<00:00,  8.49it/s]\n",
            "evaluate: 100%|██████████| 59/59 [00:02<00:00, 24.02it/s]\n"
          ]
        },
        {
          "output_type": "stream",
          "name": "stdout",
          "text": [
            "Epoch 00014: reducing learning rate of group 0 to 1.2500e-04.\n",
            "Epoch: 14 | Time: 0m 39s\n",
            "\tTrain Loss: 0.547 | Train PPL:   1.728\n",
            "\t Val. Loss: 1.730 |  Val. PPL:   5.642\n"
          ]
        },
        {
          "output_type": "stream",
          "name": "stderr",
          "text": [
            "train: 100%|██████████| 313/313 [00:36<00:00,  8.55it/s]\n",
            "evaluate: 100%|██████████| 59/59 [00:02<00:00, 24.26it/s]"
          ]
        },
        {
          "output_type": "stream",
          "name": "stdout",
          "text": [
            "Epoch: 15 | Time: 0m 39s\n",
            "\tTrain Loss: 0.484 | Train PPL:   1.623\n",
            "\t Val. Loss: 1.743 |  Val. PPL:   5.717\n",
            "CPU times: user 9min 36s, sys: 3.98 s, total: 9min 40s\n",
            "Wall time: 9min 52s\n"
          ]
        },
        {
          "output_type": "stream",
          "name": "stderr",
          "text": [
            "\n"
          ]
        }
      ]
    },
    {
      "cell_type": "code",
      "source": [
        "plot_history(train_history, val_history)"
      ],
      "metadata": {
        "colab": {
          "base_uri": "https://localhost:8080/",
          "height": 213
        },
        "id": "uYKaDfv2dyL5",
        "outputId": "d23ec974-3585-4391-ec76-9c4164a4f37f"
      },
      "execution_count": null,
      "outputs": [
        {
          "output_type": "display_data",
          "data": {
            "text/plain": [
              "<Figure size 400x200 with 1 Axes>"
            ],
            "image/png": "[encoded data removed]"
          },
          "metadata": {
            "image/png": {
              "width": 347,
              "height": 196
            }
          }
        }
      ]
    },
    {
      "cell_type": "markdown",
      "source": [
        "Overfitting occurs after 8 epochs."
      ],
      "metadata": {
        "id": "sAdfxf0tpt3f"
      }
    },
    {
      "cell_type": "code",
      "source": [
        "# load best model\n",
        "with open(f'{MODEL_NAME}.pt', 'rb') as fp:\n",
        "    checkpoint = torch.load(fp, map_location='cpu')\n",
        "    model.load_state_dict(checkpoint['model_state_dict'])\n",
        "\n",
        "model.to(device)\n",
        "\n",
        "test_loss = evaluate(model, device, test_loader, criterion, transformer=True)\n",
        "print(f'\\nTest Loss: {test_loss:.3f} | Test PPL: {math.exp(test_loss):7.3f} \\n')\n",
        "\n",
        "calc_bleu(model, device, test_loader, en_vocab, ru_vocab, num_examples=5, transformer=True)"
      ],
      "metadata": {
        "colab": {
          "base_uri": "https://localhost:8080/"
        },
        "id": "J8WatgaJd2ku",
        "outputId": "213ad932-f26d-4ddc-c082-d0cc223df82c"
      },
      "execution_count": null,
      "outputs": [
        {
          "output_type": "stream",
          "name": "stderr",
          "text": [
            "evaluate: 100%|██████████| 20/20 [00:00<00:00, 22.19it/s]\n"
          ]
        },
        {
          "output_type": "stream",
          "name": "stdout",
          "text": [
            "\n",
            "Test Loss: 1.599 | Test PPL:   4.949 \n",
            "\n"
          ]
        },
        {
          "output_type": "stream",
          "name": "stderr",
          "text": [
            "bleu: 100%|██████████| 20/20 [02:21<00:00,  7.09s/it]\n"
          ]
        },
        {
          "output_type": "stream",
          "name": "stdout",
          "text": [
            "bleu: 29.403\n",
            "\n",
            "input: sample various kinds of alcoholic and non - alcoholic beverages in one of our lively theme bars and simply the and relaxing ambience of this magnificent place .\n",
            "target: вы можете попробовать всевозможные алкогольные и безалкогольные напитки в одном из оживленных баров , расположенных на территории отеля , или просто расслабиться , и атмосферу этого курорта .\n",
            "generated: в оформлении отеля использованы различные сорта вин и . \n",
            "\n",
            "input: this family - run , 3 - star superior hotel in offers comfortably furnished rooms , a traditional restaurant and free parking .\n",
            "target: этот семейный 3 - звездочный улучшенный отель расположен в городе . к услугам гостей комфортабельные номера , традиционный ресторан и бесплатная парковка .\n",
            "generated: этот семейный отель расположен в городе . к услугам гостей традиционный ресторан , бесплатная парковка и традиционный ресторан . \n",
            "\n",
            "input: the nearest airport is pulkovo airport , 31 km from apartments on 16 .\n",
            "target: расстояние до международного аэропорта пулково составляет 31 км .\n",
            "generated: расстояние от апартаментов « на , 31 » до аэропорта пулково составляет 31 км . \n",
            "\n",
            "input: the nearest airport is anapa airport , 55 km from the property .\n",
            "target: расстояние до аэропорта анапы составляет 55 км .\n",
            "generated: расстояние до аэропорта анапы составляет 55 км . \n",
            "\n",
            "input: all rooms at the best western hotel have cable tv and as well as wifi internet .\n",
            "target: в числе удобств каждого номера отеля best western — кабельное телевидение , доступ в интернет и wi - fi .\n",
            "generated: все номера отеля best western оснащены кабельным телевидением и wi - fi . \n",
            "\n"
          ]
        }
      ]
    },
    {
      "cell_type": "code",
      "source": [
        "# benchmark\n",
        "BATCH_SIZE = 32\n",
        "speed_test_loader = DataLoader(test_data, batch_size=BATCH_SIZE, shuffle=False, collate_fn=collate_fn)\n",
        "print(f'batch size: {BATCH_SIZE}\\nnum batches: {len(speed_test_loader)}')\n",
        "\n",
        "inference_times = calc_inference_speed(model, device, speed_test_loader, transformer=True)\n",
        "\n",
        "mean_inference_time = sum(inference_times) / len(inference_times)\n",
        "# number of examples network can process in one second\n",
        "inference_speed = len(speed_test_loader) * BATCH_SIZE / sum(inference_times)\n",
        "print(f'\\nmean inference time: {mean_inference_time:.2f} s\\ninference speed: {inference_speed:.2f} samples/s')"
      ],
      "metadata": {
        "colab": {
          "base_uri": "https://localhost:8080/"
        },
        "id": "z1NApJVzbbbJ",
        "outputId": "934ec3d7-ecf6-4e99-dbf8-c3e2ee70432f"
      },
      "execution_count": null,
      "outputs": [
        {
          "output_type": "stream",
          "name": "stdout",
          "text": [
            "batch size: 32\n",
            "num batches: 79\n"
          ]
        },
        {
          "output_type": "stream",
          "name": "stderr",
          "text": [
            "speed test: 100%|██████████| 79/79 [00:00<00:00, 82.93it/s]"
          ]
        },
        {
          "output_type": "stream",
          "name": "stdout",
          "text": [
            "\n",
            "mean inference time: 0.01 s\n",
            "inference speed: 3190.70 samples/s\n"
          ]
        },
        {
          "output_type": "stream",
          "name": "stderr",
          "text": [
            "\n"
          ]
        }
      ]
    },
    {
      "cell_type": "markdown",
      "source": [
        "**Good model**\n",
        "\n",
        "- fastest inference 🏆\n",
        "- good translation quality"
      ],
      "metadata": {
        "id": "Ja69jkYBbipZ"
      }
    },
    {
      "cell_type": "markdown",
      "source": [
        "## BERT Encoder + Transformer Decoder Seq2Seq\n",
        "\n"
      ],
      "metadata": {
        "id": "FO5840v0lJ11"
      }
    },
    {
      "cell_type": "code",
      "source": [
        "from transformers import AutoModel\n",
        "\n",
        "from models.transformer_pos_emb import EncoderBERT, Decoder, Seq2Seq\n",
        "from data_utils import process_data_bert, generate_batch_bert, en_bert_tokenizer"
      ],
      "metadata": {
        "id": "AgbOmYBWmSLB"
      },
      "execution_count": 9,
      "outputs": []
    },
    {
      "cell_type": "code",
      "source": [
        "BATCH_SIZE = 128\n",
        "\n",
        "en_ru_tensors, ru_vocab = process_data_bert('data.txt')\n",
        "en_ru_lengths = [(len(en_t), len(ru_t)) for en_t, ru_t in en_ru_tensors]\n",
        "print('en/ru max tensors length:', *max(en_ru_lengths))\n",
        "\n",
        "en2ru_dataset = En2RuDataset(en_ru_tensors)\n",
        "train_data, val_data, test_data = random_split(en2ru_dataset, lengths=[0.8, 0.15, 0.05])\n",
        "print(f'train: {len(train_data)}, val: {len(val_data)}, test: {len(test_data)}')\n",
        "\n",
        "collate_fn = partial(generate_batch_bert, ru_vocab=ru_vocab, batch_first=True)\n",
        "train_loader = DataLoader(train_data, batch_size=BATCH_SIZE, shuffle=True, collate_fn=collate_fn)\n",
        "val_loader = DataLoader(val_data, batch_size=BATCH_SIZE, shuffle=False, collate_fn=collate_fn)\n",
        "test_loader = DataLoader(test_data, batch_size=BATCH_SIZE, shuffle=False, collate_fn=collate_fn)"
      ],
      "metadata": {
        "id": "_Hh7r1nClOwh",
        "colab": {
          "base_uri": "https://localhost:8080/"
        },
        "outputId": "c135ea8c-4850-4ac6-a5a1-e172883d8d66"
      },
      "execution_count": 11,
      "outputs": [
        {
          "output_type": "stream",
          "name": "stdout",
          "text": [
            "en/ru max tensors length: 119 80\n",
            "train: 40000, val: 7500, test: 2500\n"
          ]
        }
      ]
    },
    {
      "cell_type": "code",
      "source": [
        "# https://huggingface.co/docs/transformers/model_doc/distilbert\n",
        "bert_model = AutoModel.from_pretrained('distilbert-base-cased')\n",
        "print(bert_model)\n",
        "print(f'The model has {count_parameters(bert_model):,} trainable parameters')"
      ],
      "metadata": {
        "id": "JW7bh2P0lnoe",
        "colab": {
          "base_uri": "https://localhost:8080/"
        },
        "outputId": "1195838a-db5d-4b61-b9f9-6a182d960984"
      },
      "execution_count": 22,
      "outputs": [
        {
          "output_type": "stream",
          "name": "stderr",
          "text": [
            "Some weights of the model checkpoint at distilbert-base-cased were not used when initializing DistilBertModel: ['vocab_layer_norm.weight', 'vocab_transform.weight', 'vocab_projector.weight', 'vocab_layer_norm.bias', 'vocab_projector.bias', 'vocab_transform.bias']\n",
            "- This IS expected if you are initializing DistilBertModel from the checkpoint of a model trained on another task or with another architecture (e.g. initializing a BertForSequenceClassification model from a BertForPreTraining model).\n",
            "- This IS NOT expected if you are initializing DistilBertModel from the checkpoint of a model that you expect to be exactly identical (initializing a BertForSequenceClassification model from a BertForSequenceClassification model).\n"
          ]
        },
        {
          "output_type": "stream",
          "name": "stdout",
          "text": [
            "DistilBertModel(\n",
            "  (embeddings): Embeddings(\n",
            "    (word_embeddings): Embedding(28996, 768, padding_idx=0)\n",
            "    (position_embeddings): Embedding(512, 768)\n",
            "    (LayerNorm): LayerNorm((768,), eps=1e-12, elementwise_affine=True)\n",
            "    (dropout): Dropout(p=0.1, inplace=False)\n",
            "  )\n",
            "  (transformer): Transformer(\n",
            "    (layer): ModuleList(\n",
            "      (0-5): 6 x TransformerBlock(\n",
            "        (attention): MultiHeadSelfAttention(\n",
            "          (dropout): Dropout(p=0.1, inplace=False)\n",
            "          (q_lin): Linear(in_features=768, out_features=768, bias=True)\n",
            "          (k_lin): Linear(in_features=768, out_features=768, bias=True)\n",
            "          (v_lin): Linear(in_features=768, out_features=768, bias=True)\n",
            "          (out_lin): Linear(in_features=768, out_features=768, bias=True)\n",
            "        )\n",
            "        (sa_layer_norm): LayerNorm((768,), eps=1e-12, elementwise_affine=True)\n",
            "        (ffn): FFN(\n",
            "          (dropout): Dropout(p=0.1, inplace=False)\n",
            "          (lin1): Linear(in_features=768, out_features=3072, bias=True)\n",
            "          (lin2): Linear(in_features=3072, out_features=768, bias=True)\n",
            "          (activation): GELUActivation()\n",
            "        )\n",
            "        (output_layer_norm): LayerNorm((768,), eps=1e-12, elementwise_affine=True)\n",
            "      )\n",
            "    )\n",
            "  )\n",
            ")\n",
            "The model has 65,190,912 trainable parameters\n"
          ]
        }
      ]
    },
    {
      "cell_type": "code",
      "source": [
        "# freeze DistilBERT layers\n",
        "for param in bert_model.parameters():\n",
        "    param.requires_grad = False\n",
        "\n",
        "print(f'The model has {count_parameters(bert_model):,} trainable parameters')"
      ],
      "metadata": {
        "id": "InlI_D74nKDo",
        "colab": {
          "base_uri": "https://localhost:8080/"
        },
        "outputId": "9de311e8-93e2-49e6-8107-5c911cb02abc"
      },
      "execution_count": 35,
      "outputs": [
        {
          "output_type": "stream",
          "name": "stdout",
          "text": [
            "The model has 0 trainable parameters\n"
          ]
        }
      ]
    },
    {
      "cell_type": "code",
      "source": [
        "# INPUT_DIM = en_bert_tokenizer.vocab_size\n",
        "OUTPUT_DIM = len(ru_vocab)\n",
        "HID_DIM = bert_model.config.dim  # 768\n",
        "# decrease number of encoder layers and heads\n",
        "# DistilBERT should do its job\n",
        "ENC_LAYERS = 1\n",
        "ENC_HEADS = 1\n",
        "DEC_LAYERS = 2\n",
        "DEC_HEADS = 4\n",
        "ENC_PF_DIM = 512\n",
        "DEC_PF_DIM = 512\n",
        "ENC_DROPOUT = 0.1\n",
        "DEC_DROPOUT = 0.1\n",
        "\n",
        "device = torch.device('cuda' if torch.cuda.is_available() else 'cpu')\n",
        "print(f'device: {device}')\n",
        "encoder = EncoderBERT(HID_DIM, ENC_LAYERS, ENC_HEADS,\n",
        "                      ENC_PF_DIM, ENC_DROPOUT, device, emb_bert=bert_model)\n",
        "decoder = Decoder(OUTPUT_DIM, HID_DIM, DEC_LAYERS, DEC_HEADS,\n",
        "                  DEC_PF_DIM, DEC_DROPOUT, device, max_length=200)\n",
        "model = Seq2Seq(encoder, decoder, src_pad_idx=en_bert_tokenizer.pad_token_id, \n",
        "                trg_pad_idx=ru_vocab['<pad>'], device=device).to(device)\n",
        "model.encoder.layers.apply(init_weights_xavier)\n",
        "model.decoder.apply(init_weights_xavier)\n",
        "print(f'The model has {count_parameters(model):,} trainable parameters')\n",
        "\n",
        "MODEL_NAME = 'bert_transformer_model'\n",
        "LEARNING_RATE = 5e-4\n",
        "NUM_EPOCHS = 10\n",
        "CLIP = 1\n",
        "\n",
        "optimizer = torch.optim.AdamW(model.parameters(), lr=LEARNING_RATE)\n",
        "criterion = nn.CrossEntropyLoss(ignore_index=ru_vocab['<pad>'])\n",
        "scheduler = optim.lr_scheduler.ReduceLROnPlateau(optimizer, factor=0.5, patience=2, min_lr=1e-6, verbose=True)"
      ],
      "metadata": {
        "colab": {
          "base_uri": "https://localhost:8080/"
        },
        "id": "_-ncr6Hcub9a",
        "outputId": "fb61dfa0-8bb1-4553-ae1c-5288515c418b"
      },
      "execution_count": null,
      "outputs": [
        {
          "output_type": "stream",
          "name": "stdout",
          "text": [
            "device: cuda\n",
            "The model has 30,938,927 trainable parameters\n"
          ]
        }
      ]
    },
    {
      "cell_type": "code",
      "source": [
        "model"
      ],
      "metadata": {
        "colab": {
          "base_uri": "https://localhost:8080/"
        },
        "id": "VnfpgCIeufR5",
        "outputId": "5e8ed42a-7b49-491e-f5ba-657ddcff2657"
      },
      "execution_count": null,
      "outputs": [
        {
          "output_type": "execute_result",
          "data": {
            "text/plain": [
              "Seq2Seq(\n",
              "  (encoder): EncoderBERT(\n",
              "    (embedding): DistilBertModel(\n",
              "      (embeddings): Embeddings(\n",
              "        (word_embeddings): Embedding(28996, 768, padding_idx=0)\n",
              "        (position_embeddings): Embedding(512, 768)\n",
              "        (LayerNorm): LayerNorm((768,), eps=1e-12, elementwise_affine=True)\n",
              "        (dropout): Dropout(p=0.1, inplace=False)\n",
              "      )\n",
              "      (transformer): Transformer(\n",
              "        (layer): ModuleList(\n",
              "          (0-5): 6 x TransformerBlock(\n",
              "            (attention): MultiHeadSelfAttention(\n",
              "              (dropout): Dropout(p=0.1, inplace=False)\n",
              "              (q_lin): Linear(in_features=768, out_features=768, bias=True)\n",
              "              (k_lin): Linear(in_features=768, out_features=768, bias=True)\n",
              "              (v_lin): Linear(in_features=768, out_features=768, bias=True)\n",
              "              (out_lin): Linear(in_features=768, out_features=768, bias=True)\n",
              "            )\n",
              "            (sa_layer_norm): LayerNorm((768,), eps=1e-12, elementwise_affine=True)\n",
              "            (ffn): FFN(\n",
              "              (dropout): Dropout(p=0.1, inplace=False)\n",
              "              (lin1): Linear(in_features=768, out_features=3072, bias=True)\n",
              "              (lin2): Linear(in_features=3072, out_features=768, bias=True)\n",
              "              (activation): GELUActivation()\n",
              "            )\n",
              "            (output_layer_norm): LayerNorm((768,), eps=1e-12, elementwise_affine=True)\n",
              "          )\n",
              "        )\n",
              "      )\n",
              "    )\n",
              "    (layers): ModuleList(\n",
              "      (0): EncoderLayer(\n",
              "        (self_attn_layer_norm): LayerNorm((768,), eps=1e-05, elementwise_affine=True)\n",
              "        (ff_layer_norm): LayerNorm((768,), eps=1e-05, elementwise_affine=True)\n",
              "        (self_attention): MultiHeadAttentionLayer(\n",
              "          (fc_q): Linear(in_features=768, out_features=768, bias=True)\n",
              "          (fc_k): Linear(in_features=768, out_features=768, bias=True)\n",
              "          (fc_v): Linear(in_features=768, out_features=768, bias=True)\n",
              "          (fc_o): Linear(in_features=768, out_features=768, bias=True)\n",
              "          (dropout): Dropout(p=0.1, inplace=False)\n",
              "        )\n",
              "        (positionwise_feedforward): PositionwiseFeedforwardLayer(\n",
              "          (fc_1): Linear(in_features=768, out_features=512, bias=True)\n",
              "          (fc_2): Linear(in_features=512, out_features=768, bias=True)\n",
              "          (dropout): Dropout(p=0.1, inplace=False)\n",
              "        )\n",
              "        (dropout): Dropout(p=0.1, inplace=False)\n",
              "      )\n",
              "    )\n",
              "    (dropout): Dropout(p=0.1, inplace=False)\n",
              "  )\n",
              "  (decoder): Decoder(\n",
              "    (tok_embedding): Embedding(10799, 768)\n",
              "    (pos_embedding): Embedding(200, 768)\n",
              "    (layers): ModuleList(\n",
              "      (0-1): 2 x DecoderLayer(\n",
              "        (self_attn_layer_norm): LayerNorm((768,), eps=1e-05, elementwise_affine=True)\n",
              "        (enc_attn_layer_norm): LayerNorm((768,), eps=1e-05, elementwise_affine=True)\n",
              "        (ff_layer_norm): LayerNorm((768,), eps=1e-05, elementwise_affine=True)\n",
              "        (self_attention): MultiHeadAttentionLayer(\n",
              "          (fc_q): Linear(in_features=768, out_features=768, bias=True)\n",
              "          (fc_k): Linear(in_features=768, out_features=768, bias=True)\n",
              "          (fc_v): Linear(in_features=768, out_features=768, bias=True)\n",
              "          (fc_o): Linear(in_features=768, out_features=768, bias=True)\n",
              "          (dropout): Dropout(p=0.1, inplace=False)\n",
              "        )\n",
              "        (encoder_attention): MultiHeadAttentionLayer(\n",
              "          (fc_q): Linear(in_features=768, out_features=768, bias=True)\n",
              "          (fc_k): Linear(in_features=768, out_features=768, bias=True)\n",
              "          (fc_v): Linear(in_features=768, out_features=768, bias=True)\n",
              "          (fc_o): Linear(in_features=768, out_features=768, bias=True)\n",
              "          (dropout): Dropout(p=0.1, inplace=False)\n",
              "        )\n",
              "        (positionwise_feedforward): PositionwiseFeedforwardLayer(\n",
              "          (fc_1): Linear(in_features=768, out_features=512, bias=True)\n",
              "          (fc_2): Linear(in_features=512, out_features=768, bias=True)\n",
              "          (dropout): Dropout(p=0.1, inplace=False)\n",
              "        )\n",
              "        (dropout): Dropout(p=0.1, inplace=False)\n",
              "      )\n",
              "    )\n",
              "    (fc_out): Linear(in_features=768, out_features=10799, bias=True)\n",
              "    (dropout): Dropout(p=0.1, inplace=False)\n",
              "  )\n",
              ")"
            ]
          },
          "metadata": {},
          "execution_count": 37
        }
      ]
    },
    {
      "cell_type": "code",
      "source": [
        "%%time\n",
        "train_history, val_history = train_model(\n",
        "    model, device, NUM_EPOCHS,\n",
        "    train_loader, val_loader, optimizer, criterion,\n",
        "    scheduler, CLIP, model_name=MODEL_NAME,\n",
        "    transformer=True\n",
        ")"
      ],
      "metadata": {
        "colab": {
          "base_uri": "https://localhost:8080/"
        },
        "id": "nd7MgBKN8fHi",
        "outputId": "953da8f3-c696-42b8-a158-b50166fc1582"
      },
      "execution_count": null,
      "outputs": [
        {
          "output_type": "stream",
          "name": "stderr",
          "text": [
            "train: 100%|██████████| 313/313 [02:17<00:00,  2.27it/s]\n",
            "evaluate: 100%|██████████| 59/59 [00:16<00:00,  3.68it/s]\n"
          ]
        },
        {
          "output_type": "stream",
          "name": "stdout",
          "text": [
            "Epoch: 01 | Time: 2m 33s\n",
            "\tTrain Loss: 2.823 | Train PPL:  16.835\n",
            "\t Val. Loss: 2.166 |  Val. PPL:   8.727\n"
          ]
        },
        {
          "output_type": "stream",
          "name": "stderr",
          "text": [
            "train: 100%|██████████| 313/313 [02:16<00:00,  2.29it/s]\n",
            "evaluate: 100%|██████████| 59/59 [00:16<00:00,  3.67it/s]\n"
          ]
        },
        {
          "output_type": "stream",
          "name": "stdout",
          "text": [
            "Epoch: 02 | Time: 2m 33s\n",
            "\tTrain Loss: 1.902 | Train PPL:   6.698\n",
            "\t Val. Loss: 1.808 |  Val. PPL:   6.096\n"
          ]
        },
        {
          "output_type": "stream",
          "name": "stderr",
          "text": [
            "train: 100%|██████████| 313/313 [02:17<00:00,  2.28it/s]\n",
            "evaluate: 100%|██████████| 59/59 [00:16<00:00,  3.68it/s]\n"
          ]
        },
        {
          "output_type": "stream",
          "name": "stdout",
          "text": [
            "Epoch: 03 | Time: 2m 33s\n",
            "\tTrain Loss: 1.522 | Train PPL:   4.583\n",
            "\t Val. Loss: 1.629 |  Val. PPL:   5.097\n"
          ]
        },
        {
          "output_type": "stream",
          "name": "stderr",
          "text": [
            "train: 100%|██████████| 313/313 [02:16<00:00,  2.29it/s]\n",
            "evaluate: 100%|██████████| 59/59 [00:16<00:00,  3.67it/s]\n"
          ]
        },
        {
          "output_type": "stream",
          "name": "stdout",
          "text": [
            "Epoch: 04 | Time: 2m 33s\n",
            "\tTrain Loss: 1.268 | Train PPL:   3.555\n",
            "\t Val. Loss: 1.554 |  Val. PPL:   4.733\n"
          ]
        },
        {
          "output_type": "stream",
          "name": "stderr",
          "text": [
            "train: 100%|██████████| 313/313 [02:16<00:00,  2.29it/s]\n",
            "evaluate: 100%|██████████| 59/59 [00:16<00:00,  3.68it/s]\n"
          ]
        },
        {
          "output_type": "stream",
          "name": "stdout",
          "text": [
            "Epoch: 05 | Time: 2m 32s\n",
            "\tTrain Loss: 1.085 | Train PPL:   2.961\n",
            "\t Val. Loss: 1.526 |  Val. PPL:   4.599\n"
          ]
        },
        {
          "output_type": "stream",
          "name": "stderr",
          "text": [
            "train: 100%|██████████| 313/313 [02:16<00:00,  2.29it/s]\n",
            "evaluate: 100%|██████████| 59/59 [00:16<00:00,  3.68it/s]\n"
          ]
        },
        {
          "output_type": "stream",
          "name": "stdout",
          "text": [
            "Epoch: 06 | Time: 2m 32s\n",
            "\tTrain Loss: 0.957 | Train PPL:   2.604\n",
            "\t Val. Loss: 1.533 |  Val. PPL:   4.634\n"
          ]
        },
        {
          "output_type": "stream",
          "name": "stderr",
          "text": [
            "train: 100%|██████████| 313/313 [02:18<00:00,  2.26it/s]\n",
            "evaluate: 100%|██████████| 59/59 [00:16<00:00,  3.60it/s]\n"
          ]
        },
        {
          "output_type": "stream",
          "name": "stdout",
          "text": [
            "Epoch: 07 | Time: 2m 34s\n",
            "\tTrain Loss: 0.858 | Train PPL:   2.359\n",
            "\t Val. Loss: 1.548 |  Val. PPL:   4.702\n"
          ]
        },
        {
          "output_type": "stream",
          "name": "stderr",
          "text": [
            "train: 100%|██████████| 313/313 [02:17<00:00,  2.28it/s]\n",
            "evaluate: 100%|██████████| 59/59 [00:16<00:00,  3.68it/s]\n"
          ]
        },
        {
          "output_type": "stream",
          "name": "stdout",
          "text": [
            "Epoch 00008: reducing learning rate of group 0 to 2.5000e-04.\n",
            "Epoch: 08 | Time: 2m 33s\n",
            "\tTrain Loss: 0.785 | Train PPL:   2.191\n",
            "\t Val. Loss: 1.577 |  Val. PPL:   4.842\n"
          ]
        },
        {
          "output_type": "stream",
          "name": "stderr",
          "text": [
            "train: 100%|██████████| 313/313 [02:16<00:00,  2.29it/s]\n",
            "evaluate: 100%|██████████| 59/59 [00:16<00:00,  3.67it/s]\n"
          ]
        },
        {
          "output_type": "stream",
          "name": "stdout",
          "text": [
            "Epoch: 09 | Time: 2m 32s\n",
            "\tTrain Loss: 0.622 | Train PPL:   1.863\n",
            "\t Val. Loss: 1.550 |  Val. PPL:   4.712\n"
          ]
        },
        {
          "output_type": "stream",
          "name": "stderr",
          "text": [
            "train: 100%|██████████| 313/313 [02:17<00:00,  2.28it/s]\n",
            "evaluate: 100%|██████████| 59/59 [00:16<00:00,  3.67it/s]"
          ]
        },
        {
          "output_type": "stream",
          "name": "stdout",
          "text": [
            "Epoch: 10 | Time: 2m 33s\n",
            "\tTrain Loss: 0.546 | Train PPL:   1.727\n",
            "\t Val. Loss: 1.591 |  Val. PPL:   4.910\n",
            "CPU times: user 24min 56s, sys: 7.81 s, total: 25min 4s\n",
            "Wall time: 25min 57s\n"
          ]
        },
        {
          "output_type": "stream",
          "name": "stderr",
          "text": [
            "\n"
          ]
        }
      ]
    },
    {
      "cell_type": "code",
      "source": [
        "plot_history(train_history, val_history)"
      ],
      "metadata": {
        "colab": {
          "base_uri": "https://localhost:8080/",
          "height": 213
        },
        "id": "UFxLLOrSChb7",
        "outputId": "9dde3b90-0654-4aa7-d4d0-e16a1fa5dbca"
      },
      "execution_count": null,
      "outputs": [
        {
          "output_type": "display_data",
          "data": {
            "text/plain": [
              "<Figure size 400x200 with 1 Axes>"
            ],
            "image/png": "[encoded data removed]"
          },
          "metadata": {
            "image/png": {
              "width": 347,
              "height": 196
            }
          }
        }
      ]
    },
    {
      "cell_type": "markdown",
      "source": [
        "Overfitting occurs after 5 epochs."
      ],
      "metadata": {
        "id": "XPp392IOFfNX"
      }
    },
    {
      "cell_type": "code",
      "source": [
        "# load best model\n",
        "with open(f'{MODEL_NAME}.pt', 'rb') as fp:\n",
        "    checkpoint = torch.load(fp, map_location='cpu')\n",
        "    model.load_state_dict(checkpoint['model_state_dict'])\n",
        "\n",
        "model.to(device)\n",
        "\n",
        "test_loss = evaluate(model, device, test_loader, criterion, transformer=True)\n",
        "print(f'\\nTest Loss: {test_loss:.3f} | Test PPL: {math.exp(test_loss):7.3f} \\n')\n",
        "\n",
        "calc_bleu(model, device, test_loader, src_vocab=None, trg_vocab=ru_vocab, \n",
        "          num_examples=5, transformer=True, src_bert_tokenizer=en_bert_tokenizer)"
      ],
      "metadata": {
        "colab": {
          "base_uri": "https://localhost:8080/"
        },
        "id": "NuvrxnJpBCCn",
        "outputId": "9876da64-18c3-458d-f4b0-ab6dbd4e3a1a"
      },
      "execution_count": null,
      "outputs": [
        {
          "output_type": "stream",
          "name": "stderr",
          "text": [
            "evaluate: 100%|██████████| 20/20 [00:05<00:00,  3.83it/s]\n"
          ]
        },
        {
          "output_type": "stream",
          "name": "stdout",
          "text": [
            "\n",
            "Test Loss: 1.510 | Test PPL:   4.528 \n",
            "\n"
          ]
        },
        {
          "output_type": "stream",
          "name": "stderr",
          "text": [
            "bleu: 100%|██████████| 20/20 [03:56<00:00, 11.82s/it]\n"
          ]
        },
        {
          "output_type": "stream",
          "name": "stdout",
          "text": [
            "bleu: 31.102\n",
            "\n",
            "input: the nearest airport is ufa international airport, 21 km from apartment park yakutova.\n",
            "target: расстояние до международного аэропорта от апартаментов « парк » составляет 21 км .\n",
            "generated: расстояние до международного аэропорта « » составляет 21 км . \n",
            "\n",
            "input: sant carles de la ràpita is 30 km from refugi caro uec, while l'ametlla de mar is 40 km from the property.\n",
            "target: в 30 км от хостела находится городок сан - карлос - де - ла - рапита , а в 40 км — курорт л ’ амеллья - де - мар .\n",
            "generated: комплекс апартаментов cala de la ville находится в 30 км от города и в 40 км от города кунео . \n",
            "\n",
            "input: it offers varied breakfast every morning and specialises in traditional polish cuisine.\n",
            "target: он специализируется на блюдах традиционной польской кухни , а также тут гостям каждый день подают разнообразный завтрак .\n",
            "generated: каждое утро для гостей сервируют разнообразный завтрак , а также фирменные блюда традиционной польской кухни . \n",
            "\n",
            "input: towels and bed linen are provided.\n",
            "target: предоставляются полотенца и постельное белье .\n",
            "generated: предоставляются полотенца и постельное белье . \n",
            "\n",
            "input: overlooking the garden, rooms come with unique wooden interiors and modern décor.\n",
            "target: современный интерьер всех номеров отделан деревом , а из их окон открывается вид в сад .\n",
            "generated: номера оформлены в современном стиле и располагают паркетными полами и оформлены в современном стиле . из окон открывается вид на сад . \n",
            "\n"
          ]
        }
      ]
    },
    {
      "cell_type": "code",
      "source": [
        "# benchmark\n",
        "BATCH_SIZE = 32\n",
        "speed_test_loader = DataLoader(test_data, batch_size=BATCH_SIZE, shuffle=False, collate_fn=collate_fn)\n",
        "print(f'batch size: {BATCH_SIZE}\\nnum batches: {len(speed_test_loader)}')\n",
        "\n",
        "inference_times = calc_inference_speed(model, device, speed_test_loader, transformer=True)\n",
        "\n",
        "mean_inference_time = sum(inference_times) / len(inference_times)\n",
        "# number of examples network can process in one second\n",
        "inference_speed = len(speed_test_loader) * BATCH_SIZE / sum(inference_times)\n",
        "print(f'\\nmean inference time: {mean_inference_time:.2f} s\\ninference speed: {inference_speed:.2f} samples/s')"
      ],
      "metadata": {
        "colab": {
          "base_uri": "https://localhost:8080/"
        },
        "id": "irh1fCJCwD03",
        "outputId": "b1f8a387-8d57-481b-b5a9-7299ae2f2461"
      },
      "execution_count": null,
      "outputs": [
        {
          "output_type": "stream",
          "name": "stdout",
          "text": [
            "batch size: 32\n",
            "num batches: 79\n"
          ]
        },
        {
          "output_type": "stream",
          "name": "stderr",
          "text": [
            "speed test: 100%|██████████| 79/79 [00:05<00:00, 14.24it/s]"
          ]
        },
        {
          "output_type": "stream",
          "name": "stdout",
          "text": [
            "\n",
            "mean inference time: 0.06 s\n",
            "inference speed: 503.63 samples/s\n"
          ]
        },
        {
          "output_type": "stream",
          "name": "stderr",
          "text": [
            "\n"
          ]
        }
      ]
    },
    {
      "cell_type": "markdown",
      "source": [
        "**Good model**\n",
        "\n",
        "- slower inference\n",
        "- best translation quality 🏆"
      ],
      "metadata": {
        "id": "1aYTf3oiFy8n"
      }
    }
  ]
}