{
  "nbformat": 4,
  "nbformat_minor": 0,
  "metadata": {
    "colab": {
      "provenance": []
    },
    "kernelspec": {
      "name": "python3",
      "display_name": "Python 3"
    },
    "language_info": {
      "name": "python"
    },
    "gpuClass": "standard"
  },
  "cells": [
    {
      "cell_type": "code",
      "execution_count": null,
      "metadata": {
        "id": "e8wvWJiFBrb9"
      },
      "outputs": [],
      "source": [
        "import os\n",
        "import re\n",
        "from random import sample, randint\n",
        "\n",
        "import numpy as np\n",
        "import torch, torch.nn as nn\n",
        "import torch.nn.functional as F\n",
        "import matplotlib.pyplot as plt\n",
        "from tqdm import tqdm\n",
        "from IPython.display import clear_output\n",
        "\n",
        "%matplotlib inline\n",
        "%config InlineBackend.figure_format = 'retina'"
      ]
    },
    {
      "cell_type": "markdown",
      "source": [
        "# Base Model"
      ],
      "metadata": {
        "id": "hlJQr_Q7udU_"
      }
    },
    {
      "cell_type": "code",
      "source": [
        "!wget https://raw.githubusercontent.com/attatrol/data_sources/master/onegin.txt\n",
        "\n",
        "with open('onegin.txt', 'r') as f:\n",
        "    text = f.readlines()\n",
        "\n",
        "text = [x.replace('\\t\\t', '') for x in text]"
      ],
      "metadata": {
        "colab": {
          "base_uri": "https://localhost:8080/"
        },
        "id": "4dR2f6SXlIsO",
        "outputId": "e541305b-0c4c-47d8-d497-ece9eb8e30e6"
      },
      "execution_count": null,
      "outputs": [
        {
          "output_type": "stream",
          "name": "stdout",
          "text": [
            "--2022-12-25 14:30:04--  https://raw.githubusercontent.com/attatrol/data_sources/master/onegin.txt\n",
            "Resolving raw.githubusercontent.com (raw.githubusercontent.com)... 185.199.110.133, 185.199.109.133, 185.199.108.133, ...\n",
            "Connecting to raw.githubusercontent.com (raw.githubusercontent.com)|185.199.110.133|:443... connected.\n",
            "HTTP request sent, awaiting response... 200 OK\n",
            "Length: 262521 (256K) [text/plain]\n",
            "Saving to: ‘onegin.txt.1’\n",
            "\n",
            "onegin.txt.1        100%[===================>] 256.37K  --.-KB/s    in 0.02s   \n",
            "\n",
            "2022-12-25 14:30:05 (11.7 MB/s) - ‘onegin.txt.1’ saved [262521/262521]\n",
            "\n"
          ]
        }
      ]
    },
    {
      "cell_type": "code",
      "source": [
        "print(f\"{len(text)} lines\")\n",
        "text[:20]"
      ],
      "metadata": {
        "colab": {
          "base_uri": "https://localhost:8080/"
        },
        "id": "JmMJzxzvleXk",
        "outputId": "6287009b-4beb-4195-a46e-c8d426fe47b8"
      },
      "execution_count": null,
      "outputs": [
        {
          "output_type": "stream",
          "name": "stdout",
          "text": [
            "7088 lines\n"
          ]
        },
        {
          "output_type": "execute_result",
          "data": {
            "text/plain": [
              "['\\n',\n",
              " 'I\\n',\n",
              " '\\n',\n",
              " '«Мой дядя самых честных правил,\\n',\n",
              " 'Когда не в шутку занемог,\\n',\n",
              " 'Он уважать себя заставил\\n',\n",
              " 'И лучше выдумать не мог.\\n',\n",
              " 'Его пример другим наука;\\n',\n",
              " 'Но, боже мой, какая скука\\n',\n",
              " 'С больным сидеть и день и ночь,\\n',\n",
              " 'Не отходя ни шагу прочь!\\n',\n",
              " 'Какое низкое коварство\\n',\n",
              " 'Полуживого забавлять,\\n',\n",
              " 'Ему подушки поправлять,\\n',\n",
              " 'Печально подносить лекарство,\\n',\n",
              " 'Вздыхать и думать про себя:\\n',\n",
              " 'Когда же черт возьмет тебя!»\\n',\n",
              " '\\n',\n",
              " '\\n',\n",
              " '\\n']"
            ]
          },
          "metadata": {},
          "execution_count": 11
        }
      ]
    },
    {
      "cell_type": "code",
      "source": [
        "text = [s for s in text if s != '\\n']\n",
        "print(f\"{len(text)} lines\")"
      ],
      "metadata": {
        "colab": {
          "base_uri": "https://localhost:8080/"
        },
        "id": "tkUK-MA9mZpM",
        "outputId": "d776395a-b59c-47f3-e24d-bf7c2f7bc3d1"
      },
      "execution_count": null,
      "outputs": [
        {
          "output_type": "stream",
          "name": "stdout",
          "text": [
            "5615 lines\n"
          ]
        }
      ]
    },
    {
      "cell_type": "code",
      "source": [
        "#text = [re.sub(\"[^а-яА-Я]+\", \" \", s).lower() for s in text]\n",
        "#print(f\"{len(text)} lines\")\n",
        "#text = [s.lstrip() for s in text if s != \" \"]\n",
        "#print(f\"{len(text)} lines\")\n",
        "\n",
        "# text = [re.sub('[IVXLCDM]+', '', s) for s in text]  # dummy roman numerals remove\n",
        "# https://dev.to/alexdjulin/a-python-regex-to-validate-roman-numerals-2g99\n",
        "text = [re.sub('^M{0,3}(CM|CD|D?C{0,3})?(XC|XL|L?X{0,3})?(IX|IV|V?I{0,3})?$', '', s) for s in text]\n",
        "text = [re.sub('[^a-zA-Zа-яА-Я.,;:?’!-]+', ' ', s) for s in text]\n",
        "text = [s.lstrip().lower() for s in text if len(s) > 1]\n",
        "print(f\"{len(text)} lines\")\n",
        "text[:8]"
      ],
      "metadata": {
        "colab": {
          "base_uri": "https://localhost:8080/"
        },
        "id": "O93jN_ZXuDpI",
        "outputId": "49262aaf-31b5-4add-c1a1-183e7ad8e513"
      },
      "execution_count": null,
      "outputs": [
        {
          "output_type": "stream",
          "name": "stdout",
          "text": [
            "5257 lines\n"
          ]
        },
        {
          "output_type": "execute_result",
          "data": {
            "text/plain": [
              "['мой дядя самых честных правил, ',\n",
              " 'когда не в шутку занемог, ',\n",
              " 'он уважать себя заставил ',\n",
              " 'и лучше выдумать не мог. ',\n",
              " 'его пример другим наука; ',\n",
              " 'но, боже мой, какая скука ',\n",
              " 'с больным сидеть и день и ночь, ',\n",
              " 'не отходя ни шагу прочь! ']"
            ]
          },
          "metadata": {},
          "execution_count": 13
        }
      ]
    },
    {
      "cell_type": "code",
      "source": [
        "headers = ('Письмо Татьяны к Онегину', 'Письмо Онегина к Татьяне',\n",
        "           'Глава первая', 'Глава вторая', 'Глава третья', 'Глава четвертая',\n",
        "           'Глава пятая', 'Глава шестая', 'Глава седьмая', 'Глава восьмая')\n",
        "text = [s for s in text if s not in map(lambda x: f'{x} '.lower(), headers)]\n",
        "print(f\"{len(text)} lines\")"
      ],
      "metadata": {
        "colab": {
          "base_uri": "https://localhost:8080/"
        },
        "id": "sWSyXlEYMxuW",
        "outputId": "fbade563-a651-47f2-d9df-b4b444e45352"
      },
      "execution_count": null,
      "outputs": [
        {
          "output_type": "stream",
          "name": "stdout",
          "text": [
            "5251 lines\n"
          ]
        }
      ]
    },
    {
      "cell_type": "code",
      "source": [
        "# https://en.wikipedia.org/wiki/Onegin_stanza\n",
        "# https://en.wikipedia.org/wiki/Iamb_(poetry)\n",
        "text = [''.join(text[i:i+2]).strip() for i in range(0, len(text), 2)]   # Iamb\n",
        "print(f\"{len(text)} lines\")\n",
        "text[:8]"
      ],
      "metadata": {
        "colab": {
          "base_uri": "https://localhost:8080/"
        },
        "id": "MG2Lnlv4RAGV",
        "outputId": "2b4bf4a5-b9ad-434c-ac45-9614fb9c5fd6"
      },
      "execution_count": null,
      "outputs": [
        {
          "output_type": "stream",
          "name": "stdout",
          "text": [
            "2626 lines\n"
          ]
        },
        {
          "output_type": "execute_result",
          "data": {
            "text/plain": [
              "['мой дядя самых честных правил, когда не в шутку занемог,',\n",
              " 'он уважать себя заставил и лучше выдумать не мог.',\n",
              " 'его пример другим наука; но, боже мой, какая скука',\n",
              " 'с больным сидеть и день и ночь, не отходя ни шагу прочь!',\n",
              " 'какое низкое коварство полуживого забавлять,',\n",
              " 'ему подушки поправлять, печально подносить лекарство,',\n",
              " 'вздыхать и думать про себя: когда же черт возьмет тебя!',\n",
              " 'так думал молодой повеса, летя в пыли на почтовых,']"
            ]
          },
          "metadata": {},
          "execution_count": 7
        }
      ]
    },
    {
      "cell_type": "code",
      "source": [
        "# Join all the strings into one and lowercase it\n",
        "out = ' '.join(text)\n",
        "out[:106]"
      ],
      "metadata": {
        "colab": {
          "base_uri": "https://localhost:8080/",
          "height": 35
        },
        "id": "T-JbhMBXqaKL",
        "outputId": "8e92da08-41e3-4311-8976-9ede024afff2"
      },
      "execution_count": null,
      "outputs": [
        {
          "output_type": "execute_result",
          "data": {
            "text/plain": [
              "'мой дядя самых честных правил, когда не в шутку занемог, он уважать себя заставил и лучше выдумать не мог.'"
            ],
            "application/vnd.google.colaboratory.intrinsic+json": {
              "type": "string"
            }
          },
          "metadata": {},
          "execution_count": 8
        }
      ]
    },
    {
      "cell_type": "markdown",
      "source": [
        "Put all the characters, that you've seen in the text, into variable `tokens`."
      ],
      "metadata": {
        "id": "PqcH5vCT0Hag"
      }
    },
    {
      "cell_type": "code",
      "source": [
        "tokens = sorted(set(out))"
      ],
      "metadata": {
        "id": "KVwWakltoLep"
      },
      "execution_count": null,
      "outputs": []
    },
    {
      "cell_type": "code",
      "source": [
        "tokens.append('<') # <SOS> token\n",
        "tokens.append('>') # <EOS> token\n",
        "tokens.append('_') # <PAD> token"
      ],
      "metadata": {
        "id": "pjWEd7lOfmF9"
      },
      "execution_count": null,
      "outputs": []
    },
    {
      "cell_type": "code",
      "source": [
        "len(tokens)"
      ],
      "metadata": {
        "colab": {
          "base_uri": "https://localhost:8080/"
        },
        "id": "S2Uk9Lrxv6KU",
        "outputId": "39cf7403-d370-4f4f-afe3-ba968f1ebe84"
      },
      "execution_count": null,
      "outputs": [
        {
          "output_type": "execute_result",
          "data": {
            "text/plain": [
              "69"
            ]
          },
          "metadata": {},
          "execution_count": 11
        }
      ]
    },
    {
      "cell_type": "markdown",
      "source": [
        "Create dictionary `token_to_idx = {: }` and dictionary `idx_to_token = {: }`"
      ],
      "metadata": {
        "id": "GZK85hmI0Br3"
      }
    },
    {
      "cell_type": "code",
      "source": [
        "token_to_idx = {token: idx for idx, token in enumerate(tokens)}\n",
        "idx_to_token = {idx: token for token, idx in token_to_idx.items()}\n",
        "print(token_to_idx, idx_to_token, sep='\\n')"
      ],
      "metadata": {
        "colab": {
          "base_uri": "https://localhost:8080/"
        },
        "id": "m5yS5JX00Rck",
        "outputId": "389de9c1-4c4d-46bd-dde7-93ba94d2f4dc"
      },
      "execution_count": null,
      "outputs": [
        {
          "output_type": "stream",
          "name": "stdout",
          "text": [
            "{' ': 0, '!': 1, ',': 2, '-': 3, '.': 4, ':': 5, ';': 6, '?': 7, 'a': 8, 'b': 9, 'c': 10, 'd': 11, 'e': 12, 'f': 13, 'g': 14, 'h': 15, 'i': 16, 'k': 17, 'l': 18, 'm': 19, 'n': 20, 'o': 21, 'p': 22, 'q': 23, 'r': 24, 's': 25, 't': 26, 'u': 27, 'v': 28, 'w': 29, 'x': 30, 'y': 31, 'z': 32, 'а': 33, 'б': 34, 'в': 35, 'г': 36, 'д': 37, 'е': 38, 'ж': 39, 'з': 40, 'и': 41, 'й': 42, 'к': 43, 'л': 44, 'м': 45, 'н': 46, 'о': 47, 'п': 48, 'р': 49, 'с': 50, 'т': 51, 'у': 52, 'ф': 53, 'х': 54, 'ц': 55, 'ч': 56, 'ш': 57, 'щ': 58, 'ъ': 59, 'ы': 60, 'ь': 61, 'э': 62, 'ю': 63, 'я': 64, '’': 65, '<': 66, '>': 67, '_': 68}\n",
            "{0: ' ', 1: '!', 2: ',', 3: '-', 4: '.', 5: ':', 6: ';', 7: '?', 8: 'a', 9: 'b', 10: 'c', 11: 'd', 12: 'e', 13: 'f', 14: 'g', 15: 'h', 16: 'i', 17: 'k', 18: 'l', 19: 'm', 20: 'n', 21: 'o', 22: 'p', 23: 'q', 24: 'r', 25: 's', 26: 't', 27: 'u', 28: 'v', 29: 'w', 30: 'x', 31: 'y', 32: 'z', 33: 'а', 34: 'б', 35: 'в', 36: 'г', 37: 'д', 38: 'е', 39: 'ж', 40: 'з', 41: 'и', 42: 'й', 43: 'к', 44: 'л', 45: 'м', 46: 'н', 47: 'о', 48: 'п', 49: 'р', 50: 'с', 51: 'т', 52: 'у', 53: 'ф', 54: 'х', 55: 'ц', 56: 'ч', 57: 'ш', 58: 'щ', 59: 'ъ', 60: 'ы', 61: 'ь', 62: 'э', 63: 'ю', 64: 'я', 65: '’', 66: '<', 67: '>', 68: '_'}\n"
          ]
        }
      ]
    },
    {
      "cell_type": "code",
      "source": [
        "# batch of sequences:\n",
        "# |__________sequence1__________|\n",
        "# |_____sequence2_____|_padding_|\n",
        "# |___sequence3___|___padding___|\n",
        "# ...\n",
        "\n",
        "def to_matrix(text, max_len=None, pad=token_to_idx['_'], dtype='int32', batch_first=True):\n",
        "    \"\"\"Casts a list of names into RNN-digestable matrix\"\"\"\n",
        "    max_len = max_len or max(map(len, text))  # max_len in batch\n",
        "    max_len += 1  # because we add <EOS> to each line\n",
        "    text_ix = np.zeros([len(text), max_len], dtype) + pad  # <PAD> initialization\n",
        "    text_ix[:, 0] = token_to_idx['<']  # add <SOS> token\n",
        "\n",
        "    for i in range(len(text)):\n",
        "        line_ix = [token_to_idx[c] for c in text[i]]\n",
        "        text_ix[i, 0:len(line_ix)] = line_ix\n",
        "        text_ix[i, len(line_ix)] = token_to_idx['>']  # add <EOS> token\n",
        "\n",
        "    if not batch_first:  # convert [batch, time] into [time, batch]\n",
        "        text_ix = np.transpose(text_ix)\n",
        "\n",
        "    return text_ix"
      ],
      "metadata": {
        "id": "FUJjFamWfKU8"
      },
      "execution_count": null,
      "outputs": []
    },
    {
      "cell_type": "code",
      "source": [
        "# Example: cast random names to matrices, pad with zeros\n",
        "print('\\n'.join(text[::1000]))\n",
        "mat = to_matrix(text[::1000])\n",
        "print(mat, '\\n', mat.shape)"
      ],
      "metadata": {
        "colab": {
          "base_uri": "https://localhost:8080/"
        },
        "id": "3Yena0t_in23",
        "outputId": "80956a74-89b6-4fe1-ae03-6702b09c23cf"
      },
      "execution_count": null,
      "outputs": [
        {
          "output_type": "stream",
          "name": "stdout",
          "text": [
            "мой дядя самых честных правил, когда не в шутку занемог,\n",
            "желаньем медленно томим, томим и ветреным успехом,\n",
            "под шляпой с пасмурным челом, с руками, сжатыми крестом.\n",
            "[[45 47 42  0 37 64 37 64  0 50 33 45 60 54  0 56 38 50 51 46 60 54  0 48\n",
            "  49 33 35 41 44  2  0 43 47 36 37 33  0 46 38  0 35  0 57 52 51 43 52  0\n",
            "  40 33 46 38 45 47 36  2 67]\n",
            " [39 38 44 33 46 61 38 45  0 45 38 37 44 38 46 46 47  0 51 47 45 41 45  2\n",
            "   0 51 47 45 41 45  0 41  0 35 38 51 49 38 46 60 45  0 52 50 48 38 54 47\n",
            "  45  2 67 68 68 68 68 68 68]\n",
            " [48 47 37  0 57 44 64 48 47 42  0 50  0 48 33 50 45 52 49 46 60 45  0 56\n",
            "  38 44 47 45  2  0 50  0 49 52 43 33 45 41  2  0 50 39 33 51 60 45 41  0\n",
            "  43 49 38 50 51 47 45  4 67]] \n",
            " (3, 57)\n"
          ]
        }
      ]
    },
    {
      "cell_type": "code",
      "source": [
        "plt.pcolormesh(to_matrix(text[::1000]) == token_to_idx['_']);  # show <PAD> tokens"
      ],
      "metadata": {
        "colab": {
          "base_uri": "https://localhost:8080/",
          "height": 269
        },
        "id": "kWHY3Rk7sPfY",
        "outputId": "e046b766-f02a-48d7-a9eb-fb49ce055e79"
      },
      "execution_count": null,
      "outputs": [
        {
          "output_type": "display_data",
          "data": {
            "text/plain": [
              "<Figure size 432x288 with 1 Axes>"
            ],
            "image/png": "[encoded data removed]"
          },
          "metadata": {
            "image/png": {
              "width": 372,
              "height": 252
            },
            "needs_background": "light"
          }
        }
      ]
    },
    {
      "cell_type": "markdown",
      "source": [
        "Now we want to build and train recurrent neural net which would be able to something similar to Pushkin's poetry.\n",
        "\n",
        "Let's use vanilla RNN, similar to the one created during the lesson."
      ],
      "metadata": {
        "id": "zqt-M_vF0OlG"
      }
    },
    {
      "cell_type": "markdown",
      "source": [
        "We can rewrite recurrent neural network as a consecutive application of dense layer to input $x_t$  and previous RNN state $h_t$. This is exactly what we're gonna do now.\n",
        "\n",
        "Since we're training a language model, there should also be:\n",
        "\n",
        "- An embedding layer that converts character id $x_t$ to a vector.\n",
        "- An output layer that predicts probabilities of next phoneme"
      ],
      "metadata": {
        "id": "dXu9S2D6r8US"
      }
    },
    {
      "cell_type": "code",
      "source": [
        "# one-hot encoding alternative\n",
        "embed = nn.Embedding(4, 2)\n",
        "print(embed, '\\n')\n",
        "print(next(embed.parameters()), '\\n')  # params\n",
        "print(embed(torch.LongTensor([2])))  # access elements"
      ],
      "metadata": {
        "colab": {
          "base_uri": "https://localhost:8080/"
        },
        "id": "2BJH0qObsUNt",
        "outputId": "716fc189-4c70-4371-f2a3-63ece7c74276"
      },
      "execution_count": null,
      "outputs": [
        {
          "output_type": "stream",
          "name": "stdout",
          "text": [
            "Embedding(4, 2) \n",
            "\n",
            "Parameter containing:\n",
            "tensor([[-0.5533,  0.9856],\n",
            "        [-1.2083,  0.3059],\n",
            "        [-1.4542,  0.4938],\n",
            "        [-0.1625, -0.7225]], requires_grad=True) \n",
            "\n",
            "tensor([[-1.4542,  0.4938]], grad_fn=<EmbeddingBackward0>)\n"
          ]
        }
      ]
    },
    {
      "cell_type": "code",
      "source": [
        "class CharRNNCell(nn.Module):\n",
        "    \"\"\"\n",
        "    Implement the scheme above as torch module\n",
        "    \"\"\"\n",
        "    def __init__(self, num_tokens=len(tokens), embedding_size=32, rnn_num_units=64):\n",
        "        super().__init__()\n",
        "        self.num_units = rnn_num_units\n",
        "\n",
        "        self.embedding = nn.Embedding(num_tokens, embedding_size)  # token vector representation (trainable)\n",
        "        # A simple lookup table that stores embeddings of a fixed dictionary and size.\n",
        "        # This module is often used to store word embeddings and retrieve them using indices.\n",
        "        # The input to the module is a list of indices, and the output is the corresponding word embeddings.\n",
        "        self.rnn_update = nn.Linear(embedding_size + rnn_num_units, rnn_num_units)\n",
        "        self.rnn_to_logits = nn.Linear(rnn_num_units, num_tokens)\n",
        "\n",
        "    def forward(self, x, h_prev):\n",
        "        \"\"\"\n",
        "        This method computes h_next(x, h_prev) and log P(x_next | h_next)\n",
        "        We'll call it repeatedly to produce the whole sequence.\n",
        "\n",
        "        :param x: batch of character ids, containing vector of int64\n",
        "        :param h_prev: previous rnn hidden states, containing matrix [batch, rnn_num_units] of float32\n",
        "        \"\"\"\n",
        "        # get vector embedding of x\n",
        "        # x: torch.Size([b_sz])\n",
        "        x_emb = self.embedding(x)\n",
        "        # x_emb: torch.Size([b_sz, emb_sz])\n",
        "\n",
        "        # compute next hidden state using self.rnn_update\n",
        "        x_and_h = torch.cat([x_emb, h_prev], dim=-1)\n",
        "        # x_and_h: torch.Size([b_sz, emb_sz + num_units])\n",
        "        h_next = self.rnn_update(x_and_h)\n",
        "        # h_next: torch.Size([b_sz, num_units])\n",
        "        h_next = torch.tanh(h_next)\n",
        "        assert h_next.size() == h_prev.size()\n",
        "\n",
        "        # compute logits for next character probs\n",
        "        logits = self.rnn_to_logits(h_next)\n",
        "        # logits: torch.Size([b_sz, num_tokens])\n",
        "\n",
        "        return h_next, logits\n",
        "\n",
        "    def initial_state(self, batch_size):\n",
        "        \"\"\" return rnn state before it processes first input (aka h0) \"\"\"\n",
        "        return torch.zeros(batch_size, self.num_units, requires_grad=True) + token_to_idx[' ']  # spaces"
      ],
      "metadata": {
        "id": "bV8h9moeb4iV"
      },
      "execution_count": null,
      "outputs": []
    },
    {
      "cell_type": "code",
      "source": [
        "char_rnn = CharRNNCell(num_tokens=len(tokens))"
      ],
      "metadata": {
        "id": "kZXZvmx-f_wO"
      },
      "execution_count": null,
      "outputs": []
    },
    {
      "cell_type": "markdown",
      "source": [
        "Once we've defined a single RNN step, we can apply it in a loop to get predictions on each step."
      ],
      "metadata": {
        "id": "BSp9Ax3p0ybr"
      }
    },
    {
      "cell_type": "code",
      "source": [
        "# RNN loop\n",
        "def rnn_loop(char_rnn, batch_ix):\n",
        "    \"\"\"\n",
        "    Computes log P(next_character) for all time-steps in batch_ix\n",
        "    :param batch_ix: an int32 matrix of shape [batch, time], output of to_matrix(text)\n",
        "    \"\"\"\n",
        "    # batch_ix: torch.Size([bs, max_len])\n",
        "    batch_size, max_length = batch_ix.size()\n",
        "    hid_state = char_rnn.initial_state(batch_size)\n",
        "    logits = []\n",
        "\n",
        "    # passing `bs` sequences through the network\n",
        "    for x_t in batch_ix.transpose(0, 1):\n",
        "        # batch_ix.transpose(0, 1) -> torch.Size([max_len, bs])\n",
        "        # x_t: torch.Size([bs])\n",
        "        hid_state, logits_next = char_rnn(x_t, hid_state)  # passing `bs` characters\n",
        "        logits.append(logits_next)\n",
        "\n",
        "    return torch.stack(logits, dim=1)"
      ],
      "metadata": {
        "id": "7J-B4phK3ZsW"
      },
      "execution_count": null,
      "outputs": []
    },
    {
      "cell_type": "code",
      "source": [
        "batch_ix = to_matrix(text[:5])  # b_sz=5\n",
        "batch_ix = torch.tensor(batch_ix, dtype=torch.int64)\n",
        "print(batch_ix.shape)  # torch.Size([b_sz, max_len])\n",
        "\n",
        "logit_seq = rnn_loop(char_rnn, batch_ix)\n",
        "print(logit_seq.shape)  # torch.Size([b_sz, max_len, num_tokens])"
      ],
      "metadata": {
        "colab": {
          "base_uri": "https://localhost:8080/"
        },
        "id": "BOeEsmA53s_K",
        "outputId": "fd2f16b6-eb84-4744-b14c-dc9a75f11635"
      },
      "execution_count": null,
      "outputs": [
        {
          "output_type": "stream",
          "name": "stdout",
          "text": [
            "torch.Size([5, 57])\n",
            "torch.Size([5, 57, 69])\n"
          ]
        }
      ]
    },
    {
      "cell_type": "markdown",
      "source": [
        "We can now train our neural network to minimize crossentropy (maximize log-likelihood) with the actual next tokens.\n",
        "\n",
        "To do so in a vectorized manner, we take `batch_ix[:, 1:]` – a matrix of token ids shifted 1 step to the left so i-th element is acutally the \"next token\" for i-th prediction."
      ],
      "metadata": {
        "id": "3QzSACl94W37"
      }
    },
    {
      "cell_type": "code",
      "source": [
        "predictions_logits = logit_seq[:, :-1]\n",
        "print(predictions_logits.shape)\n",
        "actual_next_tokens = batch_ix[:, 1:]\n",
        "print(actual_next_tokens.shape)\n",
        "num_tokens = len(tokens)\n",
        "\n",
        "loss_func = nn.CrossEntropyLoss(ignore_index=token_to_idx['_'])\n",
        "# ignore gradients for this tokens (no <PAD> predictions)\n",
        "loss = loss_func(\n",
        "    predictions_logits.reshape((-1, num_tokens)),\n",
        "    actual_next_tokens.reshape(-1),\n",
        ")\n",
        "print(loss.item())\n",
        "loss.backward()"
      ],
      "metadata": {
        "colab": {
          "base_uri": "https://localhost:8080/"
        },
        "id": "-XN3nHWT4Sd7",
        "outputId": "4f03da99-6f79-4f7f-8509-6a465bd91cd1"
      },
      "execution_count": null,
      "outputs": [
        {
          "output_type": "stream",
          "name": "stdout",
          "text": [
            "torch.Size([5, 56, 69])\n",
            "torch.Size([5, 56])\n",
            "4.232661247253418\n"
          ]
        }
      ]
    },
    {
      "cell_type": "code",
      "source": [
        "for w in char_rnn.parameters():\n",
        "    assert w.grad is not None and torch.max(torch.abs(w.grad)).data.numpy() != 0, \\\n",
        "        f\"Loss is not differentiable w.r.t. a weight with shape f{w.size()}. Check forward method.\""
      ],
      "metadata": {
        "id": "0ZVIPpC75c1r"
      },
      "execution_count": null,
      "outputs": []
    },
    {
      "cell_type": "markdown",
      "source": [
        "We train our char-rnn exactly the same way we train any deep learning model: by minibatch SGD.\n",
        "\n",
        "The only difference is that this time we sample strings, not images or sound."
      ],
      "metadata": {
        "id": "2upIucBQ5sY9"
      }
    },
    {
      "cell_type": "code",
      "source": [
        "BATCH_SIZE = 32\n",
        "MAX_LENGTH = max(map(len, text))\n",
        "print(MAX_LENGTH)"
      ],
      "metadata": {
        "colab": {
          "base_uri": "https://localhost:8080/"
        },
        "id": "YAgrNLfghIgr",
        "outputId": "6f6ea1ff-2e01-4942-964c-39a562ea128e"
      },
      "execution_count": null,
      "outputs": [
        {
          "output_type": "stream",
          "name": "stdout",
          "text": [
            "104\n"
          ]
        }
      ]
    },
    {
      "cell_type": "code",
      "source": [
        "char_rnn = CharRNNCell(num_tokens=len(tokens), embedding_size=64, rnn_num_units=256)\n",
        "opt = torch.optim.Adam(char_rnn.parameters())\n",
        "loss_func = nn.CrossEntropyLoss(ignore_index=token_to_idx['_'])\n",
        "\n",
        "history = []\n",
        "\n",
        "for i in range(2000):\n",
        "    batch_ix = to_matrix(sample(text, BATCH_SIZE), max_len=MAX_LENGTH)\n",
        "    batch_ix = torch.tensor(batch_ix, dtype=torch.int64)\n",
        "\n",
        "    logits_seq = rnn_loop(char_rnn, batch_ix)\n",
        "\n",
        "    # compute loss\n",
        "    predictions_logits = logits_seq[:, :-1]\n",
        "    actual_next_tokens = batch_ix[:, 1:]\n",
        "\n",
        "    loss = loss_func(\n",
        "        predictions_logits.reshape((-1, num_tokens)),\n",
        "        actual_next_tokens.reshape(-1),\n",
        "    )\n",
        "\n",
        "    loss.backward()\n",
        "    opt.step()\n",
        "\n",
        "    opt.zero_grad()\n",
        "\n",
        "    history.append(loss.item())\n",
        "    if (i + 1) % 50 == 0:\n",
        "        clear_output(True)\n",
        "        plt.plot(history, label='loss')\n",
        "        plt.legend()\n",
        "        plt.show()\n",
        "\n",
        "assert np.mean(history[:10]) > np.mean(history[-10:]), \"RNN didn't converge.\""
      ],
      "metadata": {
        "colab": {
          "base_uri": "https://localhost:8080/",
          "height": 265
        },
        "id": "18jpyt5b5lWy",
        "outputId": "89a7aa52-8ff5-4f7b-8f3f-3f161f366770"
      },
      "execution_count": null,
      "outputs": [
        {
          "output_type": "display_data",
          "data": {
            "text/plain": [
              "<Figure size 432x288 with 1 Axes>"
            ],
            "image/png": "[encoded data removed]"
          },
          "metadata": {
            "image/png": {
              "width": 372,
              "height": 248
            },
            "needs_background": "light"
          }
        }
      ]
    },
    {
      "cell_type": "markdown",
      "source": [
        "Once we've trained our network a bit, let's get to actually generating stuff. All we need is the single rnn step function you have defined in `char_rnn.forward`."
      ],
      "metadata": {
        "id": "jw0zT0WE65kV"
      }
    },
    {
      "cell_type": "code",
      "source": [
        "# temperature concept\n",
        "def softmax(x, temp=1.):\n",
        "    exps = np.exp((x - x.max()) / temp)\n",
        "    return exps / exps.sum()\n",
        "\n",
        "plt.bar(np.arange(5), softmax(np.array([1, 3, 4, 7, 9]), temp=3));"
      ],
      "metadata": {
        "colab": {
          "base_uri": "https://localhost:8080/",
          "height": 265
        },
        "id": "nodUx9mfXkpr",
        "outputId": "e55bd517-82d1-4882-80ae-22c084209e14"
      },
      "execution_count": null,
      "outputs": [
        {
          "output_type": "display_data",
          "data": {
            "text/plain": [
              "<Figure size 432x288 with 1 Axes>"
            ],
            "image/png": "[encoded data removed]"
          },
          "metadata": {
            "image/png": {
              "width": 372,
              "height": 248
            },
            "needs_background": "light"
          }
        }
      ]
    },
    {
      "cell_type": "code",
      "source": [
        "def generate_sample(char_rnn, seed_phrase='<', max_length=32, temperature=1.0):\n",
        "    '''\n",
        "    The function generates text given a phrase of length at least SEQ_LENGTH.\n",
        "    :param seed_phrase: prefix characters. The RNN is asked to continue the phrase\n",
        "    :param max_length: maximum output length, including seed_phrase\n",
        "    :param temperature: coefficient for sampling.  higher temperature produces more chaotic outputs,\n",
        "                        smaller temperature converges to the single most likely output\n",
        "    '''\n",
        "\n",
        "    x_sequence = [token_to_idx[token] for token in seed_phrase]\n",
        "    x_sequence = torch.tensor([x_sequence], dtype=torch.int64)\n",
        "    # x_sequence: torch.Size([1, 1])\n",
        "    hid_state = char_rnn.initial_state(batch_size=1)\n",
        "    # hid_state: torch.Size([1, 256])\n",
        "\n",
        "    # feed the seed phrase, if any\n",
        "    for i in range(len(seed_phrase) - 1):\n",
        "        hid_state, _ = char_rnn(x_sequence[:, i], hid_state)\n",
        "\n",
        "    # start generating\n",
        "    for _ in range(max_length - len(seed_phrase)):\n",
        "        hid_state, logits_next = char_rnn(x_sequence[:, -1], hid_state)\n",
        "        # hid_state: torch.Size([1, rnn_num_units])\n",
        "        # logits_next: torch.Size([1, num_tokens])\n",
        "        p_next = F.softmax(logits_next / temperature, dim=-1).data.numpy()[0]\n",
        "        # p_next: (num_tokens,)\n",
        "\n",
        "        # sample next token and push it back into x_sequence\n",
        "        next_ix = np.random.choice(num_tokens, p=p_next)\n",
        "        next_ix = torch.tensor([[next_ix]], dtype=torch.int64)\n",
        "        x_sequence = torch.cat([x_sequence, next_ix], dim=1)\n",
        "        if next_ix == token_to_idx['>']:\n",
        "            break\n",
        "\n",
        "    return ''.join([tokens[ix] for ix in x_sequence.data.numpy()[0]])"
      ],
      "metadata": {
        "id": "wQmYXn9A693q"
      },
      "execution_count": null,
      "outputs": []
    },
    {
      "cell_type": "code",
      "source": [
        "generate_sample(\n",
        "            char_rnn, temperature=0.2, seed_phrase='<', max_length=MAX_LENGTH,\n",
        ")[1:-1]"
      ],
      "metadata": {
        "colab": {
          "base_uri": "https://localhost:8080/",
          "height": 35
        },
        "id": "DEKcvg6lXOlf",
        "outputId": "1f69a752-7564-42e0-cbd4-70aff18a29cf"
      },
      "execution_count": null,
      "outputs": [
        {
          "output_type": "execute_result",
          "data": {
            "text/plain": [
              "'аль сон был не поэта света, в нем не слушал сердца с ней не послушный волненье в нем и верно, и сладко'"
            ],
            "application/vnd.google.colaboratory.intrinsic+json": {
              "type": "string"
            }
          },
          "metadata": {},
          "execution_count": 102
        }
      ]
    },
    {
      "cell_type": "code",
      "source": [
        "seed_phrases = ['<онегин', '<добрый', '<мой', '<приятель', '<родился', '<на', '<брегах', '<невы']\n",
        "for phrase in seed_phrases:\n",
        "    print(\n",
        "        generate_sample(\n",
        "            char_rnn, temperature=0.1, seed_phrase=phrase, max_length=MAX_LENGTH,\n",
        "        )[1:-1]\n",
        "    )"
      ],
      "metadata": {
        "colab": {
          "base_uri": "https://localhost:8080/"
        },
        "id": "rQYhrhx57dOi",
        "outputId": "154c4d77-9430-498d-c966-0933812c9257"
      },
      "execution_count": null,
      "outputs": [
        {
          "output_type": "stream",
          "name": "stdout",
          "text": [
            "онегин след, и в том обеданья, и в том он сердце подруга под ней надежды слава был на старинный пора н\n",
            "добрый следом, и в сердце подруга под ней надежды следом, и в том обеданья, не волненье в ней на вольн\n",
            "мой страсть и в том подруга под ней надежды слава бого не привычной души моей страстный проказы ль вер\n",
            "приятельный света с ней не послушно простой, что ж нет онегин след, и в том пора не слушал он слушал о\n",
            "родился он верно в ней сердце в нем судьба моя девицы не привычкой страстный мой онегин славить вот бе\n",
            "на слушал он верной души моей страстный мой она под ней не послушный простите в ней надежды следом он \n",
            "брегах не послушный след, и в том обманали в нем и верно в ней на душа в том под ней надежды слезами с\n",
            "невы, и в том обеданья, все друзья, не после слушал и в том он слушал он слушал он слушал сердце подру\n"
          ]
        }
      ]
    },
    {
      "cell_type": "markdown",
      "source": [
        "# More poetic model\n",
        "\n",
        "Let's use LSTM instead of vanilla RNN and compare the results.\n",
        "\n",
        "Plot the loss function of the number of epochs. Does the final loss become better?"
      ],
      "metadata": {
        "id": "zxmpa0WC7ns_"
      }
    },
    {
      "cell_type": "code",
      "source": [
        "!wget https://raw.githubusercontent.com/attatrol/data_sources/master/onegin.txt\n",
        "\n",
        "with open('onegin.txt', 'r') as f:\n",
        "    text = f.readlines()\n",
        "\n",
        "text = [x.replace('\\t\\t', '') for x in text]"
      ],
      "metadata": {
        "id": "fmYW7PlVE0Gu"
      },
      "execution_count": null,
      "outputs": []
    },
    {
      "cell_type": "code",
      "source": [
        "with open('onegin.txt', 'r') as f:\n",
        "    text = f.readlines()\n",
        "\n",
        "text = [x.replace('\\t\\t', '') for x in text]\n",
        "\n",
        "print(f\"{len(text)} lines\")\n",
        "text = [re.sub('^M{0,3}(CM|CD|D?C{0,3})?(XC|XL|L?X{0,3})?(IX|IV|V?I{0,3})?$', '', s) for s in text]\n",
        "text = [re.sub('[^a-zA-Zа-яА-Я.,;:?’!-]+', ' ', s) for s in text]\n",
        "text = [s.lstrip().lower() for s in text if len(s) > 1]\n",
        "\n",
        "headers = ('Письмо Татьяны к Онегину', 'Письмо Онегина к Татьяне',\n",
        "           'Глава первая', 'Глава вторая', 'Глава третья', 'Глава четвертая',\n",
        "           'Глава пятая', 'Глава шестая', 'Глава седьмая', 'Глава восьмая')\n",
        "text = [s for s in text if s not in map(lambda x: f'{x} '.lower(), headers)]\n",
        "print(f\"{len(text)} lines\")\n",
        "\n",
        "text = [''.join(text[i:i+2]).strip() for i in range(0, len(text), 2)]   # Iamb\n",
        "print(f\"{len(text)} lines\")\n",
        "text[:8]"
      ],
      "metadata": {
        "colab": {
          "base_uri": "https://localhost:8080/"
        },
        "id": "Nboc8XOv1ys2",
        "outputId": "3052c119-a16e-4e32-99fd-8334ea6c825f"
      },
      "execution_count": null,
      "outputs": [
        {
          "output_type": "stream",
          "name": "stdout",
          "text": [
            "7088 lines\n",
            "5251 lines\n",
            "2626 lines\n"
          ]
        },
        {
          "output_type": "execute_result",
          "data": {
            "text/plain": [
              "['мой дядя самых честных правил, когда не в шутку занемог,',\n",
              " 'он уважать себя заставил и лучше выдумать не мог.',\n",
              " 'его пример другим наука; но, боже мой, какая скука',\n",
              " 'с больным сидеть и день и ночь, не отходя ни шагу прочь!',\n",
              " 'какое низкое коварство полуживого забавлять,',\n",
              " 'ему подушки поправлять, печально подносить лекарство,',\n",
              " 'вздыхать и думать про себя: когда же черт возьмет тебя!',\n",
              " 'так думал молодой повеса, летя в пыли на почтовых,']"
            ]
          },
          "metadata": {},
          "execution_count": 15
        }
      ]
    },
    {
      "cell_type": "code",
      "source": [
        "out = ' '.join(text)\n",
        "out[:106]"
      ],
      "metadata": {
        "colab": {
          "base_uri": "https://localhost:8080/",
          "height": 35
        },
        "id": "-vP85yL7GFZb",
        "outputId": "701b3643-cef7-4ad4-b127-3408d4a0486c"
      },
      "execution_count": null,
      "outputs": [
        {
          "output_type": "execute_result",
          "data": {
            "text/plain": [
              "'мой дядя самых честных правил, когда не в шутку занемог, он уважать себя заставил и лучше выдумать не мог.'"
            ],
            "application/vnd.google.colaboratory.intrinsic+json": {
              "type": "string"
            }
          },
          "metadata": {},
          "execution_count": 16
        }
      ]
    },
    {
      "cell_type": "code",
      "source": [
        "tokens = sorted(set(out))\n",
        "len(tokens)"
      ],
      "metadata": {
        "colab": {
          "base_uri": "https://localhost:8080/"
        },
        "id": "lPt3wGyTE2vk",
        "outputId": "dd8826d5-d0f1-4d7b-9a82-5a9603081979"
      },
      "execution_count": null,
      "outputs": [
        {
          "output_type": "execute_result",
          "data": {
            "text/plain": [
              "66"
            ]
          },
          "metadata": {},
          "execution_count": 5
        }
      ]
    },
    {
      "cell_type": "code",
      "source": [
        "# tokenize (no <PAD> <SOS> <EOS> tokens)\n",
        "token_to_idx = {char: idx for idx, char in enumerate(tokens)}\n",
        "idx_to_token = {idx: char for char, idx in token_to_idx.items()}\n",
        "char_sequence = np.array([token_to_idx[char] for char in out])\n",
        "len(char_sequence)  # all characters codes"
      ],
      "metadata": {
        "colab": {
          "base_uri": "https://localhost:8080/"
        },
        "id": "arz4WOq-C7GK",
        "outputId": "26cd1027-7002-418c-987c-57a38b844611"
      },
      "execution_count": null,
      "outputs": [
        {
          "output_type": "execute_result",
          "data": {
            "text/plain": [
              "137644"
            ]
          },
          "metadata": {},
          "execution_count": 6
        }
      ]
    },
    {
      "cell_type": "code",
      "source": [
        "# batch generator (MAX_LENGTH strings)\n",
        "BATCH_SIZE = 32\n",
        "MAX_LENGTH = 128\n",
        "\n",
        "def generate_batch(char_sequence, batch_size=BATCH_SIZE, max_len=MAX_LENGTH):\n",
        "    train, target = [], []\n",
        "    for _ in range(batch_size):\n",
        "        start_idx = randint(0, len(char_sequence) - max_len - 2)\n",
        "        seq_chunk = char_sequence[start_idx:start_idx + max_len + 1]\n",
        "        # train data\n",
        "        train_part = torch.tensor(seq_chunk[:-1], dtype=torch.int64)  # torch.Size([max_len])\n",
        "        train.append(train_part)\n",
        "\n",
        "        # target -> shifted sequence\n",
        "        target_part = torch.tensor(seq_chunk[1:], dtype=torch.int64)  # torch.Size([max_len])\n",
        "        target.append(target_part)\n",
        "\n",
        "    return torch.stack(train, dim=0), torch.stack(target, dim=0)  # torch.Size([b_sz, max_len]), torch.Size([b_sz, max_len])"
      ],
      "metadata": {
        "id": "wVZx6aH0DHVF"
      },
      "execution_count": null,
      "outputs": []
    },
    {
      "cell_type": "code",
      "source": [
        "# nn.Embedding indexing example\n",
        "emb1 = nn.Embedding(5, 4)  # num_tokens=5, emb_sz=4\n",
        "print(next(emb1.parameters()))\n",
        "inp1 = torch.randint(5, (3, 2))  # b_sz=3, max_len=2\n",
        "print(inp1)\n",
        "emb1(inp1)  # input: IntTensor or LongTensor of arbitrary shape containing the indices to extract"
      ],
      "metadata": {
        "colab": {
          "base_uri": "https://localhost:8080/"
        },
        "id": "N60LZy7Zypk4",
        "outputId": "8a985f6a-fb90-49c3-c052-6160a1d4ba2a"
      },
      "execution_count": null,
      "outputs": [
        {
          "output_type": "stream",
          "name": "stdout",
          "text": [
            "Parameter containing:\n",
            "tensor([[-1.6154,  0.8460, -1.8024,  1.1635],\n",
            "        [-1.0729,  0.7613, -0.6821, -0.6500],\n",
            "        [ 0.8707, -0.6078, -0.2569, -0.0121],\n",
            "        [ 0.9894,  0.7269,  1.4208,  0.6669],\n",
            "        [-1.6712, -0.3635, -0.1114,  0.3008]], requires_grad=True)\n",
            "tensor([[3, 3],\n",
            "        [1, 0],\n",
            "        [4, 1]])\n"
          ]
        },
        {
          "output_type": "execute_result",
          "data": {
            "text/plain": [
              "tensor([[[ 0.9894,  0.7269,  1.4208,  0.6669],\n",
              "         [ 0.9894,  0.7269,  1.4208,  0.6669]],\n",
              "\n",
              "        [[-1.0729,  0.7613, -0.6821, -0.6500],\n",
              "         [-1.6154,  0.8460, -1.8024,  1.1635]],\n",
              "\n",
              "        [[-1.6712, -0.3635, -0.1114,  0.3008],\n",
              "         [-1.0729,  0.7613, -0.6821, -0.6500]]], grad_fn=<EmbeddingBackward0>)"
            ]
          },
          "metadata": {},
          "execution_count": 8
        }
      ]
    },
    {
      "cell_type": "markdown",
      "source": [
        "[LSTM](https://pytorch.org/docs/stable/generated/torch.nn.LSTM.html)\n",
        "\n",
        "Applies a multi-layer long short-term memory (LSTM) RNN to an input sequence.\n",
        "\n",
        "Parameters:\n",
        "\n",
        "- `input_size` – The number of expected features in the input $x$\n",
        "\n",
        "- `hidden_size` – The number of features in the hidden state $h$\n",
        "\n",
        "- `num_layers` – Number of recurrent layers. E.g., setting `num_layers=2` would mean stacking two LSTMs together to form a stacked LSTM, with the second LSTM taking in outputs of the first LSTM and computing the final results. Default: 1\n",
        "\n",
        "- `bias` – If `False`, then the layer does not use bias weights b_ih and b_hh. Default: `True`\n",
        "\n",
        "- `batch_first` – If `True`, then the input and output tensors are provided as (batch, seq, feature) instead of (seq, batch, feature). Note that this does not apply to hidden or cell states. See the Inputs/Outputs sections below for details. Default: `False`\n",
        "\n",
        "- `dropout` – If non-zero, introduces a Dropout layer on the outputs of each LSTM layer except the last layer, with dropout probability equal to `dropout`. Default: 0\n",
        "\n",
        "- `bidirectional` – If `True`, becomes a bidirectional LSTM. Default: `False`\n",
        "\n",
        "- `proj_size` – If > 0, will use LSTM with projections of corresponding size. Default: 0\n",
        "\n",
        "Inputs: `input, (h_0, c_0)`\n",
        "\n",
        "- `input`: tensor of shape $(L, H_{in})$ for unbatched input, $(L, N, H_{in})$ when `batch_first=False` or $(N, L, H_{in})$ when `batch_first=True` containing the features of the input sequence.\n",
        "\n",
        "- `h_0`: tensor of shape $(D * num\\_layers, H_{out})$ for unbatched input or $(D * num\\_layers, N, H_{out})$ containing the initial hidden state for each element in the input sequence. Defaults to zeros if `(h_0, c_0)` is not provided.\n",
        "\n",
        "- `c_0`: tensor of shape $(D * num\\_layers, H_{cell})$ for unbatched input or $(D * num\\_layers, N, H_{cell})$ containing the initial cell state for each element in the input sequence. Defaults to zeros if `(h_0, c_0)` is not provided.\n",
        "\n",
        "  where:\n",
        "\n",
        "  $N$ = batch size\n",
        "\n",
        "  $L$ = sequence length\n",
        "\n",
        "  $D$ = 2 if `bidirectional=True` otherwise 1\n",
        "\n",
        "  $H_{in}$ = input size\n",
        "\n",
        "  $H_{cell}$ = hidden size\n",
        "\n",
        "  $H_{out}$ `proj_size` if `proj_size` > 0 otherwise `hidden_size`.\n",
        "\n",
        "Outputs: `output, (h_n, c_n)`\n",
        "\n",
        "- `output`: tensor of shape $(L, D * H_{out})$ for unbatched input, $(L, N, D * H_{out})$ when `batch_first=False` or $(N, L, D * H_{out})$ when `batch_first=True` containing the output features (`h_t`) from the last layer of the LSTM, for each $t$. When `bidirectional=True`, `output` will contain a concatenation of the forward and reverse hidden states at each time step in the sequence.\n",
        "\n",
        "- `h_n`: tensor of shape $(D * num\\_layers, H_{out})$ for unbatched input or $(D * num\\_layers, N, H_{out})$ containing the final hidden state for each element in the sequence. When `bidirectional=True`, `h_n` will contain a concatenation of the final forward and reverse hidden states, respectively.\n",
        "\n",
        "- `c_n`: tensor of shape $(D * num\\_layers, H_{cell})$ for unbatched input or $(D * num\\_layers, N, H_{cell})$ containing the final cell state for each element in the sequence. When `bidirectional=True`, `c_n` will contain a concatenation of the final forward and reverse cell states, respectively."
      ],
      "metadata": {
        "id": "9HWaWXhQBNH5"
      }
    },
    {
      "cell_type": "code",
      "source": [
        "class CharRNNlstm(nn.Module):\n",
        "    def __init__(self, num_tokens, hidden_size=256, embedding_size=64,\n",
        "                 num_layers=1, dropout=0):\n",
        "        super().__init__()\n",
        "        self.num_tokens = num_tokens\n",
        "        self.hidden_size = hidden_size\n",
        "        self.embedding_size = embedding_size\n",
        "        self.num_layers = num_layers\n",
        "\n",
        "        self.embedding = nn.Embedding(self.num_tokens, self.embedding_size)\n",
        "        self.lstm = nn.LSTM(\n",
        "            input_size=self.embedding_size,\n",
        "            hidden_size=self.hidden_size,\n",
        "            num_layers=self.num_layers,\n",
        "            batch_first=True,\n",
        "            dropout=dropout,\n",
        "        )\n",
        "        self.fc = nn.Linear(self.hidden_size, self.num_tokens)\n",
        "\n",
        "    def forward(self, x, hidden):  # hidden = (h_0, c_0)\n",
        "        # x: torch.Size([b_sz, max_len])\n",
        "        x = self.embedding(x)\n",
        "        # x: torch.Size([b_sz, max_len, emb_sz])\n",
        "        out, (h_n, c_n) = self.lstm(x, hidden)\n",
        "        # out: torch.Size([b_sz, max_len, num_tokens])\n",
        "        # h_n: torch.Size([num_layers, b_sz, hidden_size])\n",
        "        # c_n: torch.Size([num_layers, b_sz, hidden_size])\n",
        "        x = self.fc(out)\n",
        "        # x: torch.Size([b_sz, hidden_size, num_tokens])\n",
        "        return x, (h_n, c_n)\n",
        "\n",
        "    def init_hidden(self, batch_size=1):\n",
        "        h_0 = torch.zeros(self.num_layers, batch_size, self.hidden_size, requires_grad=True) + token_to_idx[' ']\n",
        "        c_0 = torch.zeros(self.num_layers, batch_size, self.hidden_size, requires_grad=True) + token_to_idx[' ']  # spaces\n",
        "        return (h_0 , c_0)"
      ],
      "metadata": {
        "id": "OBvzieJKvcNw"
      },
      "execution_count": null,
      "outputs": []
    },
    {
      "cell_type": "code",
      "source": [
        "# check outputs\n",
        "char_rnn_lstm = CharRNNlstm(num_tokens=len(idx_to_token), hidden_size=256, embedding_size=64, num_layers=2)\n",
        "train, target = generate_batch(char_sequence, batch_size=BATCH_SIZE, max_len=MAX_LENGTH)\n",
        "h_0, c_0 = char_rnn_lstm.init_hidden(batch_size=BATCH_SIZE)\n",
        "out, (h_n, c_n) = char_rnn_lstm(train, (h_0, c_0))\n",
        "print(out.shape, h_n.shape, c_n.shape)"
      ],
      "metadata": {
        "colab": {
          "base_uri": "https://localhost:8080/"
        },
        "id": "7wXUMctm1xBg",
        "outputId": "86a44b8f-1551-41e7-edee-7c5d6c4501b8"
      },
      "execution_count": null,
      "outputs": [
        {
          "output_type": "stream",
          "name": "stdout",
          "text": [
            "torch.Size([32, 128, 66]) torch.Size([2, 32, 256]) torch.Size([2, 32, 256])\n"
          ]
        }
      ]
    },
    {
      "cell_type": "code",
      "source": [
        "device = torch.device('cuda' if torch.cuda.is_available() else 'cpu')\n",
        "print(device)"
      ],
      "metadata": {
        "colab": {
          "base_uri": "https://localhost:8080/"
        },
        "id": "mlymVvckjFvH",
        "outputId": "83fcf97a-96fc-4a1d-a620-8d1f1fec5715"
      },
      "execution_count": null,
      "outputs": [
        {
          "output_type": "stream",
          "name": "stdout",
          "text": [
            "cuda\n"
          ]
        }
      ]
    },
    {
      "cell_type": "code",
      "source": [
        "char_rnn_lstm = CharRNNlstm(\n",
        "    num_tokens=len(idx_to_token),\n",
        "    hidden_size=256, embedding_size=64,\n",
        "    num_layers=2, dropout=0.25,\n",
        ")\n",
        "char_rnn_lstm.to(device)\n",
        "\n",
        "criterion = nn.CrossEntropyLoss()\n",
        "optimizer = torch.optim.Adam(char_rnn_lstm.parameters(), amsgrad=True)\n",
        "\n",
        "NUM_EPOCHS = 5000\n",
        "history = []\n",
        "\n",
        "for epoch in tqdm(range(NUM_EPOCHS), total=NUM_EPOCHS, desc=\"training\"):\n",
        "    char_rnn_lstm.train()\n",
        "    train, target = generate_batch(char_sequence, batch_size=BATCH_SIZE, max_len=MAX_LENGTH)\n",
        "    # train, target: torch.Size([b_sz, max_len])\n",
        "    h_n, c_n = char_rnn_lstm.init_hidden(batch_size=BATCH_SIZE)\n",
        "\n",
        "    out, (h_n, c_n) = char_rnn_lstm(train.to(device), (h_n.to(device), c_n.to(device)))\n",
        "    # out: torch.Size([b_sz, max_len, num_tokens])\n",
        "\n",
        "    loss = criterion(\n",
        "        out.reshape(-1, len(idx_to_token)),  # torch.Size([b_sz * max_len, num_tokens)\n",
        "        target.reshape(-1).to(device),  # torch.Size([b_sz * max_len])\n",
        "    )\n",
        "\n",
        "    loss.backward()\n",
        "    optimizer.step()\n",
        "    optimizer.zero_grad()\n",
        "\n",
        "    history.append(loss.item())\n",
        "    if (epoch + 1) % 50 == 0:\n",
        "        clear_output(True)\n",
        "        plt.plot(history, label='loss')\n",
        "        plt.legend()\n",
        "        plt.show()"
      ],
      "metadata": {
        "colab": {
          "base_uri": "https://localhost:8080/",
          "height": 283
        },
        "id": "kUijuCFmEmwy",
        "outputId": "664e3239-b63a-44ba-a8af-6f5e8239a38a"
      },
      "execution_count": null,
      "outputs": [
        {
          "output_type": "display_data",
          "data": {
            "text/plain": [
              "<Figure size 432x288 with 1 Axes>"
            ],
            "image/png": "[encoded data removed]"
          },
          "metadata": {
            "image/png": {
              "width": 372,
              "height": 248
            },
            "needs_background": "light"
          }
        },
        {
          "output_type": "stream",
          "name": "stderr",
          "text": [
            "\rtraining: 100%|██████████| 5000/5000 [01:39<00:00, 50.22it/s]\n"
          ]
        }
      ]
    },
    {
      "cell_type": "code",
      "source": [
        "def generate_sample(model, token_to_idx, idx_to_token, seed_text=' ', prediction_len=128, temperature=1.0):\n",
        "    model.eval().cpu()\n",
        "    h_n, c_n = model.init_hidden(batch_size=1)\n",
        "    seed_input = [token_to_idx[char] for char in seed_text]\n",
        "    seed_t = torch.LongTensor(seed_input).unsqueeze(0)\n",
        "    # seed_t: torch.Size([1, len(seed_text)])\n",
        "    pred_text = seed_text\n",
        "    out, (h_n, c_n) = model(seed_t, (h_n, c_n))\n",
        "    # out: torch.Size([1, len(seed_text), num_tokens])\n",
        "    inp = seed_t[:,-1].unsqueeze(0)\n",
        "    # inp: torch.Size([1, 1])\n",
        "\n",
        "    for i in range(prediction_len):\n",
        "        out, (h_n, c_n) = model(inp, (h_n, c_n))\n",
        "        # out: torch.Size([1, 1, num_tokens])\n",
        "        out_logits = out.squeeze()\n",
        "        # out_logits: torch.Size([num_tokens])\n",
        "        p_next = F.softmax(out_logits / temperature, dim=-1).data.numpy()\n",
        "        # p_next: (num_tokens,)\n",
        "        top_idx = np.random.choice(len(token_to_idx), p=p_next)  # int\n",
        "        inp = torch.LongTensor([top_idx]).unsqueeze(0)\n",
        "        # inp: torch.Size([1, 1])\n",
        "        pred_char = idx_to_token[top_idx]\n",
        "        pred_text += pred_char\n",
        "\n",
        "    return pred_text"
      ],
      "metadata": {
        "id": "6xgKY9Ga2tFt"
      },
      "execution_count": null,
      "outputs": []
    },
    {
      "cell_type": "code",
      "source": [
        "generate_sample(char_rnn_lstm, token_to_idx, idx_to_token, seed_text='ложился на поля туман,', temperature=0.1)"
      ],
      "metadata": {
        "colab": {
          "base_uri": "https://localhost:8080/",
          "height": 35
        },
        "id": "IyF46gQp26o5",
        "outputId": "b2c2109e-6407-479c-a92e-246f22a07e33"
      },
      "execution_count": null,
      "outputs": [
        {
          "output_type": "execute_result",
          "data": {
            "text/plain": [
              "'ложился на поля туман, уверен, кто в ней не видит она свои прочел и тихо слезы льет и в семье родной долгой верит и в старины и нет, иль нет не потому'"
            ],
            "application/vnd.google.colaboratory.intrinsic+json": {
              "type": "string"
            }
          },
          "metadata": {},
          "execution_count": 14
        }
      ]
    },
    {
      "cell_type": "code",
      "source": [
        "generate_sample(char_rnn_lstm, token_to_idx, idx_to_token, seed_text='уж небо осенью дышало,', temperature=0.1)"
      ],
      "metadata": {
        "colab": {
          "base_uri": "https://localhost:8080/",
          "height": 35
        },
        "id": "DMuNN5ws3Heb",
        "outputId": "faefe2b1-c4b5-48fd-e461-0b979361dbec"
      },
      "execution_count": null,
      "outputs": [
        {
          "output_type": "execute_result",
          "data": {
            "text/plain": [
              "'уж небо осенью дышало, и все долго лишь пред ней онегин в самом душу погружен гостил. она своих, и все родне ей души в семье своей родной подруга стол'"
            ],
            "application/vnd.google.colaboratory.intrinsic+json": {
              "type": "string"
            }
          },
          "metadata": {},
          "execution_count": 19
        }
      ]
    },
    {
      "cell_type": "markdown",
      "source": [
        "Generate text using the trained net with different temperature parameter: `[0.1, 0.2, 0.5, 1.0, 2.0]`.\n",
        "\n",
        "Evaluate the results visually, try to interpret them."
      ],
      "metadata": {
        "id": "vZJf69rMCEQQ"
      }
    },
    {
      "cell_type": "code",
      "source": [
        "for tmp in [0.1, 0.2, 0.5, 1.0, 2.0]:\n",
        "    print(\n",
        "        f'tmp {tmp}:',\n",
        "        generate_sample(\n",
        "            char_rnn_lstm, token_to_idx, idx_to_token, seed_text=' ', temperature=tmp,\n",
        "        )\n",
        "    )"
      ],
      "metadata": {
        "colab": {
          "base_uri": "https://localhost:8080/"
        },
        "id": "jvo34Yvq3-KV",
        "outputId": "b7ea453b-674a-4b50-a62d-16b51c0583f6"
      },
      "execution_count": null,
      "outputs": [
        {
          "output_type": "stream",
          "name": "stdout",
          "text": [
            "tmp 0.1:  волненье в ней не полку с ней волненье света к ней не знала б тайну с нею последней постелей, кто ни был он из вот уж нет. меж т\n",
            "tmp 0.2:  отворилась, и так же скучной татьяны преданный край летит, вс полность воздушном странной страсти меня света, моей татьяне пред \n",
            "tmp 0.5:  волненье света богой забор. и тайну с нею ваше и в любя, люблю татьяну прошла от друзья, и посленный метветы беспечны, над нею ч\n",
            "tmp 1.0:  приняться. мильянка вотрилась и в селений молодой, и пестни, мнирав, тот говорил: вы, ободританья, бывало? другий, где смусино д\n",
            "tmp 2.0:  чыдарьх, иских на: гчась: чувзящию журналто. qуn пы зимня гей, умых, поожинчицы, вы не лун. его дочакшеан, мостливы зобла; енее \n"
          ]
        }
      ]
    },
    {
      "cell_type": "markdown",
      "source": [
        "As the temperature increases, so does the entropy."
      ],
      "metadata": {
        "id": "GDHnAH4Hv5hk"
      }
    },
    {
      "cell_type": "markdown",
      "source": [
        "Save the model to the disk, then load it and generate text."
      ],
      "metadata": {
        "id": "sGwy4f2nCG06"
      }
    },
    {
      "cell_type": "code",
      "source": [
        "torch.save(char_rnn_lstm.state_dict(), '/content/drive/MyDrive/onegin_lstm.pt')"
      ],
      "metadata": {
        "id": "JOq6K8EfU0sO"
      },
      "execution_count": null,
      "outputs": []
    },
    {
      "cell_type": "code",
      "source": [
        "char_rnn_lstm = CharRNNlstm(num_tokens=len(idx_to_token), hidden_size=256, embedding_size=64, num_layers=2)\n",
        "char_rnn_lstm.load_state_dict(torch.load('/content/drive/MyDrive/onegin_lstm.pt'))\n",
        "char_rnn_lstm.eval()"
      ],
      "metadata": {
        "colab": {
          "base_uri": "https://localhost:8080/"
        },
        "id": "auX9Oe-CU7Zr",
        "outputId": "55777529-4420-4e82-8710-9f571b369dfc"
      },
      "execution_count": null,
      "outputs": [
        {
          "output_type": "execute_result",
          "data": {
            "text/plain": [
              "CharRNNlstm(\n",
              "  (embedding): Embedding(66, 64)\n",
              "  (lstm): LSTM(64, 256, num_layers=2, batch_first=True)\n",
              "  (fc): Linear(in_features=256, out_features=66, bias=True)\n",
              ")"
            ]
          },
          "metadata": {},
          "execution_count": 13
        }
      ]
    },
    {
      "cell_type": "code",
      "source": [
        "generate_sample(char_rnn_lstm, token_to_idx, idx_to_token, seed_text='ложился на поля туман,', temperature=0.40)"
      ],
      "metadata": {
        "colab": {
          "base_uri": "https://localhost:8080/",
          "height": 35
        },
        "id": "MgphW6Xvr7jn",
        "outputId": "4b1170eb-b3c2-46dd-89ba-6fa10a70051b"
      },
      "execution_count": null,
      "outputs": [
        {
          "output_type": "execute_result",
          "data": {
            "text/plain": [
              "'ложился на поля туман, где грустным поэтам подобей себе слушайте с ней ни с веков своей красов и бурь пестрых и за столом с колькой странным снег, пок'"
            ],
            "application/vnd.google.colaboratory.intrinsic+json": {
              "type": "string"
            }
          },
          "metadata": {},
          "execution_count": 157
        }
      ]
    },
    {
      "cell_type": "code",
      "source": [
        "generate_sample(char_rnn_lstm, token_to_idx, idx_to_token, seed_text='встает заря во мгле холодной', temperature=0.33)"
      ],
      "metadata": {
        "colab": {
          "base_uri": "https://localhost:8080/",
          "height": 35
        },
        "id": "_lsqfVFLSKga",
        "outputId": "345d90cc-94d8-4e8e-8dfd-d69fe819efc0"
      },
      "execution_count": null,
      "outputs": [
        {
          "output_type": "execute_result",
          "data": {
            "text/plain": [
              "'встает заря во мгле холодной; но уж как будто бездной тишины, и вы, заветных лет, любиль главор, как будто бродит, любовь не постижной собеновенье, которых '"
            ],
            "application/vnd.google.colaboratory.intrinsic+json": {
              "type": "string"
            }
          },
          "metadata": {},
          "execution_count": 212
        }
      ]
    },
    {
      "cell_type": "code",
      "source": [
        "generate_sample(char_rnn_lstm, token_to_idx, idx_to_token, seed_text='по петербургской мостовой', temperature=0.25)"
      ],
      "metadata": {
        "colab": {
          "base_uri": "https://localhost:8080/",
          "height": 35
        },
        "id": "HDHkBUXDVSgP",
        "outputId": "7b2cfb6f-85da-4048-c832-5e0d4b5b6580"
      },
      "execution_count": null,
      "outputs": [
        {
          "output_type": "execute_result",
          "data": {
            "text/plain": [
              "'по петербургской мостовой, у нас невольно судьба евгений мой, чтоб не принуждена; давно ли домой. придет и нам привык перед собою светают порой; и столь '"
            ],
            "application/vnd.google.colaboratory.intrinsic+json": {
              "type": "string"
            }
          },
          "metadata": {},
          "execution_count": 138
        }
      ]
    },
    {
      "cell_type": "markdown",
      "source": [
        "## Big LSTM"
      ],
      "metadata": {
        "id": "XeT12bNAg6_t"
      }
    },
    {
      "cell_type": "code",
      "source": [
        "import copy"
      ],
      "metadata": {
        "id": "V13GxV80lYdJ"
      },
      "execution_count": null,
      "outputs": []
    },
    {
      "cell_type": "code",
      "source": [
        "!mkdir models"
      ],
      "metadata": {
        "id": "mo56R_9Woc4s"
      },
      "execution_count": null,
      "outputs": []
    },
    {
      "cell_type": "code",
      "source": [
        "char_rnn_lstm = CharRNNlstm(\n",
        "    num_tokens=len(idx_to_token),\n",
        "    hidden_size=512, embedding_size=64,\n",
        "    num_layers=3, dropout=0.25,\n",
        ")\n",
        "char_rnn_lstm.to(device)\n",
        "\n",
        "criterion = nn.CrossEntropyLoss()\n",
        "optimizer = torch.optim.Adam(char_rnn_lstm.parameters(), lr=3e-4, amsgrad=True)\n",
        "\n",
        "NUM_EPOCHS = 10000\n",
        "history = []\n",
        "\n",
        "for epoch in tqdm(range(NUM_EPOCHS), total=NUM_EPOCHS, desc=\"training\"):\n",
        "    char_rnn_lstm.train()\n",
        "    train, target = generate_batch(char_sequence, batch_size=BATCH_SIZE, max_len=MAX_LENGTH)\n",
        "    # train, target: torch.Size([b_sz, max_len])\n",
        "    h_n, c_n = char_rnn_lstm.init_hidden(batch_size=BATCH_SIZE)\n",
        "\n",
        "    out, (h_n, c_n) = char_rnn_lstm(train.to(device), (h_n.to(device), c_n.to(device)))\n",
        "    # out: torch.Size([b_sz, max_len, num_tokens])\n",
        "\n",
        "    loss = criterion(\n",
        "        out.reshape(-1, len(idx_to_token)),  # torch.Size([b_sz * max_len, num_tokens)\n",
        "        target.reshape(-1).to(device),  # torch.Size([b_sz * max_len])\n",
        "    )\n",
        "\n",
        "    loss.backward()\n",
        "    optimizer.step()\n",
        "    optimizer.zero_grad()\n",
        "\n",
        "    history.append(loss.item())\n",
        "    if (epoch + 1) % 50 == 0:\n",
        "        clear_output(True)\n",
        "        model_copy = copy.deepcopy(char_rnn_lstm).eval().cpu()\n",
        "        model_num = f'{epoch + 1}'.zfill(len(str(NUM_EPOCHS)))\n",
        "        torch.save(model_copy.state_dict(), f'models/model_ep{model_num}.pt')\n",
        "        gen_sample = generate_sample(\n",
        "            model_copy, token_to_idx, idx_to_token,\n",
        "            seed_text='ложился на поля туман,',\n",
        "            prediction_len=256, temperature=0.1,\n",
        "        )\n",
        "        log_text = f'ep {epoch + 1}: {gen_sample}'\n",
        "        print(log_text)\n",
        "        with open('models_log.txt', 'a') as f:\n",
        "            f.write(log_text + '\\n')\n",
        "        plt.plot(history, label='loss')\n",
        "        plt.legend()\n",
        "        plt.show()"
      ],
      "metadata": {
        "colab": {
          "base_uri": "https://localhost:8080/",
          "height": 321
        },
        "id": "E52ExUy0g_tC",
        "outputId": "7195b454-39e5-4cce-b7d3-e17b6eeee034"
      },
      "execution_count": null,
      "outputs": [
        {
          "output_type": "stream",
          "name": "stdout",
          "text": [
            "ep 10000: ложился на поля туман, гусей крикливых караван тянулся к югу: приближалась довольно скучная пора; стоял ноябрь уж у двора. встает заря во мгле холодной; на нивах шум работ умолк; с своей волчихою голодной выходит на дорогу волк; его почуя, конь дорожный храпит и путник осторожн\n"
          ]
        },
        {
          "output_type": "display_data",
          "data": {
            "text/plain": [
              "<Figure size 432x288 with 1 Axes>"
            ],
            "image/png": "[encoded data removed]"
          },
          "metadata": {
            "image/png": {
              "width": 373,
              "height": 248
            },
            "needs_background": "light"
          }
        },
        {
          "output_type": "stream",
          "name": "stderr",
          "text": [
            "\rtraining: 100%|██████████| 10000/10000 [12:24<00:00, 13.43it/s]\n"
          ]
        }
      ]
    },
    {
      "cell_type": "code",
      "source": [
        "# !rm -rf models/*\n",
        "# !rm models_log.txt\n",
        "!cat models_log.txt"
      ],
      "metadata": {
        "colab": {
          "base_uri": "https://localhost:8080/"
        },
        "id": "KTDY6NenqRYQ",
        "outputId": "3d91cca9-3d11-418f-8ff9-f96f9a8c5d55"
      },
      "execution_count": null,
      "outputs": [
        {
          "output_type": "stream",
          "name": "stdout",
          "text": [
            "ep 50: ложился на поля туман,                                                                                                                                                                                                                                                                \n",
            "ep 100: ложился на поля туман,                                                    о                  о                                         о                                            о   о                          о                          о                                       \n",
            "ep 150: ложился на поля туман, о ооа оо ее оо оа ое ее ооо оо оо о ое ое оо оа оо ое оо оо оо оо ое ое ое оое ое оон о ое оо оо ао ое не оо ооа оо оо оо оо ое ооа ое оо оо ое ое оо оо ое оо ое е ое ое оа ое ое оо ое ое ое оо оо оо ое ое оо оа оо ое оа ое е ооо оо оо ооо оа оо оо оое ое\n",
            "ep 200: ложился на поля туман, воте стот стот стот стет стот стот пото вет стот потот стоне сроте стот о воте потот пото потет стот вет стот пото стот вет но стот ва стол вет полел стот вет стол стот стол вет поте полот пото вет потет вет полат стол стот стол вет стот вет не потот вет \n",
            "ep 250: ложился на поля туман, полосто потол отот отот отот вет на вето полато на сророле поролена сророс вето породот отоло на на вола вет отот отол отоно в велано в вела поророт отоло полала не вота в поросто в водо сродол отот отот отол ото полот оне поролот оно вото в срола породот\n",
            "ep 300: ложился на поля туман, в сорет вестет и сроде сете стоста сетел на сроста сето стода селат от сросте селот он он веста поросто вет вет вет серет и сроста вета сета в седо в серет селет о срода сета сета не сродо стодо в верат вет весто с сроде сето в сета сетет и породет не вес\n",
            "ep 350: ложился на поля туман, с сроста в стол села стола столь и стола стола в не в вала на стола в села сторать с на вала стола столь в стола на вал селель на стола стола с срода слана стола стола в срада стола пораль на не стола на стола полель на пороль на стора в вероль на стора с\n",
            "ep 400: ложился на поля туман, не не сторой на не стора не сторой не не порона на порелной стора не стрень не стола не пороней на стора не предона в стора на ворень на не сторень не сторой не поралень не поролной не пороне не на стора не на не породной стора не пороне не столи не стора\n",
            "ep 450: ложился на поля туман, и стора в серель в серет сторой в серень и стора не стора не сторень и стора в пораль не сторой в серой и порода поролинья в села не стора не сторой и в серень и сторой и сторой сторой породит он стора сторой в серень и поророй и в стора не сторит он не н\n",
            "ep 500: ложился на поля туман, и поророй и в серел не породой поровол не сторой в сторой породой на сторой породной породой серенит он сторой породной поровол и порой породон на сторой и сторой и не в серень и сторой на в порой породной на стора в не в серен не сторой в порова в верень\n",
            "ep 550: ложился на поля туман, сторой в серенит и поровольной сторой сторой сторой серенить не сторой в серенит серенит он не сторой в не в серенит в серенит поровольной сторой сторой поровольной сторой в серенья в серенит серенья в серенит он сторой сторой серенит и в серенит в серена\n",
            "ep 600: ложился на поля туман, в сторой сторой сторой сторой сторой не в серень и в серда в сторой поров не сторой в серден на вор не в серен на сторой сторой на сторой сторой сторой посторной на сторой в не долой не страдной сторой в серда в серден и в сторой на страни в страдный стор\n",
            "ep 650: ложился на поля туман, и в серден и в сердень и сторой постов серень не сторой и постовой сторой поров не сторой постов не сторой сторой сторой и в не постора постольно сторой серень и в не сторой сторой и сторой сторой сторой сторой серень не сторой пора сторой сторой сторой с\n",
            "ep 700: ложился на поля туман, на странит он постально в серда страдной страть и не страда страдный страть страда страдный страм и страть не сторой стравный стравны в серда в серден серден в серден не страдно в не странит страсть не страсть и в не простала с не вора с не страдный страв\n",
            "ep 750: ложился на поля туман, и простой страстал посторой страсти не сторов не страстал он страдной поровой не страдной в не страстали сторов не странит стровой страстал и страста не сторова с не в не сторой и странит страсти, в сердений стравный поров в не сторов не сторой не сторой \n",
            "ep 800: ложился на поля туман, в сердена с половой страть и в не страсти в сердений странит и страдный страть и в серденный странит и в сердений пором и в сердать и в сторой страсти в серденье в серденный поров и страсти своей стравит и в серденный в серденье странит и в серденный стра\n",
            "ep 850: ложился на поля туман, не странный странья с не в серденный странья с веред не в серденный странья с серденной водов не странит сердце в серденный странья страдной веденья в то в серден сторов не в серденный в серден и странный странный постал и в серденный в не странит серденн\n",
            "ep 900: ложился на поля туман, не востал с ней сторой странный странный странный в не сторой постала с ней сторой странный пором не сторой сторой не сторой сторов пором не сторой сторой сторов и все странит своей сторой под не сторой сторой полной своей сторой сторой странный странье с\n",
            "ep 950: ложился на поля туман, он посторой сердце простовить сердце в сердце в сердце в сердце в сердце посторой сердце в сердце в сердце в сердце простовить в сердце в сердце в сердце странит своей странной странной странный странной странной странной посторой сердце в не восторов, и \n",
            "ep 1000: ложился на поля туман, в том не странит и в нем она в нем подала с ней в ней странной странный странный странный пором на сторой под нем не в сердце в странит странит и в сердце приводит и в страмной странной востранить и в страмной странный странный странный странный в ней стр\n",
            "ep 1050: ложился на поля туман, и в страсти поровой своей странный польгой в не посторой постольно в сердце в том не в сердце постала с нем не сторой полной своей поров и страсть он поров и постала с ней поровой странный поров с ней не старит и странный странный стравный странный просто\n",
            "ep 1100: ложился на поля туман, в том в том постольный в нем онегин старинный странный в слада в сердце в том постали с ней под нем она в сердце постали с ней не вольно в сердце в сердце в сердце в сердце в постали с ней старинный постранный странный странный страм не волной странный ст\n",
            "ep 1150: ложился на поля туман, он не постеренье в не в серденный простой посторой постели в нем она в том постели в постоле полно в не в серденный простой сердце постели с ней онегин он онегин он онегин своей порой постели с ней не полной и в нем онегин полной она с ней не в не своей п\n",
            "ep 1200: ложился на поля туман, не волновый странный странный в сердце в нем онегин странный странный странный странный странный странный своей странный своей странный своей не своей странный странный простой не волновый своей не вольной сердце в нем не постели в сердце в сердце в нем с\n",
            "ep 1250: ложился на поля туман, на старины странный страм не старины странный страм на старины странный страм на старины странный пред постала с ней не стала с ней не стала простольный странный своей полной странной странный страм на старинный страм на старины странный страм с ней стари\n",
            "ep 1300: ложился на поля туман, на старины странный странный странный странный странный странный полов он постерной странной странный странный своей порой сердце постела с ней под ней полной посленный с ней под ней под ней полной такой не старины все в ней под ней постели с ней она в не\n",
            "ep 1350: ложился на поля туман, в сердце простовал и в сердце простовить подомной подомали с ней онегин с ней онегин с ней под ней полной странить и в сердце в сердце простовить в постерень в сердце приводит с ней странной странный страм не подленный своей подруг он странный своей подру\n",
            "ep 1400: ложился на поля туман, в том не старит и страм не своей страсти в ней странный страм и старинный страм с ней не мог и в сердце постели с ней старинный страм с ней онегин с ней старины странный своей странный сердце приводит с ней онегин своей сторой с ней старины странный своей\n",
            "ep 1450: ложился на поля туман, в сердце приводит с ней сердце простить и в сердце постели с ней не стал и странный странный своей страстной странный своей на старине странный странный стран, на старине странный страм постали с ней старины странный своей страстной странный странный стра\n",
            "ep 1500: ложился на поля туман, в ней странный своей своей своей сердце предвет не своей сердце своей сердце своей постеле своей простой не своей долго в ней странной странной странный след не постеть не постели с ней собет сердце своей сердце привет и своей собой, и старины своей страс\n",
            "ep 1550: ложился на поля туман, не своей под ней странный поле последний пред ней полной странный своей под ней не вольно в ней странный своей страстной странный полов своей под ней странный поле страстной странный своей под ней странной странный своей своей страстный своей долго в том \n",
            "ep 1600: ложился на поля туман, не волнить соседа полной странный полов, и в соседной страсти с ней она старины странный своей под ней старины в полной подамала полной подамал и в сердце старины под ней она старины странный своей под ней соседа старовал он в сердце полной странной стран\n",
            "ep 1650: ложился на поля туман, в том подом не подамал в сердце простовал с последный странный своей подруга с ней старины под ней он подал сомненье старины под подом пред ней онегин под ней под ней под ней старины в сердцем полной странный своей долго в собой сердце полной сторой сердц\n",
            "ep 1700: ложился на поля туман, не востольной странный своей под ней полный с ней страстной привык на старине своей под ней своей поров и в сердце в сердце привык на старине всех последний своей он под ней сердце постели с ней онегина в сердце приводит в сердце моей в отверенный приводи\n",
            "ep 1750: ложился на поля туман, в соседней столон на старины страстной странный своей на своей соседи своей под ней страстной старины под ней не все долго в сердце постели в соседной приводит с ней она своей пода на старине своей соседи своей соседи своей она стала старины подом на стал\n",
            "ep 1800: ложился на поля туман, в том не своей под ней подруга и слава с ней она стала старить и сердцем постети в сердцем сердце молодой страсти, в сердцем она старительной страсти с ней она в сердцем полной страсти старины в сердцем он весел и старится в том сердце в ней сердце привет\n",
            "ep 1850: ложился на поля туман, не своей не своей соседи страстей не все в не света на стал не воль он в сердце в сердце приводит с ней он сердце не всех не полный с ней не своей соседи своей она стала с ней она стала своей соседи с ней не своей на стал не волной порой и в сердцем сосед\n",
            "ep 1900: ложился на поля туман, не своей страсти с ней не своей страсти с ней не своей под ней страстный своей долго своей под ней подруга старость и следа старости в сердцем он старины страстной старины страстный своей долго в сень она светались в сердцем он постели своей под ней сердц\n",
            "ep 1950: ложился на поля туман, не своей под ней подметь на стариный своей пристолет и в сердцем он старинный друг и старинный свет на стал и весно привесть не света не волнить и наши стали в том не постели с ней онегина старинный своей простили с ним она своего не слави сердце полной п\n",
            "ep 2000: ложился на поля туман, не долго в сердце привет и в сердцем он постеле подруг и страстей долго в семь она светаливо в сердцем она светаливы в сердцем он светались в нем она своей невольно странает сердце полно в семье страстей страсти в сердцем он весело в нем она светаять верн\n",
            "ep 2050: ложился на поля туман, в том полуку в сердце последний страстный стран, и в сердце постели последний страстный своей достили в сердцем он весел он в сердце своей подруги с ней онегин стал в старины странный странный странный друг, и в страстей страстной странный сосед и сосед п\n",
            "ep 2100: ложился на поля туман, в том сказать и в сердцем он в сердце последней страсти в семе столом подомна, и в сердцем полной страсти в ней сердце привет и последний и после в семье с ней онегин в сердце в сем подруга порой страстей веселой другой сердце постели в сердцем он весела \n",
            "ep 2150: ложился на поля туман, в сердцем она свой девов с ней она свой под ней она свой под ней он подал он в семельной страсти в сердцем он постели с ней она старины полей, как толков ответ и в том и волно своей порой подолный сон своей. она в сердцем от нем она свой под ней он подал \n",
            "ep 2200: ложился на поля туман, в сердцем она с него волновался, и в том с ней онегин свет подам он возвратился в сень он весело в сердце в сем подруг и всех подал во всех полугом соседа своей под ней подновает страсть он подам подавал она всех полуже все в тем подва в тани в сердце в с\n",
            "ep 2250: ложился на поля туман, в том своей под ним онегин своей не свой под ним она своей одень он возраженьем старины странный своей под ней надежды не своей под ней она страласть, и в сердцем она с ним онегин свой под ней он верно полной страсти в ней сердце на стал вот поле присторо\n",
            "ep 2300: ложился на поля туман, в нем она свой под ней она свой под ней онегина своей под ней постели в сень она всех получей страстей полный страстей, и в сем онегина своей под ней своей под ней подруга и стара, под ней онегина своей пода свой под ней невольно в ней оне и наш онегина с\n",
            "ep 2350: ложился на поля туман, в семе своей полей подруги полей, приветельной, невольно привычные привык приводит и полны, и в сердцем он под ней онегин полетел и в ней онегин в сем не под ней она вздоль он подам и в семе в нем она свой под ней она вс поле признаться на пред ней. она п\n",
            "ep 2400: ложился на поля туман, в столбом странный суд не привлечная старов ответся на стари, как был в толку с ней не всех под ней она свой подал полукругом он подал не вот на старине странный стран, и вот получень обратил она в сердце в сердце в нем онегин страстей страсти вот под нев\n",
            "ep 2450: ложился на поля туман, в столбом своих природы строгинах старины и с ней не свой под ней наследником старины, и сердцем полнок и странили в ней ответа нет она, и всегда невольно странных сердцем и в семей, привычки словали, и всех не подамить сердца подобный сторон, и вс привод\n",
            "ep 2500: ложился на поля туман, вот невость она приводить на полненье привет и полей, как сада старая сердца по светей, и в семе столой страсти не постети, но в том сердце простой, и в сем подруг, и вот поле просладился он под ней она старины то с ней не свой под ней наследник онегина с\n",
            "ep 2550: ложился на поля туман, в нем онегина своей пора, как вам на светлась настала смете не свой совершенства с ней не смела с нежной стали в семья своей подруга порой подальный стран, и слез на стало, не свется надежда, в ней страстный сон свет и постель на старон степенье страстей \n",
            "ep 2600: ложился на поля туман, вот невость отводит, волненье, полной сторой, и веселый страсти, и велеты приводится на полной страсти волненья в стором сердце последний взор, и в сем и верен, котором и в сен была сомненье страстной полей, в сене свой полк на своей подом на сторенный по\n",
            "ep 2650: ложился на поля туман, столов нас не верно, и вс полне на старикой странный сон, вс полной всехокий сосед. приветь между тем, как молодой, в поле свет подруг, но так, но вс он подруги своей подобной вотродо немуя предался в ней на свете страстным сограненеской не всехольно волн\n",
            "ep 2700: ложился на поля туман, воторожитья на полей, пристолет, вольной, и вот полон и след, и славы старины прикого нашелья, как мой онегин с ней сердцем он постели с ним она вс полевой подавал, как без неговодит она волновала он обеды, приятный слов как на своей подобный сона, в серд\n",
            "ep 2750: ложился на поля туман, столон последний полей и странный, и полный и следы, в сеней. но так он подавлять с ней не свой под невом стремной старины и слезы приметы с ней небрежных дел, вс постели в семье своей долго свой под ней отдаленный полетки слезный порок и в сердце в нем с\n",
            "ep 2800: ложился на поля туман, вс том и с невольно стало, иль друзья, подруга своей подруги своей, как подавами с него возвилиться, он вс полно в окном отрада и слез он и славила она в сердечной староных строгах с постели свои свои своих. но волненье смири, и в сад волкаються, привычны\n",
            "ep 2850: ложился на поля туман, столов нас не привидать невость над невели и вс не всехолько в нем онегина страшно стали станько волокою. но вот он под нею не верил и не подама, как вам не волненье своей досеркий в собой, сердце молва, над ним она своей одень она восполенный, в нам свое\n",
            "ep 2900: ложился на поля туман, столов наспервый столькомых подокнов сердцем он подобной возражений в старость смели, привычные преданья, подруга веред и вот пором страстей воле, как постолей, и воспомним, надоленья и в самом деле пред ним она смертился в тани молодой, в нем столе нашей\n",
            "ep 2950: ложился на поля туман, во стариней, в семь обрати серебрю, и в самом деле в сердце в нем отрада и стал и вс последит, и в сердечной в свее столом с ней отрета, по свеется, все всех нетом не странных старины, в полу, в сердце полной подобой подобой с комью она. но такое страшен,\n",
            "ep 3000: ложился на поля туман, стоил надежды не слушает своей невольно странной сталься, и слезой теперь он сердцем он сердце в нем сердце и в темной как не свой под ней она. подамить вас оставил он. и в том онегин свет на светлась, как вас на света своей онегин, вс полно на старины, в\n",
            "ep 3050: ложился на поля туман, стоил надор, и свой печальный стором и признаться она в самом столе простить не ображеная, в семье своих под ней она свой подал воспокинень, последнем сторон, поэта с ним она волнавали с ним, но вот она, сердце всех подруг, и сосед в нем совсем приности в\n",
            "ep 3100: ложился на поля туман, вс душой своих подругой долгой, вс не светился, в колпалесь в своей подруга своей подруги соседей стараны, и сосед насходит, подруга собой, сердце в ней страстный сон друзья, душа вс об ней сердце всех подруг, когда же страшей подле тай, сердце всегда нев\n",
            "ep 3150: ложился на поля туман, стоит подожной порой, и вс разной и вереды не видит, но в ней страстный и сердцам и постепяюсь в оставленеми старик, и слезым, и получил и страстной старинный стром к томум ображена, всегда небесным подобра, и слеза сметлись волнованье стала на старых про\n",
            "ep 3200: ложился на поля туман, стоит подозник он всех, который сон свет изводит с ним обрада, и вот сердце молодой, с ним подруга и старых страшных след, по светений странный сон, вс погружен, и волненье мне пора, приятный след за ней и вам постовился в постеле и с ней отдет на стал он\n",
            "ep 3250: ложился на поля туман, стоил соседо своей, поэт и свой под невой с ним он всех нетерпеливо сколько слушала и преданья, мечтанье страх, и сердце прежней мечты, веселья слезы, и затей вести недостойный сон поэт, и вс приветы простой нежностью отракой, невольно, весный друг, недру\n",
            "ep 3300: ложился на поля туман, столки свои словой, и в семом. сердце я нашла когда б него теснотой, иль встались во всего страшной встарей отвереный поэт, в том уж и странился ней, и ветом соседись, в том своей, которой и с ним под невиней одаленный стол, полков, в тени слезами своих п\n",
            "ep 3350: ложился на поля туман, стоил порок и вс обратился, и вс рождил со страмном, красной сонский свет и безотрадить. на стала случные в салой невор. он после дно и нашей богатилось в сторонец. в сада своей невы, признанья, признал, как будто смерт нем. она встречает она светая, по с\n",
            "ep 3400: ложился на поля туман, стоил и все приводит наш ответи, все дних на стали странных стол, привычки светравал подавала он подалего, к тому ж онегин последний сторонел, полно всех полов, приходит своей. как и будто слушает сон всех покойный порок и после венит, и волненье смиреный\n",
            "ep 3450: ложился на поля туман, стоил подозник полной послушной своих поэт, и вс предолстовый взглядный, так непостиный, и вс полно намоднов окном, надежды татьяна сердце всегда послушна, всегда послушна, всегда послушна, всегда послушна, всегда послушна, всегда послушна, всегда послешн\n",
            "ep 3500: ложился на поля туман, долго сволен. он полный досуги, придею в толку, полный и на старый и себе вдруг изнетье ленский на поле, полной друзья. поклонник след. он полу свое пода, подомной красой и света подругой не своей один, под ним она своей одень подругой не своей она своей \n",
            "ep 3550: ложился на поля туман, стоил возруженный прощалься на стал. кракому слез и своей девичьем не своих поленицы в староках слезы наш леты, привычки милой наш ответа. во страха, страсть о нем. татьяна слушала с невоства сем не своей под ним он светликом слова свободя напразной своей\n",
            "ep 3600: ложился на поля туман, стоил надолго неволним он не отомала следов и сердцем он посторони светил. он обед, полужен, не правда ль? я сердце мне полушавленным слезам, и верно б немур, блажен и не винится, в ней скучных и полный, на столом облажена иль от очей сердце отворила свое\n",
            "ep 3650: ложился на поля туман, долго сволнала и вот с не извенный сон, по краннем полкукаменья совсем ногам и страстной нежность. когда ж онегин с ней наперскойный свод наскал, привычке лисков осталится, непристорный, и светцы видит, в ней страсти. она в семье своей она с ним онегин ст\n",
            "ep 3700: ложился на поля туман, долго слушала его не приятной отверло, новольной душою, вс бежалось ночь, она смотрены все друзья соседи смешали. потом погарите с ним. пока старой сердцем он молвил. кончался преданьем от нем отрада новось постоянье, она своих полей и семей. прикажу та, \n",
            "ep 3750: ложился на поля туман, долго святной не замечает, в печальном стали не светла. но таться, милы, милые друзья, поэта не столи, полный ленский, в сем небодит, и вот с постением, всегда совсем нежно с ним, как будто смело всем, она в свете стала, не потомум, чтобы много страда, вс\n",
            "ep 3800: ложился на поля туман, долго приключенье не нашей левний, старышки провов. и после в нем изумленьем не свой согдаюсь, взорыма сей нем, порой и старине страшный призвычки знал, так невеним однам обличался, как почтой поделет; в деревне прочил и старан, потом страстной поковенье,\n",
            "ep 3850: ложился на поля туман, долго привечай настолею, но в них оне знакомых дам водили своей отставший смнежный, онегин в селенье смотрит в постеле, к ней она сердце грустною привозят на скорчить. я нет, ничего не свой любезной скукой, владимир ленской на столить одной нам он страсте\n",
            "ep 3900: ложился на поля туман, стоил пород, и он в полу, себя представить пора смешной столе, и вот сади себя вдуша; предельнавшимы, в своей не смети нам, не свой постели страстной надежде; инегдаать она в сердцем оболять, признаться, в сем, к то в том уж с никогда немным старик, иль о\n",
            "ep 3950: ложился на поля туман, долго ль? виря, как волом он пред нейоем, во столенье, она в ней отдалость образавый невест. она друг отворил своей душой отвера и в столом облачает лес дома, про любовниц, простились наших старик. имертв, в нем скучные простивые, но вы поровали на стихи,\n",
            "ep 4000: ложился на поля туман, стольным и словами скучно, полный, на столом ужасны свобода на осумрак лучны, поэтавлясь, полов, полу соседь меня со света своей подал, как части в нем старуши без утралать по крайной пере, погруженский, потом уж наспокились смелой она поэта. поклонно, по\n",
            "ep 4050: ложился на поля туман, долго спросил на одина. во стели, когда была таков нашим, с размуюи вы ночь, не слеза; так нетом увлечел, как проставил он. как таня, бритья, для ваша сам от ней нет, сердцем он постодин, не от ней, тесный уг нем. замечно в том сердце другой он верила про\n",
            "ep 4100: ложился на поля туман, долго спросил на одина, старой нежноготрика, как было, душа, полный поковылся в обежа; девический молодоей, как дам, него привидный, облагила порага, чтоб в дружествира, неправильный одной соседь меня сомленная приехал она сметится своим долги, но в окно \n",
            "ep 4150: ложился на поля туман, столки свитась, ничего не слышит наш, кого не стольный сон свет неугомонный уж было разговор нахмечем воспевнилась собаются с ним поэзавились ночной онегин стала страстию порой и теперь, кто в смотрен веселий и привычкий взор, волнов, не вини, что не знал\n",
            "ep 4200: ложился на поля туман, стоил порок и простоты и полный взгляд, она в саду сладках слезам, к своей нашел в самом деле в нем отражали свое ветлие с ним воображенье развречатый сон девицный поровый сосед не раз уми взора смирнул она в самом деле от поклы, погласил в первой девы сн\n",
            "ep 4250: ложился на поля туман, долон и при собновь, и послеютный в сук бездрогон и простоты, поклоные страстный и пестры. она привыкшень? к него вздыхать и доле и пламени сомненья нет не приходит; не смела с нестить на самах стала и свете не потокужался в деревню как там обведалася, та\n",
            "ep 4300: ложился на поля туман, стоил порок и простоты, полною длинной камбина, как малого свой поэт, погрущеный пред себя еденью всего всегда нет ужели мы зная, по семью душу и, может быть, еще наденной поляне, соседнем не свой постыпила свети новых узор, не проходит, забыл он свой пер\n",
            "ep 4350: ложился на поля туман, долго привычные планы, ладь, любой, слевой на сказьялся, иль своей. но с ним обрассивой и нежных лиц, милой таня вы, праздник морой, просты, друзья, с ним, поэты, мадренницы молодой, сказаться, мои были сомнялся он. татьян образя льный, словского своих на\n",
            "ep 4400: ложился на поля туман, долго приключенье последний без труда, со снах осталась в темное не реке ли в на сталеней редит, она полной душой и всех нетержен. онегин с ним селей, сердцем плючай, пора наплатной советрительной и слово в тени проведной и сердцем, тогда было, мой друг я\n",
            "ep 4450: ложился на поля туман, долго привлекать природа. старик толку, песен меня свой постолены отврат, но я, б вы не может никогда: столилась вы, что наш любитья? как ваши жилой, то всегда прознамся, поэт в сеньским долен он постепил, посталось нам ногому пора, поэт и другом уж и тот\n",
            "ep 4500: ложился на поля туман, столки свитаниковы, не слышит моей сердце лилось вотокакает он из.менита, всех следов задерныка, сметлась, подли на отверда, ничего не слышит ничего истревля, пред ним оставляет, сердце мне едьа расмотрествая, не свела самивае, пересказать следы, которым \n",
            "ep 4550: ложился на поля туман, долго приклача, поднят и ним; то вашно любви мечтать, для послушный, слез навидья сердца толпой строгой ленской, слышали сон; все послушных других причудниц я видал, самолюбиво равнодушных для вздохов страстное семью соседи слышу нам постыли как-нобудьбом\n",
            "ep 4600: ложился на поля туман, долго привыкшей думова; по стеле, про дава, старая сказам и медверт нас не из медливае страшные провижные друзья, поэта, простоторжен скак. простился он и взор об подал подом, и воспленик, по себелый взор татьяну, чувства, и деравеных один. татьяна в темн\n",
            "ep 4650: ложился на поля туман, догой и романы, она сидят была род иль друзей. как я нашел и дева подруга, но вольноем, и весел, и вздохов и нет ответа. проста, не отымали вы полей том, поэты подвижа, пред ним отрадом, и вос не видит она и не вима; но вот болешья разув, перед ним, когда\n",
            "ep 4700: ложился на поля туман, столил и звучно, и не замечается смирена полна, старушка расседный младых, всегда почлень мог ней сом сеней дама как начало, та, с нею скучный полквых раздразналось на станик, столом услаженных покойных взоров, вс в коленье коначенном степеный сутых ревиз\n",
            "ep 4750: ложился на поля туман, столки света, ни обресты, нашен зловый там не видит вот сель собственным своей. под невом сторены простование мне, ночь, моя в тому ж во мень нет уплан; но так, и без недесчасть, не ответа. весна, поэт напожнени скукие, пришла она. его на старало них уста\n",
            "ep 4800: ложился на поля туман, долго лиши солей. и ты, что на стануть не нам не видали совершенный прозрый, и свет разумный и промым, и забот, и между тем и невздрава свое вы? не замечает скоро тепер. несколько скучно ей и плече; но вс эти слета, двели верные сных, и душа измена летам,\n",
            "ep 4850: ложился на поля туман, долго лиши солей. он так и быть! стольковая волнна, как садь сомненьем ничего не солнен и случайно странный, своих посланье и новый был притовам, что вас поружить сам не разой, нетворной притоле, и слышу на свете на ручью, сердеч и взор, волнуя воспомин, \n",
            "ep 4900: ложился на поля туман, столи, кукари, девицы простилась и знал, к онегин? простите, привычкой девиц. у негонушно, небристоюн из повтинной совсем нежной разлюию в полне тут, богнут обличивая теснить ободом стремленской нашей беспленной пестрый лепот, одина луча, старанки груга, \n",
            "ep 4950: ложился на поля туман, долго ли свой усталивый вас поэт. но вине семье. татьяна проводила иль бежал скажить и мечты; всех очей не разулиться, души моей, устарушка в окна скука сосна предобровую горукой деруг, конечно, не знаем, без умом и после, дома проходит нас соседой и девы\n",
            "ep 5000: ложился на поля туман, стоил кирки, а каждый день вечер нет; у нас подал оба? наредучий своей подруги в том уже столины, у нас на свете света нет ужел. когда бы веселий и перелою листы она. в тому поседямся вам полною друзья. вот нела. спермая теперь уж день она; ночно, душа мо\n",
            "ep 5050: ложился на поля туман, долго привет нагинут; для вздох небес, и солей не прощите, них отщего. два получу своих подинет, и вот с осанкой важной, куплетом мучимый давно, трике встает, к ней привест отдвиненыму доле не замечает, как синьским на боле, на ручь своей, когда нашем муж\n",
            "ep 5100: ложился на поля туман, где жил и собранье, не созевние нежного, что нежной руки поромали в васходит, всех в полях тебе; ночи, нет, альная милая моя! не должно просет ее послал, как начидать, в глава сажу себя свободный, гребот мизумы призрак, невинных ласкат, слез, и запылал и \n",
            "ep 5150: ложился на поля туман, до гробкой разговор; как части совесте, порой подарь с коней. подобею глубокой логде наш совести, недостойный взор и старик, изденный фрай, так, теперь не свой там обманенульным, и что ж? мой-еe теперь я столе в столбом строга, и сердце ранной уездной сам\n",
            "ep 5200: ложился на поля туман, до глубоки ейге не вспыхнет модных благодира. по ней ни случай, сердце жен изъебя, про семья ленский прощались и тут на плачках остарины. в поля глуши милой не образалась слыша, почелубовь ужинки полной словить в очах. не романит, сметри в негонодным, как\n",
            "ep 5250: ложился на поля туман, где евгений романа с отвечаюми ночей вольнор, и верный все душе моей раздался всеховикой и серебрется воспоминаний, умы любом, слово поражать, смиренной в том уверить несколько знал. как тень, она слушает лисков одани, и потом, чтоб подолстился и в содном\n",
            "ep 5300: ложился на поля туман, долго лись, иль одета слыша тайны, было свой услепить. в глуши звучнее сперва; теперь ясние меня одна, скуза, и здравым толки узный и страстей правзумся не замечие любить он одно могла, в в семь веста и в туле своей настал она стыдить он обегана, и слез. \n",
            "ep 5350: ложился на поля туман, готовя, краснали все в окрошах, отрето открыло он всех, онегин стольких лет, покойний в думель ольгою воровся в постеле и забыла разумил; не вижу я вот уста леты на красных ленский на столих отдать, он сердце громче иго в нем сторож и засегда ихосен из уч\n",
            "ep 5400: ложился на поля туман, готовяк извижую, думал мои собранье и следы мечтают он заменился, что муж и трепетный мой поры. а к тему не должно . молча сожаленье, когда было мыслит в глуши, души моей, я страстрам поэтаком, весных нежными, леть имея полный ленский, не сворочил супруг \n",
            "ep 5450: ложился на поля туман, готовят отдал она пред верем и сумум, хоть не моге сведа ночь. пора, безумный душ сердца грузей, как будто свержалось когда-нибудь небы света не может нак неволе; он весел ее соседиствя, с плечу но в том проподелась довал ей вокругов ответи отдочные тани,\n",
            "ep 5500: ложился на поля туман, готовят онский забот. но все да всех заметит как будто с ней. в серок отдалась в том своей. быть может, в моде него нежных диный уж нет, уезнал был света, из больше в снег неврасти; привычка, влечена; но в полно склонясь. пошло добрый любви моей волненье,\n",
            "ep 5550: ложился на поля туман, долго приветству; такона, мужзай, над сом сердца же он в самом деле от управителя доклад, что дядя при смерти в постеле и с ним проститься был бы рад. прочтя печальное лист. онегин счать сохранить. приговульший, с небо весною. но скользою своей; толки, то\n",
            "ep 5600: ложился на поля туман, долго ли рибы, койчет постокины, глави со мне всегда, наслажденья, полною дляйны, онагоровственный полывел, как верной желаков, полной души, поэта в мечтанье портепела на красной дубы, в разлыхой заполены, умихливый девиц пред ним, остарины, покойный взор\n",
            "ep 5650: ложился на поля туман, где скучных мадали, в ней занется во мне и, в писали вс в эту горочу, как будто было могла, что знала татьяны мне и в даремсквех открыла тайну, что бы ни с ней в самой демы. любим, а важны мой лежал на стураке волшебных звуков, чувств и дум поведа, проста\n",
            "ep 5700: ложился на поля туман, догого лира. когда бы важный маж! ты забыла, по стару, что у разгелось и татьяна? по самом устеле? как он, уже стала но руко с ней не сводит непестаний ревнивых очень свои пробожает поражает уж ник на страшен. кто прежней толку тали, теперь непресть? не т\n",
            "ep 5750: ложился на поля туман, где скучных мадали, не заметит и старыс своей подкованьем долго привычка смешит и бездержатный любов, надпись у веротам, полнеться доле. но весе родних слов, кто блажен здась отмовить семятно столе, кончал, ни смешит, и наконец поведал, как привыкшений ко\n",
            "ep 5800: ложился на поля туман, где совсем недума; она всех не ходя; прововлачесть он посметливой поскорно безумном, и вас послушный взор былой чувство любви небражи; но так он сердце девом устромил полонный и наши други с отрадой, и вид онегина душа собела, и прочали за столом сидят ка\n",
            "ep 5850: ложился на поля туман, гусей крикливых караван тянулся к тайной устели жарконыт углушил: старальком усыплеть еще забыло. но так, няня, скучно, по нам оставьет домой чудно объезрать не ответа ничего. не постыдил: он перских и него не солных и другие родно, который взгляд нелицы \n",
            "ep 5900: ложился на поля туман, где сердце говорит, где вс наруже, вс на воле, та девочка иль это сон?.. та девочка, которой он прилегде своей родной колетой девичкой просласкала совершенство, пред нею постелой уж селой дам, и после вс тени поклонник сонный о том самоленной сердце, топо\n",
            "ep 5950: ложился на поля туман, готовят оплять признак, не как-ти зимший разговор, ну своих сад ним, от нем ужел. когда бы вездели, давно ль увика вошерныв и на свете ее сельском отдал, и скучен в бал, пок раснеля, в поле к нему разлитья с ним воле, пред ними рощахих, не наповеды; да не\n",
            "ep 6000: ложился на поля туман, долго в писупле свете небой идет, и веселий разлика ужений; но тук была доле заной легикой. своеннойь была прелестный полювил, вс в нем оставиты снежит, призцать судьбу вошел ей сабою и мой онегин выстрал собежных лез. она в красном колкакется, крились, п\n",
            "ep 6050: ложился на поля туман, готов, и пот концы подавля, простих изъесной словит: пой девалсьм судить от рожда, подъуга мне им наплетя, и не можут; проканулся душой, с вечер обедом ольги в старушь, провили своих полуноской досуга, поэт в сенью с ним обрасти, на станит, черты ты с ним\n",
            "ep 6100: ложился на поля туман, где скучных ласкит, двурцучился в вас, пока, молодает по расстивленных, друзей пришли его. от нейстренно блаженских достойный друг, свои смотрены в нем любемы, быть может, наподнет, как унаши, мой евгений, но я взорых и стал поклонный, в окном наседена по\n",
            "ep 6150: ложился на поля туман, гусей крикливых караван тянулся к югу: приближалась довольно скучная пора; стоял ноябрь уж у двора. встает скучны, по сворое непосковину; о том не верится сей негредал. он слевил залу? в мире наших лет, покамест наспесной невели толстый представить сердце\n",
            "ep 6200: ложился на поля туман, где евгений разговор, бурто, прочел долго своей. поэт, продить садушь мою ж у набодит. всех любовь, как в находил соседа к обемаму, и дорего взора, сосед каплукако возок нее старик, не похдили мечтанья свер небесным и луне встречи умладных след, видит с к\n",
            "ep 6250: ложился на поля туман, где всюдка лешать собой, и куласки ваши срокани, на той кипака на стол. мой друг я, привыть державно умилень. ему будит поэт и было. вот полу, другой для вечер еще небы стукил не мог. ах, но волшенных зимей, покамест в отданется с темный ребником, не полк\n",
            "ep 6300: ложился на поля туман, где жил и любезным свое взора, неувричной жизни без время, чувствием мечтанья смертились в очам, и под окном столи свот нас улыбка, в старонке влечет, любовь и для собанье, постерпенно умиленьем таким нажденный вечер заведа, как русского самая деть не мол\n",
            "ep 6350: ложился на поля туман, где сковать сердце тыми воспоминанье, толких слишит за словой. то сколько слушать лет. кокачет милой его нашевственно окрасей. так няня, прости, приют и родных, друзья! и скоро страшно отна? и нынче как послу час он весел он сосед, и то было сквозь слова \n",
            "ep 6400: ложился на поля туман, где сказала тани, не однойну, блажен замотом. в поле тепрежнем семевсем покой, и прочею зачем не спитани, их не вот сожаленье, полный лесский, за ним усадился от канит. он вас, пока неслуги ми нову занимало довольно. помила, чет отца, как части в доле зад\n",
            "ep 6450: ложился на поля туман, где сердце говорит. где вс тут не молчали. при света реча спокойный разгойов, где седевственным солнем бы всегомном пора! его черучит смиренной доверчивое страстейь? кто ей внушал умильный вздор, безумный сердца разговор, и увлекательный и вредный? я не м\n",
            "ep 6500: ложился на поля туман, где сердце моих увязнуть? ничего не замерила всехо родной приводит с нимось. поскавляй медлениц моих собранье и следу ветер нак земль страшно, какая ж он замечу вставал он. простит, прибла! толку, между тем изумни лесь, под ним и страстей. прочит: девству\n",
            "ep 6550: ложился на поля туман, где совсем недруги ей нетрежной раздолит нас оснавил на стали, улетстельных деньком, полувина! покам старьки мечельницы своей родной какала волнаших руками своей . на то же света? теперь он сердцем полное тревожит, презленье, волненицы, как жаркой сосед; \n",
            "ep 6600: ложился на поля туман, где сердце говорит, где вс наруже, вс на воле, та девочка иль это скорой страстей. она могла без молоделся, которам без невых любил, что домашку со мне, как читала новал, он с неюверней заремья готова! онаговартом скутены старушка и слеза! так неволенный \n",
            "ep 6650: ложился на поля туман, гусей крикливых караван тянулся к югу: приближалась довольно скучная пора; стоял ноябрь уж у двора. встает заря во мгле холодной; на нивах шум работ умолк; с своей волчихою голодной выходит на дорогу волк. его прочит, была была рожаданье, за читость перед\n",
            "ep 6700: ложился на поля туман, где совсем недражно заближ нем, отвоит он. а с конью природная, простил! без он всем судет и любви моей души на этом него посладался было нам ужаркой, надежда ягол соседа мне советшил он свой поколенье, пора забленствы; блаженним и там, пужа не свой там у\n",
            "ep 6750: ложился на поля туман, гусей крикливых караван тянулся к темной, что надужа света их обеда! любовь мысли ваша искренность мила; она в волненье привела давно умолкнувшие чувства; но вас привлече: но так казал? быть семясь, как зами стороны девиццы применый и невоздраза свеет бор\n",
            "ep 6800: ложился на поля туман, где свой пестрый перет, поведал я старал ответа не имея совершенство нав ней. она, довольно в красной прежней тани, толет в сада, взятел, кто смущал, ит наши, что от такова такие сприкание девы; долгое берет е любовь изменялась возражений был переном, ког\n",
            "ep 6850: ложился на поля туман, готовяно привести навозвланутся, и заметь и всех речей от меня сожденье не шевел; поэт роче со двора. сохранит в ней. сомненье снег; она вс в ольге не разголовались в глухой своего. душа полень. потом на стул ее сажает, заводит речь о том, о сем; спустя м\n",
            "ep 6900: ложился на поля туман, где сковстви, послонник молодой, поэт, придя твоей сидить о том же долгольная спит и таню в утолке рожаленье затвор, большен, который вся горин выходит к ольге не отпрадовил нет огу. читать. она любила рассудка власть миг неми, и невы, заменит сердцем он \n",
            "ep 6950: ложился на поля туман, где скользит попала собратился ох,. не свой он обращаю! по тому же должен была одета не могу. прикажу свое жале, души необитной умал. но таня и был полный ленсковский простыл. ей нас на свете не дождал во скучено. он отшираять однобоменной друзья и своей \n",
            "ep 7000: ложился на поля туман, где евгений, хвал и вражду нас неювиженый ребенок. умили новых, не романа! но я не дохго ль он за бренит; в деня свой подстали; что нет. места не домашно б своей. долго ль краты! довиль наш отца, и в салом в том сердце отворяет дворовый наш без блистать, \n",
            "ep 7050: ложился на поля туман, гусей крикливых караван тянулся к югу: приближалась довольно скучная пора; стоял ноябрь уж у двора. встает заря во мгле холодной; на нивах шум работ умолк; с своей волчихою голодной выходит на дорогу волк; его почуя, конь дорожный храпит и путник осторожн\n",
            "ep 7100: ложился на поля туман, где скучных лиц, другах и пропак, ленский прежделает его не провиденья отворались чайской красновал невол; за мне свой заплетил! юнитемной страсти. но вы, забывало невоство ли, порой толких лет, полюбил, погнатьяен поэтов, стрешно неданся, хоть друг на су\n",
            "ep 7150: ложился на поля туман, где свой расстивил он. то же любо; лета. помнил, как молодой первый слов, и к ней разметы, при светы шепот молчал. глядит: за то и в должествие нежный; оте, к тому ж он не своей родне. как он, ужель нашках и вечер держу т ним солней взор вашел: покамся в \n",
            "ep 7200: ложился на поля туман, где совсем инена; дву, богить и ва ей волишев постель уж она. сказая печальный был всего, что зевал ему рождал. спать отму, невольно в семь отволяет, воли, первы тек нет; она здесь был заметит. она ль иль он из это видет и чужив, что ль вам и утром, о том\n",
            "ep 7250: ложился на поля туман, где сердце громче говорит. она его не будет видеть; она должна в нем ненавидеть убийцу брата своего; поэт погиб но уж его никто не помнит, уж другому его невеста отдалась. поэта память пронеслась, как дым по небу голубому, о нем два сердца, может быть, ещ\n",
            "ep 7300: ложился на поля туман, где сердце говорит. где вс тутрение мыслья деревенской сладых; толк озера, долу пропотумучно, в столбом сижел и весеный рогами, непреты, был должен еще страдинель. ее сердечно негей и толки сих, ни был, что изменяли в сень, как дом не ведет ее супруг, но \n",
            "ep 7350: ложился на поля туман, где евгений разговор, бурто, пропет в семстве, погад ленский музры с ней онегин в семье своей родной и думать: он чуть на вас осумноне; мой доргу, забыты любим и дене модных парких разговор; простите ж мой, купер. вот получив соседк. утали свей итей подру\n",
            "ep 7400: ложился на поля туман, где евгений мой отец не свой до лицы перебез толкных судиных, благословил и полку сыпать, сохраненик пестрый, как поляцком взорах, подковенный жребий пам объестил. вот сень и думать вольных посланный, всегда послушна вот собсем на степи, велых разговор, н\n",
            "ep 7450: ложился на поля туман, где свой речен. потом просливался я дверевиц, полные молодых, ее души, поведомала татьяна со славком он вам сердце иль он не видит, он устали се меня стезным, ихоодов для сердцем не полкам. владимир ленской скуки тручу нав ним уж отворита, смущенье всем в\n",
            "ep 7500: ложился на поля туман, где совсем нежным пылой неселся. что ж любит! он светстенный обыжал. примыл и света пора, уж как на судьб упой; и тебе вс наводит, при сеней. и тоты, меньму живут. поставил со мне цет, а вс тридет он оставляет нежный стих, безмолвный памятник мечтанья, мг\n",
            "ep 7550: ложился на поля туман, где совсем нежным рыбали, вы сносится вас, повсюду следовать за вами, улыбку уст, движенье глаз ловить влюбленными глазами, внимать вам долго, понимать душой все ваше совершенство, пред вами в муках замирать, бледнеть и гаснуть вот блаженство; и я лишть м\n",
            "ep 7600: ложился на поля туман, где весная луча с ней не свята; поправились быть может, на бесчастной светла, все душе моей расскажала девиц. к жено дво разбывал и своей девичьимы свирумир, не разум, чтоб на дво своей. покамест в гостиную милых отца. в душе все как мизних веселой, прост\n",
            "ep 7650: ложился на поля туман, где скучны, миру тени; и был, что вы? замечу нынче все меня вс это ж, не святи. черет отмы. скорой стронит о находет он. в ней неих раздорный, там согласителивым оначим заняться старшит, еще ниче зикомы девышкой взором, и то, порой догашки в отшинет и мас\n",
            "ep 7700: ложился на поля туман, готов, и пот конца скорей! довили слышу: что ж? мой. поэта раздиться для меня в окном, до горовкей роман и тум, блезные прочел из двора. он занят себя приподая, за ворот взяли на преждит, вс реже любовь оплета; добо не усора, порай и дева шепнулася поля, \n",
            "ep 7750: ложился на поля туман, где скучный повесельитерской. скаком и будет поведа, татьяна спит и любовняе между соб. притеренной душой; оставшен буть сем. она смотрит он последней покорнился упой. пошла на бутерном красноемью вредя, простой нелюдей; без нею, почтой страстей она свой \n",
            "ep 7800: ложился на поля туман, где совсем недруги ей нетрежилой своей. как он умел казаться новым, шутя невинность изумлять, пугать отчаяньем готовым, приятной лестью забавлять, ловить минуту умиленья, невинных лет предубежденья умом и страстью побеждать, невольной ласки ожидать, молит\n",
            "ep 7850: ложился на поля туман, готовяе зими, погалась печальной долго и мненья сенялась татьяна с ним. привычкай светал, на свете, под небом иверные доска, за верно, пастух не замечает, гибель ромонного жизнь она ваш любовница прислажена: всегда совсем недруги любовью летит. выходит на\n",
            "ep 7900: ложился на поля туман, где сердце говорит. где стала и тамный муж рекал с него легеты ненных устак, еще небницец, ни скуко, вст эти страх, на стек лезам, покамест напонной и светел; красной любезной влекленье, весили взор, ужелка растою. сболой, нежно правлетет, безумные страда\n",
            "ep 7950: ложился на поля туман, где скучных муд, еще кибань, вешиней зарецан, господший скучеет, видит сон, думовать охмане, долго смиренный облакам и город он торогу разводит моня, наш только вряд найдете вы в россии целой три пары стройных женских ног. ах! долго я забыть не мог две но\n",
            "ep 8000: ложился на поля туман, где скучных муд, еве будит, и общовик непотружит, на блаженный небы; там галом силя следам. так вот безаньме дождался. похода! скуза, как же скупным устамих, что ей души на светело. простовена бывстренной чертою и слова, но чужды странало, ни слезы, проши\n",
            "ep 8050: ложился на поля туман, гусей крикливых караван тянулся к югу: приближалась довольно скучная пора; стоял ноябрь уж у двора. встает заря во мгле холодной; на нивах шум работ умолк; с своей волчихою голодной выходит на дорогу волк; его почуя, конь дорожный храпит и путник осторожн\n",
            "ep 8100: ложился на поля туман, готовяк изпивались евгений. они садь. полей тебе на сказать лет; евгений и пенал без грандисона. как будто перемена вс в ней ничело. призрака жений, когда стремлюга вы не тот, что назанаши страшно изесть любится халок. и с ней. вот ужа со снею воткуженье.\n",
            "ep 8150: ложился на поля туман, где скучных муд, еве творен, грози, как жаркой, сердце он мне. поклонить моненицы, в долини, всегда совершенный срок и пред этий мой вздох наслужденьяет и наши вдался он: вот, без тогда ждет на бладостлись он и отвечает, порой и держов лише, простую замок\n",
            "ep 8200: ложился на поля туман, где сердце говорит. где благородное стремленье и чувств и мыслей молодых, высоких, нежных, удалых? где бурные любви желанья, и жажда знаний и труда, и страх порока и стыда, и вы, заветные мечтанья, вы, призрак жизни неземной, вы, сны поэзии святой! быть м\n",
            "ep 8250: ложился на поля туман, где скучных треблю темно; поля, предмет небос; но скоро старины. неполные романа! и сныл он он вам, про совети родной одна, и него верниц поэт и в сердце дума заронилась; пора пришла, она влюбилась. так в землю падшее зерно весны огнем оживлено. давно ее \n",
            "ep 8300: ложился на поля туман, где сердце говорит. где стала онегину в грустит. послушна, выслажает пустыны, креврав, и растопытель, и то же любят, уголов наспежный бред, петор печальный жребий свой прославить, чтоб обо мне, как верный друг, напомнил хоть единый звук. и чье-нибудь он с\n",
            "ep 8350: ложился на поля туман, где скучных муд, еве бредит на рассегон. на страшке ей стреханьем, за столом садится в душу преду светиах; в супругом чались, буррачилась. но эил и вам и прибы, как жертвал совесших добрый малой их перевести с осуждений, по свету послушных для смущеник, ч\n",
            "ep 8400: ложился на поля туман, где скучный твор не рекиет; все дня, прежде совсем неродной невиный забор. потом погружен она в своей родне. как быть: я ваше вашну встреча, как отверда, без нем, совершенства их невым ужений. ему неснишно руки двехораловно клине, под небом аклители нет; \n",
            "ep 8450: ложился на поля туман, где сердце яго любитный уминеньен твяну, бесчутник и неот больный в стак неувышлой, куртавы могла, ты много страшны, простился и бьже напресной светит карадан; не вотружи нет онегины сметил. их вечер непостынит ом: оким еще, двереньем заняться из всех, и \n",
            "ep 8500: ложился на поля туман, где скучный там не важи на становит он везде собсем, не домой покой назнаканского порому, как пришелица какой знал, как пасали, где скусных трибцанки друговиц, полные томленьем; нет, никогда порыв страстей так не терзал души моей! мне памятно другое время\n",
            "ep 8550: ложился на поля туман, гусей крикливых караван тянулся к югу: приближалась довольно скучная пора; стоял ноябрь уж у двора. встает заря во мгле холодной; на нивах шум работ умолк; с своей волчихою голодной выходит на дорогу волк; его почуя, конь дорожный храпит и путник осторожн\n",
            "ep 8600: ложился на поля туман, готовяе зими, погулять и это грустный он один ее старини. свергнов роман узевила мертвый мече стихов забыл онегин по рокалом тани; говорит, вс , что ж? убит . и соло, там оживленной склонил. небесь от них. онегин долго любей; кто в ней страсти, не заботь \n",
            "ep 8650: ложился на поля туман, где скучных муд, еще кранцуз облокольслась, и в слах замела был острот. но тих я знаю моля, где с вами привезде жена; поят и блистью страсти она потом не вздохоть; долго ль вас я завыват и неот, забыть он говорил со мной в тиши, когда я бедным помогала ил\n",
            "ep 8700: ложился на поля туман, гусей крикливых караван тянулся к югу: приближалась довольно скучная пора; стоял ноябрь уж у двора. встает заря во мгле холодной; на нивах шум работ умолк; с своей волчихою голодной выходит на дорогу волк; его почуя, конь дорожный храпит и путник осторожн\n",
            "ep 8750: ложился на поля туман, гусей крикливая судрога! быра! у тонь! у речью с того мой. как часто вы нам ужанем. наконец она довольно прихотливый, бутылка светлого вина, уединенье, тишина: вот жизнь онегина святая; и нечувствительно он ей предался, красных летних дней в беспечной нег\n",
            "ep 8800: ложился на поля туман, гусей крикливых караван тянулся к югу: приближалась довольно скучная пора; стоял ноябрь уж у двора. встает заря во мгле холодной; на нивах шум работ умолк; с своей волчихою голодной выходит на дорогу волк; его почуя, конь дорожный храпит и путник осторожн\n",
            "ep 8850: ложился на поля туман, гусей крикливых караван тянулся к югу: приближалась довольно скучная пора; стоял ноябрь уж у двора. встает заря во мгле холодной; на нивах шум работ умолк; с своей волчихою голодной выходит на дорогу волк; его почуя, конь дорожный храпит и путник осторожн\n",
            "ep 8900: ложился на поля туман, гусей крикливых караван тянулся к югу: приближалась довольно скучная пора; стоял ноябрь уж у двора. встает заря во мгле холодной; на нивах шум работ умолк; с своей волчихою голодной выходит на дорогу волк; его почуя, конь дорожный храпит и путник осторожн\n",
            "ep 8950: ложился на поля туман, гусей крикливая мядаком разбрашал и вздохов посланник молодых, и тебла; счастливый бол колои напрасивые марены, милые друзья! поэтим соседк умертим, все душе внушал и своей разбодит проитой, не правда ль? вам была не новость смиренной девочки любовь? и ны\n",
            "ep 9000: ложился на поля туман, гусей крикливых караван тянулся к югу: приближалась довольно скучная пора; стоял ноябрь уж у двора. встает заря во мгле холодной; на нивах шум работ умолк; с своей волчихою голодной выходит на дорогу волк; его почуя, конь дорожный храпит и путник осторожн\n",
            "ep 9050: ложился на поля туман, гусей крикливых караван тянулся к югу: приближалась довольно скучная пора; стоял ноябрь уж у двора. встает заря во мгле холодной; на нивах шум работ умолк; с своей волчихою голодной выходит на дорогу волк; его почуя, конь дорожный храпит и путник осторожн\n",
            "ep 9100: ложился на поля туман, гусей крикливая моей борит она умилной тани иму нам но в своей не с лицом старины нежных лет, перовый князьны льяный риг сосенским; в семном дише он весь любить любовь и воскупали но упил первый чуд. светскаей взора; но русской сердца луга и молчались на \n",
            "ep 9150: ложился на поля туман, гусей крикливых караван тянулся к югу: приближалась довольно скучная пора; стоял ноябрь уж у двора. встает заря во мгле холодной; на нивах шум работ умолк; с своей волчихою голодной выходит на дорогу волк; его почуя, конь дорожный храпит и путник осторожн\n",
            "ep 9200: ложился на поля туман, гусей крикливая моей бродит да онегим в сених. данят он в чем вернее готов обходит воспохражней. в ней зане! и что ж ва силих поэт в бездых договольс, довольны смерной старины. чережую татьяну тани; ты, блистая, двуре взгляд, того не знал, как таня медреж\n",
            "ep 9250: ложился на поля туман, гусей крикливых караван тянулся как-нибудь, утручену . но как любил е в томнуе горечтя небольной раздавался вздор, вит их поле теперь отвык. татьяна, милая татьяна! с тобой теперь я слезы лью; ты в руки модного тирана уж отдала судьбу свою. погибнешь, мил\n",
            "ep 9300: ложился на поля туман, гусей крикливых караван тянулся к югу: приближалась довольно скучная пора; стоял ноябрь уж у двора. встает заря во мгле холодной; на нивах шум работ умолк; с своей волчихою голодной выходит на дорогу волк; его почуя, конь дорожный храпит и путник осторожн\n",
            "ep 9350: ложился на поля туман, гусей крикливая моей бродит дам обедают; скучен высший тон; хоть, может быть, иная дама толкует сея и бентама, но вообще их разговор несносный, хоть невинный вздор; к тому ж они так непорочны, так величавы, так умны, так благочестия полны, так осмотритель\n",
            "ep 9400: ложился на поля туман, где скучных муд, еве невинул, ничего не волшенный полукруг, вс толпу без свой в сем напостонялся реко; безмолвный бедныме спленяй цветик рощу, не взор. послушная слез. пошет и думать и в роказих. он вас плотил. она в грудь не скучно, и нам соседских роман\n",
            "ep 9450: ложился на поля туман, где скучный мол, теперь и звест и холодной высокопарный, но голодный для виду прейскурант висит и тщетный дразнит аппетит, меж тем как сельские циклопы перед медлительным огнем российским лечат молотком изделье легкое европы, благословляя колеи и рвы отеч\n",
            "ep 9500: ложился на поля туман, гусей крикливых караван тянулся к югу: приближалась довольно скучная пора; стоял ноябрь уж у двора. встает заря во мгле холодной; на нивах шум работ умолк; с своей волчихою голодной выходит на дорогу волк; его почуя, конь дорожный храпит и путник осторожн\n",
            "ep 9550: ложился на поля туман, гусей крикливых караван тянулся к югу: приближалась довольно скучная пора; стоял ноябрь уж у двора. встает заря во мгле холодной; на нивах шум работ умолк; с своей волчихою голодной выходит на дорогу волк; его почуя, конь дорожный храпит и путник осторожн\n",
            "ep 9600: ложился на поля туман, гусей крикливых караван тянулся к югу: приближалась довольно скучная пора; стоял ноябрь уж у двора. встает заря во мгле холодной; на нивах шум работ умолк; с своей волчихою голодной выходит на дорогу волк; его почуя, конь дорожный храпит и путник осторожн\n",
            "ep 9650: ложился на поля туман, гусей крикливых караван тянулся к югу: приближалась довольно скучная пора; стоял ноябрь уж у двора. встает заря во мгле холодной; на нивах шум работ умолк; с своей волчихою голодной выходит на дорогу волк; его почуя, конь дорожный храпит и путник осторожн\n",
            "ep 9700: ложился на поля туман, гусей крикливых караван тянулся к югу: приближалась довольно скучная пора; стоял ноябрь уж у двора. встает заря во мгле холодной; на нивах шум работ умолк; с своей волчихою голодной выходит на дорогу волк; его почуя, конь дорожный храпит и путник осторожн\n",
            "ep 9750: ложился на поля туман, гусей крикливых караван тянулся к югу: приближалась довольно скучная пора; стоял ноябрь уж у двора. встает заря во мгле холодной; на нивах шум работ умолк; с своей волчихою голодной выходит на дорогу волк; его почуя, конь дорожный храпит и путник осторожн\n",
            "ep 9800: ложился на поля туман, гусей крикливых караван тянулся к югу: приближалась довольно скучная пора; стоял ноябрь уж у двора. встает заря во мгле холодной; на нивах шум работ умолк; с своей волчихою голодной выходит на дорогу волк; его почуя, конь дорожный храпит и путник осторожн\n",
            "ep 9850: ложился на поля туман, гусей крикливых караван тянулся к югу: приближалась довольно скучная пора; стоял ноябрь уж у двора. встает заря во мгле холодной; на нивах шум работ умолк; с своей волчихою голодной выходит на дорогу волк; его почуя, конь дорожный храпит и путник осторожн\n",
            "ep 9900: ложился на поля туман, гусей крикливых караван тянулся к югу: приближалась довольно скучная пора; стоял ноябрь уж у двора. встает заря во мгле холодной; на нивах шум работ умолк; с своей волчихою голодной выходит на дорогу волк; его почуя, конь дорожный храпит и путник осторожн\n",
            "ep 9950: ложился на поля туман, готовяк еще постылию протили и злей реженый ларской. досуга сопраси вы в его поляму обрати легкою кувст, ничеждает она на свете, поканется покойный поколенье, в потом режной скуки снова: не воты лиро неголожневно вы не замий, и мечтой старины, и сон, мо в\n",
            "ep 10000: ложился на поля туман, гусей крикливых караван тянулся к югу: приближалась довольно скучная пора; стоял ноябрь уж у двора. встает заря во мгле холодной; на нивах шум работ умолк; с своей волчихою голодной выходит на дорогу волк; его почуя, конь дорожный храпит и путник осторожн\n"
          ]
        }
      ]
    },
    {
      "cell_type": "markdown",
      "source": [
        "Epochs:\n",
        "- 4550, 5550, 5850, 6150 (light overfitting)\n",
        "- 6650, 7050, 7550, 8050+ (strong overfitting)\n",
        "\n",
        "`model_ep10000` predictions:"
      ],
      "metadata": {
        "id": "Uodt98jE5ihd"
      }
    },
    {
      "cell_type": "code",
      "source": [
        "generate_sample(char_rnn_lstm, token_to_idx, idx_to_token, seed_text='по петербургской мостовой', temperature=0.25)"
      ],
      "metadata": {
        "colab": {
          "base_uri": "https://localhost:8080/",
          "height": 35
        },
        "id": "cww1NKee8c9s",
        "outputId": "6278c65c-0174-4cf8-a880-32f81feb9154"
      },
      "execution_count": null,
      "outputs": [
        {
          "output_type": "execute_result",
          "data": {
            "text/plain": [
              "'по петербургской мостовой и вас покинул мой евгений. отступник бурных наслаждений, онегин дома заперся, зевая, за перо взялся, хотел писать но труд упорн'"
            ],
            "application/vnd.google.colaboratory.intrinsic+json": {
              "type": "string"
            }
          },
          "metadata": {},
          "execution_count": 64
        }
      ]
    },
    {
      "cell_type": "code",
      "source": [
        "generate_sample(char_rnn_lstm, token_to_idx, idx_to_token, seed_text='идет онегин молодой', temperature=0.25)"
      ],
      "metadata": {
        "colab": {
          "base_uri": "https://localhost:8080/",
          "height": 35
        },
        "id": "akxH7OYB8jj1",
        "outputId": "159c41e3-1b5c-4b88-88e4-867f9b144436"
      },
      "execution_count": null,
      "outputs": [
        {
          "output_type": "execute_result",
          "data": {
            "text/plain": [
              "'идет онегин молодой. ее души не отуманил: в герою всех разумный перой я стоял не сводит с ольгой вечер отмужи встали совсем; она первым стоком поле'"
            ],
            "application/vnd.google.colaboratory.intrinsic+json": {
              "type": "string"
            }
          },
          "metadata": {},
          "execution_count": 130
        }
      ]
    },
    {
      "cell_type": "code",
      "source": [
        "char_rnn_lstm = CharRNNlstm(num_tokens=len(idx_to_token), hidden_size=512, embedding_size=64, num_layers=3)\n",
        "char_rnn_lstm.load_state_dict(torch.load('models/model_ep04400.pt'))\n",
        "char_rnn_lstm.eval()"
      ],
      "metadata": {
        "colab": {
          "base_uri": "https://localhost:8080/"
        },
        "id": "JTOunAtzxgTU",
        "outputId": "74854563-e7f7-4e4e-92d3-acb08db7addf"
      },
      "execution_count": null,
      "outputs": [
        {
          "output_type": "execute_result",
          "data": {
            "text/plain": [
              "CharRNNlstm(\n",
              "  (embedding): Embedding(66, 64)\n",
              "  (lstm): LSTM(64, 512, num_layers=3, batch_first=True)\n",
              "  (fc): Linear(in_features=512, out_features=66, bias=True)\n",
              ")"
            ]
          },
          "metadata": {},
          "execution_count": 275
        }
      ]
    },
    {
      "cell_type": "code",
      "source": [
        "generate_sample(char_rnn_lstm, token_to_idx, idx_to_token, seed_text='по петербургской мостовой', temperature=0.15)"
      ],
      "metadata": {
        "colab": {
          "base_uri": "https://localhost:8080/",
          "height": 35
        },
        "id": "2F4WzanRhxG9",
        "outputId": "4433920e-bf1a-490c-c230-4056cf80bd11"
      },
      "execution_count": null,
      "outputs": [
        {
          "output_type": "execute_result",
          "data": {
            "text/plain": [
              "'по петербургской мостовой, о нем нам постыне скучной, иль небосклоне, полно, подъежла с красной лежет, и вот обожный собрался и привора, приятно держест;'"
            ],
            "application/vnd.google.colaboratory.intrinsic+json": {
              "type": "string"
            }
          },
          "metadata": {},
          "execution_count": 195
        }
      ]
    },
    {
      "cell_type": "code",
      "source": [
        "generate_sample(char_rnn_lstm, token_to_idx, idx_to_token, seed_text='идет онегин молодой', temperature=0.15)"
      ],
      "metadata": {
        "colab": {
          "base_uri": "https://localhost:8080/",
          "height": 35
        },
        "id": "rgxoqZVXAgE6",
        "outputId": "82643a29-0931-4077-e2f3-f3faa0d51817"
      },
      "execution_count": null,
      "outputs": [
        {
          "output_type": "execute_result",
          "data": {
            "text/plain": [
              "'идет онегин молодой. он полунечких следам и восклицанья, полною дорожбий свет роман возок изорный он протовидая сердца всей чудно нежен. она прочел'"
            ],
            "application/vnd.google.colaboratory.intrinsic+json": {
              "type": "string"
            }
          },
          "metadata": {},
          "execution_count": 215
        }
      ]
    },
    {
      "cell_type": "markdown",
      "source": [
        "## Markovify"
      ],
      "metadata": {
        "id": "18ipCbL2rcxm"
      }
    },
    {
      "cell_type": "code",
      "source": [
        "!pip install markovify"
      ],
      "metadata": {
        "colab": {
          "base_uri": "https://localhost:8080/"
        },
        "id": "JiIJ8twkrkBG",
        "outputId": "69a790f7-c455-4ce3-a08e-3491c7652881"
      },
      "execution_count": null,
      "outputs": [
        {
          "output_type": "stream",
          "name": "stdout",
          "text": [
            "Looking in indexes: https://pypi.org/simple, https://us-python.pkg.dev/colab-wheels/public/simple/\n",
            "Collecting markovify\n",
            "  Downloading markovify-0.9.4.tar.gz (27 kB)\n",
            "Collecting unidecode\n",
            "  Downloading Unidecode-1.3.6-py3-none-any.whl (235 kB)\n",
            "\u001b[K     |████████████████████████████████| 235 kB 6.1 MB/s \n",
            "\u001b[?25hBuilding wheels for collected packages: markovify\n",
            "  Building wheel for markovify (setup.py) ... \u001b[?25l\u001b[?25hdone\n",
            "  Created wheel for markovify: filename=markovify-0.9.4-py3-none-any.whl size=18627 sha256=c8814a84935eab8e3dc9eca7b04e626f5ce10299bb17ad3adbdb972b122db0ce\n",
            "  Stored in directory: /root/.cache/pip/wheels/aa/9d/bb/96461cbfde2120f3612c7c2af202976d46542735a2cd8b00f8\n",
            "Successfully built markovify\n",
            "Installing collected packages: unidecode, markovify\n",
            "Successfully installed markovify-0.9.4 unidecode-1.3.6\n"
          ]
        }
      ]
    },
    {
      "cell_type": "code",
      "source": [
        "import markovify"
      ],
      "metadata": {
        "id": "9jFU1aElrfB1"
      },
      "execution_count": null,
      "outputs": []
    },
    {
      "cell_type": "code",
      "source": [
        "# https://thecode.media/markovify/\n",
        "# text = open('onegin.txt', encoding='utf8').read()\n",
        "text_model = markovify.Text(out)"
      ],
      "metadata": {
        "id": "Vo_OZ7ZFr61e"
      },
      "execution_count": null,
      "outputs": []
    },
    {
      "cell_type": "code",
      "source": [
        "print(text_model.make_sentence(tries=100)) # tries=100 to avoid `None` result"
      ],
      "metadata": {
        "colab": {
          "base_uri": "https://localhost:8080/"
        },
        "id": "Am5Kj2QXtITc",
        "outputId": "9d3f3e35-af87-4d31-9c70-0b2c7cb92972"
      },
      "execution_count": null,
      "outputs": [
        {
          "output_type": "stream",
          "name": "stdout",
          "text": [
            "меж тем разумный толк без пошлых тем, без вечных истин, без педантства, и не заботился о том, какой у дочки тайный том дремал до утра под подушкой.\n"
          ]
        }
      ]
    },
    {
      "cell_type": "code",
      "source": [
        "for i in range(20):\n",
        "    print(text_model.make_sentence(tries=100))"
      ],
      "metadata": {
        "colab": {
          "base_uri": "https://localhost:8080/"
        },
        "id": "ceVtxUs8udzN",
        "outputId": "a7b75841-6d37-49cd-b713-d5f04aa2ed40"
      },
      "execution_count": null,
      "outputs": [
        {
          "output_type": "stream",
          "name": "stdout",
          "text": [
            "но изменяет пеной шумной оно желудку моему, и я любила вас; и что ей душу ни смутило, как сильно ни была она удивлена, поражена, но ей не хорошо на новоселье, привыкшей к горнице своей.\n",
            ": приди в чертог ко мне писали, не отпирайтесь.\n",
            "вот мой онегин на свободе; острижен по последней моде; как dandy лондонский одет и наконец в своей постеле скончался б посреди детей, плаксивых баб и лекарей.\n",
            "и так нимало поутру не был в свете.\n",
            "редеет сумрак; но она своих полей не различает: пред нею пестрый полк ливрей, или платок подымет ей.\n",
            "свой пистолет тогда евгений, не уважая сердца в нем, согретой девственным огнем.\n",
            "не муки тайные злодейства я грозно в нем пыл души бы охладел.\n",
            "отец ее был добрый малый, в прошедшем веке запоздалый; но в темном зеркале одна дрожит печальная луна чу снег хрустит прохожий; дева к нему с повинной головою.\n",
            "давно ж ты не был удивлен, когда его увидел он.\n",
            "для кого ж любить?\n",
            "но этой страсти и случайно еще никто не слушает, кричат, смеются, спорят и пищат.\n",
            "однако в поле темное глядит.\n",
            "я вас люблю любовью брата и, может быть, на много дней.\n",
            "ты к ним в уединенье и для вручения письма.\n",
            "друзья мои, что ж нашел я с онегиным желал сердечно знакомство покороче свесть.\n",
            "как на больших похоронах; не видя тут ни капли нет его не терпит высший свет.\n",
            "за то ль, что в мире всяк, но от друзей спаси нас, боже!\n",
            "под занавескою шелковой не спится ей в постеле и с ним проститься был бы счастлив сколько мог!\n",
            "в саду служанки, на грядах, сбирали ягоду в кустах и хором бабушки твердят: как наши годы-то летят!\n",
            "меня не знают взгляну на дом, на этот сад . и вот сосед велеречивый привез торжественно ответ.\n"
          ]
        }
      ]
    },
    {
      "cell_type": "code",
      "source": [
        "for i in range(30):\n",
        "    print(text_model.make_sentence(tries=100))"
      ],
      "metadata": {
        "colab": {
          "base_uri": "https://localhost:8080/"
        },
        "id": "NVIFTZZovHIS",
        "outputId": "a8715420-b862-4487-aeaa-21b840b82788"
      },
      "execution_count": null,
      "outputs": [
        {
          "output_type": "stream",
          "name": "stdout",
          "text": [
            "и скоро звонкий голос их, ждала татьяна с нетерпеньем, чтоб трепет сердца в ней ни капли толку, глядит она тихонько в щелку, и что ж?\n",
            "татьяна верила преданьям простонародной старины, и сердца трепетные сны.\n",
            "он свят для внуков аполлона; по гордой лире альбиона он мне знаком, он мне знаком, он мне знаком, он мне знаком, он мне знаком, он мне родной.\n",
            "ее привозят и в рыжем парике.\n",
            "исчезло счастье юных лет, как на больших похоронах; не видя тут ни капли нет его не терпит высший свет.\n",
            "идут за стол садясь.\n",
            "еще прозрачные леса как будто громом поражен.\n",
            "я вас люблю любовью брата и, может быть, она совсем иным развлечена.\n",
            "нет, лучше и верней в глуши звучнее голос лирный, живее творческие сны.\n",
            "чудак, попав на пир огромный, уж был неправ, что над любовью робкой, нежной так подшутил вечор небрежно.\n",
            "моя студенческая келья вдруг озарилась: муза в ней затих, чтобы прошло ланит пыланье.\n",
            "не так ли я в то время.\n",
            "свободно дома принимает, в гостях с ним сейчас была так равнодушна, так смела?\n",
            "четой идут за ужин.\n",
            "теснятся барышни к татьяне; мужчины против; и, крестясь, толпа жужжит, за стол рука с рукой, гуляют утренней порой; и что ж нашел я с вами знал вс , что радует, живит, вс , что завидно для поэта: забвенье жизни в бурях света, беседу сладкую друзей.\n",
            "ленский мой вс видел: вспыхнул, сам не верит собственным глазам.\n",
            "ленский мой вс видел: вспыхнул, сам не верит собственным глазам.\n",
            "в передней толкотня, тревога; в гостиной крик княжны, простертой на диване.\n",
            "я выбрал бы другую, когда б он знал, какая рана моей татьяны сердце жгла!\n",
            "дианы грудь, ланиты мгновенным пламенем покрыты, дыханье замерло в устах, и в сени прямо он идет, и на могиле при луне, со мной скакала на коне!\n",
            "ленский входит, и с ним ни слова; у!\n",
            "и скоро звонкий голос их, ждала татьяна с нетерпеньем, чтоб трепет сердца в нем, любил и дух его суждений, и здравый толк о том, о сем.\n",
            "в красавиц он уж не пародия ли он?\n",
            "четой идут за стол садясь.\n",
            "молвил он уныло, он на бильярде отдыхал, на смятом канапе лежал манежный хлыстик.\n",
            "больной и ласки и веселье татьяну трогают; но ей ничто не трогало его, не замечал он ничего.\n",
            "качая важно головою, соседи шепчут меж собою: пора, пора надежд и грусти нежной, monsieur прогнали со двора.\n",
            "в красавиц он уж был сердит.\n",
            "онегин, я тогда моложе, я лучше, кажется, была, и я бордо благоразумный уж нынче предпочел ему.\n",
            "я усыпляю пустые, черные мечты; я только в январе на третье в ночь.\n"
          ]
        }
      ]
    },
    {
      "cell_type": "code",
      "source": [
        "import json"
      ],
      "metadata": {
        "id": "N8CXoF8l-AVv"
      },
      "execution_count": null,
      "outputs": []
    },
    {
      "cell_type": "code",
      "source": [
        "!ls drive/MyDrive/ | grep letov"
      ],
      "metadata": {
        "colab": {
          "base_uri": "https://localhost:8080/"
        },
        "id": "eWIMWNWU-I6l",
        "outputId": "c7598f68-e5ae-4f37-e39e-83938cd78159"
      },
      "execution_count": null,
      "outputs": [
        {
          "output_type": "stream",
          "name": "stdout",
          "text": [
            "letov.json\n"
          ]
        }
      ]
    },
    {
      "cell_type": "code",
      "source": [
        "with open('drive/MyDrive/letov.json') as f:\n",
        "    letov_text = json.load(f)"
      ],
      "metadata": {
        "id": "ZwQnNeWl-E4h"
      },
      "execution_count": null,
      "outputs": []
    },
    {
      "cell_type": "code",
      "source": [
        "letov_text = [t.lower() for t in letov_text['train'] if t != '']"
      ],
      "metadata": {
        "id": "L12E_zPU-oNl"
      },
      "execution_count": null,
      "outputs": []
    },
    {
      "cell_type": "code",
      "source": [
        "letov_text[0]"
      ],
      "metadata": {
        "colab": {
          "base_uri": "https://localhost:8080/",
          "height": 125
        },
        "id": "7aCwq9L-AxNz",
        "outputId": "924c86e3-6bd7-4693-8877-06722e1a3a66"
      },
      "execution_count": null,
      "outputs": [
        {
          "output_type": "execute_result",
          "data": {
            "text/plain": [
              "'нам всем кажется, что если — не скрою, и мне иногда так кажется — что\\u2005если\\u2005навести твёрдый порядок\\u2005жёсткой рукой, то всем нам станет\\u2005жить лучше, комфортнее и безопаснее\\nна самом деле, эта «комфортность» очень быстро пройдёт, потому что эта жёсткая рука начнёт нас очень быстро душить\\nголову в коробке пластмассовой\\nвместе с телефоном, ключами и паспортом\\nрентгеном в сканере просветят ласково\\nв целях безопасности государственной\\nи обратно вряд ли пришьют уже:\\nруки ищут затылки над обрубками шей\\nтуловища жмутся грудными клетками к стенам\\nне видно из контейнеров, что там с телом\\nлента с монотонным гулом коробку тащит\\nи для тулова тоже подыщут ящик:\\nстанет стан обезглавленный, в нём лежащий\\nпочти покойником, почти настоящим\\nкто-то, может быть, даже помянет на 40 дней\\nвсё как у людей\\nвсё как у людей\\nа девочка из конной полиции\\nс белым айфоном на белом жеребце\\nждёт в инстаграме лайка от принца\\nи ждёт от чёрной пятницы низких цен\\nмерно цокают копытца по улице\\nвинтят демонстрантов мальчики-коллеги\\nобсуждают рецепты подружки-умницы\\nв недозаблокированной «телеге»\\nона завтра купит в «меге» наборчик «lego»\\nдля племянника на его рождения день\\nв наборе — автозак и три человека:\\nдвое ментов на одного — всё как у людей\\nвсё как у людей\\nвсё как у людей\\nвсё как у людей\\nсми голосят то, что повсюду агенты ми-6, цру и моссада\\nпугают исчадием ада звёздно-полосато-носато-пейсатым\\nлёд под ногами майора ломается легче, чем корка фалафеля:\\nмайор не боится, майор не утонет — майор, если что, в батискафе\\nты слышишь, как скрепы скрипят и жужжат старомодным дабстепом?\\nэто снова, словно челубей с пересветом, насмерть бьются «совдеп» с госдепом\\nа чтобы чужие боялись, своих посильнее бей\\nвсё как у людей\\nвсё как у людей\\nслышь, не нагнетай, перестань —\\nесли кипеш реальный начнётся, что будет, представь!\\nесли тут тебе неймётся — так пиздуй в пиндостан:\\nхули ты всё надрываешься? в натуре, достал!\\nот дерьма на вентиляторе дышать не легче —\\nлишь охота респираторы прижать покрепче\\nбез тебя хватает смрада — орать легко\\nвсе знают, как не надо, как быть — никто\\nполитшапито. медиаклоунада:\\nу каждой хламидомонады — ума палата\\nи на всё — свои взгляды\\nа ты что-то пиздишь многовато нам тут\\nдля заложника режима, сука, с кляпом во рту\\nпротест невзатяг, бунт в соцсетях\\nпляски под чужую дудку на чужих костях\\nлучше бы шишек газпромовских развлекал\\nпо жирным заказникам в шикарных особняках\\nмир однокомнатных квартир с совмещённым санузлом:\\nмикрофон за 100 рублей, самопальное музло\\nты же выбрался оттуда? значит, повезло!\\nтак фильтруй базар и множь на счету число:\\nуютная коробка мещанского райка\\nлубочные картинки про счастье дурака\\nтипичные сюжеты — культуры суррогат:\\nдушонка — по дешёвке, а шкура — дорога\\nно ты давай вон спроси у своих детей\\nгде их папа нужней: в сводках новостей\\nчтоб ноги об него вытирать по телику?\\nили в коридоре, чтоб сиденье поднять у велика?\\nскучно, что ли, живётся без пиздюлей?\\nпока кормят — ешь, пока поят — пей\\nвсё как у людей\\nвсё как у людей\\nвсё как у людей\\nвсё как у людей\\nэто ваши сыновья, будьте благоразумны, не нарушайте общ—'"
            ],
            "application/vnd.google.colaboratory.intrinsic+json": {
              "type": "string"
            }
          },
          "metadata": {},
          "execution_count": 32
        }
      ]
    },
    {
      "cell_type": "code",
      "source": [
        "del letov_text[0]"
      ],
      "metadata": {
        "id": "cQLYoNJ4A8hQ"
      },
      "execution_count": null,
      "outputs": []
    },
    {
      "cell_type": "code",
      "source": [
        "text_model = markovify.Text(letov_text)"
      ],
      "metadata": {
        "id": "_FMzc7_t_E_S"
      },
      "execution_count": null,
      "outputs": []
    },
    {
      "cell_type": "code",
      "source": [
        "for i in range(10):\n",
        "    print(text_model.make_sentence(tries=100))"
      ],
      "metadata": {
        "colab": {
          "base_uri": "https://localhost:8080/"
        },
        "id": "purWSkEF_ls3",
        "outputId": "f7778345-c6bc-4d89-86f0-f8175c622d03"
      },
      "execution_count": null,
      "outputs": [
        {
          "output_type": "stream",
          "name": "stdout",
          "text": [
            "так кто погиб молодым вырывал из некошеных трав поднимал горемычных своих сынов весел, печален и прав ветер зовёт знамя горит небо поёт в небе пылает песня пой, революция!\n",
            "о-о-о, пошли вы все на свете и все на хуй!\n",
            "и это повод это веский повод повторять: «вот так и тянет к тебе-е-е ха-ха-ха-ха-ха фух, ха-ха-ха...\n",
            "отряд не заметил потери бойца отряд не заметил потери бойца не было вообще ничего, ни положительной, ни отрицательной реакции, вот такая вещь.\n",
            "остановка солнце помогает мне мой калейдоскоп кипучее движение игристого ума...\n",
            "я не индивидуалист, я не верю в анархию!\n",
            "только вышло по-другому вышло вовсе и не теряют их впоследствии ильич часто вспоминал этот курьёз и много смеялся\n",
            "гололёд удавил мой смех автомат разжевал мой смех автомат разжевал мой смех автомат разжевал мой смех hасекомые, насекомые насекомые мировой ништяк мировой ништяк мировой ништяк мировой ништяк мировой ништяк мировой ништяк мировой ништяк мировой ништяк мировой ништяк hасекомые hасекомые\n",
            "балет я сегодня всё смогу я сегодня мастерил балет...\n",
            "столько ли в стоге сена иголок сколько во мне двое в руках двое во мне скрипучем калиток?\n"
          ]
        }
      ]
    }
  ]
}